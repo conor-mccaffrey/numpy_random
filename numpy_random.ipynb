{
 "cells": [
  {
   "cell_type": "markdown",
   "id": "90e3f6b1",
   "metadata": {},
   "source": [
    "# The Numpy.Random Package \n",
    "\n",
    "***\n",
    "\n",
    "![Python & Jupyter](Images/python-jupyter-notebooks.jpg)\n",
    "\n",
    "![Numpy](Images/Numpy.png)\n",
    "\n",
    "\n",
    "\n",
    "######  <i> Pictures adapted from references 1,2  </i>\n",
    "\n",
    "## Conor McCaffrey\n",
    "#### Programming for Data Analysis 2021\n",
    "[Official Documentation for the Numpy Random Package](https://numpy.org/doc/stable/reference/random/index.html)  [3] <br>\n",
    "[Click here for copy of Assignment](Images/ProgDA_Assignment.pdf)\n",
    "\n",
    "\n",
    "***"
   ]
  },
  {
   "cell_type": "markdown",
   "id": "ee2bb60d",
   "metadata": {},
   "source": [
    "## Assignment Objectives\n",
    "- Explain the overall purpose of the package.\n",
    "- Explain the use of the “Simple random data” and “Permutations” functions.\n",
    "- Explain the use and purpose of at least five “Distributions” functions.\n",
    "- Explain the use of seeds in generating pseudorandom numbers."
   ]
  },
  {
   "cell_type": "markdown",
   "id": "b606555c",
   "metadata": {},
   "source": [
    "## What is the purpose of the Numpy.Random Package?"
   ]
  },
  {
   "cell_type": "markdown",
   "id": "4d28faaa",
   "metadata": {},
   "source": [
    "###### Overview of Numpy.\n",
    "Prior to delving too deeply into the mechanics of a package, it is prudent to first understand the inherent purpose of a package. \n",
    "<br>\n",
    "- <u> Numpy</u> (an abbreviation of \"<b>Num</b>erical <b>Py</b>thon\"  [4] ) is essentially \" the fundamental package for scientific computing in Python \" [5]. This open-source package provides many resources that are of particular importance to scientific computing. According to official documentation [5], Numpy is a \"Python library that provides a multidimensional array object, various derived objects (such as masked arrays and matrices), and an assortment of routines for fast operations on arrays, including mathematical, logical, shape manipulation, sorting, selecting, I/O, discrete Fourier transforms, basic linear algebra, basic statistical operations, random simulation and much more\". \n",
    "- The core of the Numpy package is the \"array\", which is similar to a list with the main exception being that we can perform mathematical operations/arithmetic functions on arrays that are not possible on lists [6]. Lists can contain data of differing data-types while arrays are used to house elements of the same data type [7]. Upon creation, an array has a fixed size (technically immutable) in where changing elements of an array will delete the original and return a copy of the original array with whatever operation you requested, in contrast to lists, which are mutable [8,5].\n",
    "\n",
    "![Arrays](Images/arrays.png)\n",
    "###### Adapted from reference 31\n"
   ]
  },
  {
   "cell_type": "markdown",
   "id": "ea37182c",
   "metadata": {},
   "source": [
    "<a id='so_how_does_this_tie_in_to_the_Numpy.Random_Package?'></a>\n",
    "\n",
    "###### So how does this tie in to the Numpy.Random Package?\n",
    "\n"
   ]
  },
  {
   "cell_type": "markdown",
   "id": "3de80aa7",
   "metadata": {},
   "source": [
    "Now that we have a basic overview of the Numpy package as a whole, let's examine the mechanics of the Numpy.Random package. At the highest level, the Numpy.Random package allows the production of arrays of \"pseudo-random\" numbers for downstream analyses [3]. This is acheived using what are known as a \"BitGenerator\" and a \"Generator\" [3]. BitGenerators create sequences of 32/64 random bits (based on different algorithms) which are then leveraged by Generators (taking a bit generator as an argument) to create sequences of numbers, adhering to a certain probability distribution (i.e Uniform, Normal or Binomial) [3,9]. The Generator (replacing the legacy RandomState) from the latest update of Numpy.Random uses bits provided by PCG-64 (Permuted Congruential Generator, a family of algorithms) as opposed to the legacy MT19937 (Marsenne Twister) due to enhanced statistical performence [3,10,11]. This will be covered in greater detail in the section discussing \"Seeding\". \"Seeding\" is an important concept, allowing the work to be reproducible to others attempting to examine/re-create your work."
   ]
  },
  {
   "cell_type": "markdown",
   "id": "48881a11",
   "metadata": {},
   "source": [
    "###### In Summary...\n",
    "The Numpy.Random package contains functions that facilitate the generation of arrays of pseudo-random numbers with specific probability distributions [12,13]. "
   ]
  },
  {
   "cell_type": "markdown",
   "id": "95febef1",
   "metadata": {},
   "source": [
    "***\n",
    "## Simple Random Data and Permutations\n",
    "***"
   ]
  },
  {
   "cell_type": "markdown",
   "id": "c51cb0e6",
   "metadata": {},
   "source": [
    "In this passage I want to give an overview of \"Simple Random Data\" and \"Permutations\", as outlined in the official documentation [3]. \n",
    "<br>\n",
    "\n",
    "The Simple Random Data section outlines a set of functions that can be utilised in order to, logically, generate simple random data based on user inputs, which can of course be modified. Data types that can be returned include integers, floats, random samples from a given array and bytes [3]. The functions available for use, following the latest update, are:\n",
    "- integers(low[, high, size, dtype, endpoint]) - Return random integers from low (inclusive) to high (exclusive), or if endpoint=True, low (inclusive) to high (inclusive).\n",
    "- random([size, dtype, out]) - Return random floats in the half-open interval [0.0, 1.0).\n",
    "- choice(a[, size, replace, p, axis, shuffle]) - Generates a random sample from a given array\n",
    "- bytes(length) - Return random bytes.\n",
    "\n",
    "Permutations (coming from the word <i> permute</i> (meaning to \"alter/rearrange\" [14]), meanwhile, create random re-arrangements of the order of elements [3]. Three functions are called out in the official documentation [3]:\n",
    "- shuffle(x[, axis]) - Modify an array or sequence in-place by shuffling its contents.\n",
    "- permutation(x[, axis] - Randomly permute a sequence, or return a permuted range.\n",
    "- permuted(x[, axis, out]) -Randomly permute x along axis axis.\n",
    "\n",
    "We will cover each of these in more detail below."
   ]
  },
  {
   "cell_type": "code",
   "execution_count": 1,
   "id": "10f9c3df",
   "metadata": {},
   "outputs": [],
   "source": [
    "# To begin, let's import the packages we will require\n",
    "import numpy as np\n",
    "import pandas as pd\n",
    "import matplotlib.pyplot as plt\n",
    "import seaborn as sns\n",
    "import scipy.special as sps  \n",
    "\n",
    "# This  line-orientated magic command, as outlined in lectures, lets us display plots inline\n",
    "%matplotlib inline"
   ]
  },
  {
   "cell_type": "markdown",
   "id": "32688fd5",
   "metadata": {},
   "source": [
    "###### Numpy.Random: numpy.random.Generator.integers\n",
    "\n",
    "\n"
   ]
  },
  {
   "cell_type": "code",
   "execution_count": 2,
   "id": "e08bc352",
   "metadata": {},
   "outputs": [
    {
     "name": "stdout",
     "output_type": "stream",
     "text": [
      "This is the variable \"a\": \n",
      " [5 1 3 0 3 1 5 5 4 0 0 3 0 0 7] \n",
      " The type of the variable is: <class 'numpy.ndarray'>\n"
     ]
    },
    {
     "data": {
      "image/png": "[encoded data removed]",
      "text/plain": [
       "<Figure size 432x288 with 1 Axes>"
      ]
     },
     "metadata": {
      "needs_background": "light"
     },
     "output_type": "display_data"
    }
   ],
   "source": [
    "# Generate an array of integers\n",
    "rng = np.random.default_rng() # Call default_rng to get a new instance of a Generator, from official documentation [3]\n",
    "a =  rng.integers(8, size=15) # Up to but not including 8. Size is the shape of the array\n",
    "print('This is the variable \"a\": \\n' , a, '\\n The type of the variable is:', type(a)) \n",
    "\n",
    "# Plot our variable to demonstrate random data, adapted from reference 15\n",
    "plt.plot(a, 'b.', color = '#943126') # setting colour of datapoints [16]\n",
    "plt.title('Random Integers Demonstration', fontweight='heavy',  size=12) # Setting title and weight of title [18]\n",
    "plt.xlabel('Element Number', size=10) # Setting axis title and font size\n",
    "plt.ylabel('DataPoint', size=10)\n",
    "plt.grid(False) # Used hex value for colour [19]"
   ]
  },
  {
   "cell_type": "code",
   "execution_count": 3,
   "id": "2cbe2abd",
   "metadata": {},
   "outputs": [
    {
     "name": "stdout",
     "output_type": "stream",
     "text": [
      "This is b: \n",
      " [[6 1 6 1]\n",
      " [1 8 1 7]]\n",
      "This is c: \n",
      " [5 1 1 0 5 2 6 2 5 2]\n",
      "This is d: \n",
      " [[3 4]\n",
      " [0 1]\n",
      " [5 1]\n",
      " [5 2]\n",
      " [0 0]]\n",
      "This has caused an error\n"
     ]
    }
   ],
   "source": [
    "# Further manipulation of the integer function.\n",
    "# Generate a multi-dimensional array.\n",
    "\n",
    "# Size is structured as the following: 2x4 array\n",
    "b =  rng.integers(10, size=(2, 4))\n",
    "print('This is b: \\n' , b)\n",
    "\n",
    "# Output is a 1D array\n",
    "c = rng.integers(low = 0, high = 7, size = 10) \n",
    "print ('This is c: \\n', c)\n",
    "\n",
    "# Specifying multiple parameters\n",
    "d =  rng.integers(5, size=(5,2),  endpoint=True) # Boolean True to determine if '5' included in arrays\n",
    "print('This is d: \\n', d)\n",
    "\n",
    "# Wrapping empty function in try except block to investigate effect [17]\n",
    "try:\n",
    "    rng.integers()\n",
    "except BaseException as err:\n",
    "    print('This has caused an error')\n",
    "else:\n",
    "    print('Function still worked')\n"
   ]
  },
  {
   "cell_type": "code",
   "execution_count": 4,
   "id": "a32afd7c",
   "metadata": {},
   "outputs": [
    {
     "data": {
      "text/plain": [
       "Text(0.5, 1.0, 'Random integers from the discrete uniform distribution')"
      ]
     },
     "execution_count": 4,
     "metadata": {},
     "output_type": "execute_result"
    },
    {
     "data": {
      "image/png": "[encoded data removed]",
      "text/plain": [
       "<Figure size 432x288 with 1 Axes>"
      ]
     },
     "metadata": {
      "needs_background": "light"
     },
     "output_type": "display_data"
    }
   ],
   "source": [
    "# Plotting using the numpy.random.Generator.integers function\n",
    "x1 = rng.integers(low = 1, high=500, size = 10000) # generating random values between 1-499\n",
    "plt.hist(x1, bins = 20, color = 'green', edgecolor = 'orange') # Some decorations\n",
    "plt.xlabel('Discrete Uniform Distribution')\n",
    "plt.title('Random integers from the discrete uniform distribution', fontweight = 'heavy', family = 'serif')\n"
   ]
  },
  {
   "cell_type": "markdown",
   "id": "30604b01",
   "metadata": {},
   "source": [
    "We have shown here that the distribution of the values is uniform, as detailed in the official documentation. [20]"
   ]
  },
  {
   "cell_type": "markdown",
   "id": "13fc58a1",
   "metadata": {},
   "source": [
    "###### Numpy.Random: numpy.random.Generator.random\n"
   ]
  },
  {
   "cell_type": "markdown",
   "id": "2dfd19a5",
   "metadata": {},
   "source": [
    "This function is quite similar to the one above and is desribed in the official documentation as the following: [21]\n",
    "\n",
    "![Random.random](Images/Random.random.PNG)\n"
   ]
  },
  {
   "cell_type": "code",
   "execution_count": 5,
   "id": "925adf4b",
   "metadata": {},
   "outputs": [
    {
     "data": {
      "text/plain": [
       "array([0.66706373, 0.42793485, 0.92087709, 0.95020622, 0.84993337,\n",
       "       0.29772817, 0.61274225, 0.74033519, 0.98811793, 0.85411105,\n",
       "       0.31388131, 0.4405653 , 0.20476286, 0.48602419, 0.99761465,\n",
       "       0.37959209, 0.32079745, 0.69545805, 0.27128073, 0.80518895])"
      ]
     },
     "execution_count": 5,
     "metadata": {},
     "output_type": "execute_result"
    },
    {
     "data": {
      "image/png": "[encoded data removed]",
      "text/plain": [
       "<Figure size 432x288 with 1 Axes>"
      ]
     },
     "metadata": {
      "needs_background": "light"
     },
     "output_type": "display_data"
    }
   ],
   "source": [
    "# Plotting using the numpy.random.Generator.random function\n",
    "# This function returns floats\n",
    "x2 = rng.random(size = 20) # 10 random floats\n",
    "plt.plot(x2, 'b.', color = 'green') # Some decorations\n",
    "plt.ylim(0,2.0) # setting x-axis limits\n",
    "plt.ylabel('DataPoint')\n",
    "plt.xlabel('Continuous Uniform Distribution')\n",
    "plt.title('Random integers from the continuous uniform distribution', fontweight = 'heavy', family = 'serif')\n",
    "x2"
   ]
  },
  {
   "cell_type": "markdown",
   "id": "339e1c29",
   "metadata": {},
   "source": [
    "Something intersting to note here is how the generated random numbers are all between 0.0 and 1.0. I examined this by purposefully setting the upper x-limit to 2.0 just to determine if a result above 1.0 appeared. This is evidence that the statement from the official documentaion (half-open interval) is true [21]."
   ]
  },
  {
   "cell_type": "markdown",
   "id": "3c9120f4",
   "metadata": {},
   "source": [
    "There is an interesting difference in the above functions I want to highlight. It is obvious how Numpy.integers returns integer values and how Numpy.random can return float values. Something I feel is more important to highlight between the functions is the difference between discrete and continuous distribution as a result of these mechanics. Random.integers returns values of discrete uniform distribution (where there are a finite number of outcomes), while Random.random returns values of continuous uniform distribution(where there are an infinite number of outcomes) [22]. \n",
    "\n",
    "- Thinking of this logically, if you flip a coin, you can have only two possible outcomes: Heads or Tails (i.e 1 or 0). While the outcome is random (you hope!), you can only have two possible outcomes (i.e a finite amount of outcomes). This is the basis of discrete distribution. [23] \n",
    "- Compare this to continuous distribution, where we could have an infinite number of equally likely outcomes. An example of this could be an truely random number generator, in where any value could appear just as likely as any other value an infinite number of times.\n",
    "\n",
    "![Coin](Images/Coin.jpg)\n",
    "\n",
    "###### <i> Adapted from Reference 24 </i>\n"
   ]
  },
  {
   "cell_type": "code",
   "execution_count": 6,
   "id": "a1899979",
   "metadata": {},
   "outputs": [
    {
     "data": {
      "text/plain": [
       "<matplotlib.legend.Legend at 0x26a5f894ee0>"
      ]
     },
     "execution_count": 6,
     "metadata": {},
     "output_type": "execute_result"
    },
    {
     "data": {
      "image/png": "[encoded data removed]",
      "text/plain": [
       "<Figure size 432x288 with 1 Axes>"
      ]
     },
     "metadata": {
      "needs_background": "light"
     },
     "output_type": "display_data"
    }
   ],
   "source": [
    "# Compare the two functions used in a scatterplot \n",
    "# Demonstate the difference between continuous and discrete uniform distribution.\n",
    "x3 = rng.integers(low = 0, high=3, size = 15) \n",
    "x4 = rng.random(size = 15) \n",
    "\n",
    "plt.plot(x3, 'x', label='discrete')\n",
    "plt.plot(x4, 'o', label='continuous')\n",
    "plt.xlabel('Cont vs Discrete', size=12, color = '#397dad')\n",
    "plt.ylabel('Value', size=12, color = '#943126')\n",
    "plt.grid(False) # dont want gridlines for this\n",
    "plt.legend()"
   ]
  },
  {
   "cell_type": "markdown",
   "id": "e9dbe7f1",
   "metadata": {},
   "source": [
    "We can clearly see from the above scatterplot the simple difference between discrete and continuous uniform distribution. For the Numpy.Random.Integers (discrete distribution) we only have the values 0,1 or 2 compared to Numpy.Random.random (continuous distribution) where we have random values between 0.0 and 1.0. "
   ]
  },
  {
   "cell_type": "markdown",
   "id": "03dcc491",
   "metadata": {},
   "source": [
    "###### Numpy.Random: numpy.random.Generator.choice\n"
   ]
  },
  {
   "cell_type": "markdown",
   "id": "313e1269",
   "metadata": {},
   "source": [
    "This function allows the user to generate a random sample from a non-empty array (if the variable is an array) or in the range of the specified integer [25]. "
   ]
  },
  {
   "cell_type": "code",
   "execution_count": 7,
   "id": "e00a43d4",
   "metadata": {},
   "outputs": [
    {
     "name": "stdout",
     "output_type": "stream",
     "text": [
      "This is the variable a: 0 \n",
      " This is b: [[12 44 89]\n",
      " [ 7  4  9]]\n"
     ]
    }
   ],
   "source": [
    "# Initial investigations into choice method\n",
    "rng = np.random.default_rng() \n",
    "a =  rng.choice(5) # generate a random integer\n",
    "# Select 2 random arrays from list with replace set to False to avoid selecting same \n",
    "b = rng.choice(([11, 4, 8], [7, 4, 9], [1, 2, 9], [12,44,89]), 2 ,replace = False)\n",
    "print('This is the variable a:' , a, '\\n This is b:' ,b)"
   ]
  },
  {
   "cell_type": "code",
   "execution_count": 8,
   "id": "5ae2e46c",
   "metadata": {},
   "outputs": [
    {
     "data": {
      "text/plain": [
       "<matplotlib.legend.Legend at 0x26a5f9133a0>"
      ]
     },
     "execution_count": 8,
     "metadata": {},
     "output_type": "execute_result"
    },
    {
     "data": {
      "image/png": "[encoded data removed]",
      "text/plain": [
       "<Figure size 432x288 with 1 Axes>"
      ]
     },
     "metadata": {
      "needs_background": "light"
     },
     "output_type": "display_data"
    }
   ],
   "source": [
    "# Investigation into p parameter in choice method for distribution\n",
    "# We will see a non-uniform distribution in a1 due to setting probabilities\n",
    "a1 = rng.choice(5, 30, p=[0.0, 0.5, 0.0, 0.5, 0])  # adapted from reference 25\n",
    "b1 = rng.choice(5, 30)\n",
    "\n",
    "plt.plot(a1, 'x', label='Non-Uni')\n",
    "plt.plot(b1, 'o', label='Uni')\n",
    "plt.legend()"
   ]
  },
  {
   "cell_type": "markdown",
   "id": "4e81984f",
   "metadata": {},
   "source": [
    "Lets explore this probability distribution parameter a little closer"
   ]
  },
  {
   "cell_type": "code",
   "execution_count": 9,
   "id": "cc20a3d2",
   "metadata": {},
   "outputs": [
    {
     "name": "stdout",
     "output_type": "stream",
     "text": [
      "How many times each county won the Ulster Title:\n",
      "[['Antrim' 'Armagh' 'Cavan' 'Donegal' 'Down' 'Fermanagh' 'Monaghan'\n",
      "  'Tyrone']\n",
      " ['2' '8' '6' '5' '5' '4' '5' '5']]\n"
     ]
    }
   ],
   "source": [
    "# Generate a list of counties in Ulster who can win the Ulster Title for the next 40 years\n",
    "counties = ['Cavan','Fermanagh','Monaghan','Tyrone','Donegal','Down','Antrim','Armagh','Derry']\n",
    "ulsterTitle = rng.choice(counties, 40, p=[0.3, 0.1, 0.1, 0.1, 0.1, 0.1, 0.1, 0.1, 0.0], replace=True)  \n",
    "\n",
    "# Return in numerical format how many times each county wins the title\n",
    "unique_elements, counts_elements = np.unique(ulsterTitle, return_counts=True) \n",
    "print('How many times each county won the Ulster Title:') # adapted from reference 26\n",
    "print(np.asarray((unique_elements, counts_elements))) # return as an array [27]"
   ]
  },
  {
   "cell_type": "code",
   "execution_count": 10,
   "id": "77b74ab4",
   "metadata": {},
   "outputs": [
    {
     "data": {
      "image/png": "[encoded data removed]",
      "text/plain": [
       "<Figure size 648x432 with 1 Axes>"
      ]
     },
     "metadata": {
      "needs_background": "light"
     },
     "output_type": "display_data"
    }
   ],
   "source": [
    "# Lets display on a Seaborn Histogram this glorious liklihood\n",
    "# Took a long time to get aspect solution [28]\n",
    "sns.displot(ulsterTitle, color = 'blue', edgecolor = 'grey', height=6, aspect=9/6)\n",
    "plt.figsize = (170,100)\n",
    "plt.xlabel('County', fontweight = 'bold')\n",
    "plt.ylabel('Titles', fontweight = 'bold')\n",
    "plt.suptitle('Ulster Title Winners', fontsize = 15) # adding main title to histogram and setting fontsize\n",
    "plt.grid(False) \n"
   ]
  },
  {
   "cell_type": "markdown",
   "id": "6cd3446a",
   "metadata": {},
   "source": [
    "In summary, the choice function selects a random sample or samples from an array, however we can manipulate the selection by setting probabilites."
   ]
  },
  {
   "cell_type": "markdown",
   "id": "4ae41168",
   "metadata": {},
   "source": [
    "###### Numpy.Random: numpy.random.Generator.bytes\n"
   ]
  },
  {
   "cell_type": "markdown",
   "id": "12927d00",
   "metadata": {},
   "source": [
    "This function simply returns random bytes [29]:\n",
    "![Bytes](Images/Bytes.png)\n",
    "\n"
   ]
  },
  {
   "cell_type": "code",
   "execution_count": 11,
   "id": "03e29d42",
   "metadata": {},
   "outputs": [
    {
     "data": {
      "text/plain": [
       "b'\\xbd\\xfbr\\x07\\x1a\\xb8\\x9f]\\xac\\x92C\\x9c'"
      ]
     },
     "execution_count": 11,
     "metadata": {},
     "output_type": "execute_result"
    }
   ],
   "source": [
    "# Returning Random bytes\n",
    "np.random.bytes(12)"
   ]
  },
  {
   "cell_type": "markdown",
   "id": "4d285f38",
   "metadata": {},
   "source": [
    "###### Numpy.Random: numpy.random.Generator.shuffle\n"
   ]
  },
  {
   "cell_type": "markdown",
   "id": "97f9c9eb",
   "metadata": {},
   "source": [
    "The shuffle method within Permutations facilitates the re-ordering of contents within a sequence [30]. \n",
    "\n",
    "![Shuffle](Images/shuffle.png)\n",
    "\n",
    "\n"
   ]
  },
  {
   "cell_type": "code",
   "execution_count": 12,
   "id": "09cc5773",
   "metadata": {},
   "outputs": [
    {
     "name": "stdout",
     "output_type": "stream",
     "text": [
      "1D array: [11  0  1  9  7 10 14  3  2  6  8 12  5 13  4]\n",
      "We have now changed the shape of the output: \n",
      " [[4 5]\n",
      " [2 3]\n",
      " [0 1]\n",
      " [6 7]]\n",
      "Setting the axis to 1: \n",
      " [[0 1]\n",
      " [2 3]\n",
      " [4 5]\n",
      " [6 7]]\n"
     ]
    }
   ],
   "source": [
    "# Shuffle method\n",
    "input = np.arange(15)\n",
    "rng.shuffle(input) # using shuffle method\n",
    "print('1D array:', input) # printing array of shuffled results\n",
    "\n",
    "# We can also manipulate the shape of the output \n",
    "new_input = np.arange(8).reshape((4, 2)) # resulting in a 4x2 array, adapted from [30]\n",
    "rng.shuffle(new_input) \n",
    "print('We have now changed the shape of the output: \\n', new_input)\n",
    "\n",
    "# Let's look how specifying axis can alter the output \n",
    "arr = np.arange(8).reshape((4, 2))\n",
    "rng.shuffle(arr, axis=1)\n",
    "print('Setting the axis to 1: \\n', arr) # alters results by column"
   ]
  },
  {
   "cell_type": "markdown",
   "id": "a696ea10",
   "metadata": {},
   "source": [
    "It is also worth noting that when changing the value of the axis, the individual values within the axis do not change. Only the row/column as a whole changes. [30]"
   ]
  },
  {
   "cell_type": "markdown",
   "id": "be783427",
   "metadata": {},
   "source": [
    "###### Numpy.Random: numpy.random.Generator.permutation\n",
    "\n",
    "The permutation method within Permutations facilitates the re-ordering of contents within a sequence [32]. A notable difference between this method and the shuffle method is the permutation method returns a copy of the array while shuffle deals with the original array [33].\n",
    "\n",
    "![Permutation](Images/Permutation.png)\n"
   ]
  },
  {
   "cell_type": "code",
   "execution_count": 13,
   "id": "57166aa9",
   "metadata": {},
   "outputs": [
    {
     "name": "stdout",
     "output_type": "stream",
     "text": [
      "1D array: [ 3  2  9  1  8 10  5 11  6  7  4  0]\n",
      "We have now changed the shape of the output: \n",
      " [[2 3]\n",
      " [4 5]\n",
      " [0 1]\n",
      " [6 7]]\n"
     ]
    }
   ],
   "source": [
    "# Permutation method\n",
    "rng = np.random.default_rng()\n",
    "result = rng.permutation(12)\n",
    "print('1D array:', result ) # printing array of results in range of integer\n",
    "\n",
    "# Similar to the shuffle function, we can also manipulate the shape of the output \n",
    "new_perm = np.arange(8).reshape((4, 2)) # resulting in a 4x2 array, adapted from [33]\n",
    "rng.shuffle(new_perm) \n",
    "print('We have now changed the shape of the output: \\n', new_perm)"
   ]
  },
  {
   "cell_type": "code",
   "execution_count": 14,
   "id": "24f4fc5a",
   "metadata": {},
   "outputs": [
    {
     "name": "stdout",
     "output_type": "stream",
     "text": [
      "This is the original List before permutation: [1, 4, 9, 12, 15] and this is the permuted List: [15  9  1 12  4]\n",
      "This is the original_List after permutation [1, 4, 9, 12, 15]\n",
      "This is the List before shuffling: [1, 2, 3, 4, 5]\n",
      "This is the original_shuffled_List after shuffling [1, 2, 3, 4, 5]\n"
     ]
    }
   ],
   "source": [
    "# Let's explore this in-place/copy idea a little more\n",
    "\n",
    "# If x is an array, make a copy and shuffle the elements randomly\n",
    "original_List = [1,4,9,12,15]\n",
    "permuted_List = np.random.permutation(original_List)\n",
    "print('This is the original List before permutation:', original_List , 'and this is the permuted List:', permuted_List)\n",
    "print('This is the original_List after permutation', original_List)\n",
    "\n",
    "# Let's compare this to the shuffle function\n",
    "original_shuffled_List = [1,2,3,4,5]\n",
    "print('This is the List before shuffling:',original_shuffled_List)\n",
    "print('This is the original_shuffled_List after shuffling', original_shuffled_List)\n"
   ]
  },
  {
   "cell_type": "markdown",
   "id": "93133d74",
   "metadata": {},
   "source": [
    "###### Numpy.Random: numpy.random.Generator.permuted\n",
    "The permutation method within Permutations facilitates the permutation of 'x' along the axis <i>axis</i> [34]. A notable difference between this method and the shuffle method is eacxh slice in the permutated method is shuffled independently of the others.[34]\n",
    "\n",
    "\n",
    "![Permuted](Images/Permuted.png)\n",
    "\n",
    "Let's explore this."
   ]
  },
  {
   "cell_type": "code",
   "execution_count": 15,
   "id": "291fe70e",
   "metadata": {},
   "outputs": [
    {
     "name": "stdout",
     "output_type": "stream",
     "text": [
      "This is the original array: \n",
      " [[ 1  2  3  4]\n",
      " [ 5  6  7  8]\n",
      " [ 9 10 11 12]\n",
      " [13 14 15 16]\n",
      " [17 18 19 20]]\n",
      "This is the permuted array: \n",
      " [[ 4  1  2  3]\n",
      " [ 7  8  5  6]\n",
      " [10 12  9 11]\n",
      " [13 15 16 14]\n",
      " [18 20 19 17]]\n",
      "This is the permuted array setting axis=0:\n",
      " [[17 18  7 12]\n",
      " [ 5 10 19  8]\n",
      " [ 1  2  3 20]\n",
      " [ 9  6 11  4]\n",
      " [13 14 15 16]]\n",
      "Back to original:\n",
      " [[ 1  2  3  4]\n",
      " [ 5  6  7  8]\n",
      " [ 9 10 11 12]\n",
      " [13 14 15 16]\n",
      " [17 18 19 20]]\n",
      "This is now array_1 after setting parameter for \"out\":\n",
      " [[ 1  3  4  2]\n",
      " [ 8  6  7  5]\n",
      " [ 9 12 10 11]\n",
      " [15 14 13 16]\n",
      " [17 19 18 20]]\n"
     ]
    }
   ],
   "source": [
    "# Generating a test instance [34]\n",
    "rng = np.random.default_rng()\n",
    "# Creating an array\n",
    "array_1 = np.arange(1,21).reshape(5, 4)\n",
    "print('This is the original array: \\n' , array_1)\n",
    "array_2 = rng.permuted(array_1, axis=1)\n",
    "print('This is the permuted array: \\n' , array_2) # the rows have been shuffled with the original unchanged\n",
    "array_3 = rng.permuted(array_1, axis=0)\n",
    "print('This is the permuted array setting axis=0:\\n' , array_3) #columns shuffled with the original unchanged\n",
    "print('Back to original:\\n', array_1)\n",
    "# We can set 'out=array_1' to change the original (in-place change as opposed to copy change)\n",
    "rng.permuted(array_1, axis=1, out=array_1)\n",
    "print('This is now array_1 after setting parameter for \"out\":\\n',array_1)\n"
   ]
  },
  {
   "cell_type": "markdown",
   "id": "70ac4a1d",
   "metadata": {},
   "source": [
    "***\n",
    "## Distributions\n",
    "***\n"
   ]
  },
  {
   "cell_type": "markdown",
   "id": "244bc7df",
   "metadata": {},
   "source": [
    "There are over 36 different distribution functions listed in the official documentation [3]. At it's most basic, a probability distribution 'is a table or an equation that links each outcome of a statistical experiment with its probability of occurrence' [35]. \n",
    "<br>\n",
    "<br>\n",
    "Let's take an extremely basic example of a footballer taking a penalty. There are two possible options here: the player either scores a goal or misses. Suppose the player takes two penalites (let's pretend the goalkeeper came off the line too early), there are four possible resulting outcomes (S= Scores, M= Misses) : SS, MM, SM, MS. The random variable X will represent the number of times the footballer scores and can be calculated. We can see visually that in 3 of the 4 possible outcomes the player scores at least once. We can display the probabilities of each outcome in the following table i.e. the <b>probability distribution</b>: \n",
    "<br>\n",
    "\n",
    "\n",
    "   | Number of Goals  | Probability    |\n",
    "|:-------------|:-----------|\n",
    "| 0 | 0.25       | \n",
    "| 1  | 0.5    |\n",
    "| 2  | 0.25    |\n",
    "\n",
    "<i>Table Adapted from Reference 36</i>"
   ]
  },
  {
   "cell_type": "markdown",
   "id": "ef4a2c74",
   "metadata": {},
   "source": [
    "A <b>cumulative probability</b>, meanwhile, denotes the liklihood that a random variable will fall within a certain specified range [35]. Going back to our earlier example, we can investigate the likehood of a player scoring one or less penalties. So this would be investigating the liklihood of the player scoring one penalty <u>and</u> the likehood of the player missing both penalties.\n",
    "\n",
    "P(X ≤ 1) = P(X = 0) + P(X = 1) = 0.25 + 0.50 = 0.75\n",
    " \n",
    "Now that we have a basic understanding of probabilities and distributions, let's delve a little deeper into the Distribution functions for generating random samples in Numpy."
   ]
  },
  {
   "cell_type": "markdown",
   "id": "691ba2d8",
   "metadata": {},
   "source": [
    "###### Numpy.Random: random.Generator.uniform\n",
    "\n",
    "Uniform distribution is perhaps the best distribution to initially describe as it can be considered the simplest. This form of distribution depicts an outcome where each value of a random variable is just as equally probable to any other value [38]. Thinking of this logically, lets imagine a deck of cards and you are asked to pick one. You are just as likely to draw a diamond as you are a heart and this is the same for a club and a spade. This is Uniform distribution [38]. We have already explored this topic in some detail above when describing the difference between Discrete Uniform distribution  (where there are a finite number of outcomes) and Continuous Uniform distribution (where there are an infinite number of outcomes) [22]. The probability density function (PDF), is a 'statistical expression describing the liklihood of an outcome', with the formula outlined below [39].\n",
    "\n",
    "\n",
    "![Uniform Distribution](Images/uniform_Distribution.png)\n",
    "***\n",
    "![pdf](Images/pdf.png)\n"
   ]
  },
  {
   "cell_type": "code",
   "execution_count": 16,
   "id": "b15124b0",
   "metadata": {},
   "outputs": [
    {
     "name": "stdout",
     "output_type": "stream",
     "text": [
      "[1.94475582 1.87638692 1.49574347 1.94808955 1.24902292 1.61366866\n",
      " 1.30649927 1.51869506 1.48582299 1.21417273 1.34603085 1.01429145\n",
      " 1.06673025 1.1935852  1.37736204 1.15715273 1.27160193 1.5660129\n",
      " 1.8690009  1.50880629 1.02937309 1.52742905 1.80092471 1.0653414\n",
      " 1.56235981 1.73292474 1.09659243 1.62807437 1.32739125 1.35141126\n",
      " 1.64052316 1.33786912 1.14837494 1.67440354 1.32909509 1.94803697\n",
      " 1.16583332 1.41812149 1.58884165 1.84202703 1.10445761 1.38025985\n",
      " 1.04871914 1.80859308 1.03520328 1.78449184 1.46546566 1.87605381\n",
      " 1.7206957  1.49428519 1.13418264 1.29864268 1.61436716 1.89234291\n",
      " 1.89691634 1.6681367  1.10220084 1.40338592 1.32077056 1.90311768\n",
      " 1.04470595 1.09865617 1.15485945 1.07156881 1.06151982 1.74897321\n",
      " 1.36145365 1.58243748 1.25140775 1.64194345 1.51373094 1.00422656\n",
      " 1.95749226 1.78853818 1.2567845  1.17440703 1.6303975  1.30005425\n",
      " 1.75256535 1.72589797 1.8710538  1.22641096 1.93535278 1.38671728\n",
      " 1.58808313 1.64878255 1.95088451 1.00383192 1.53767452 1.86431844\n",
      " 1.44963153 1.14087342 1.00793083 1.81290554 1.97481082 1.82129994\n",
      " 1.64873449 1.17408286 1.1925629  1.80987876 1.54017346 1.44518048\n",
      " 1.51754745 1.99223907 1.55860562 1.65976154 1.7756076  1.36552516\n",
      " 1.46792153 1.36312439 1.10169514 1.21511503 1.3162236  1.10729358\n",
      " 1.87450707 1.00806307 1.12316309 1.81188225 1.73731861 1.67633043\n",
      " 1.82142877 1.14022139 1.30349056 1.7783462  1.51877089 1.18285304\n",
      " 1.06319899 1.82867417 1.85146662 1.68935679 1.32505819 1.33626824\n",
      " 1.93150787 1.33160513 1.14907011 1.05247329 1.54001308 1.10278067\n",
      " 1.63852186 1.32092374 1.09958022 1.90534406 1.35266206 1.53490766\n",
      " 1.8979589  1.23020905 1.31827687 1.62326356 1.8881177  1.52408265\n",
      " 1.25870147 1.31636673 1.10989944 1.87432972 1.98664992 1.05493\n",
      " 1.800096   1.89913268 1.04943604 1.09185974 1.25294325 1.36690906\n",
      " 1.24573766 1.34776969 1.70416099 1.25938461 1.83202021 1.35616634\n",
      " 1.2795065  1.16319621 1.40710263 1.91795315 1.32195023 1.45109735\n",
      " 1.26336365 1.74174243 1.65542191 1.5778152  1.5017106  1.55086011\n",
      " 1.06055633 1.20529894 1.62321375 1.83667515 1.17889475 1.88329905\n",
      " 1.97527369 1.7902599  1.6682982  1.21705117 1.5577403  1.93907982\n",
      " 1.71846811 1.61306205 1.23339378 1.90909644 1.67473032 1.99445045\n",
      " 1.51739515 1.94305551 1.45428616 1.43940332 1.41703396 1.05103893\n",
      " 1.36303862 1.89606476 1.55317687 1.92628126 1.23452395 1.57114078\n",
      " 1.96820378 1.98195433 1.91182526 1.71210127 1.42961898 1.32878969\n",
      " 1.90940273 1.87389425 1.09432532 1.6353334  1.28912094 1.16918665\n",
      " 1.3557332  1.59637973 1.07580525 1.39856919 1.92929067 1.59247629\n",
      " 1.04501352 1.22006074 1.84222529 1.48690112 1.97494703 1.53459339\n",
      " 1.36404402 1.8685006  1.75737993 1.96910006 1.01574164 1.66154159\n",
      " 1.75286712 1.01492217 1.6186661  1.81432343 1.8968177  1.81528749\n",
      " 1.6256353  1.0813584  1.75228267 1.93977832 1.5374532  1.11451084\n",
      " 1.45925878 1.67997166 1.8366277  1.71476493 1.42819166 1.35398786\n",
      " 1.27186812 1.46451209 1.52496815 1.71377241 1.43889467 1.50623965\n",
      " 1.25463869 1.89376745 1.58526806 1.98686578 1.99964722 1.05574391\n",
      " 1.85123542 1.75031211 1.32807098 1.27388196 1.51841885 1.98785408\n",
      " 1.44693646 1.18378379 1.36290873 1.12674384 1.96086154 1.10676588\n",
      " 1.17135899 1.67265103 1.62586367 1.41109873 1.32876543 1.59151308\n",
      " 1.65563569 1.24734153 1.61895562 1.0424789  1.59346516 1.71725141\n",
      " 1.67170902 1.70397964 1.9589236  1.10275437 1.06737291 1.07564129\n",
      " 1.85709463 1.47597418 1.9278408  1.35920636 1.38743546 1.16060957\n",
      " 1.07501457 1.4573262  1.56117812 1.4971231  1.38758881 1.61829688\n",
      " 1.13841025 1.45086783 1.25331372 1.5739041  1.20724052 1.91581264\n",
      " 1.91647587 1.14548971 1.20848218 1.73567411 1.63702702 1.88119287\n",
      " 1.12189132 1.39972607 1.27523336 1.62586253 1.64667112 1.4536345\n",
      " 1.34432001 1.45305903 1.68200962 1.87438885 1.24433166 1.43659235\n",
      " 1.33616162 1.29951852 1.17343993 1.9765873  1.10013993 1.63525763\n",
      " 1.45820557 1.44923081 1.18616588 1.51913844 1.32453564 1.4382268\n",
      " 1.89623113 1.97732135 1.39708655 1.03693702 1.64869754 1.69890383\n",
      " 1.87819387 1.82247051 1.68636056 1.02161963 1.21399926 1.90398629\n",
      " 1.21624885 1.5165532  1.19910284 1.44800895 1.99238958 1.38638811\n",
      " 1.24374192 1.77581238 1.7787385  1.00590941 1.69403151 1.44891936\n",
      " 1.34615046 1.6344929  1.37378888 1.44395698 1.52635264 1.09550155\n",
      " 1.09082062 1.69578461 1.61873661 1.38576371 1.88402351 1.72388411\n",
      " 1.59873238 1.96898202 1.1055125  1.03982279 1.80439912 1.2196368\n",
      " 1.6210511  1.51563271 1.38367433 1.82752624 1.46577836 1.38274976\n",
      " 1.42284495 1.3186366  1.58225663 1.20461148 1.27335804 1.10078558\n",
      " 1.42180326 1.10608032 1.57132547 1.02826581 1.65040674 1.78206038\n",
      " 1.15691253 1.52342324 1.21573916 1.34076369 1.88320006 1.40484184\n",
      " 1.537051   1.92831489 1.66307551 1.93416625 1.94307205 1.758094\n",
      " 1.74275925 1.88401588 1.20287137 1.90266944 1.31497226 1.4661517\n",
      " 1.87849818 1.99995941 1.20990026 1.91163388 1.45418629 1.38947176\n",
      " 1.12321227 1.41050321 1.62775053 1.96946905 1.14515506 1.32477122\n",
      " 1.20634878 1.51225112 1.37640526 1.6271701  1.14921747 1.37420849\n",
      " 1.86994909 1.83657594 1.021937   1.98799227 1.52677037 1.29310199\n",
      " 1.79321026 1.61289622 1.47391263 1.85513797 1.45142798 1.96966773\n",
      " 1.33319975 1.14634639 1.48612671 1.72998624 1.12911329 1.31844001\n",
      " 1.01354799 1.32474443 1.83437075 1.29262343 1.94262524 1.87829308\n",
      " 1.29511529 1.02408991 1.95438783 1.93310756 1.24441229 1.7606532\n",
      " 1.12155648 1.20605666 1.5110788  1.0966737  1.35723415 1.55256874\n",
      " 1.94821157 1.21233898 1.9475133  1.38824763 1.14404289 1.12006898\n",
      " 1.64398442 1.11438025 1.42541966 1.68896375 1.0461842  1.37335835\n",
      " 1.4646095  1.66408066 1.02262529 1.98108211 1.42154267 1.41520989\n",
      " 1.77800753 1.6952549  1.06821874 1.88769055 1.07179348 1.50337473\n",
      " 1.19787418 1.62684889 1.11714083 1.25579599 1.48759126 1.4102456\n",
      " 1.28415219 1.32714273 1.8597845  1.67202741 1.08904054 1.9143603\n",
      " 1.25215265 1.10793616 1.12823645 1.81497567 1.37223574 1.39113234\n",
      " 1.82787603 1.50601727 1.08397397 1.69800012 1.09058457 1.04499807\n",
      " 1.76918267 1.23942686 1.17231119 1.65167138 1.04146755 1.99854063\n",
      " 1.51135225 1.12577383 1.04166564 1.87984757 1.79344777 1.42075001\n",
      " 1.39953357 1.72260764 1.09994508 1.15710775 1.8596408  1.26238353\n",
      " 1.93481519 1.66762588 1.6217533  1.14699841 1.53824184 1.47467691\n",
      " 1.57976962 1.54616848 1.75214302 1.60418919 1.13989587 1.97472\n",
      " 1.808301   1.22518676 1.64328136 1.14898329 1.60365514 1.57278176\n",
      " 1.63643689 1.75984166 1.92351234 1.86979671 1.51860526 1.0706795\n",
      " 1.07126274 1.25957166 1.04339398 1.71723981 1.06449301 1.41784644\n",
      " 1.40015271 1.23675517 1.21929951 1.79022391 1.31858299 1.69901715\n",
      " 1.20027792 1.95470295 1.43642321 1.40141094 1.12220145 1.69290209\n",
      " 1.97277088 1.485364   1.71906696 1.52136867 1.9210318  1.96468149\n",
      " 1.77760051 1.04495272 1.16966468 1.69350409 1.97073097 1.51258066\n",
      " 1.98614797 1.17012139 1.3344173  1.74779286 1.43248645 1.81729289\n",
      " 1.24602789 1.85966974 1.3962065  1.78926263 1.92525595 1.83779085\n",
      " 1.32893388 1.53508186 1.37059221 1.25899796 1.82990789 1.31905351\n",
      " 1.30464973 1.83689757 1.81538119 1.73416591 1.40025117 1.22665727\n",
      " 1.57388956 1.41123402 1.75965925 1.24543575 1.33723234 1.58473122\n",
      " 1.44358565 1.16615934 1.57558483 1.1894622  1.17758763 1.03111991\n",
      " 1.50186655 1.7828876  1.13769981 1.52941499 1.50514016 1.5994868\n",
      " 1.02679928 1.83789288 1.15008861 1.0635916  1.68731289 1.3349289\n",
      " 1.30098013 1.15737578 1.12658097 1.25183048 1.29714409 1.53170869\n",
      " 1.4860646  1.47294798 1.98003225 1.5283814  1.6072371  1.02745202\n",
      " 1.75560112 1.53845239 1.52784093 1.02538065 1.68375417 1.25199323\n",
      " 1.93706554 1.6116345  1.53261973 1.19194954 1.38812464 1.98153235\n",
      " 1.22634399 1.22503902 1.22839243 1.76227551 1.22123214 1.36004782\n",
      " 1.66099819 1.01259581 1.01334313 1.73778219 1.06674764 1.24470693\n",
      " 1.31526411 1.34872779 1.84326009 1.96999678 1.98659506 1.00922523\n",
      " 1.9472964  1.45839067 1.10389184 1.75332927 1.01068691 1.59946807\n",
      " 1.01253733 1.75369826 1.20783837 1.60629813 1.59476189 1.89039673\n",
      " 1.06223054 1.483079   1.42601989 1.45916627 1.63922289 1.21480438\n",
      " 1.3814639  1.2977414  1.90910345 1.65718785 1.95846328 1.02304632\n",
      " 1.1770656  1.87941696 1.09843787 1.02420491 1.60969389 1.64992667\n",
      " 1.33551395 1.84502833 1.90240502 1.20222832 1.29141556 1.36317673\n",
      " 1.8474275  1.97910246 1.31271466 1.9016086  1.85150138 1.30013904\n",
      " 1.03221062 1.69019969 1.23505014 1.54218557 1.5354442  1.3250539\n",
      " 1.88492259 1.31137809 1.47095236 1.72522316 1.31036068 1.74810177\n",
      " 1.83702044 1.72832906 1.74647848 1.15255321 1.01094132 1.1887661\n",
      " 1.12743132 1.66215257 1.13217099 1.9348857  1.67398481 1.90499907\n",
      " 1.62066361 1.79640806 1.65360687 1.12930106 1.02668287 1.47692376\n",
      " 1.14089476 1.38733697 1.67155196 1.66818634 1.18737908 1.65147057\n",
      " 1.72691889 1.24408257 1.60363337 1.03262521 1.56766133 1.4102561\n",
      " 1.56725572 1.58245536 1.11064041 1.32916394 1.82679868 1.39654837\n",
      " 1.26705189 1.65511015 1.39935233 1.14684459 1.28634969 1.10536135\n",
      " 1.29520554 1.25876269 1.76219603 1.31344503 1.34349948 1.56276425\n",
      " 1.14776711 1.18194862 1.38191492 1.33108277 1.07859425 1.69956862\n",
      " 1.5240969  1.00384678 1.05587037 1.24291978 1.06639711 1.5792646\n",
      " 1.9901081  1.500414   1.06323328 1.47134161 1.82341017 1.7977238\n",
      " 1.61528336 1.55114779 1.14419186 1.83667348 1.27181792 1.75514364\n",
      " 1.94586639 1.81307599 1.40343302 1.62500384 1.63812831 1.41986446\n",
      " 1.47043085 1.99988707 1.95134094 1.87065315 1.68419067 1.69366121\n",
      " 1.1600514  1.09287683 1.83629949 1.26805106 1.23154402 1.67478512\n",
      " 1.76948617 1.12168897 1.04101249 1.57829817 1.73593653 1.3573109\n",
      " 1.72062097 1.89306314 1.04588688 1.69455207 1.01308683 1.54028338\n",
      " 1.84722393 1.59123704 1.34812538 1.34827251 1.68660159 1.06957297\n",
      " 1.39309165 1.51636618 1.151183   1.12984243 1.47223543 1.51221175\n",
      " 1.09602349 1.37060128 1.57844849 1.46004151 1.70381541 1.36578622\n",
      " 1.84755438 1.52004773 1.47754536 1.70601484 1.58970746 1.74562793\n",
      " 1.21916363 1.42810234 1.20542773 1.63665923 1.53251054 1.92901083\n",
      " 1.79981296 1.92972925 1.84631137 1.32235784 1.17955453 1.20006929\n",
      " 1.01046415 1.61547249 1.69131552 1.70105234 1.31855695 1.37843324\n",
      " 1.80434682 1.44732099 1.28579527 1.14757005 1.28852068 1.86411986\n",
      " 1.1685052  1.31967553 1.77291913 1.57187763 1.20817546 1.47422344\n",
      " 1.71680623 1.96684105 1.8142279  1.67068525 1.0363663  1.70719522\n",
      " 1.71490963 1.78402976 1.59695823 1.83612074 1.28942854 1.58384684\n",
      " 1.4455966  1.91577183 1.37999995 1.3434723  1.80614538 1.80020903\n",
      " 1.21495703 1.080059   1.00170378 1.41971253 1.05028559 1.27375377\n",
      " 1.54217919 1.64681335 1.83597145 1.51008555 1.39485733 1.94823881\n",
      " 1.06234223 1.0360674  1.95398065 1.29573502 1.50087773 1.59202099\n",
      " 1.72389265 1.68796343 1.55818209 1.44633389 1.56562463 1.71580561\n",
      " 1.03062253 1.0090723  1.88038026 1.45958621 1.27216358 1.73221391\n",
      " 1.71813616 1.17024091 1.53143752 1.72749479 1.22472569 1.4646851\n",
      " 1.9161031  1.14409772 1.40888296 1.28629377 1.15159737 1.70226758\n",
      " 1.6765608  1.19238605 1.75792464 1.37734107 1.20461435 1.84419689\n",
      " 1.10143491 1.2124362  1.25812971 1.5246464  1.10618955 1.6873526\n",
      " 1.23520802 1.94676106 1.1647289  1.01145761 1.99097727 1.17948988\n",
      " 1.26710244 1.25630032 1.59144014 1.53783852 1.45206087 1.80698\n",
      " 1.43909098 1.6585884  1.40696976 1.24587553 1.18001877 1.43020374\n",
      " 1.32793064 1.29978823 1.80577498 1.63144498 1.15014597 1.48206692\n",
      " 1.93588807 1.37455942 1.48377056 1.94955866] \n",
      " <class 'numpy.ndarray'>\n"
     ]
    },
    {
     "data": {
      "text/plain": [
       "Text(0.5, 1.0, 'Uniform Distribution')"
      ]
     },
     "execution_count": 16,
     "metadata": {},
     "output_type": "execute_result"
    },
    {
     "data": {
      "image/png": "[encoded data removed]",
      "text/plain": [
       "<Figure size 432x288 with 1 Axes>"
      ]
     },
     "metadata": {
      "needs_background": "light"
     },
     "output_type": "display_data"
    }
   ],
   "source": [
    "# Lets explore Uniform distribution\n",
    "u = np.random.default_rng().uniform(1,2,1000)  # Grabbing 500 random values from 1 to 1.99999999. \n",
    "print(u,'\\n', type(u)) # lets print our values and see what type of result is returned.\n",
    "# Below lines adapted from official documentation [37]\n",
    "count, bins, ignored = plt.hist(u, bins = 20, color = 'gold', edgecolor = 'black', density=True, linewidth=2) \n",
    "plt.plot(bins, np.ones_like(bins), linewidth=3, color='green') # Adapted from Reference 40\n",
    "plt.xlabel('Uniform Distribution')\n",
    "plt.title('Uniform Distribution', fontweight = 'heavy', family = 'serif')\n"
   ]
  },
  {
   "cell_type": "markdown",
   "id": "6b6e43c4",
   "metadata": {},
   "source": [
    "We can see from the above result the Uniform function returns values within the specified range and in the form of a numpy array with the probability density function of 1.0. "
   ]
  },
  {
   "cell_type": "code",
   "execution_count": 17,
   "id": "46d5c1be",
   "metadata": {},
   "outputs": [
    {
     "data": {
      "text/plain": [
       "array([1.44852376, 1.27176016, 1.84413107, 1.05678586, 1.17733823,\n",
       "       1.85517354, 1.15766202, 1.00431658, 1.38846532, 1.22175884,\n",
       "       1.49049546, 1.41658965, 1.83132409, 1.87127773, 1.43245307,\n",
       "       1.52903986, 1.27424349, 1.92809101, 1.1114854 , 1.61315916,\n",
       "       1.37030944, 1.84096681, 1.65736909, 1.06182599, 1.70224618,\n",
       "       1.50001732, 1.94875858, 1.70227886, 1.88180475, 1.92245476,\n",
       "       1.48630419, 1.82727945, 1.58713364, 1.0836095 , 1.07534814,\n",
       "       1.13230253, 1.19504586, 1.8841394 , 1.75135801, 1.87448289,\n",
       "       1.84856965, 1.24284427, 1.07727294, 1.56942344, 1.22210114,\n",
       "       1.45547635, 1.900492  , 1.92396131, 1.38164693, 1.46467976])"
      ]
     },
     "execution_count": 17,
     "metadata": {},
     "output_type": "execute_result"
    }
   ],
   "source": [
    "# Lets see what happens when we potentially input values incorrectly\n",
    "u2 = np.random.default_rng().uniform(2,1,50) # our 'Low' limit is above out 'high' limit\n",
    "u2"
   ]
  },
  {
   "cell_type": "markdown",
   "id": "c5dc18f6",
   "metadata": {},
   "source": [
    "Surprisingly, this function still returns values however we obviously cannot trust them as we have set the inputs incorrectly. Further research into this finding revealed than an earlier version of Numpy accounted for this eventuality and included the following note [41]: \n",
    "\n",
    "![highLow](Images/highLow.PNG)\n",
    "\n",
    "***"
   ]
  },
  {
   "cell_type": "markdown",
   "id": "c6045892",
   "metadata": {},
   "source": [
    "\n",
    "######  Numpy.Random: random.Generator.normal\n"
   ]
  },
  {
   "cell_type": "markdown",
   "id": "36d5f9aa",
   "metadata": {},
   "source": [
    "Normal distribution (also referred to as Gaussian distribution) is a probability distribution that is perhaps most commonly seen in everyday life. The characteristic shape of the probability density function of the Normal distribution is a bell-curve, depicting the fact that data near the mean occurs more often that data farther than the mean [42,43]. In a Normal distribution, '68% of the observations are within +/- one standard deviation of the mean, 95% are within +/- two standard deviations, and 99.7% are within +- three standard deviations'[42]. \n",
    "<br>\n",
    "Normal distribution is perhaps the most commonly known form of distriubtion due to the fact many observations follow a Gaussian distibution, including [44]:\n",
    "-  Height\n",
    "-  blood pressure\n",
    "-  Exam Results\n",
    "\n",
    "In the Numpy package, <i>loc</i> refers to the mean of the distribution and <i>scale</i> refers to the standard deviation [43].\n",
    "\n",
    "![Normal](Images/normal.png)\n"
   ]
  },
  {
   "cell_type": "code",
   "execution_count": 18,
   "id": "6cd0bd2b",
   "metadata": {},
   "outputs": [],
   "source": [
    "# Investigating the Normal distribution function\n",
    "mu, sigma = 0, 0.2 # mean and standard deviation\n",
    "s = np.random.default_rng().normal(mu, sigma, 1000)"
   ]
  },
  {
   "cell_type": "code",
   "execution_count": 19,
   "id": "fce4c158",
   "metadata": {},
   "outputs": [
    {
     "name": "stdout",
     "output_type": "stream",
     "text": [
      "The mean (mu) of the values is: 0 and the standard deviation(sigma) is: 0.2\n"
     ]
    },
    {
     "data": {
      "image/png": "[encoded data removed]",
      "text/plain": [
       "<Figure size 432x288 with 1 Axes>"
      ]
     },
     "metadata": {
      "needs_background": "light"
     },
     "output_type": "display_data"
    }
   ],
   "source": [
    "# Plotting the resulting random variables\n",
    "count, bins, ignored = plt.hist(s, 35, density=True) # adapted from Reference 43.\n",
    "# The below lines of code is filling in input values for the probability density as outlines in Reference 43.\n",
    "plt.plot(bins, 1/(sigma * np.sqrt(2 * np.pi)) *\n",
    "               np.exp( - (bins - mu)**2 / (2 * sigma**2) ),\n",
    "         linewidth=3, label= 'PDF', color='blue') # pdf = Probability Density Function\n",
    "plt.xlabel('x', fontweight = 'bold')\n",
    "plt.ylabel('Density', fontweight = 'bold')\n",
    "plt.suptitle('Normal Distribution', fontsize = 15)\n",
    "plt.legend()\n",
    "print('The mean (mu) of the values is:', mu , 'and the standard deviation(sigma) is:', sigma)"
   ]
  },
  {
   "cell_type": "code",
   "execution_count": 20,
   "id": "4c406353",
   "metadata": {},
   "outputs": [
    {
     "data": {
      "text/plain": [
       "<matplotlib.legend.Legend at 0x26a5fd46280>"
      ]
     },
     "execution_count": 20,
     "metadata": {},
     "output_type": "execute_result"
    },
    {
     "data": {
      "image/png": "[encoded data removed]",
      "text/plain": [
       "<Figure size 432x288 with 1 Axes>"
      ]
     },
     "metadata": {
      "needs_background": "light"
     },
     "output_type": "display_data"
    }
   ],
   "source": [
    "# Lets generate an array of values and investigate altering parameters\n",
    "mu1, sigma1 = 0, 1\n",
    "s1 = np.random.default_rng().normal(mu1, sigma1, 500)\n",
    "plt.hist(s1, bins=25, density=True, label='$\\mu=0, \\sigma=1$', color = 'green') # Lettering adapted from Reference 45.\n",
    "\n",
    "# Lets alter the mean value\n",
    "mu2, sigma2 = 4, 1\n",
    "s2 = np.random.default_rng().normal(mu2, sigma2, 500)\n",
    "# changing alpha to alter transparency [46]\n",
    "plt.hist(s2, bins=25, alpha = 0.5, density=True, label='$\\mu=4, \\sigma=1$', color = 'red')\n",
    "\n",
    "# Lets alter the standard deviation \n",
    "mu3, sigma3 = 4, 2\n",
    "s3 = np.random.default_rng().normal(mu3, sigma3, 500)\n",
    "plt.hist(s3, bins=25, density=True, alpha=0.5, label='$\\mu=4, \\sigma=2$', color = 'gold') \n",
    "\n",
    "# Lets overlay our plots\n",
    "plt.xlabel('x', size=12)\n",
    "plt.ylabel('Density', size=12)\n",
    "plt.title('Normal distribution', size=12)\n",
    "plt.legend()\n"
   ]
  },
  {
   "cell_type": "markdown",
   "id": "5ef8e0d5",
   "metadata": {},
   "source": [
    "We can clearly see how changing each parameter drastically affects the resulting array of values. In the first histogram, the peak of the curve is centered around zero while in the second histogram the values are concentrated around 4. Altering the standard deviation, as specifed in the third histogram, results in a much greater 'spread' of value distribution. \n",
    "\n",
    "***"
   ]
  },
  {
   "cell_type": "markdown",
   "id": "9f53ab01",
   "metadata": {},
   "source": [
    "###### Numpy.Random:  random.Generator.poisson\n"
   ]
  },
  {
   "cell_type": "markdown",
   "id": "4636c8e8",
   "metadata": {},
   "source": [
    "At it's most basic, a Poisson distribution can be used to estimate the probability of a certain event occurring within a fixed-time interval [47]. In everyday use, Poisson distributions are used to estimate the 'number of car crashes in a city of a given size' [47]. Other common questions that can be answered using a Poisson distribution is the numbers of books sold in a week, number of storms in a city over a given time period [50]. \n",
    "\n",
    "![Poisson](Images/poisson.png)\n",
    "<i>Adapted from Reference 48</i>\n",
    "\n",
    "\n",
    "In Numpy, the Poisson function contains the <i>lam (lambda)</i> parameter, which is the 'expected number of events occurring in a fixed-time interval' [49]. As the value of <i>lambda</i> changes, the probability of the number of events occuring within a defined time interval also changes [49].\n"
   ]
  },
  {
   "cell_type": "code",
   "execution_count": 21,
   "id": "1f61d18c",
   "metadata": {},
   "outputs": [
    {
     "data": {
      "text/plain": [
       "<matplotlib.legend.Legend at 0x26a5f99f400>"
      ]
     },
     "execution_count": 21,
     "metadata": {},
     "output_type": "execute_result"
    },
    {
     "data": {
      "image/png": "[encoded data removed]",
      "text/plain": [
       "<Figure size 432x288 with 1 Axes>"
      ]
     },
     "metadata": {
      "needs_background": "light"
     },
     "output_type": "display_data"
    }
   ],
   "source": [
    "# Exploration of the Poisson function\n",
    "\n",
    "rng = np.random.default_rng()  # Generate some random values\n",
    "\n",
    "# Let's change the value for lambda\n",
    "p = rng.poisson(1, 10000) # setting lam to 1.0, with 10000 values\n",
    "plt.hist(p, bins = 10, density = True, alpha = 0.3, color = 'red', label='$\\lambda=1$')\n",
    "p1 = rng.poisson(2, 10000) # setting lam to 2.0, with 10000 values\n",
    "plt.hist(p1, bins = 10, density = True,alpha = 1.0, color = 'blue', label='$\\lambda = 2$')\n",
    "p2 = rng.poisson(5, 10000) # setting lam to 5.0, with 10000 values\n",
    "plt.hist(p2, bins = 20, density = True, color = 'green', alpha = 0.2, label='$\\lambda = 5$')\n",
    "\n",
    "# Lets overlay our plots\n",
    "plt.xlabel(' Events', size=12)\n",
    "plt.ylabel('Probability', size=12)\n",
    "plt.title('Poisson distribution', size=12)\n",
    "plt.legend()"
   ]
  },
  {
   "cell_type": "markdown",
   "id": "16473ebc",
   "metadata": {},
   "source": [
    "Upon examination, we can see that the probability of an event occuring reaches it's peak as it approaches <i>lambda</i>.\n",
    "***"
   ]
  },
  {
   "cell_type": "markdown",
   "id": "016a9c1a",
   "metadata": {},
   "source": [
    "###### Numpy.Random:  random.Generator.pareto\n",
    "\n",
    "At it's most basic, the Pareto principle details an unequal relationship between inputs and outputs, in where 80% of the consequences comes from 20% of the causes [51]. For this reason, it's also known as the '80/20 Rule' [51]. In everyday terms, we can relate this to an example of a company where 20% of the products a company sells generates 80% of the company's profits. Historically, this observation came from the Italian economist\n",
    "[Vilfredo Pareto](https://www.econlib.org/library/Enc/bios/Pareto.html) who calculated that 80% of Italian wealth was owned by 20% of the population [52]. \n",
    "\n",
    "![Pareto](Images/pareto.png) <i>Adapted from Reference 53</i>\n",
    "\n",
    "In Numpy, there are two parameters for the pareto function: <i>a</i>, which denotes the shape of the distribution and must be positive and <i> size</i>, which denotes the shape of the output [53]. The pareto distribution is obtained by adding 1 and multiplying by the scale parameter <i> m </i>.\n",
    "    \n",
    "![Par_dist](Images/par_dist.png) <i>Adapted from Reference 53</i>\n"
   ]
  },
  {
   "cell_type": "code",
   "execution_count": 22,
   "id": "f9f8587c",
   "metadata": {},
   "outputs": [],
   "source": [
    "# Lets explore the Pareto distribution\n",
    "a, m = 4., 4.  # shape and mode as detailed in Reference 53\n",
    "par = (np.random.default_rng().pareto(a, 1000) + 1) * m # generating random values based on pareto"
   ]
  },
  {
   "cell_type": "code",
   "execution_count": 23,
   "id": "a48bf2a4",
   "metadata": {},
   "outputs": [
    {
     "data": {
      "text/plain": [
       "<matplotlib.legend.Legend at 0x26a5f99b340>"
      ]
     },
     "execution_count": 23,
     "metadata": {},
     "output_type": "execute_result"
    },
    {
     "data": {
      "image/png": "[encoded data removed]",
      "text/plain": [
       "<Figure size 432x288 with 1 Axes>"
      ]
     },
     "metadata": {
      "needs_background": "light"
     },
     "output_type": "display_data"
    }
   ],
   "source": [
    "count, bins, _ = plt.hist(par, 40, density=True) # setting variables as per official documentation [53]\n",
    "fit = a*m**a / bins**(a+1)\n",
    "plt.plot(bins, max(count)*fit/max(fit), linewidth=3, color='green', label = 'm = 4' )\n",
    "\n",
    "plt.xlabel('x', size=12)\n",
    "plt.ylabel('f(x)', size=12)\n",
    "plt.title('Pareto distribution', size=12)\n",
    "plt.legend()\n",
    "\n"
   ]
  },
  {
   "cell_type": "markdown",
   "id": "ad81e01d",
   "metadata": {},
   "source": [
    "As can be deduced from the initial introduction to Pareto distribution, we can see here the spread of a range of values within Pareto distribution. In contrast to the distributions we have examined so far where there is a 'central peak' in the data, we see here that the majority of values fall within the initial 20% range with a corresponding tailing-off for the remaining values. This 'tailing-off' phenomenon is also known as the Pareto Index or the slope [54]. \n",
    "\n"
   ]
  },
  {
   "cell_type": "markdown",
   "id": "f7c57fe7",
   "metadata": {},
   "source": [
    "***\n",
    "##### Numpy.Random:  random.Generator.gamma\n",
    "\n",
    "In a nutshell, Gamma distribution (an aspect of the Poisson process) is primarily used to model the wait time until future events [55]. The difference between Gamma distribution and Exponential distribution is that Exponential distribution accounts for the <b>first event</b> while Gamma distribution models for the '<b>k-th</b>' event, where <i>'k'</i> denotes the shape and <i>'th'</i> denotes the scale (which accounts for where the majority of the observations will lie) [55,56]. Gamma distribution is used for continuous variables that have skewed distributions [57]. Skewness is a measure of the distortion of data from the normal distribution i.e the 'bell-shape' curve [58].\n",
    "\n",
    "In everyday life, Gamma distributions can be used to model the following: \n",
    "- Rainfall Rates\n",
    "- Life expectancies\n",
    "- Failure of electronic componants \n",
    "\n",
    "\n",
    "\n",
    "![gamma.png](Images/gamma.png)\n",
    "<i>Adapted from Reference 56</i>"
   ]
  },
  {
   "cell_type": "code",
   "execution_count": 24,
   "id": "ef4a8d00",
   "metadata": {},
   "outputs": [],
   "source": [
    "# Generate our values\n",
    "shape, scale = 2., 2.  # mean=4, std=2*sqrt(2)\n",
    "g = np.random.default_rng().gamma(shape, scale, 500)"
   ]
  },
  {
   "cell_type": "code",
   "execution_count": 25,
   "id": "3d8ee80e",
   "metadata": {},
   "outputs": [
    {
     "data": {
      "text/plain": [
       "<matplotlib.legend.Legend at 0x26a5fe2ba60>"
      ]
     },
     "execution_count": 25,
     "metadata": {},
     "output_type": "execute_result"
    },
    {
     "data": {
      "image/png": "[encoded data removed]",
      "text/plain": [
       "<Figure size 432x288 with 1 Axes>"
      ]
     },
     "metadata": {
      "needs_background": "light"
     },
     "output_type": "display_data"
    }
   ],
   "source": [
    "# Investigating Gamma distribution as per Official Documentation [56]\n",
    "count, bins, ignored = plt.hist(g, 50, density=True)\n",
    "y = bins**(shape-1)*(np.exp(-bins/scale) /  \n",
    "                     (sps.gamma(shape)*scale**shape))\n",
    "plt.plot(bins, y, linewidth=2, color='blue', label = 'k = 2')  \n",
    "plt.title('Gamma distribution', fontweight = 'bold')\n",
    "plt.ylabel('Frequency')\n",
    "plt.legend()\n"
   ]
  },
  {
   "cell_type": "code",
   "execution_count": 26,
   "id": "0257dd44",
   "metadata": {},
   "outputs": [
    {
     "data": {
      "image/png": "[encoded data removed]",
      "text/plain": [
       "<Figure size 432x288 with 1 Axes>"
      ]
     },
     "metadata": {
      "needs_background": "light"
     },
     "output_type": "display_data"
    }
   ],
   "source": [
    "# Investigating the effect of altering the shape parameter\n",
    "g1 = np.random.default_rng().gamma(shape, scale, 500)\n",
    "\n",
    "# Changing shape value to 4\n",
    "shape1, scale = 4., 2.  \n",
    "count, bins, ignored = plt.hist(g1, 50, density=True)\n",
    "y1 = bins**(shape1-1)*(np.exp(-bins/scale) /  \n",
    "                     (sps.gamma(shape1)*scale**shape1))\n",
    "plt.plot(bins, y1, linewidth=2, color='blue', label = 'k = 4')  \n",
    "\n",
    "\n",
    "# Changing shape value to 2\n",
    "shape2, scale = 2., 2.  \n",
    "count, bins, ignored = plt.hist(g1, 50, density=True)\n",
    "y2 = bins**(shape2-1)*(np.exp(-bins/scale) /  \n",
    "                     (sps.gamma(shape2)*scale**shape2))\n",
    "plt.plot(bins, y2, linewidth=2, color='red', label = 'k = 2')  \n",
    "\n",
    "# Changing shape value to 0.9\n",
    "shape3, scale = 0.9, 2. \n",
    "count, bins, ignored = plt.hist(g1, 50, density=True)\n",
    "y3 = bins**(shape3-1)*(np.exp(-bins/scale) /  \n",
    "                     (sps.gamma(shape3)*scale**shape3))\n",
    "plt.plot(bins, y3, linewidth=2, color='black', label = 'k = 0.9')  \n",
    "\n",
    "# Lets overlay our plots\n",
    "plt.ylabel('Frequency', size=12)\n",
    "plt.title('Changing Shape Parameter', size=12)\n",
    "plt.legend()\n",
    "plt.grid()\n"
   ]
  },
  {
   "cell_type": "markdown",
   "id": "b181b4c3",
   "metadata": {},
   "source": [
    "We can see that altering the shape parameter decreases the overall skew. A k-value of below 1 leads to an asymptotic distribution while as the value of <i>k</i> increases, the overall skew appears to decrease. "
   ]
  },
  {
   "cell_type": "code",
   "execution_count": 27,
   "id": "bac44104",
   "metadata": {},
   "outputs": [
    {
     "data": {
      "image/png": "[encoded data removed]",
      "text/plain": [
       "<Figure size 432x288 with 1 Axes>"
      ]
     },
     "metadata": {
      "needs_background": "light"
     },
     "output_type": "display_data"
    }
   ],
   "source": [
    "# Investigating the effect of altering the scale parameter\n",
    "g2 = np.random.default_rng().gamma(shape1, scale, 500)\n",
    "\n",
    "# Changing scale value to 0.9\n",
    "shape1, scale1 = 1, 0.9 \n",
    "count, bins, ignored = plt.hist(g2, 50, density=True)\n",
    "y1 = bins**(shape1-1)*(np.exp(-bins/scale1) /  \n",
    "                     (sps.gamma(shape1)*scale1**shape1))\n",
    "plt.plot(bins, y1, linewidth=2, color='blue', label = 'scale = 0.9')  \n",
    "\n",
    "\n",
    "# Changing scale value to 1.5\n",
    "scale2 =  1.5 \n",
    "count, bins, ignored = plt.hist(g1, 50, density=True)\n",
    "y2 = bins**(shape1-1)*(np.exp(-bins/scale2) /  \n",
    "                     (sps.gamma(shape1)*scale2**shape1))\n",
    "plt.plot(bins, y2, linewidth=2, color='red', label = 'scale = 1.5')  \n",
    "\n",
    "# Changing scale value to 3\n",
    "scale3 = 3\n",
    "count, bins, ignored = plt.hist(g1, 50, density=True)\n",
    "y3 = bins**(shape1-1)*(np.exp(-bins/scale3) /  \n",
    "                     (sps.gamma(shape1)*scale3**shape1))\n",
    "plt.plot(bins, y3, linewidth=2, color='black', label = 'scale = 3')  \n",
    "\n",
    "# Lets overlay our plots\n",
    "plt.ylabel('Frequency', size=12)\n",
    "plt.title('Changing Scale Parameter', size=12)\n",
    "plt.legend()\n",
    "plt.grid()"
   ]
  },
  {
   "cell_type": "markdown",
   "id": "aafe01aa",
   "metadata": {},
   "source": [
    "Again, we can see that altering the scale parameter decreases the overall skew.\n",
    "<br>\n",
    "To finish off this process, it is also important to highlight the difference between Gamma and Poisson distribution. Gamma distribution us used to model the wait until the k-th event whereas Poisson distribution is used to model the number of events that may occur in the future [59]."
   ]
  },
  {
   "cell_type": "markdown",
   "id": "5b997fd0",
   "metadata": {},
   "source": [
    "***\n",
    "## The use of Seeds in generating Random Numbers\n",
    "***"
   ]
  },
  {
   "cell_type": "markdown",
   "id": "5501fd2f",
   "metadata": {},
   "source": [
    "There have been some important changes in Seeding in the latest version of the Numpy.random package. I have highlighted some of the differences in Generators in the section [So how does this tie in to the Numpy.Random Package](#so_how_does_this_tie_in_to_the_Numpy.Random_Package?). Random State has been replaced by a 'Generator', which incorporates the use of an additional BitGenerator (using PCG64) that generates random bits [3,10]. These random bits are converted into random values by the action of the Generator[3,10,11].\n",
    "\n",
    "![Random_Gen](Images/random_Gen.png)\n",
    "<i>Adapted from Reference 60</i>"
   ]
  },
  {
   "cell_type": "markdown",
   "id": "7636f2d6",
   "metadata": {},
   "source": [
    "As can be seen from the official documentation [60], several parameters can be called for <i>seed</i>. The only thing here that may cause uncertainty is 'SeedSequence', which essentially 'mixes sources of entropy in a reproducible way to set the initial state for independent and very probably non-overlapping BitGenerators'[61]. Previous versions of Numpy used what is known as the 'Mersenne Twister' algorithm [10,11]. This has now been replaced by PCG-64 (Permuted Congruential Generator) due to enhanced performence [10,11,62]. In the official documentation, a table has been compiled detailing processing speeds for generating random values from different distributions [62]. Some striking differences appear in computing times (in nanoseconds) for generating values in Uniform distribution (MT19937:5.9 vs PCG64:3.1) , Gamma distribution (MT19937:37.2 vs PCG64:30.8) and Poisson distributions (MT19937:111.7 vs PCG64:103.4) [62]. PCG64 has also improved performance on different operating systems [62]. "
   ]
  },
  {
   "cell_type": "code",
   "execution_count": 34,
   "id": "05dc9212",
   "metadata": {},
   "outputs": [
    {
     "name": "stdout",
     "output_type": "stream",
     "text": [
      "Generator(PCG64)\n",
      "0.7497924183599062\n"
     ]
    },
    {
     "data": {
      "text/plain": [
       "float"
      ]
     },
     "execution_count": 34,
     "metadata": {},
     "output_type": "execute_result"
    }
   ],
   "source": [
    "# Lets start generating some random float values\n",
    "# Taken from Official Documentation [60]\n",
    "rng = np.random.default_rng()\n",
    "print(rng) # Verifying the Generator\n",
    "r_float = rng.random()\n",
    "print(r_float) # Print our float value\n",
    "type(r_float) # Verify it is indeed a float\n"
   ]
  },
  {
   "cell_type": "code",
   "execution_count": 48,
   "id": "a3acbf48",
   "metadata": {},
   "outputs": [
    {
     "name": "stdout",
     "output_type": "stream",
     "text": [
      "[4 4]\n"
     ]
    },
    {
     "data": {
      "text/plain": [
       "numpy.int64"
      ]
     },
     "execution_count": 48,
     "metadata": {},
     "output_type": "execute_result"
    }
   ],
   "source": [
    "# Generating integer values\n",
    "# Low and High parameters are same as we have detailed throught (inclusive, exclusive)\n",
    "rng = np.random.default_rng()\n",
    "r_ints = rng.integers(low=0, high=5, size=2) # two values between 0 and 4\n",
    "print(r_ints)\n",
    "type(r_ints[1]) # type of array elements\n"
   ]
  },
  {
   "cell_type": "code",
   "execution_count": null,
   "id": "cb7a9f4a",
   "metadata": {},
   "outputs": [],
   "source": []
  },
  {
   "cell_type": "code",
   "execution_count": null,
   "id": "81b6c8f4",
   "metadata": {},
   "outputs": [],
   "source": []
  },
  {
   "cell_type": "code",
   "execution_count": null,
   "id": "dcbcb53d",
   "metadata": {},
   "outputs": [],
   "source": []
  },
  {
   "cell_type": "code",
   "execution_count": 29,
   "id": "bcab10af",
   "metadata": {},
   "outputs": [],
   "source": [
    "\n"
   ]
  },
  {
   "cell_type": "code",
   "execution_count": null,
   "id": "7faeade2",
   "metadata": {},
   "outputs": [],
   "source": []
  },
  {
   "cell_type": "code",
   "execution_count": null,
   "id": "e2a79b68",
   "metadata": {},
   "outputs": [],
   "source": []
  },
  {
   "cell_type": "code",
   "execution_count": null,
   "id": "114b8ca0",
   "metadata": {},
   "outputs": [],
   "source": []
  },
  {
   "cell_type": "code",
   "execution_count": null,
   "id": "e631db7d",
   "metadata": {},
   "outputs": [],
   "source": []
  },
  {
   "cell_type": "code",
   "execution_count": null,
   "id": "c94beebe",
   "metadata": {},
   "outputs": [],
   "source": []
  }
 ],
 "metadata": {
  "kernelspec": {
   "display_name": "Python 3",
   "language": "python",
   "name": "python3"
  },
  "language_info": {
   "codemirror_mode": {
    "name": "ipython",
    "version": 3
   },
   "file_extension": ".py",
   "mimetype": "text/x-python",
   "name": "python",
   "nbconvert_exporter": "python",
   "pygments_lexer": "ipython3",
   "version": "3.8.8"
  }
 },
 "nbformat": 4,
 "nbformat_minor": 5
}
