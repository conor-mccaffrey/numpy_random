{
 "cells": [
  {
   "cell_type": "markdown",
   "id": "90e3f6b1",
   "metadata": {},
   "source": [
    "# The numpy.random package\n",
    "### Conor McCaffrey\n",
    "\n",
    "***"
   ]
  },
  {
   "cell_type": "code",
   "execution_count": 4,
   "id": "2cbe2abd",
   "metadata": {},
   "outputs": [],
   "source": [
    "import numpy as np\n",
    "rng = np.random.default_rng()"
   ]
  },
  {
   "cell_type": "code",
   "execution_count": 5,
   "id": "a32afd7c",
   "metadata": {},
   "outputs": [
    {
     "data": {
      "text/plain": [
       "array([0, 1, 1, 0, 1, 1, 0, 1, 0, 1], dtype=int64)"
      ]
     },
     "execution_count": 5,
     "metadata": {},
     "output_type": "execute_result"
    }
   ],
   "source": [
    "rng.integers(2, size=10) # up to but not including 2. Size is the amount of elements returned"
   ]
  },
  {
   "cell_type": "code",
   "execution_count": 22,
   "id": "56ddace5",
   "metadata": {},
   "outputs": [
    {
     "name": "stdout",
     "output_type": "stream",
     "text": [
      "This is f: \n",
      " [[2 4 3 4]\n",
      " [4 2 3 2]]\n",
      "This is g: \n",
      " [[0 1 1 0]\n",
      " [3 1 0 0]\n",
      " [3 3 0 4]\n",
      " [4 3 4 4]\n",
      " [3 0 3 1]]\n",
      "This is h: \n",
      " [[3 0 3 4 0 1 1 1 2 3]\n",
      " [1 0 1 4 3 4 0 1 1 3]\n",
      " [4 0 2 1 2 4 2 4 2 2]\n",
      " [3 1 3 4 2 1 1 4 4 1]\n",
      " [3 0 2 0 4 1 3 2 0 0]]\n",
      "This is i: \n",
      " [[[[4 2 2 0]\n",
      "   [2 0 0 1]\n",
      "   [0 0 1 0]]\n",
      "\n",
      "  [[4 4 1 4]\n",
      "   [3 1 0 0]\n",
      "   [0 1 1 4]]\n",
      "\n",
      "  [[2 0 4 0]\n",
      "   [3 2 3 1]\n",
      "   [1 1 1 2]]\n",
      "\n",
      "  [[1 1 3 2]\n",
      "   [4 2 4 3]\n",
      "   [0 4 2 1]]]\n",
      "\n",
      "\n",
      " [[[2 3 1 1]\n",
      "   [0 0 2 0]\n",
      "   [1 2 0 1]]\n",
      "\n",
      "  [[3 2 2 1]\n",
      "   [1 0 4 3]\n",
      "   [1 2 0 0]]\n",
      "\n",
      "  [[0 2 2 0]\n",
      "   [2 0 2 2]\n",
      "   [0 2 0 1]]\n",
      "\n",
      "  [[3 2 0 3]\n",
      "   [1 2 1 3]\n",
      "   [2 4 1 3]]]\n",
      "\n",
      "\n",
      " [[[3 4 0 1]\n",
      "   [0 2 2 2]\n",
      "   [1 2 1 0]]\n",
      "\n",
      "  [[2 0 3 3]\n",
      "   [4 0 3 4]\n",
      "   [1 3 3 2]]\n",
      "\n",
      "  [[1 4 1 0]\n",
      "   [0 4 3 0]\n",
      "   [2 0 3 4]]\n",
      "\n",
      "  [[4 2 0 4]\n",
      "   [4 1 2 0]\n",
      "   [1 0 0 1]]]\n",
      "\n",
      "\n",
      " [[[2 4 2 3]\n",
      "   [0 0 2 3]\n",
      "   [3 0 4 3]]\n",
      "\n",
      "  [[2 3 0 4]\n",
      "   [0 0 0 3]\n",
      "   [0 4 1 0]]\n",
      "\n",
      "  [[1 3 2 3]\n",
      "   [4 1 4 1]\n",
      "   [4 3 4 0]]\n",
      "\n",
      "  [[0 2 3 4]\n",
      "   [4 1 4 0]\n",
      "   [2 1 0 2]]]\n",
      "\n",
      "\n",
      " [[[4 3 4 4]\n",
      "   [4 2 3 1]\n",
      "   [0 0 2 4]]\n",
      "\n",
      "  [[2 4 0 2]\n",
      "   [0 2 2 1]\n",
      "   [1 1 3 0]]\n",
      "\n",
      "  [[4 4 3 2]\n",
      "   [4 0 0 3]\n",
      "   [4 2 4 0]]\n",
      "\n",
      "  [[2 1 3 0]\n",
      "   [2 2 0 1]\n",
      "   [4 3 0 4]]]]\n",
      "This has caused an error\n"
     ]
    }
   ],
   "source": [
    "f =  rng.integers(5, size=(2, 4)) # generated multi-dimensional array (outer square brackets). The '5' perhaps refers to up to but not including 5 like as above 'Size' structured as the following: 2 is the number if arrays returned with 4 being the number of elements in each.\n",
    "print('This is f: \\n' , f)   # reference for newline character (https://stackoverflow.com/questions/11497376/how-do-i-specify-new-lines-on-python-when-writing-on-files)\n",
    "\n",
    "# Verifying size attribute by changing value of first parameter to 5 to investigate if 5 arrays print. Assinging as variable 'g' to allow printing along with above function to allow comparison\n",
    "g =  rng.integers(5, size=(5, 4))\n",
    "print('This is g: \\n', g)\n",
    "\n",
    "# Verifying size attribute by changing value of second parameter to 10 to investigate if 10 elements are in each list. Assinging as variable 'h' to allow comparison\n",
    "h =  rng.integers(5, size=(5, 10))\n",
    "print('This is h: \\n', h)\n",
    "\n",
    "\n",
    "# Specifying multiple parameters\n",
    "i =  rng.integers(5, size=(5, 4,3,4))\n",
    "print('This is i: \\n', i)\n",
    "\n",
    "\n",
    "# Wrapping empty function in try except block to investigate effect (REFERENCE https://docs.python.org/3/tutorial/errors.html)\n",
    "\n",
    "try:\n",
    "    rng.integers()\n",
    "except BaseException as err:\n",
    "    print('This has caused an error')\n",
    "else:\n",
    "    print('Function still worked')"
   ]
  },
  {
   "cell_type": "code",
   "execution_count": 24,
   "id": "925adf4b",
   "metadata": {},
   "outputs": [],
   "source": [
    "x = rng.integers(100, size=10000)"
   ]
  },
  {
   "cell_type": "code",
   "execution_count": 26,
   "id": "696ab126",
   "metadata": {},
   "outputs": [
    {
     "data": {
      "text/plain": [
       "(array([ 965., 1044.,  991.,  995.,  998., 1020., 1046.,  990.,  996.,\n",
       "         955.]),\n",
       " array([ 0. ,  9.9, 19.8, 29.7, 39.6, 49.5, 59.4, 69.3, 79.2, 89.1, 99. ]),\n",
       " <BarContainer object of 10 artists>)"
      ]
     },
     "execution_count": 26,
     "metadata": {},
     "output_type": "execute_result"
    },
    {
     "data": {
      "image/png": "[encoded data removed]",
      "text/plain": [
       "<Figure size 432x288 with 1 Axes>"
      ]
     },
     "metadata": {
      "needs_background": "light"
     },
     "output_type": "display_data"
    }
   ],
   "source": [
    "%matplotlib inline # magic command forcing plot to display if needed\n",
    "\n",
    "import matplotlib.pyplot as plt # import matplotlib and plot above function\n",
    "\n",
    "plt.hist(x)"
   ]
  },
  {
   "cell_type": "code",
   "execution_count": null,
   "id": "5f3e8a70",
   "metadata": {},
   "outputs": [],
   "source": []
  },
  {
   "cell_type": "code",
   "execution_count": null,
   "id": "614c7b21",
   "metadata": {},
   "outputs": [],
   "source": []
  },
  {
   "cell_type": "code",
   "execution_count": null,
   "id": "23c1593a",
   "metadata": {},
   "outputs": [],
   "source": []
  },
  {
   "cell_type": "code",
   "execution_count": null,
   "id": "37d374b1",
   "metadata": {},
   "outputs": [],
   "source": []
  },
  {
   "cell_type": "code",
   "execution_count": null,
   "id": "fb07caa4",
   "metadata": {},
   "outputs": [],
   "source": []
  }
 ],
 "metadata": {
  "kernelspec": {
   "display_name": "Python 3",
   "language": "python",
   "name": "python3"
  },
  "language_info": {
   "codemirror_mode": {
    "name": "ipython",
    "version": 3
   },
   "file_extension": ".py",
   "mimetype": "text/x-python",
   "name": "python",
   "nbconvert_exporter": "python",
   "pygments_lexer": "ipython3",
   "version": "3.8.8"
  }
 },
 "nbformat": 4,
 "nbformat_minor": 5
}
