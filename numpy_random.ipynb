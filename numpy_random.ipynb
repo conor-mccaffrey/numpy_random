{
 "cells": [
  {
   "cell_type": "markdown",
   "id": "90e3f6b1",
   "metadata": {},
   "source": [
    "# The Numpy.Random Package \n",
    "\n",
    "***\n",
    "\n",
    "![Python & Jupyter](Images/python-jupyter-notebooks.jpg)\n",
    "\n",
    "![Numpy](Images/Numpy.png)\n",
    "\n",
    "\n",
    "\n",
    "######  <i> Pictures adapted from references 1,2  </i>\n",
    "\n",
    "## Conor McCaffrey\n",
    "#### Programming for Data Analysis 2021\n",
    "[Official Documentation for the Numpy Random Package](https://numpy.org/doc/stable/reference/random/index.html)  [3] <br>\n",
    "[Click here for copy of Assignment](Images/ProgDA_Assignment.pdf)\n",
    "\n",
    "\n",
    "***"
   ]
  },
  {
   "cell_type": "markdown",
   "id": "ee2bb60d",
   "metadata": {},
   "source": [
    "## Assignment Objectives\n",
    "- Explain the overall purpose of the package.\n",
    "- Explain the use of the “Simple random data” and “Permutations” functions.\n",
    "- Explain the use and purpose of at least five “Distributions” functions.\n",
    "- Explain the use of seeds in generating pseudorandom numbers."
   ]
  },
  {
   "cell_type": "markdown",
   "id": "b606555c",
   "metadata": {},
   "source": [
    "## What is the purpose of the Numpy.Random Package?"
   ]
  },
  {
   "cell_type": "markdown",
   "id": "4d28faaa",
   "metadata": {},
   "source": [
    "###### Overview of Numpy.\n",
    "Prior to delving too deeply into the mechanics of a package, it is prudent to first understand the inherent purpose of a package. \n",
    "<br>\n",
    "- <u> Numpy</u> (an abbreviation of \"<b>Num</b>erical <b>Py</b>thon\"  [4] ) is essentially \" the fundamental package for scientific computing in Python \" [5]. This open-source package provides many resources that are of particular importance to scientific computing. According to official documentation [5], Numpy is a \"Python library that provides a multidimensional array object, various derived objects (such as masked arrays and matrices), and an assortment of routines for fast operations on arrays, including mathematical, logical, shape manipulation, sorting, selecting, I/O, discrete Fourier transforms, basic linear algebra, basic statistical operations, random simulation and much more\". \n",
    "- The core of the Numpy package is the \"array\", which is similar to a list with the main exception being that we can perform mathematical operations/arithmetic functions on arrays that are not possible on lists [6]. Lists can contain data of differing data-types while arrays are used to house elements of the same data type [7]. Upon creation, an array has a fixed size (technically immutable) in where changing elements of an array will delete the original and return a copy of the original array with whatever operation you requested, in contrast to lists, which are mutable [8,5].\n",
    "\n",
    "![Arrays](Images/arrays.png)\n",
    "###### Adapted from reference [31]\n"
   ]
  },
  {
   "cell_type": "markdown",
   "id": "ea37182c",
   "metadata": {},
   "source": [
    "###### So how does this tie in to the Numpy.Random Package?"
   ]
  },
  {
   "cell_type": "markdown",
   "id": "3de80aa7",
   "metadata": {},
   "source": [
    "Now that we have a basic overview of the Numpy package as a whole, let's examine the mechanics of the Numpy.Random package. At the highest level, the Numpy.Random package allows the production of arrays of \"pseudo-random\" numbers for downstream analyses [3]. This is acheived using what are known as a \"BitGenerator\" and a \"Generator\" [3]. BitGenerators create sequences of 32/64 random bits (based on different algorithms) which are then leveraged by Generators (taking a bit generator as an argument) to create sequences of numbers, adhering to a certain probability distribution (i.e Uniform, Normal or Binomial) [3,9]. The Generator (replacing the legacy RandomState) from the latest update of Numpy.Random uses bits provided by PCG-64 (Permuted Congruential Generator, a family of algorithms) as opposed to the legacy MT19937 (Marsenne Twister) due to enhanced statistical performence [3,10,11]. This will be covered in greater detail in the section discussing \"Seeding\". \"Seeding\" is an important concept, allowing the work to be reproducible to others attempting to examine/re-create your work."
   ]
  },
  {
   "cell_type": "markdown",
   "id": "48881a11",
   "metadata": {},
   "source": [
    "###### In Summary...\n",
    "The Numpy.Random package contains functions that faciliate the generation of arrays of pseudo-random numbers with specific probability distributions [12,13]. "
   ]
  },
  {
   "cell_type": "markdown",
   "id": "95febef1",
   "metadata": {},
   "source": [
    "***\n",
    "## Simple Random Data and Permutations"
   ]
  },
  {
   "cell_type": "markdown",
   "id": "c51cb0e6",
   "metadata": {},
   "source": [
    "In this passage I want to give an overview of \"Simple Random Data\" and \"Permutations\", as outlined in the official documentation [3]. \n",
    "<br>\n",
    "\n",
    "The Simple Random Data section outlines a set of functions that can be utilised in order to, logically, generate simple random data based on user inputs, which can of course be modified. Data types that can be returned include integers, floats, random samples from a given array and bytes [3]. The functions available for use, following the latest update, are:\n",
    "- integers(low[, high, size, dtype, endpoint]) - Return random integers from low (inclusive) to high (exclusive), or if endpoint=True, low (inclusive) to high (inclusive).\n",
    "- random([size, dtype, out]) - Return random floats in the half-open interval [0.0, 1.0).\n",
    "- choice(a[, size, replace, p, axis, shuffle]) - Generates a random sample from a given array\n",
    "- bytes(length) - Return random bytes.\n",
    "\n",
    "Permutations (coming from the word <i> permute</i> (meaning to \"alter/rearrange\" [14]), meanwhile, create random re-arrangements of the order of elements [3]. Three functions are called out in the official documentation [3]:\n",
    "- shuffle(x[, axis]) - Modify an array or sequence in-place by shuffling its contents.\n",
    "- permutation(x[, axis] - Randomly permute a sequence, or return a permuted range.\n",
    "- permuted(x[, axis, out]) -Randomly permute x along axis axis.\n",
    "\n",
    "We will cover each of these in more detail below."
   ]
  },
  {
   "cell_type": "code",
   "execution_count": 30,
   "id": "10f9c3df",
   "metadata": {},
   "outputs": [],
   "source": [
    "# To begin, let's import the packages we will require\n",
    "import numpy as np\n",
    "import pandas as pd\n",
    "import matplotlib.pyplot as plt\n",
    "import seaborn as sns\n",
    "import scipy.special as sps  \n",
    "\n",
    "# This  line-orientated magic command, as outlined in lectures, lets us display plots inline\n",
    "%matplotlib inline"
   ]
  },
  {
   "cell_type": "markdown",
   "id": "32688fd5",
   "metadata": {},
   "source": [
    "###### Numpy.Random: numpy.random.Generator.integers\n",
    "\n",
    "\n"
   ]
  },
  {
   "cell_type": "code",
   "execution_count": 2,
   "id": "e08bc352",
   "metadata": {},
   "outputs": [
    {
     "name": "stdout",
     "output_type": "stream",
     "text": [
      "This is the variable \"a\": \n",
      " [5 4 1 7 7 7 4 7 5 4 6 1 6 5 4] \n",
      " The type of the variable is: <class 'numpy.ndarray'>\n"
     ]
    },
    {
     "data": {
      "image/png": "[encoded data removed]",
      "text/plain": [
       "<Figure size 432x288 with 1 Axes>"
      ]
     },
     "metadata": {
      "needs_background": "light"
     },
     "output_type": "display_data"
    }
   ],
   "source": [
    "# Generate an array of integers\n",
    "rng = np.random.default_rng() # Call default_rng to get a new instance of a Generator, from official documentation [3]\n",
    "a =  rng.integers(8, size=15) # Up to but not including 8. Size is the shape of the array\n",
    "print('This is the variable \"a\": \\n' , a, '\\n The type of the variable is:', type(a)) \n",
    "\n",
    "# Plot our variable to demonstrate random data, adapted from reference 15\n",
    "plt.plot(a, 'b.', color = '#943126') # setting colour of datapoints [16]\n",
    "plt.title('Random Integers Demonstration', fontweight='heavy',  size=12) # Setting title and weight of title [18]\n",
    "plt.xlabel('Element Number', size=10) # Setting axis title and font size\n",
    "plt.ylabel('DataPoint', size=10)\n",
    "plt.grid(False) # Used hex value for colour [19]"
   ]
  },
  {
   "cell_type": "code",
   "execution_count": 3,
   "id": "2cbe2abd",
   "metadata": {},
   "outputs": [
    {
     "name": "stdout",
     "output_type": "stream",
     "text": [
      "This is b: \n",
      " [[6 5 5 0]\n",
      " [0 3 7 4]]\n",
      "This is c: \n",
      " [1 6 6 3 4 5 5 3 5 2]\n",
      "This is d: \n",
      " [[3 3]\n",
      " [4 5]\n",
      " [3 1]\n",
      " [1 4]\n",
      " [2 3]]\n",
      "This has caused an error\n"
     ]
    }
   ],
   "source": [
    "# Further manipulation of the integer function.\n",
    "# Generate a multi-dimensional array.\n",
    "\n",
    "# Size is structured as the following: 2x4 array\n",
    "b =  rng.integers(10, size=(2, 4))\n",
    "print('This is b: \\n' , b)\n",
    "\n",
    "# Output is a 1D array\n",
    "c = rng.integers(low = 0, high = 7, size = 10) \n",
    "print ('This is c: \\n', c)\n",
    "\n",
    "# Specifying multiple parameters\n",
    "d =  rng.integers(5, size=(5,2),  endpoint=True) # Boolean True to determine if '5' included in arrays\n",
    "print('This is d: \\n', d)\n",
    "\n",
    "# Wrapping empty function in try except block to investigate effect [17]\n",
    "try:\n",
    "    rng.integers()\n",
    "except BaseException as err:\n",
    "    print('This has caused an error')\n",
    "else:\n",
    "    print('Function still worked')\n"
   ]
  },
  {
   "cell_type": "code",
   "execution_count": 4,
   "id": "a32afd7c",
   "metadata": {},
   "outputs": [
    {
     "data": {
      "text/plain": [
       "Text(0.5, 1.0, 'Random integers from the discrete uniform distribution')"
      ]
     },
     "execution_count": 4,
     "metadata": {},
     "output_type": "execute_result"
    },
    {
     "data": {
      "image/png": "[encoded data removed]",
      "text/plain": [
       "<Figure size 432x288 with 1 Axes>"
      ]
     },
     "metadata": {
      "needs_background": "light"
     },
     "output_type": "display_data"
    }
   ],
   "source": [
    "# Plotting using the numpy.random.Generator.integers function\n",
    "x1 = rng.integers(low = 1, high=500, size = 10000) # generating random values between 1-499\n",
    "plt.hist(x1, bins = 20, color = 'green', edgecolor = 'orange') # Some decorations\n",
    "plt.xlabel('Discrete Uniform Distribution')\n",
    "plt.title('Random integers from the discrete uniform distribution', fontweight = 'heavy', family = 'serif')\n"
   ]
  },
  {
   "cell_type": "markdown",
   "id": "30604b01",
   "metadata": {},
   "source": [
    "We have shown here that the distribution of the values is uniform, as detailed in the official documentation. [20]"
   ]
  },
  {
   "cell_type": "markdown",
   "id": "13fc58a1",
   "metadata": {},
   "source": [
    "###### Numpy.Random: numpy.random.Generator.random\n"
   ]
  },
  {
   "cell_type": "markdown",
   "id": "2dfd19a5",
   "metadata": {},
   "source": [
    "This function is quite similar to the one above and is desribed in the official documentation as the following: [21]\n",
    "\n",
    "![Random.random](Images/Random.random.PNG)\n"
   ]
  },
  {
   "cell_type": "code",
   "execution_count": 5,
   "id": "925adf4b",
   "metadata": {},
   "outputs": [
    {
     "data": {
      "text/plain": [
       "array([0.56171465, 0.46297566, 0.55900407, 0.4166147 , 0.68670154,\n",
       "       0.07491399, 0.94251066, 0.01236733, 0.29448136, 0.4748195 ,\n",
       "       0.6185721 , 0.15839693, 0.45222007, 0.25630856, 0.13364404,\n",
       "       0.04300806, 0.65252713, 0.68117509, 0.1272121 , 0.13098431])"
      ]
     },
     "execution_count": 5,
     "metadata": {},
     "output_type": "execute_result"
    },
    {
     "data": {
      "image/png": "[encoded data removed]",
      "text/plain": [
       "<Figure size 432x288 with 1 Axes>"
      ]
     },
     "metadata": {
      "needs_background": "light"
     },
     "output_type": "display_data"
    }
   ],
   "source": [
    "# Plotting using the numpy.random.Generator.random function\n",
    "# This function returns floats\n",
    "x2 = rng.random(size = 20) # 10 random floats\n",
    "plt.plot(x2, 'b.', color = 'green') # Some decorations\n",
    "plt.ylim(0,2.0) # setting x-axis limits\n",
    "plt.ylabel('DataPoint')\n",
    "plt.xlabel('Continuous Uniform Distribution')\n",
    "plt.title('Random integers from the continuous uniform distribution', fontweight = 'heavy', family = 'serif')\n",
    "x2"
   ]
  },
  {
   "cell_type": "markdown",
   "id": "339e1c29",
   "metadata": {},
   "source": [
    "Something intersting to note here is how the generated random numbers are all between 0.0 and 1.0. I examined this by purposefully setting the upper x-limit to 2.0 just to determine if a result above 1.0 appeared. This is evidence that the statement from the official documentaion (half-open interval) is true [21]."
   ]
  },
  {
   "cell_type": "markdown",
   "id": "3c9120f4",
   "metadata": {},
   "source": [
    "There is an interesting difference in the above functions I want to highlight. It is obvious how Numpy.integers returns integer values and how Numpy.random can return float values. Something I feel is more important to highlight between the functions is the difference between discrete and continuous distribution as a result of these mechanics. Random.integers returns values of discrete uniform distribution (where there are a finite number of outcomes), while Random.random returns values of continuous uniform distribution(where there are an infinite number of outcomes) [22]. \n",
    "\n",
    "- Thinking of this logically, if you flip a coin, you can have only two possible outcomes: Heads or Tails (i.e 1 or 0). While the outcome is random (you hope!), you can only have two possible outcomes (i.e a finite amount of outcomes). This is the basis of discrete distribution. [23] \n",
    "- Compare this to continuous distribution, where we could have an infinite number of equally likely outcomes. An example of this could be an truely random number generator, in where any value could appear just as likely as any other value an infinite number of times.\n",
    "\n",
    "![Coin](Images/Coin.jpg)\n",
    "\n",
    "###### <i> Adapted from Reference 24 </i>\n"
   ]
  },
  {
   "cell_type": "code",
   "execution_count": 6,
   "id": "a1899979",
   "metadata": {},
   "outputs": [
    {
     "data": {
      "text/plain": [
       "<matplotlib.legend.Legend at 0x17d745139a0>"
      ]
     },
     "execution_count": 6,
     "metadata": {},
     "output_type": "execute_result"
    },
    {
     "data": {
      "image/png": "[encoded data removed]",
      "text/plain": [
       "<Figure size 432x288 with 1 Axes>"
      ]
     },
     "metadata": {
      "needs_background": "light"
     },
     "output_type": "display_data"
    }
   ],
   "source": [
    "# Compare the two functions used in a scatterplot \n",
    "# Demonstate the difference between continuous and discrete uniform distribution.\n",
    "x3 = rng.integers(low = 0, high=3, size = 15) \n",
    "x4 = rng.random(size = 15) \n",
    "\n",
    "plt.plot(x3, 'x', label='discrete')\n",
    "plt.plot(x4, 'o', label='continuous')\n",
    "plt.xlabel('Cont vs Discrete', size=12, color = '#397dad')\n",
    "plt.ylabel('Value', size=12, color = '#943126')\n",
    "plt.grid(False) # dont want gridlines for this\n",
    "plt.legend()"
   ]
  },
  {
   "cell_type": "markdown",
   "id": "e9dbe7f1",
   "metadata": {},
   "source": [
    "We can clearly see from the above scatterplot the simple difference between discrete and continuous uniform distribution. For the Numpy.Random.Integers (discrete distribution) we only have the values 0,1 or 2 compared to Numpy.Random.random (continuous distribution) where we have random values between 0.0 and 1.0. "
   ]
  },
  {
   "cell_type": "markdown",
   "id": "03dcc491",
   "metadata": {},
   "source": [
    "###### Numpy.Random: numpy.random.Generator.choice\n"
   ]
  },
  {
   "cell_type": "markdown",
   "id": "313e1269",
   "metadata": {},
   "source": [
    "This function allows the user to generate a random sample from a non-empty array (if the variable is an array) or in the range of the specified integer [25]. "
   ]
  },
  {
   "cell_type": "code",
   "execution_count": 7,
   "id": "e00a43d4",
   "metadata": {},
   "outputs": [
    {
     "name": "stdout",
     "output_type": "stream",
     "text": [
      "This is the variable a: 0 \n",
      " This is b: [[11  4  8]\n",
      " [12 44 89]]\n"
     ]
    }
   ],
   "source": [
    "# Initial investigations into choice method\n",
    "rng = np.random.default_rng() \n",
    "a =  rng.choice(5) # generate a random integer\n",
    "# Select 2 random arrays from list with replace set to False to avoid selecting same \n",
    "b = rng.choice(([11, 4, 8], [7, 4, 9], [1, 2, 9], [12,44,89]), 2 ,replace = False)\n",
    "print('This is the variable a:' , a, '\\n This is b:' ,b)"
   ]
  },
  {
   "cell_type": "code",
   "execution_count": 8,
   "id": "5ae2e46c",
   "metadata": {},
   "outputs": [
    {
     "data": {
      "text/plain": [
       "<matplotlib.legend.Legend at 0x17d74589f70>"
      ]
     },
     "execution_count": 8,
     "metadata": {},
     "output_type": "execute_result"
    },
    {
     "data": {
      "image/png": "[encoded data removed]",
      "text/plain": [
       "<Figure size 432x288 with 1 Axes>"
      ]
     },
     "metadata": {
      "needs_background": "light"
     },
     "output_type": "display_data"
    }
   ],
   "source": [
    "# Investigation into p parameter in choice method for distribution\n",
    "# We will see a non-uniform distribution in a1 due to setting probabilities\n",
    "a1 = rng.choice(5, 30, p=[0.0, 0.5, 0.0, 0.5, 0])  # adapted from reference 25\n",
    "b1 = rng.choice(5, 30)\n",
    "\n",
    "plt.plot(a1, 'x', label='Non-Uni')\n",
    "plt.plot(b1, 'o', label='Uni')\n",
    "plt.legend()"
   ]
  },
  {
   "cell_type": "markdown",
   "id": "4e81984f",
   "metadata": {},
   "source": [
    "Lets explore this probability distribution parameter a little closer"
   ]
  },
  {
   "cell_type": "code",
   "execution_count": 9,
   "id": "cc20a3d2",
   "metadata": {},
   "outputs": [
    {
     "name": "stdout",
     "output_type": "stream",
     "text": [
      "How many times each county won the Ulster Title:\n",
      "[['Armagh' 'Cavan' 'Donegal' 'Down' 'Fermanagh' 'Monaghan' 'Tyrone']\n",
      " ['3' '17' '4' '2' '2' '6' '6']]\n"
     ]
    }
   ],
   "source": [
    "# Generate a list of counties in Ulster who can win the Ulster Title for the next 40 years\n",
    "counties = ['Cavan','Fermanagh','Monaghan','Tyrone','Donegal','Down','Antrim','Armagh','Derry']\n",
    "ulsterTitle = rng.choice(counties, 40, p=[0.3, 0.1, 0.1, 0.1, 0.1, 0.1, 0.1, 0.1, 0.0], replace=True)  \n",
    "\n",
    "# Return in numerical format how many times each county wins the title\n",
    "unique_elements, counts_elements = np.unique(ulsterTitle, return_counts=True) \n",
    "print('How many times each county won the Ulster Title:') # adapted from reference 26\n",
    "print(np.asarray((unique_elements, counts_elements))) # return as an array [27]"
   ]
  },
  {
   "cell_type": "code",
   "execution_count": 10,
   "id": "77b74ab4",
   "metadata": {},
   "outputs": [
    {
     "data": {
      "image/png": "[encoded data removed]",
      "text/plain": [
       "<Figure size 648x432 with 1 Axes>"
      ]
     },
     "metadata": {
      "needs_background": "light"
     },
     "output_type": "display_data"
    }
   ],
   "source": [
    "# Lets display on a Seaborn Histogram this glorious liklihood\n",
    "# Took a long time to get aspect solution [28]\n",
    "sns.displot(ulsterTitle, color = 'blue', edgecolor = 'grey', height=6, aspect=9/6)\n",
    "plt.figsize = (170,100)\n",
    "plt.xlabel('County', fontweight = 'bold')\n",
    "plt.ylabel('Titles', fontweight = 'bold')\n",
    "plt.suptitle('Ulster Title Winners', fontsize = 15) # adding main title to histogram and setting fontsize\n",
    "plt.grid(False) \n"
   ]
  },
  {
   "cell_type": "markdown",
   "id": "6cd3446a",
   "metadata": {},
   "source": [
    "In summary, the choice function selects a random sample or samples from an array, however we can manipulate the selection by setting probabilites."
   ]
  },
  {
   "cell_type": "markdown",
   "id": "4ae41168",
   "metadata": {},
   "source": [
    "###### Numpy.Random: numpy.random.Generator.bytes\n"
   ]
  },
  {
   "cell_type": "markdown",
   "id": "12927d00",
   "metadata": {},
   "source": [
    "This function simply returns random bytes [29]:\n",
    "![Bytes](Images/Bytes.png)\n",
    "\n"
   ]
  },
  {
   "cell_type": "code",
   "execution_count": 11,
   "id": "03e29d42",
   "metadata": {},
   "outputs": [
    {
     "data": {
      "text/plain": [
       "b'\\xafe\\xbeE\\x86bO\\xaf9>Q\\xa8'"
      ]
     },
     "execution_count": 11,
     "metadata": {},
     "output_type": "execute_result"
    }
   ],
   "source": [
    "# Returning Random bytes\n",
    "np.random.bytes(12)"
   ]
  },
  {
   "cell_type": "markdown",
   "id": "4d285f38",
   "metadata": {},
   "source": [
    "###### Numpy.Random: numpy.random.Generator.shuffle\n"
   ]
  },
  {
   "cell_type": "markdown",
   "id": "97f9c9eb",
   "metadata": {},
   "source": [
    "The shuffle method within Permutations facilitates the re-ordering of contents within a sequence [30]. \n",
    "\n",
    "![Shuffle](Images/shuffle.png)\n",
    "\n",
    "\n"
   ]
  },
  {
   "cell_type": "code",
   "execution_count": 12,
   "id": "09cc5773",
   "metadata": {},
   "outputs": [
    {
     "name": "stdout",
     "output_type": "stream",
     "text": [
      "1D array: [10  9  3 11  4  2  6 13  1  0  7 14  5  8 12]\n",
      "We have now changed the shape of the output: \n",
      " [[2 3]\n",
      " [6 7]\n",
      " [0 1]\n",
      " [4 5]]\n",
      "Setting the axis to 1: \n",
      " [[0 1]\n",
      " [2 3]\n",
      " [4 5]\n",
      " [6 7]]\n"
     ]
    }
   ],
   "source": [
    "# Shuffle method\n",
    "input = np.arange(15)\n",
    "rng.shuffle(input) # using shuffle method\n",
    "print('1D array:', input) # printing array of shuffled results\n",
    "\n",
    "# We can also manipulate the shape of the output \n",
    "new_input = np.arange(8).reshape((4, 2)) # resulting in a 4x2 array, adapted from [30]\n",
    "rng.shuffle(new_input) \n",
    "print('We have now changed the shape of the output: \\n', new_input)\n",
    "\n",
    "# Let's look how specifying axis can alter the output \n",
    "arr = np.arange(8).reshape((4, 2))\n",
    "rng.shuffle(arr, axis=1)\n",
    "print('Setting the axis to 1: \\n', arr) # alters results by column"
   ]
  },
  {
   "cell_type": "markdown",
   "id": "a696ea10",
   "metadata": {},
   "source": [
    "It is also worth noting that when changing the value of the axis, the individual values within the axis do not change. Only the row/column as a whole changes. [30]"
   ]
  },
  {
   "cell_type": "markdown",
   "id": "be783427",
   "metadata": {},
   "source": [
    "###### Numpy.Random: numpy.random.Generator.permutation\n",
    "\n",
    "The permutation method within Permutations facilitates the re-ordering of contents within a sequence [32]. A notable difference between this method and the shuffle method is the permutation method returns a copy of the array while shuffle deals with the original array [33].\n",
    "\n",
    "![Permutation](Images/Permutation.png)\n"
   ]
  },
  {
   "cell_type": "code",
   "execution_count": 13,
   "id": "57166aa9",
   "metadata": {},
   "outputs": [
    {
     "name": "stdout",
     "output_type": "stream",
     "text": [
      "1D array: [ 3 11  2  0 10  7  1  4  9  5  8  6]\n",
      "We have now changed the shape of the output: \n",
      " [[0 1]\n",
      " [6 7]\n",
      " [4 5]\n",
      " [2 3]]\n"
     ]
    }
   ],
   "source": [
    "# Permutation method\n",
    "rng = np.random.default_rng()\n",
    "result = rng.permutation(12)\n",
    "print('1D array:', result ) # printing array of results in range of integer\n",
    "\n",
    "# Similar to the shuffle function, we can also manipulate the shape of the output \n",
    "new_perm = np.arange(8).reshape((4, 2)) # resulting in a 4x2 array, adapted from [33]\n",
    "rng.shuffle(new_perm) \n",
    "print('We have now changed the shape of the output: \\n', new_perm)"
   ]
  },
  {
   "cell_type": "code",
   "execution_count": 14,
   "id": "24f4fc5a",
   "metadata": {},
   "outputs": [
    {
     "name": "stdout",
     "output_type": "stream",
     "text": [
      "This is the original List before permutation: [1, 4, 9, 12, 15] and this is the permuted List: [ 1  9  4 12 15]\n",
      "This is the original_List after permutation [1, 4, 9, 12, 15]\n",
      "This is the List before shuffling: [1, 2, 3, 4, 5]\n",
      "This is the original_shuffled_List after shuffling [1, 2, 3, 4, 5]\n"
     ]
    }
   ],
   "source": [
    "# Let's explore this in-place/copy idea a little more\n",
    "\n",
    "# If x is an array, make a copy and shuffle the elements randomly\n",
    "original_List = [1,4,9,12,15]\n",
    "permuted_List = np.random.permutation(original_List)\n",
    "print('This is the original List before permutation:', original_List , 'and this is the permuted List:', permuted_List)\n",
    "print('This is the original_List after permutation', original_List)\n",
    "\n",
    "# Let's compare this to the shuffle function\n",
    "original_shuffled_List = [1,2,3,4,5]\n",
    "print('This is the List before shuffling:',original_shuffled_List)\n",
    "print('This is the original_shuffled_List after shuffling', original_shuffled_List)\n"
   ]
  },
  {
   "cell_type": "markdown",
   "id": "93133d74",
   "metadata": {},
   "source": [
    "###### Numpy.Random: numpy.random.Generator.permuted\n",
    "The permutation method within Permutations facilitates the permutation of 'x' along the axis <i>axis</i> [34]. A notable difference between this method and the shuffle method is eacxh slice in the permutated method is shuffled independently of the others.[34]\n",
    "\n",
    "\n",
    "![Permuted](Images/Permuted.png)\n",
    "\n",
    "Let's explore this."
   ]
  },
  {
   "cell_type": "code",
   "execution_count": 15,
   "id": "291fe70e",
   "metadata": {},
   "outputs": [
    {
     "name": "stdout",
     "output_type": "stream",
     "text": [
      "This is the original array: \n",
      " [[ 1  2  3  4]\n",
      " [ 5  6  7  8]\n",
      " [ 9 10 11 12]\n",
      " [13 14 15 16]\n",
      " [17 18 19 20]]\n",
      "This is the permuted array: \n",
      " [[ 3  1  2  4]\n",
      " [ 5  8  7  6]\n",
      " [ 9 11 10 12]\n",
      " [13 14 15 16]\n",
      " [19 20 17 18]]\n",
      "This is the permuted array setting axis=0:\n",
      " [[ 9  2 11  4]\n",
      " [13 10  7  8]\n",
      " [ 5 18 15 16]\n",
      " [ 1 14  3 20]\n",
      " [17  6 19 12]]\n",
      "Back to original:\n",
      " [[ 1  2  3  4]\n",
      " [ 5  6  7  8]\n",
      " [ 9 10 11 12]\n",
      " [13 14 15 16]\n",
      " [17 18 19 20]]\n",
      "This is now array_1 after setting parameter for \"out\":\n",
      " [[ 4  3  2  1]\n",
      " [ 7  6  5  8]\n",
      " [12 11  9 10]\n",
      " [15 13 16 14]\n",
      " [20 17 18 19]]\n"
     ]
    }
   ],
   "source": [
    "# Generating a test instance [34]\n",
    "rng = np.random.default_rng()\n",
    "# Creating an array\n",
    "array_1 = np.arange(1,21).reshape(5, 4)\n",
    "print('This is the original array: \\n' , array_1)\n",
    "array_2 = rng.permuted(array_1, axis=1)\n",
    "print('This is the permuted array: \\n' , array_2) # the rows have been shuffled with the original unchanged\n",
    "array_3 = rng.permuted(array_1, axis=0)\n",
    "print('This is the permuted array setting axis=0:\\n' , array_3) #columns shuffled with the original unchanged\n",
    "print('Back to original:\\n', array_1)\n",
    "# We can set 'out=array_1' to change the original (in-place change as opposed to copy change)\n",
    "rng.permuted(array_1, axis=1, out=array_1)\n",
    "print('This is now array_1 after setting parameter for \"out\":\\n',array_1)\n"
   ]
  },
  {
   "cell_type": "code",
   "execution_count": null,
   "id": "012be9a5",
   "metadata": {},
   "outputs": [],
   "source": []
  },
  {
   "cell_type": "code",
   "execution_count": null,
   "id": "dcb96a9f",
   "metadata": {},
   "outputs": [],
   "source": []
  },
  {
   "cell_type": "code",
   "execution_count": null,
   "id": "bb3fcea6",
   "metadata": {},
   "outputs": [],
   "source": []
  },
  {
   "cell_type": "markdown",
   "id": "70ac4a1d",
   "metadata": {},
   "source": [
    "***\n",
    "## Distributions\n",
    "***\n"
   ]
  },
  {
   "cell_type": "markdown",
   "id": "244bc7df",
   "metadata": {},
   "source": [
    "There are over 36 different distribution functions listed in the official documentation [3]. At it's most basic, a probability distribution 'is a table or an equation that links each outcome of a statistical experiment with its probability of occurrence' [35]. \n",
    "<br>\n",
    "<br>\n",
    "Let's take an extremely basic example of a footballer taking a penalty. There are two possible options here: the player either scores a goal or misses. Suppose the player takes two penalites (let's pretend the goalkeeper came off the line too early), there are four possible resulting outcomes (S= Scores, M= Misses) : SS, MM, SM, MS. The random variable X will represent the number of times the footballer scores and can be calculated. We can see visually that in 3 of the 4 possible outcomes the player scores at least once. We can display the probabilities of each outcome in the following table i.e. the <b>probability distribution</b>: \n",
    "<br>\n",
    "\n",
    "\n",
    "   | Number of Goals  | Probability    |\n",
    "|:-------------|:-----------|\n",
    "| 0 | 0.25       | \n",
    "| 1  | 0.5    |\n",
    "| 2  | 0.25    |\n",
    "\n",
    "<i>Table Adapted from Reference 36</i>"
   ]
  },
  {
   "cell_type": "markdown",
   "id": "ef4a2c74",
   "metadata": {},
   "source": [
    "A <b>cumulative probability</b>, meanwhile, denotes the liklihood that a random variable will fall within a certain specified range [35]. Going back to our earlier example, we can investigate the likehood of a player scoring one or less penalties. So this would be investigating the liklihood of the player scoring one penalty <u>and</u> the likehood of the player missing both penalties.\n",
    "\n",
    "P(X ≤ 1) = P(X = 0) + P(X = 1) = 0.25 + 0.50 = 0.75\n",
    " \n",
    "Now that we have a basic understanding of probabilities and distributions, let's delve a little deeper into the Distribution functions for generating random samples in Numpy."
   ]
  },
  {
   "cell_type": "markdown",
   "id": "691ba2d8",
   "metadata": {},
   "source": [
    "###### random.Generator.uniform\n",
    "\n",
    "Uniform distribution is perhaps the best distribution to initially describe as it can be considered the simplest. This form of distribution depicts an outcome where each value of a random variable is just as equally probable to any other value [38]. Thinking of this logically, lets imagine a deck of cards and you are asked to pick one. You are just as likely to draw a diamond as you are a heart and this is the same for a club and a spade. This is Uniform distribution [38]. We have already explored this topic in some detail above when describing the difference between Discrete Uniform distribution  (where there are a finite number of outcomes) and Continuous Uniform distribution (where there are an infinite number of outcomes) [22]. The probability density function (PDF), is a 'statistical expression describing the liklihood of an outcome', with the formula outlined below [39].\n",
    "\n",
    "\n",
    "![Uniform Distribution](Images/uniform_Distribution.png)\n",
    "***\n",
    "![pdf](Images/pdf.png)\n"
   ]
  },
  {
   "cell_type": "code",
   "execution_count": 16,
   "id": "b15124b0",
   "metadata": {},
   "outputs": [
    {
     "name": "stdout",
     "output_type": "stream",
     "text": [
      "[1.86427265 1.11989955 1.95980555 1.9729824  1.70482    1.81973362\n",
      " 1.90055734 1.73331296 1.86247057 1.06757366 1.51240366 1.81684011\n",
      " 1.06181931 1.31583958 1.53613603 1.55315153 1.21034724 1.27412282\n",
      " 1.00621025 1.16558151 1.79305209 1.78346751 1.44735219 1.58378767\n",
      " 1.29829299 1.76688943 1.79976052 1.48826547 1.0581196  1.60229401\n",
      " 1.32526013 1.29213695 1.83767003 1.46568512 1.28267991 1.55600215\n",
      " 1.38086475 1.77398279 1.84519593 1.78952149 1.41595238 1.91401722\n",
      " 1.56307842 1.50201459 1.12642393 1.5135275  1.60557004 1.11984466\n",
      " 1.36437207 1.94125291 1.25347094 1.13513873 1.64211555 1.09853043\n",
      " 1.18331331 1.50257025 1.67026894 1.22035283 1.44303294 1.50411489\n",
      " 1.72517464 1.91268267 1.05626341 1.29898009 1.98966319 1.45148725\n",
      " 1.5762988  1.29189739 1.76261101 1.76158424 1.59476492 1.50711736\n",
      " 1.02802601 1.52078765 1.98717295 1.55397697 1.96508722 1.54511676\n",
      " 1.67129817 1.35974499 1.16021437 1.82383508 1.98037247 1.28877775\n",
      " 1.54657084 1.75585476 1.26419058 1.84189276 1.78701783 1.47891034\n",
      " 1.19928496 1.38172477 1.73395511 1.53607477 1.22906816 1.48043719\n",
      " 1.42190284 1.35880447 1.57445849 1.51274143 1.0571222  1.77076267\n",
      " 1.10699193 1.57528958 1.55576146 1.11700867 1.2403534  1.891877\n",
      " 1.05222832 1.22860892 1.35700148 1.4728463  1.31691541 1.49627474\n",
      " 1.26282672 1.8711435  1.95898455 1.10102931 1.51789082 1.15360728\n",
      " 1.15950844 1.94551504 1.88428677 1.61795441 1.87102206 1.57023577\n",
      " 1.59501325 1.14226043 1.22850824 1.06879658 1.31710523 1.31148821\n",
      " 1.82184647 1.78035603 1.50742042 1.45175499 1.88347555 1.30081153\n",
      " 1.17027332 1.76841281 1.49536585 1.13146206 1.79256916 1.44274573\n",
      " 1.46953719 1.16107157 1.48031455 1.22876134 1.98632498 1.23358655\n",
      " 1.02435143 1.98399703 1.53036468 1.35452972 1.92798588 1.65603454\n",
      " 1.10050516 1.17558621 1.16505144 1.39270343 1.20398579 1.87146431\n",
      " 1.01332709 1.36489715 1.97534695 1.37127989 1.10067704 1.98005347\n",
      " 1.51829578 1.04361777 1.89122849 1.22505876 1.42279538 1.3836765\n",
      " 1.22948991 1.23954221 1.69459843 1.87385705 1.63416161 1.49664228\n",
      " 1.18408729 1.81336974 1.52115505 1.52560291 1.89564389 1.49251708\n",
      " 1.54259713 1.52585279 1.87502322 1.3556583  1.3161621  1.69221564\n",
      " 1.75058749 1.46479638 1.31161186 1.42400782 1.07822514 1.98129505\n",
      " 1.50029137 1.85969278 1.15630731 1.08941585 1.39486373 1.46224694\n",
      " 1.40817077 1.93866413 1.99395646 1.67567627 1.38149997 1.35621734\n",
      " 1.11695624 1.51354949 1.33422869 1.57058671 1.71278314 1.04277269\n",
      " 1.09239849 1.37321665 1.13312979 1.9206697  1.04234887 1.99310427\n",
      " 1.11425103 1.7530536  1.85694752 1.57737765 1.30666398 1.09112731\n",
      " 1.51536474 1.71920562 1.19537717 1.03579141 1.81512763 1.84169733\n",
      " 1.66343589 1.28414028 1.55342939 1.84133321 1.0505195  1.0423978\n",
      " 1.57156214 1.05705846 1.81931052 1.68097633 1.01223926 1.34101275\n",
      " 1.88326259 1.44959975 1.10455118 1.12262237 1.36104943 1.51332123\n",
      " 1.72870727 1.99828858 1.74085117 1.72710929 1.96529918 1.8634105\n",
      " 1.36657459 1.81217732 1.79233165 1.32317045 1.66428959 1.12176062\n",
      " 1.52432965 1.71354877 1.57550253 1.17475037 1.72247171 1.49074299\n",
      " 1.18821158 1.16444526 1.10595307 1.23313025 1.57317547 1.6600642\n",
      " 1.92926124 1.93218797 1.98060852 1.37332678 1.17661559 1.49744641\n",
      " 1.79270306 1.40994109 1.03984176 1.49552134 1.61627298 1.0698182\n",
      " 1.77214468 1.49923527 1.37152168 1.74204389 1.13278142 1.67658224\n",
      " 1.81900975 1.78787473 1.84719311 1.34744319 1.00311451 1.0690903\n",
      " 1.73592295 1.04444767 1.08341504 1.8749557  1.99839686 1.22345018\n",
      " 1.22124209 1.55697842 1.46576088 1.19990467 1.80324553 1.84447147\n",
      " 1.4950922  1.92195058 1.20679267 1.4241977  1.14222387 1.38178931\n",
      " 1.38595063 1.2236021  1.24223999 1.07187903 1.75219829 1.67765184\n",
      " 1.8812134  1.2813526  1.38173627 1.88491273 1.88885057 1.56737823\n",
      " 1.11550808 1.53304388 1.81236848 1.19818048 1.51344615 1.00972733\n",
      " 1.89884928 1.99639504 1.38746444 1.27411488 1.90172643 1.50955228\n",
      " 1.63536004 1.50448388 1.71459549 1.60464287 1.56166843 1.51050686\n",
      " 1.4943856  1.98148952 1.48928837 1.56200852 1.89378524 1.63795813\n",
      " 1.81684258 1.27800955 1.2078839  1.51872442 1.03372926 1.00880741\n",
      " 1.79477571 1.75112546 1.54984161 1.64163924 1.75153211 1.35841585\n",
      " 1.36392632 1.05916289 1.02594607 1.52784428 1.43770577 1.50610558\n",
      " 1.82938379 1.93260416 1.34113637 1.11054389 1.01475699 1.79986177\n",
      " 1.79239736 1.4478     1.36722134 1.87216661 1.424475   1.21395721\n",
      " 1.53037256 1.86825798 1.13486946 1.27135972 1.62574793 1.22591125\n",
      " 1.34805441 1.84094419 1.66612501 1.74896047 1.3241071  1.4261564\n",
      " 1.95770503 1.69587574 1.10879428 1.4604057  1.17748586 1.98717172\n",
      " 1.46861282 1.34664079 1.94978792 1.34655511 1.56737986 1.82925921\n",
      " 1.82587802 1.51328939 1.00874285 1.73848065 1.62345739 1.90276097\n",
      " 1.34413608 1.29857143 1.98836969 1.84869695 1.18500576 1.76066078\n",
      " 1.01276726 1.87964581 1.53736095 1.64237125 1.00187102 1.0122948\n",
      " 1.71302902 1.41872231 1.61689748 1.6725602  1.32214571 1.12355078\n",
      " 1.06861003 1.98820474 1.50883285 1.27877211 1.25766738 1.56808241\n",
      " 1.99081521 1.25636147 1.31032209 1.59143714 1.99653595 1.87078291\n",
      " 1.47705178 1.0806129  1.66472684 1.93403679 1.91127671 1.32138838\n",
      " 1.26111395 1.25860335 1.02915808 1.52887672 1.59221015 1.77998314\n",
      " 1.47177584 1.00782222 1.23335762 1.6664735  1.56452076 1.98676154\n",
      " 1.6223491  1.48215696 1.81184806 1.35992534 1.67316924 1.20682749\n",
      " 1.82310401 1.41818464 1.82416803 1.17729953 1.27266256 1.63630381\n",
      " 1.63521162 1.55441976 1.41901297 1.65222969 1.37823212 1.38959515\n",
      " 1.29431649 1.77287588 1.21194986 1.96449161 1.43170324 1.75728081\n",
      " 1.02629895 1.56108161 1.60479184 1.85871847 1.62536827 1.78028558\n",
      " 1.81752259 1.08574038 1.32057055 1.29970932 1.07492821 1.97459491\n",
      " 1.43560379 1.24347268 1.88357623 1.07520361 1.23924293 1.99059588\n",
      " 1.5605446  1.0044183  1.2728096  1.44731773 1.08572367 1.00344115\n",
      " 1.65954648 1.08231729 1.18721913 1.06954048 1.69338554 1.8847485\n",
      " 1.11689497 1.52704755 1.86529633 1.23612095 1.64491092 1.55603338\n",
      " 1.75960918 1.86775383 1.97270863 1.97758636 1.90626623 1.30636839\n",
      " 1.04022899 1.57249977 1.55950914 1.18845133 1.41944151 1.33992876\n",
      " 1.77774812 1.95308075 1.09347318 1.62329127 1.47959766 1.6742968\n",
      " 1.92487527 1.99504802 1.64560146 1.29917077 1.04865821 1.83405049\n",
      " 1.25370076 1.1332062  1.08245242 1.95911743 1.57668459 1.39634551\n",
      " 1.68454055 1.42275894 1.88398733 1.85374081 1.89931983 1.38315329\n",
      " 1.48629162 1.47037507 1.22647332 1.88771078 1.32460498 1.25359058\n",
      " 1.8061479  1.42570816 1.10053593 1.49604146 1.71333609 1.97637642\n",
      " 1.61485815 1.09624064 1.78875537 1.82883415 1.17108446 1.69022443\n",
      " 1.52444538 1.95141495 1.64937021 1.26492921 1.98917939 1.29633036\n",
      " 1.6345847  1.19248223 1.83363209 1.6583556  1.77862499 1.93544147\n",
      " 1.21323426 1.65464205 1.17582806 1.01753829 1.84996497 1.38458734\n",
      " 1.14912051 1.91523609 1.38360121 1.36851578 1.32505683 1.6659131\n",
      " 1.00750306 1.4578488  1.35352893 1.36789311 1.53788545 1.28219524\n",
      " 1.34048236 1.36790282 1.59509316 1.70490091 1.2143064  1.79103095\n",
      " 1.40095833 1.08395918 1.97203108 1.30211312 1.30857989 1.27201111\n",
      " 1.22332384 1.82558589 1.87311543 1.797708   1.55104522 1.92516252\n",
      " 1.40521718 1.69700914 1.48951734 1.31915763 1.65835681 1.96279412\n",
      " 1.64947865 1.9941188  1.91523447 1.19900523 1.80451166 1.20646729\n",
      " 1.66252001 1.13442282 1.47203153 1.5278763  1.62049641 1.12565312\n",
      " 1.61953891 1.49322224 1.99662877 1.11644111 1.27250995 1.63042255\n",
      " 1.70736264 1.25184147 1.81422475 1.86265235 1.93890404 1.70123898\n",
      " 1.29295505 1.92586517 1.9867193  1.0634463  1.41198204 1.93692628\n",
      " 1.42967095 1.8469991  1.28503008 1.0156814  1.30127109 1.75510695\n",
      " 1.86351643 1.88037493 1.74267735 1.51112983 1.07688057 1.52710683\n",
      " 1.48371779 1.44705949 1.99697618 1.45901022 1.40627807 1.89073154\n",
      " 1.63883771 1.57232364 1.86267267 1.89379214 1.51171153 1.58997272\n",
      " 1.97574994 1.77307797 1.2050478  1.9216926  1.50472928 1.57463232\n",
      " 1.32611711 1.49163589 1.87812368 1.71967089 1.92597652 1.20790969\n",
      " 1.7241427  1.70908878 1.52257985 1.88675248 1.72390994 1.65271712\n",
      " 1.93088313 1.65569277 1.64411649 1.02493504 1.41367934 1.66276196\n",
      " 1.11953414 1.86347227 1.47904372 1.79004618 1.66831002 1.77102174\n",
      " 1.5813366  1.00482655 1.41133054 1.38706009 1.28951296 1.25073547\n",
      " 1.13988665 1.25689554 1.25016872 1.16145698 1.21682646 1.23262368\n",
      " 1.26884601 1.0301088  1.58786603 1.38479896 1.53506328 1.81499515\n",
      " 1.75807769 1.42103866 1.63458492 1.49113442 1.24475018 1.62691476\n",
      " 1.78436177 1.6991979  1.35621254 1.02214715 1.52109591 1.07458396\n",
      " 1.44707982 1.44237086 1.11695905 1.60983231 1.02802689 1.14292687\n",
      " 1.35259938 1.48317316 1.69682925 1.68610842 1.75714964 1.11265231\n",
      " 1.93825337 1.59908334 1.48130169 1.59950107 1.31581056 1.68615914\n",
      " 1.73048273 1.340394   1.57507103 1.50271684 1.90408213 1.20743478\n",
      " 1.28727187 1.58976157 1.95732252 1.48022293 1.17883809 1.94941686\n",
      " 1.17654966 1.03225946 1.94114809 1.31817626 1.98264707 1.94312002\n",
      " 1.7486205  1.81360609 1.49834265 1.504321   1.93814501 1.86240366\n",
      " 1.9345006  1.50573    1.71224864 1.33481483 1.40125875 1.40390302\n",
      " 1.57926256 1.35691537 1.81874361 1.24428489 1.03664944 1.24145749\n",
      " 1.57661249 1.38160803 1.66954628 1.99620542 1.57833261 1.80921376\n",
      " 1.4730014  1.67297644 1.29577787 1.88719793 1.14913102 1.24111331\n",
      " 1.37023961 1.22581356 1.63659305 1.43080162 1.90105808 1.98903493\n",
      " 1.59172797 1.71423181 1.49978793 1.33467557 1.42762013 1.90054248\n",
      " 1.53020884 1.72036204 1.14651044 1.55219005 1.99022525 1.46525533\n",
      " 1.697281   1.55033577 1.18093869 1.89710811 1.94246781 1.31078657\n",
      " 1.88467543 1.50925611 1.25891603 1.91011817 1.32138013 1.13587599\n",
      " 1.61164793 1.62914791 1.50922103 1.52230228 1.957319   1.93714492\n",
      " 1.86123659 1.92078053 1.07860411 1.00891782 1.85136868 1.97456151\n",
      " 1.53357881 1.96273429 1.54860233 1.71275629 1.76028132 1.83642593\n",
      " 1.94946105 1.28605387 1.64379918 1.61936352 1.67014326 1.20514678\n",
      " 1.32270531 1.55282524 1.70519997 1.63342902 1.96423353 1.45079864\n",
      " 1.23195449 1.3087326  1.37551775 1.29927515 1.88925004 1.05493294\n",
      " 1.42407948 1.38185778 1.96431613 1.82674773 1.90861933 1.86265648\n",
      " 1.64974588 1.60094778 1.36372708 1.92605993 1.99156837 1.41116182\n",
      " 1.24601694 1.8808612  1.85485009 1.78206499 1.46726103 1.82818925\n",
      " 1.54334209 1.4927819  1.36976655 1.4479713  1.60247168 1.4040746\n",
      " 1.25139453 1.85075477 1.93886078 1.72812705 1.44657049 1.66076781\n",
      " 1.41206589 1.51252061 1.66420682 1.39499914 1.02912917 1.8085528\n",
      " 1.76631805 1.45521355 1.45603143 1.74554717 1.23077906 1.1198403\n",
      " 1.4065368  1.95187085 1.70825249 1.6379682  1.90292032 1.27019438\n",
      " 1.6136426  1.75537138 1.5978218  1.39674503 1.93639887 1.71499829\n",
      " 1.86169704 1.73285224 1.7856556  1.72089608 1.12559193 1.03910818\n",
      " 1.95223451 1.47224388 1.80058561 1.81877001 1.57228456 1.14003017\n",
      " 1.22481666 1.62587468 1.87599504 1.61888527 1.30534774 1.92266342\n",
      " 1.29372338 1.67189039 1.10414878 1.27768105 1.92759707 1.55264464\n",
      " 1.66319272 1.14295013 1.85002372 1.86543394 1.4278437  1.17240583\n",
      " 1.32176788 1.15267096 1.59681145 1.05627674 1.26389482 1.58507334\n",
      " 1.79596607 1.11377549 1.01101396 1.16133006 1.68254938 1.86294687\n",
      " 1.7724821  1.83562894 1.13998383 1.31191738 1.73060872 1.47138576\n",
      " 1.48872524 1.30482461 1.25149638 1.44106851 1.0213576  1.9652011\n",
      " 1.92354404 1.90068479 1.0495709  1.98518987 1.96862398 1.68955492\n",
      " 1.43740268 1.73240758 1.64660378 1.50698287 1.16756806 1.21320626\n",
      " 1.48887199 1.52220976 1.11542123 1.67869483] \n",
      " <class 'numpy.ndarray'>\n"
     ]
    },
    {
     "data": {
      "text/plain": [
       "Text(0.5, 1.0, 'Uniform Distribution')"
      ]
     },
     "execution_count": 16,
     "metadata": {},
     "output_type": "execute_result"
    },
    {
     "data": {
      "image/png": "[encoded data removed]",
      "text/plain": [
       "<Figure size 432x288 with 1 Axes>"
      ]
     },
     "metadata": {
      "needs_background": "light"
     },
     "output_type": "display_data"
    }
   ],
   "source": [
    "# Lets explore Uniform distribution\n",
    "u = np.random.default_rng().uniform(1,2,1000)  # Grabbing 500 random values from 1 to 1.99999999. \n",
    "print(u,'\\n', type(u)) # lets print our values and see what type of result is returned.\n",
    "# Below lines adapted from official documentation [37]\n",
    "count, bins, ignored = plt.hist(u, bins = 20, color = 'gold', edgecolor = 'black', density=True, linewidth=2) \n",
    "plt.plot(bins, np.ones_like(bins), linewidth=3, color='green') # Adapted from Reference 40\n",
    "plt.xlabel('Uniform Distribution')\n",
    "plt.title('Uniform Distribution', fontweight = 'heavy', family = 'serif')\n"
   ]
  },
  {
   "cell_type": "markdown",
   "id": "6b6e43c4",
   "metadata": {},
   "source": [
    "We can see from the above result the Uniform function returns values within the specified range and in the form of a numpy array with the probability density function of 1.0. "
   ]
  },
  {
   "cell_type": "code",
   "execution_count": 17,
   "id": "46d5c1be",
   "metadata": {},
   "outputs": [
    {
     "data": {
      "text/plain": [
       "array([1.48953441, 1.74339349, 1.48356902, 1.6530791 , 1.46176292,\n",
       "       1.14861602, 1.97051637, 1.85875742, 1.54745107, 1.48904937,\n",
       "       1.07133629, 1.59339666, 1.09899732, 1.69320216, 1.58940619,\n",
       "       1.25151626, 1.38201429, 1.90869474, 1.27075078, 1.9419978 ,\n",
       "       1.87071201, 1.48307793, 1.69407712, 1.2114748 , 1.29571989,\n",
       "       1.26690742, 1.05799215, 1.40108854, 1.93152471, 1.84134396,\n",
       "       1.82044805, 1.90504614, 1.36987977, 1.17329591, 1.23101381,\n",
       "       1.59774172, 1.195337  , 1.47007988, 1.60402865, 1.02818452,\n",
       "       1.96254375, 1.0867452 , 1.57834307, 1.69413671, 1.63426911,\n",
       "       1.90620701, 1.61448835, 1.97939289, 1.23014227, 1.02786408])"
      ]
     },
     "execution_count": 17,
     "metadata": {},
     "output_type": "execute_result"
    }
   ],
   "source": [
    "# Lets see what happens when we potentially input values incorrectly\n",
    "u2 = np.random.default_rng().uniform(2,1,50) # our 'Low' limit is above out 'high' limit\n",
    "u2"
   ]
  },
  {
   "cell_type": "markdown",
   "id": "c5dc18f6",
   "metadata": {},
   "source": [
    "Surprisingly, this function still returns values however we obviously cannot trust them as we have set the inputs incorrectly. Further research into this finding revealed than an earlier version of Numpy accounted for this eventuality and included the following note [41]: \n",
    "\n",
    "![highLow](Images/highLow.PNG)\n"
   ]
  },
  {
   "cell_type": "markdown",
   "id": "c6045892",
   "metadata": {},
   "source": [
    "###### random.Generator.normal\n"
   ]
  },
  {
   "cell_type": "markdown",
   "id": "36d5f9aa",
   "metadata": {},
   "source": [
    "Normal distribution (also referred to as Gaussian distribution) is a probability distribution that is perhaps most commonly seen in everyday life. The characteristic shape of the probability density function of the Normal distribution is a bell-curve, depicting the fact that data near the mean occurs more often that data farther than the mean [42,43]. In a Normal distribution, '68% of the observations are within +/- one standard deviation of the mean, 95% are within +/- two standard deviations, and 99.7% are within +- three standard deviations'[42]. \n",
    "<br>\n",
    "Normal distribution is perhaps the most commonly known form of distriubtion due to the fact many observations follow a Gaussian distibution, including [44]:\n",
    "-  Height\n",
    "-  blood pressure\n",
    "-  Exam Results\n",
    "\n",
    "In the Numpy package, <i>loc</i> refers to the mean of the distribution and <i>scale</i> refers to the standard deviation [43].\n",
    "\n",
    "![Normal](Images/normal.png)\n"
   ]
  },
  {
   "cell_type": "code",
   "execution_count": 18,
   "id": "6cd0bd2b",
   "metadata": {},
   "outputs": [],
   "source": [
    "# Investigating the Normal distribution function\n",
    "mu, sigma = 0, 0.2 # mean and standard deviation\n",
    "s = np.random.default_rng().normal(mu, sigma, 1000)"
   ]
  },
  {
   "cell_type": "code",
   "execution_count": 19,
   "id": "fce4c158",
   "metadata": {},
   "outputs": [
    {
     "name": "stdout",
     "output_type": "stream",
     "text": [
      "The mean (mu) of the values is: 0 and the standard deviation(sigma) is: 0.2\n"
     ]
    },
    {
     "data": {
      "image/png": "[encoded data removed]",
      "text/plain": [
       "<Figure size 432x288 with 1 Axes>"
      ]
     },
     "metadata": {
      "needs_background": "light"
     },
     "output_type": "display_data"
    }
   ],
   "source": [
    "# Plotting the resulting random variables\n",
    "count, bins, ignored = plt.hist(s, 35, density=True) # adapted from Reference 43.\n",
    "# The below lines of code is filling in input values for the probability density as outlines in Reference 43.\n",
    "plt.plot(bins, 1/(sigma * np.sqrt(2 * np.pi)) *\n",
    "               np.exp( - (bins - mu)**2 / (2 * sigma**2) ),\n",
    "         linewidth=3, label= 'PDF', color='blue') # pdf = Probability Density Function\n",
    "plt.xlabel('x', fontweight = 'bold')\n",
    "plt.ylabel('Density', fontweight = 'bold')\n",
    "plt.suptitle('Normal Distribution', fontsize = 15)\n",
    "plt.legend()\n",
    "print('The mean (mu) of the values is:', mu , 'and the standard deviation(sigma) is:', sigma)"
   ]
  },
  {
   "cell_type": "code",
   "execution_count": 20,
   "id": "4c406353",
   "metadata": {},
   "outputs": [
    {
     "data": {
      "text/plain": [
       "<matplotlib.legend.Legend at 0x17d749bc580>"
      ]
     },
     "execution_count": 20,
     "metadata": {},
     "output_type": "execute_result"
    },
    {
     "data": {
      "image/png": "[encoded data removed]",
      "text/plain": [
       "<Figure size 432x288 with 1 Axes>"
      ]
     },
     "metadata": {
      "needs_background": "light"
     },
     "output_type": "display_data"
    }
   ],
   "source": [
    "# Lets generate an array of values and investigate altering parameters\n",
    "mu1, sigma1 = 0, 1\n",
    "s1 = np.random.default_rng().normal(mu1, sigma1, 500)\n",
    "plt.hist(s1, bins=25, density=True, label='$\\mu=0, \\sigma=1$', color = 'green') # Lettering adapted from Reference 45.\n",
    "\n",
    "# Lets alter the mean value\n",
    "mu2, sigma2 = 4, 1\n",
    "s2 = np.random.default_rng().normal(mu2, sigma2, 500)\n",
    "# changing alpha to alter transparency [46]\n",
    "plt.hist(s2, bins=25, alpha = 0.5, density=True, label='$\\mu=4, \\sigma=1$', color = 'red')\n",
    "\n",
    "# Lets alter the standard deviation \n",
    "mu3, sigma3 = 4, 2\n",
    "s3 = np.random.default_rng().normal(mu3, sigma3, 500)\n",
    "plt.hist(s3, bins=25, density=True, alpha=0.5, label='$\\mu=4, \\sigma=2$', color = 'gold') \n",
    "\n",
    "# Lets overlay our plots\n",
    "plt.xlabel('x', size=12)\n",
    "plt.ylabel('Density', size=12)\n",
    "plt.title('Normal distribution', size=12)\n",
    "plt.legend()\n"
   ]
  },
  {
   "cell_type": "markdown",
   "id": "5ef8e0d5",
   "metadata": {},
   "source": [
    "We can clearly see how changing each parameter drastically affects the resulting array of values. In the first histogram, the peak of the curve is centered around zero while in the second histogram the values are concentrated around 4. Altering the standard deviation, as specifed in the third histogram, results in a much greater 'spread' of value distribution. \n",
    "\n",
    "***"
   ]
  },
  {
   "cell_type": "markdown",
   "id": "9f53ab01",
   "metadata": {},
   "source": [
    "###### random.Generator.poisson\n"
   ]
  },
  {
   "cell_type": "markdown",
   "id": "4636c8e8",
   "metadata": {},
   "source": [
    "At it's most basic, a Poisson distribution can be used to estimate the probability of a certain event occurring within a fixed-time interval [47]. In everyday use, Poisson distributions are used to estimate the 'number of car crashes in a city of a given size' [47]. Other common questions that can be answered using a Poisson distribution is the numbers of books sold in a week, number of storms in a city over a given time period [50]. \n",
    "\n",
    "![Poisson](Images/poisson.png)\n",
    "<i>Adapted from Reference 48</i>\n",
    "\n",
    "\n",
    "In Numpy, the Poisson function contains the <i>lam (lambda)</i> parameter, which is the 'expected number of events occurring in a fixed-time interval' [49]. As the value of <i>lambda</i> changes, the probability of the number of events occuring within a defined time interval also changes [49].\n"
   ]
  },
  {
   "cell_type": "code",
   "execution_count": 21,
   "id": "1f61d18c",
   "metadata": {},
   "outputs": [
    {
     "data": {
      "text/plain": [
       "<matplotlib.legend.Legend at 0x17d747dd9d0>"
      ]
     },
     "execution_count": 21,
     "metadata": {},
     "output_type": "execute_result"
    },
    {
     "data": {
      "image/png": "[encoded data removed]",
      "text/plain": [
       "<Figure size 432x288 with 1 Axes>"
      ]
     },
     "metadata": {
      "needs_background": "light"
     },
     "output_type": "display_data"
    }
   ],
   "source": [
    "# Exploration of the Poisson function\n",
    "\n",
    "rng = np.random.default_rng()  # Generate some random values\n",
    "\n",
    "# Let's change the value for lambda\n",
    "p = rng.poisson(1, 10000) # setting lam to 1.0, with 10000 values\n",
    "plt.hist(p, bins = 10, density = True, alpha = 0.3, color = 'red', label='$\\lambda=1$')\n",
    "p1 = rng.poisson(2, 10000) # setting lam to 2.0, with 10000 values\n",
    "plt.hist(p1, bins = 10, density = True,alpha = 1.0, color = 'blue', label='$\\lambda = 2$')\n",
    "p2 = rng.poisson(5, 10000) # setting lam to 5.0, with 10000 values\n",
    "plt.hist(p2, bins = 20, density = True, color = 'green', alpha = 0.2, label='$\\lambda = 5$')\n",
    "\n",
    "# Lets overlay our plots\n",
    "plt.xlabel(' Events', size=12)\n",
    "plt.ylabel('Probability', size=12)\n",
    "plt.title('Poisson distribution', size=12)\n",
    "plt.legend()"
   ]
  },
  {
   "cell_type": "markdown",
   "id": "16473ebc",
   "metadata": {},
   "source": [
    "Upon examination, we can see that the probability of an event occuring reaches it's peak as it approaches <i>lambda</i>.\n",
    "***"
   ]
  },
  {
   "cell_type": "markdown",
   "id": "016a9c1a",
   "metadata": {},
   "source": [
    "###### random.Generator.pareto\n",
    "\n",
    "At it's most basic, the Pareto principle details an unequal relationship between inputs and outputs, in where 80% of the consequences comes from 20% of the causes [51]. For this reason, it's also known as the '80/20 Rule' [51]. In everyday terms, we can relate this to an example of a company where 20% of the products a company sells generates 80% of the company's profits. Histroically, this observation came from the Italian economist\n",
    "[Vilfredo Pareto](https://www.econlib.org/library/Enc/bios/Pareto.html) who calculated that 80% of Italian wealth was owned by 20% of the population [52]. \n",
    "\n",
    "![Pareto](Images/pareto.png) <i>Adapted from Reference 53</i>\n",
    "\n",
    "In Numpy, there are two parameters for the pareto function: <i>a</i>, which denotes the shape of the distribution and must be positive and <i> size</i>, which denotes the shape of the output [53]. The pareto distribution is obtained by adding 1 and multiplying by the scale parameter <i>m<\\i>.\n",
    "    \n",
    "![Par_dist](Images/par_dist.png) <i>Adapted from Reference 53</i>\n"
   ]
  },
  {
   "cell_type": "code",
   "execution_count": 22,
   "id": "f9f8587c",
   "metadata": {},
   "outputs": [],
   "source": [
    "# Lets explore the Pareto distribution\n",
    "a, m = 4., 4.  # shape and mode as detailed in Reference 53\n",
    "par = (np.random.default_rng().pareto(a, 1000) + 1) * m # generating random values based on pareto"
   ]
  },
  {
   "cell_type": "code",
   "execution_count": 23,
   "id": "a48bf2a4",
   "metadata": {},
   "outputs": [
    {
     "data": {
      "text/plain": [
       "<matplotlib.legend.Legend at 0x17d74617460>"
      ]
     },
     "execution_count": 23,
     "metadata": {},
     "output_type": "execute_result"
    },
    {
     "data": {
      "image/png": "[encoded data removed]",
      "text/plain": [
       "<Figure size 432x288 with 1 Axes>"
      ]
     },
     "metadata": {
      "needs_background": "light"
     },
     "output_type": "display_data"
    }
   ],
   "source": [
    "count, bins, _ = plt.hist(par, 40, density=True) # setting variables as per official documentation [53]\n",
    "fit = a*m**a / bins**(a+1)\n",
    "plt.plot(bins, max(count)*fit/max(fit), linewidth=3, color='green', label = 'm = 4' )\n",
    "\n",
    "plt.xlabel('x', size=12)\n",
    "plt.ylabel('f(x)', size=12)\n",
    "plt.title('Pareto distribution', size=12)\n",
    "plt.legend()\n",
    "\n"
   ]
  },
  {
   "cell_type": "markdown",
   "id": "ad81e01d",
   "metadata": {},
   "source": [
    "As can be deduced from the initial introduction to Pareto distribution, we can see here the spread of a range of values within Pareto distribution. In contrast to the distributions we have examined so far where there is a 'central peak' in the data, we see here that the majority of values fall within the initial 20% range with a corresponding tailing-off for the remaining values. This 'tailing-off' phenomenon is also known as the Pareto Index or the slope [54]. "
   ]
  },
  {
   "cell_type": "markdown",
   "id": "37160bc1",
   "metadata": {},
   "source": [
    "\n",
    "***"
   ]
  },
  {
   "cell_type": "markdown",
   "id": "f7c57fe7",
   "metadata": {},
   "source": [
    "##### numpy.random.Generator.gamma\n",
    "\n",
    "In a nutshell, Gamma distribution (an aspect of the Poisson process) is primarily used to model the wait time until future events [55]. The difference between Gamma distribution and Exponential distribution is that Exponential distribution accounts for the <b>first event</b> while Gamma distribution models for the '<b>k-th</b>' event, where <i>'k'</i> denotes the shape and <i>'th'</i> denotes the scale (which accounts for where the majority of the observations will lie) [55,56]. Gamma distribution is used for continuous variables that have skewed distributions [57]. Skewness is a measure of the distortion of data from the normal distribution i.e the 'bell-shape' curve [58].\n",
    "\n",
    "In everyday life, Gamma distributions can be used to model the following: \n",
    "- Rainfall Rates\n",
    "- Life expectancies\n",
    "- Failure of electronic componants \n",
    "\n",
    "\n",
    "\n",
    "![gamma.png](Images/gamma.png)\n",
    "<i>Adapted from Reference 56</i>"
   ]
  },
  {
   "cell_type": "code",
   "execution_count": 104,
   "id": "ef4a8d00",
   "metadata": {},
   "outputs": [],
   "source": [
    "# Generate our values\n",
    "shape, scale = 2., 2.  # mean=4, std=2*sqrt(2)\n",
    "g = np.random.default_rng().gamma(shape, scale, 500)"
   ]
  },
  {
   "cell_type": "code",
   "execution_count": 105,
   "id": "3d8ee80e",
   "metadata": {},
   "outputs": [
    {
     "data": {
      "text/plain": [
       "<matplotlib.legend.Legend at 0x17d7c0251c0>"
      ]
     },
     "execution_count": 105,
     "metadata": {},
     "output_type": "execute_result"
    },
    {
     "data": {
      "image/png": "[encoded data removed]",
      "text/plain": [
       "<Figure size 432x288 with 1 Axes>"
      ]
     },
     "metadata": {
      "needs_background": "light"
     },
     "output_type": "display_data"
    }
   ],
   "source": [
    "# Investigating Gamma distribution as per Official Documentation [56]\n",
    "count, bins, ignored = plt.hist(g, 50, density=True)\n",
    "y = bins**(shape-1)*(np.exp(-bins/scale) /  \n",
    "                     (sps.gamma(shape)*scale**shape))\n",
    "plt.plot(bins, y, linewidth=2, color='blue', label = 'k = 2')  \n",
    "plt.title('Gamma distribution', fontweight = 'bold')\n",
    "plt.ylabel('Frequency')\n",
    "plt.legend()\n"
   ]
  },
  {
   "cell_type": "code",
   "execution_count": 106,
   "id": "0257dd44",
   "metadata": {},
   "outputs": [
    {
     "data": {
      "image/png": "[encoded data removed]",
      "text/plain": [
       "<Figure size 432x288 with 1 Axes>"
      ]
     },
     "metadata": {
      "needs_background": "light"
     },
     "output_type": "display_data"
    }
   ],
   "source": [
    "# Investigating the effect of altering the shape parameter\n",
    "g1 = np.random.default_rng().gamma(shape, scale, 500)\n",
    "\n",
    "# Changing shape value to 4\n",
    "shape1, scale = 4., 2.  \n",
    "count, bins, ignored = plt.hist(g1, 50, density=True)\n",
    "y1 = bins**(shape1-1)*(np.exp(-bins/scale) /  \n",
    "                     (sps.gamma(shape1)*scale**shape1))\n",
    "plt.plot(bins, y1, linewidth=2, color='blue', label = 'k = 4')  \n",
    "\n",
    "\n",
    "# Changing shape value to 2\n",
    "shape2, scale = 2., 2.  \n",
    "count, bins, ignored = plt.hist(g1, 50, density=True)\n",
    "y2 = bins**(shape2-1)*(np.exp(-bins/scale) /  \n",
    "                     (sps.gamma(shape2)*scale**shape2))\n",
    "plt.plot(bins, y2, linewidth=2, color='red', label = 'k = 2')  \n",
    "\n",
    "# Changing shape value to 0.9\n",
    "shape3, scale = 0.9, 2. \n",
    "count, bins, ignored = plt.hist(g1, 50, density=True)\n",
    "y3 = bins**(shape3-1)*(np.exp(-bins/scale) /  \n",
    "                     (sps.gamma(shape3)*scale**shape3))\n",
    "plt.plot(bins, y3, linewidth=2, color='black', label = 'k = 0.9')  \n",
    "\n",
    "# Lets overlay our plots\n",
    "plt.ylabel('Frequency', size=12)\n",
    "plt.title('Changing Shape Parameter', size=12)\n",
    "plt.legend()\n",
    "plt.grid()\n"
   ]
  },
  {
   "cell_type": "markdown",
   "id": "b181b4c3",
   "metadata": {},
   "source": [
    "We can see that altering the shape parameter decreases the overall skew. A k-value of below 1 leads to an asymptotic distribution while as the value of <i>k</i> increases, the overall skew appears to decrease. "
   ]
  },
  {
   "cell_type": "code",
   "execution_count": 107,
   "id": "bac44104",
   "metadata": {},
   "outputs": [
    {
     "data": {
      "image/png": "[encoded data removed]",
      "text/plain": [
       "<Figure size 432x288 with 1 Axes>"
      ]
     },
     "metadata": {
      "needs_background": "light"
     },
     "output_type": "display_data"
    }
   ],
   "source": [
    "# Investigating the effect of altering the scale parameter\n",
    "g2 = np.random.default_rng().gamma(shape1, scale, 500)\n",
    "\n",
    "# Changing scale value to 0.9\n",
    "shape1, scale1 = 1, 0.9 \n",
    "count, bins, ignored = plt.hist(g2, 50, density=True)\n",
    "y1 = bins**(shape1-1)*(np.exp(-bins/scale1) /  \n",
    "                     (sps.gamma(shape1)*scale1**shape1))\n",
    "plt.plot(bins, y1, linewidth=2, color='blue', label = 'scale = 0.9')  \n",
    "\n",
    "\n",
    "# Changing scale value to 1.5\n",
    "scale2 =  1.5 \n",
    "count, bins, ignored = plt.hist(g1, 50, density=True)\n",
    "y2 = bins**(shape1-1)*(np.exp(-bins/scale2) /  \n",
    "                     (sps.gamma(shape1)*scale2**shape1))\n",
    "plt.plot(bins, y2, linewidth=2, color='red', label = 'scale = 1.5')  \n",
    "\n",
    "# Changing scale value to 3\n",
    "scale3 = 3\n",
    "count, bins, ignored = plt.hist(g1, 50, density=True)\n",
    "y3 = bins**(shape1-1)*(np.exp(-bins/scale3) /  \n",
    "                     (sps.gamma(shape1)*scale3**shape1))\n",
    "plt.plot(bins, y3, linewidth=2, color='black', label = 'scale = 3')  \n",
    "\n",
    "# Lets overlay our plots\n",
    "plt.ylabel('Frequency', size=12)\n",
    "plt.title('Changing Scale Parameter', size=12)\n",
    "plt.legend()\n",
    "plt.grid()"
   ]
  },
  {
   "cell_type": "markdown",
   "id": "aafe01aa",
   "metadata": {},
   "source": [
    "Again, we can see that altering the scale parameter decreases the overall skew.\n",
    "<br>\n",
    "To finish off this process, it is also important to highlight the difference between Gamma and Poisson distribution. Gamma distribution us used to model the wait until the k-th event whereas Poisson distribution is used to model the number of events that may occur in the future [59]."
   ]
  },
  {
   "cell_type": "code",
   "execution_count": null,
   "id": "37d374b1",
   "metadata": {},
   "outputs": [],
   "source": []
  },
  {
   "cell_type": "code",
   "execution_count": 24,
   "id": "fb07caa4",
   "metadata": {},
   "outputs": [],
   "source": [
    "# Look at the differences between each one (understand what the functions do, programming level of experience)"
   ]
  },
  {
   "cell_type": "code",
   "execution_count": 26,
   "id": "bcab10af",
   "metadata": {},
   "outputs": [],
   "source": [
    "# How does PCG 64 outperfom Mersenne Twister algorithm . Melissa O Neill. Test through documentation. Formulate how to seed the algorithm so you get reproducible results from algotrithm.\n",
    "# Seeding (to do with the time on computer when code is run. Decided once and from then on numbers generated are based on that seed.)\n",
    "# Seed is the position at where you start\n"
   ]
  },
  {
   "cell_type": "code",
   "execution_count": null,
   "id": "7faeade2",
   "metadata": {},
   "outputs": [],
   "source": []
  },
  {
   "cell_type": "code",
   "execution_count": null,
   "id": "e2a79b68",
   "metadata": {},
   "outputs": [],
   "source": []
  },
  {
   "cell_type": "code",
   "execution_count": null,
   "id": "114b8ca0",
   "metadata": {},
   "outputs": [],
   "source": []
  },
  {
   "cell_type": "code",
   "execution_count": null,
   "id": "e631db7d",
   "metadata": {},
   "outputs": [],
   "source": []
  },
  {
   "cell_type": "code",
   "execution_count": null,
   "id": "c94beebe",
   "metadata": {},
   "outputs": [],
   "source": []
  }
 ],
 "metadata": {
  "kernelspec": {
   "display_name": "Python 3",
   "language": "python",
   "name": "python3"
  },
  "language_info": {
   "codemirror_mode": {
    "name": "ipython",
    "version": 3
   },
   "file_extension": ".py",
   "mimetype": "text/x-python",
   "name": "python",
   "nbconvert_exporter": "python",
   "pygments_lexer": "ipython3",
   "version": "3.8.8"
  }
 },
 "nbformat": 4,
 "nbformat_minor": 5
}
