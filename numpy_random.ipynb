{
 "cells": [
  {
   "cell_type": "markdown",
   "id": "90e3f6b1",
   "metadata": {},
   "source": [
    "# The Numpy.Random Package \n",
    "\n",
    "***\n",
    "\n",
    "![Python & Jupyter](Images/python-jupyter-notebooks.jpg)\n",
    "\n",
    "![Numpy](Images/Numpy.png)\n",
    "\n",
    "\n",
    "\n",
    "######  <i> Pictures adapted from references 1,2  </i>\n",
    "\n",
    "## Conor McCaffrey\n",
    "#### Programming for Data Analysis 2021\n",
    "[Official Documentation for the Numpy Random Package](https://numpy.org/doc/stable/reference/random/index.html)  [3] <br>\n",
    "[Click here for copy of Assignment](Images/ProgDA_Assignment.pdf)\n",
    "\n",
    "\n",
    "***"
   ]
  },
  {
   "cell_type": "markdown",
   "id": "ee2bb60d",
   "metadata": {},
   "source": [
    "## Assignment Objectives\n",
    "- Explain the overall purpose of the package.\n",
    "- Explain the use of the “Simple random data” and “Permutations” functions.\n",
    "- Explain the use and purpose of at least five “Distributions” functions.\n",
    "- Explain the use of seeds in generating pseudorandom numbers."
   ]
  },
  {
   "cell_type": "markdown",
   "id": "b606555c",
   "metadata": {},
   "source": [
    "## What is the purpose of the Numpy.Random Package?"
   ]
  },
  {
   "cell_type": "markdown",
   "id": "4d28faaa",
   "metadata": {},
   "source": [
    "###### Overview of Numpy.\n",
    "Prior to delving too deeply into the mechanics of a package, it is prudent to first understand the inherent purpose of a package. \n",
    "<br>\n",
    "- <u> Numpy</u> (an abbreviation of \"<b>Num</b>erical <b>Py</b>thon\"  [4] ) is essentially \" the fundamental package for scientific computing in Python \" [5]. This open-source package provides many resources that are of particular importance to scientific computing. According to official documentation [5], Numpy is a \"Python library that provides a multidimensional array object, various derived objects (such as masked arrays and matrices), and an assortment of routines for fast operations on arrays, including mathematical, logical, shape manipulation, sorting, selecting, I/O, discrete Fourier transforms, basic linear algebra, basic statistical operations, random simulation and much more\". \n",
    "- The core of the Numpy package is the \"array\", which is similar to a list with the main exception being that we can perform mathematical operations/arithmetic functions on arrays that are not possible on lists [6]. Lists can contain data of differing data-types while arrays are used to house elements of the same data type [7]. Upon creation, an array has a fixed size (technically immutable) in where changing elements of an array will delete the original and return a copy of the original array with whatever operation you requested, in contrast to lists, which are mutable [8,5].\n",
    "\n",
    "![Arrays](Images/arrays.png)\n",
    "###### Adapted from reference [31]\n"
   ]
  },
  {
   "cell_type": "markdown",
   "id": "ea37182c",
   "metadata": {},
   "source": [
    "###### So how does this tie in to the Numpy.Random Package?"
   ]
  },
  {
   "cell_type": "markdown",
   "id": "3de80aa7",
   "metadata": {},
   "source": [
    "Now that we have a basic overview of the Numpy package as a whole, let's examine the mechanics of the Numpy.Random package. At the highest level, the Numpy.Random package allows the production of arrays of \"pseudo-random\" numbers for downstream analyses [3]. This is acheived using what are known as a \"BitGenerator\" and a \"Generator\" [3]. BitGenerators create sequences of 32/64 random bits (based on different algorithms) which are then leveraged by Generators (taking a bit generator as an argument) to create sequences of numbers, adhering to a certain probability distribution (i.e Uniform, Normal or Binomial) [3,9]. The Generator (replacing the legacy RandomState) from the latest update of Numpy.Random uses bits provided by PCG-64 (Permuted Congruential Generator, a family of algorithms) as opposed to the legacy MT19937 (Marsenne Twister) due to enhanced statistical performence [3,10,11]. This will be covered in greater detail in the section discussing \"Seeding\". \"Seeding\" is an important concept, allowing the work to be reproducible to others attempting to examine/re-create your work."
   ]
  },
  {
   "cell_type": "markdown",
   "id": "48881a11",
   "metadata": {},
   "source": [
    "###### In Summary...\n",
    "The Numpy.Random package contains functions that faciliate the generation of arrays of pseudo-random numbers with specific probability distributions [12,13]. "
   ]
  },
  {
   "cell_type": "markdown",
   "id": "95febef1",
   "metadata": {},
   "source": [
    "***\n",
    "## Simple Random Data and Permutations"
   ]
  },
  {
   "cell_type": "markdown",
   "id": "c51cb0e6",
   "metadata": {},
   "source": [
    "In this passage I want to give an overview of \"Simple Random Data\" and \"Permutations\", as outlined in the official documentation [3]. \n",
    "<br>\n",
    "\n",
    "The Simple Random Data section outlines a set of functions that can be utilised in order to, logically, generate simple random data based on user inputs, which can of course be modified. Data types that can be returned include integers, floats, random samples from a given array and bytes [3]. The functions available for use, following the latest update, are:\n",
    "- integers(low[, high, size, dtype, endpoint]) - Return random integers from low (inclusive) to high (exclusive), or if endpoint=True, low (inclusive) to high (inclusive).\n",
    "- random([size, dtype, out]) - Return random floats in the half-open interval [0.0, 1.0).\n",
    "- choice(a[, size, replace, p, axis, shuffle]) - Generates a random sample from a given array\n",
    "- bytes(length) - Return random bytes.\n",
    "\n",
    "Permutations (coming from the word <i> permute</i> (meaning to \"alter/rearrange\" [14]), meanwhile, create random re-arrangements of the order of elements [3]. Three functions are called out in the official documentation [3]:\n",
    "- shuffle(x[, axis]) - Modify an array or sequence in-place by shuffling its contents.\n",
    "- permutation(x[, axis] - Randomly permute a sequence, or return a permuted range.\n",
    "- permuted(x[, axis, out]) -Randomly permute x along axis axis.\n",
    "\n",
    "We will cover each of these in more detail below."
   ]
  },
  {
   "cell_type": "code",
   "execution_count": 1,
   "id": "10f9c3df",
   "metadata": {},
   "outputs": [],
   "source": [
    "# To begin, let's import the packages we will require\n",
    "import numpy as np\n",
    "import pandas as pd\n",
    "import matplotlib.pyplot as plt\n",
    "import seaborn as sns\n",
    "\n",
    "# This  line-orientated magic command, as outlined in lectures, lets us display plots inline\n",
    "%matplotlib inline"
   ]
  },
  {
   "cell_type": "markdown",
   "id": "32688fd5",
   "metadata": {},
   "source": [
    "###### Numpy.Random: numpy.random.Generator.integers\n",
    "\n",
    "\n"
   ]
  },
  {
   "cell_type": "code",
   "execution_count": 2,
   "id": "e08bc352",
   "metadata": {},
   "outputs": [
    {
     "name": "stdout",
     "output_type": "stream",
     "text": [
      "This is the variable \"a\": \n",
      " [4 6 6 5 6 7 0 5 1 4 0 5 1 3 5] \n",
      " The type of the variable is: <class 'numpy.ndarray'>\n"
     ]
    },
    {
     "data": {
      "image/png": "[encoded data removed]",
      "text/plain": [
       "<Figure size 432x288 with 1 Axes>"
      ]
     },
     "metadata": {
      "needs_background": "light"
     },
     "output_type": "display_data"
    }
   ],
   "source": [
    "# Generate an array of integers\n",
    "rng = np.random.default_rng() # Call default_rng to get a new instance of a Generator, from official documentation [3]\n",
    "a =  rng.integers(8, size=15) # Up to but not including 8. Size is the shape of the array\n",
    "print('This is the variable \"a\": \\n' , a, '\\n The type of the variable is:', type(a)) \n",
    "\n",
    "# Plot our variable to demonstrate random data, adapted from reference 15\n",
    "plt.plot(a, 'b.', color = '#943126') # setting colour of datapoints [16]\n",
    "plt.title('Random Integers Demonstration', fontweight='heavy',  size=12) # Setting title and weight of title [18]\n",
    "plt.xlabel('Element Number', size=10) # Setting axis title and font size\n",
    "plt.ylabel('DataPoint', size=10)\n",
    "plt.grid(False) # Used hex value for colour [19]"
   ]
  },
  {
   "cell_type": "code",
   "execution_count": 3,
   "id": "2cbe2abd",
   "metadata": {},
   "outputs": [
    {
     "name": "stdout",
     "output_type": "stream",
     "text": [
      "This is b: \n",
      " [[5 9 8 1]\n",
      " [1 9 0 5]]\n",
      "This is c: \n",
      " [6 4 6 5 3 0 3 3 6 2]\n",
      "This is d: \n",
      " [[2 1]\n",
      " [2 2]\n",
      " [3 0]\n",
      " [2 1]\n",
      " [1 3]]\n",
      "This has caused an error\n"
     ]
    }
   ],
   "source": [
    "# Further manipulation of the integer function.\n",
    "# Generate a multi-dimensional array.\n",
    "\n",
    "# Size is structured as the following: 2x4 array\n",
    "b =  rng.integers(10, size=(2, 4))\n",
    "print('This is b: \\n' , b)\n",
    "\n",
    "# Output is a 1D array\n",
    "c = rng.integers(low = 0, high = 7, size = 10) \n",
    "print ('This is c: \\n', c)\n",
    "\n",
    "# Specifying multiple parameters\n",
    "d =  rng.integers(5, size=(5,2),  endpoint=True) # Boolean True to determine if '5' included in arrays\n",
    "print('This is d: \\n', d)\n",
    "\n",
    "# Wrapping empty function in try except block to investigate effect [17]\n",
    "try:\n",
    "    rng.integers()\n",
    "except BaseException as err:\n",
    "    print('This has caused an error')\n",
    "else:\n",
    "    print('Function still worked')\n"
   ]
  },
  {
   "cell_type": "code",
   "execution_count": 4,
   "id": "a32afd7c",
   "metadata": {},
   "outputs": [
    {
     "data": {
      "text/plain": [
       "Text(0.5, 1.0, 'Random integers from the discrete uniform distribution')"
      ]
     },
     "execution_count": 4,
     "metadata": {},
     "output_type": "execute_result"
    },
    {
     "data": {
      "image/png": "[encoded data removed]",
      "text/plain": [
       "<Figure size 432x288 with 1 Axes>"
      ]
     },
     "metadata": {
      "needs_background": "light"
     },
     "output_type": "display_data"
    }
   ],
   "source": [
    "# Plotting using the numpy.random.Generator.integers function\n",
    "x1 = rng.integers(low = 1, high=500, size = 10000) # generating random values between 1-499\n",
    "plt.hist(x1, bins = 20, color = 'green', edgecolor = 'orange') # Some decorations\n",
    "plt.xlabel('Discrete Uniform Distribution')\n",
    "plt.title('Random integers from the discrete uniform distribution', fontweight = 'heavy', family = 'serif')\n"
   ]
  },
  {
   "cell_type": "markdown",
   "id": "30604b01",
   "metadata": {},
   "source": [
    "We have shown here that the distribution of the values is uniform, as detailed in the official documentation. [20]"
   ]
  },
  {
   "cell_type": "markdown",
   "id": "13fc58a1",
   "metadata": {},
   "source": [
    "###### Numpy.Random: numpy.random.Generator.random\n"
   ]
  },
  {
   "cell_type": "markdown",
   "id": "2dfd19a5",
   "metadata": {},
   "source": [
    "This function is quite similar to the one above and is desribed in the official documentation as the following: [21]\n",
    "\n",
    "![Random.random](Images/Random.random.PNG)\n"
   ]
  },
  {
   "cell_type": "code",
   "execution_count": 5,
   "id": "925adf4b",
   "metadata": {},
   "outputs": [
    {
     "data": {
      "text/plain": [
       "array([0.97551506, 0.26549835, 0.58128987, 0.7331666 , 0.47421233,\n",
       "       0.64429675, 0.7216705 , 0.45774547, 0.58003234, 0.24016192,\n",
       "       0.2697332 , 0.36556776, 0.3095538 , 0.83791913, 0.52318109,\n",
       "       0.88787416, 0.49745003, 0.22190929, 0.97527238, 0.21123123])"
      ]
     },
     "execution_count": 5,
     "metadata": {},
     "output_type": "execute_result"
    },
    {
     "data": {
      "image/png": "[encoded data removed]",
      "text/plain": [
       "<Figure size 432x288 with 1 Axes>"
      ]
     },
     "metadata": {
      "needs_background": "light"
     },
     "output_type": "display_data"
    }
   ],
   "source": [
    "# Plotting using the numpy.random.Generator.random function\n",
    "# This function returns floats\n",
    "x2 = rng.random(size = 20) # 10 random floats\n",
    "plt.plot(x2, 'b.', color = 'green') # Some decorations\n",
    "plt.ylim(0,2.0) # setting x-axis limits\n",
    "plt.ylabel('DataPoint')\n",
    "plt.xlabel('Continuous Uniform Distribution')\n",
    "plt.title('Random integers from the continuous uniform distribution', fontweight = 'heavy', family = 'serif')\n",
    "x2"
   ]
  },
  {
   "cell_type": "markdown",
   "id": "339e1c29",
   "metadata": {},
   "source": [
    "Something intersting to note here is how the generated random numbers are all between 0.0 and 1.0. I examined this by purposefully setting the upper x-limit to 2.0 just to determine if a result above 1.0 appeared. This is evidence that the statement from the official documentaion (half-open interval) is true [21]."
   ]
  },
  {
   "cell_type": "markdown",
   "id": "3c9120f4",
   "metadata": {},
   "source": [
    "There is an interesting difference in the above functions I want to highlight. It is obvious how Numpy.integers returns integer values and how Numpy.random can return float values. Something I feel is more important to highlight between the functions is the difference between discrete and continuous distribution as a result of these mechanics. Random.integers returns values of discrete uniform distribution (where there are a finite number of outcomes), while Random.random returns values of continuous uniform distribution(where there are an infinite number of outcomes) [22]. \n",
    "\n",
    "- Thinking of this logically, if you flip a coin, you can have only two possible outcomes: Heads or Tails (i.e 1 or 0). While the outcome is random (you hope!), you can only have two possible outcomes (i.e a finite amount of outcomes). This is the basis of discrete distribution. [23] \n",
    "- Compare this to continuous distribution, where we could have an infinite number of equally likely outcomes. An example of this could be an truely random number generator, in where any value could appear just as likely as any other value an infinite number of times.\n",
    "\n",
    "![Coin](Images/Coin.jpg)\n",
    "\n",
    "###### <i> Adapted from Reference 24 </i>\n"
   ]
  },
  {
   "cell_type": "code",
   "execution_count": 6,
   "id": "a1899979",
   "metadata": {},
   "outputs": [
    {
     "data": {
      "text/plain": [
       "<matplotlib.legend.Legend at 0x1f316104f10>"
      ]
     },
     "execution_count": 6,
     "metadata": {},
     "output_type": "execute_result"
    },
    {
     "data": {
      "image/png": "[encoded data removed]",
      "text/plain": [
       "<Figure size 432x288 with 1 Axes>"
      ]
     },
     "metadata": {
      "needs_background": "light"
     },
     "output_type": "display_data"
    }
   ],
   "source": [
    "# Compare the two functions used in a scatterplot \n",
    "# Demonstate the difference between continuous and discrete uniform distribution.\n",
    "x3 = rng.integers(low = 0, high=3, size = 15) \n",
    "x4 = rng.random(size = 15) \n",
    "\n",
    "plt.plot(x3, 'x', label='discrete')\n",
    "plt.plot(x4, 'o', label='continuous')\n",
    "plt.xlabel('Cont vs Discrete', size=12, color = '#397dad')\n",
    "plt.ylabel('Value', size=12, color = '#943126')\n",
    "plt.grid(False) # dont want gridlines for this\n",
    "plt.legend()"
   ]
  },
  {
   "cell_type": "markdown",
   "id": "e9dbe7f1",
   "metadata": {},
   "source": [
    "We can clearly see from the above scatterplot the simple difference between discrete and continuous uniform distribution. For the Numpy.Random.Integers (discrete distribution) we only have the values 0,1 or 2 compared to Numpy.Random.random (continuous distribution) where we have random values between 0.0 and 1.0. "
   ]
  },
  {
   "cell_type": "markdown",
   "id": "03dcc491",
   "metadata": {},
   "source": [
    "###### Numpy.Random: numpy.random.Generator.choice\n"
   ]
  },
  {
   "cell_type": "markdown",
   "id": "313e1269",
   "metadata": {},
   "source": [
    "This function allows the user to generate a random sample from a non-empty array (if the variable is an array) or in the range of the specified integer [25]. "
   ]
  },
  {
   "cell_type": "code",
   "execution_count": 7,
   "id": "e00a43d4",
   "metadata": {},
   "outputs": [
    {
     "name": "stdout",
     "output_type": "stream",
     "text": [
      "This is the variable a: 1 \n",
      " This is b: [[ 1  2  9]\n",
      " [12 44 89]]\n"
     ]
    }
   ],
   "source": [
    "# Initial investigations into choice method\n",
    "rng = np.random.default_rng() \n",
    "a =  rng.choice(5) # generate a random integer\n",
    "# Select 2 random arrays from list with replace set to False to avoid selecting same \n",
    "b = rng.choice(([11, 4, 8], [7, 4, 9], [1, 2, 9], [12,44,89]), 2 ,replace = False)\n",
    "print('This is the variable a:' , a, '\\n This is b:' ,b)"
   ]
  },
  {
   "cell_type": "code",
   "execution_count": 8,
   "id": "5ae2e46c",
   "metadata": {},
   "outputs": [
    {
     "data": {
      "text/plain": [
       "<matplotlib.legend.Legend at 0x1f316181490>"
      ]
     },
     "execution_count": 8,
     "metadata": {},
     "output_type": "execute_result"
    },
    {
     "data": {
      "image/png": "[encoded data removed]",
      "text/plain": [
       "<Figure size 432x288 with 1 Axes>"
      ]
     },
     "metadata": {
      "needs_background": "light"
     },
     "output_type": "display_data"
    }
   ],
   "source": [
    "# Investigation into p parameter in choice method for distribution\n",
    "# We will see a non-uniform distribution in a1 due to setting probabilities\n",
    "a1 = rng.choice(5, 30, p=[0.0, 0.5, 0.0, 0.5, 0])  # adapted from reference 25\n",
    "b1 = rng.choice(5, 30)\n",
    "\n",
    "plt.plot(a1, 'x', label='Non-Uni')\n",
    "plt.plot(b1, 'o', label='Uni')\n",
    "plt.legend()"
   ]
  },
  {
   "cell_type": "markdown",
   "id": "4e81984f",
   "metadata": {},
   "source": [
    "Lets explore this probability distribution parameter a little closer"
   ]
  },
  {
   "cell_type": "code",
   "execution_count": 9,
   "id": "cc20a3d2",
   "metadata": {},
   "outputs": [
    {
     "name": "stdout",
     "output_type": "stream",
     "text": [
      "How many times each county won the Ulster Title:\n",
      "[['Antrim' 'Armagh' 'Cavan' 'Donegal' 'Down' 'Fermanagh' 'Monaghan'\n",
      "  'Tyrone']\n",
      " ['3' '5' '11' '3' '6' '3' '6' '3']]\n"
     ]
    }
   ],
   "source": [
    "# Generate a list of counties in Ulster who can win the Ulster Title for the next 40 years\n",
    "counties = ['Cavan','Fermanagh','Monaghan','Tyrone','Donegal','Down','Antrim','Armagh','Derry']\n",
    "ulsterTitle = rng.choice(counties, 40, p=[0.3, 0.1, 0.1, 0.1, 0.1, 0.1, 0.1, 0.1, 0.0], replace=True)  \n",
    "\n",
    "# Return in numerical format how many times each county wins the title\n",
    "unique_elements, counts_elements = np.unique(ulsterTitle, return_counts=True) \n",
    "print('How many times each county won the Ulster Title:') # adapted from reference 26\n",
    "print(np.asarray((unique_elements, counts_elements))) # return as an array [27]"
   ]
  },
  {
   "cell_type": "code",
   "execution_count": 10,
   "id": "77b74ab4",
   "metadata": {},
   "outputs": [
    {
     "data": {
      "image/png": "[encoded data removed]",
      "text/plain": [
       "<Figure size 648x432 with 1 Axes>"
      ]
     },
     "metadata": {
      "needs_background": "light"
     },
     "output_type": "display_data"
    }
   ],
   "source": [
    "# Lets display on a Seaborn Histogram this glorious liklihood\n",
    "# Took a long time to get aspect solution [28]\n",
    "sns.displot(ulsterTitle, color = 'blue', edgecolor = 'grey', height=6, aspect=9/6)\n",
    "plt.figsize = (170,100)\n",
    "plt.xlabel('County', fontweight = 'bold')\n",
    "plt.ylabel('Titles', fontweight = 'bold')\n",
    "plt.suptitle('Ulster Title Winners', fontsize = 15) # adding main title to histogram and setting fontsize\n",
    "plt.grid(False) \n"
   ]
  },
  {
   "cell_type": "markdown",
   "id": "6cd3446a",
   "metadata": {},
   "source": [
    "In summary, the choice function selects a random sample or samples from an array, however we can manipulate the selection by setting probabilites."
   ]
  },
  {
   "cell_type": "markdown",
   "id": "4ae41168",
   "metadata": {},
   "source": [
    "###### Numpy.Random: numpy.random.Generator.bytes\n"
   ]
  },
  {
   "cell_type": "markdown",
   "id": "12927d00",
   "metadata": {},
   "source": [
    "This function simply returns random bytes [29]:\n",
    "![Bytes](Images/Bytes.png)\n",
    "\n"
   ]
  },
  {
   "cell_type": "code",
   "execution_count": 11,
   "id": "03e29d42",
   "metadata": {},
   "outputs": [
    {
     "data": {
      "text/plain": [
       "b'\\x8a\\xfe\\xd3\\xa7\\xe9KR\\x83\\xd6\\xf2&P'"
      ]
     },
     "execution_count": 11,
     "metadata": {},
     "output_type": "execute_result"
    }
   ],
   "source": [
    "# Returning Random bytes\n",
    "np.random.bytes(12)"
   ]
  },
  {
   "cell_type": "markdown",
   "id": "4d285f38",
   "metadata": {},
   "source": [
    "###### Numpy.Random: numpy.random.Generator.shuffle\n"
   ]
  },
  {
   "cell_type": "markdown",
   "id": "97f9c9eb",
   "metadata": {},
   "source": [
    "The shuffle method within Permutations facilitates the re-ordering of contents within a sequence [30]. \n",
    "\n",
    "![Shuffle](Images/shuffle.png)\n",
    "\n",
    "\n"
   ]
  },
  {
   "cell_type": "code",
   "execution_count": 12,
   "id": "09cc5773",
   "metadata": {},
   "outputs": [
    {
     "name": "stdout",
     "output_type": "stream",
     "text": [
      "1D array: [ 7 14  0  8  5  2  1 11  9  4 10 13  6  3 12]\n",
      "We have now changed the shape of the output: \n",
      " [[6 7]\n",
      " [0 1]\n",
      " [4 5]\n",
      " [2 3]]\n",
      "Setting the axis to 1: \n",
      " [[0 1]\n",
      " [2 3]\n",
      " [4 5]\n",
      " [6 7]]\n"
     ]
    }
   ],
   "source": [
    "# Shuffle method\n",
    "input = np.arange(15)\n",
    "rng.shuffle(input) # using shuffle method\n",
    "print('1D array:', input) # printing array of shuffled results\n",
    "\n",
    "# We can also manipulate the shape of the output \n",
    "new_input = np.arange(8).reshape((4, 2)) # resulting in a 4x2 array, adapted from [30]\n",
    "rng.shuffle(new_input) \n",
    "print('We have now changed the shape of the output: \\n', new_input)\n",
    "\n",
    "# Let's look how specifying axis can alter the output \n",
    "arr = np.arange(8).reshape((4, 2))\n",
    "rng.shuffle(arr, axis=1)\n",
    "print('Setting the axis to 1: \\n', arr) # alters results by column"
   ]
  },
  {
   "cell_type": "markdown",
   "id": "a696ea10",
   "metadata": {},
   "source": [
    "It is also worth noting that when changing the value of the axis, the individual values within the axis do not change. Only the row/column as a whole changes. [30]"
   ]
  },
  {
   "cell_type": "markdown",
   "id": "be783427",
   "metadata": {},
   "source": [
    "###### Numpy.Random: numpy.random.Generator.permutation\n",
    "\n",
    "The permutation method within Permutations facilitates the re-ordering of contents within a sequence [32]. A notable difference between this method and the shuffle method is the permutation method returns a copy of the array while shuffle deals with the original array [33].\n",
    "\n",
    "![Permutation](Images/Permutation.png)\n"
   ]
  },
  {
   "cell_type": "code",
   "execution_count": 13,
   "id": "57166aa9",
   "metadata": {},
   "outputs": [
    {
     "name": "stdout",
     "output_type": "stream",
     "text": [
      "1D array: [ 5  3  9 10  2  1  8  4  7  6  0 11]\n",
      "We have now changed the shape of the output: \n",
      " [[2 3]\n",
      " [0 1]\n",
      " [4 5]\n",
      " [6 7]]\n"
     ]
    }
   ],
   "source": [
    "# Permutation method\n",
    "rng = np.random.default_rng()\n",
    "result = rng.permutation(12)\n",
    "print('1D array:', result ) # printing array of results in range of integer\n",
    "\n",
    "# Similar to the shuffle function, we can also manipulate the shape of the output \n",
    "new_perm = np.arange(8).reshape((4, 2)) # resulting in a 4x2 array, adapted from [33]\n",
    "rng.shuffle(new_perm) \n",
    "print('We have now changed the shape of the output: \\n', new_perm)"
   ]
  },
  {
   "cell_type": "code",
   "execution_count": 14,
   "id": "24f4fc5a",
   "metadata": {},
   "outputs": [
    {
     "name": "stdout",
     "output_type": "stream",
     "text": [
      "This is the original List before permutation: [1, 4, 9, 12, 15] and this is the permuted List: [15  4  1 12  9]\n",
      "This is the original_List after permutation [1, 4, 9, 12, 15]\n",
      "This is the List before shuffling: [1, 2, 3, 4, 5]\n",
      "This is the original_shuffled_List after shuffling [1, 2, 3, 4, 5]\n"
     ]
    }
   ],
   "source": [
    "# Let's explore this in-place/copy idea a little more\n",
    "\n",
    "# If x is an array, make a copy and shuffle the elements randomly\n",
    "original_List = [1,4,9,12,15]\n",
    "permuted_List = np.random.permutation(original_List)\n",
    "print('This is the original List before permutation:', original_List , 'and this is the permuted List:', permuted_List)\n",
    "print('This is the original_List after permutation', original_List)\n",
    "\n",
    "# Let's compare this to the shuffle function\n",
    "original_shuffled_List = [1,2,3,4,5]\n",
    "print('This is the List before shuffling:',original_shuffled_List)\n",
    "print('This is the original_shuffled_List after shuffling', original_shuffled_List)\n"
   ]
  },
  {
   "cell_type": "markdown",
   "id": "93133d74",
   "metadata": {},
   "source": [
    "###### Numpy.Random: numpy.random.Generator.permuted\n",
    "The permutation method within Permutations facilitates the permutation of 'x' along the axis <i>axis</i> [34]. A notable difference between this method and the shuffle method is eacxh slice in the permutated method is shuffled independently of the others.[34]\n",
    "\n",
    "\n",
    "![Permuted](Images/Permuted.png)\n",
    "\n",
    "Let's explore this."
   ]
  },
  {
   "cell_type": "code",
   "execution_count": 15,
   "id": "291fe70e",
   "metadata": {},
   "outputs": [
    {
     "name": "stdout",
     "output_type": "stream",
     "text": [
      "This is the original array: \n",
      " [[ 1  2  3  4]\n",
      " [ 5  6  7  8]\n",
      " [ 9 10 11 12]\n",
      " [13 14 15 16]\n",
      " [17 18 19 20]]\n",
      "This is the permuted array: \n",
      " [[ 1  3  4  2]\n",
      " [ 7  8  5  6]\n",
      " [ 9 11 10 12]\n",
      " [13 15 14 16]\n",
      " [20 19 17 18]]\n",
      "This is the permuted array setting axis=0:\n",
      " [[ 5 10  3 16]\n",
      " [ 9 14 19  4]\n",
      " [17  6 15  8]\n",
      " [ 1 18  7 12]\n",
      " [13  2 11 20]]\n",
      "Back to original:\n",
      " [[ 1  2  3  4]\n",
      " [ 5  6  7  8]\n",
      " [ 9 10 11 12]\n",
      " [13 14 15 16]\n",
      " [17 18 19 20]]\n",
      "This is now array_1 after setting parameter for \"out\":\n",
      " [[ 1  2  3  4]\n",
      " [ 5  6  7  8]\n",
      " [12 11  9 10]\n",
      " [13 14 15 16]\n",
      " [17 18 20 19]]\n"
     ]
    }
   ],
   "source": [
    "# Generating a test instance [34]\n",
    "rng = np.random.default_rng()\n",
    "# Creating an array\n",
    "array_1 = np.arange(1,21).reshape(5, 4)\n",
    "print('This is the original array: \\n' , array_1)\n",
    "array_2 = rng.permuted(array_1, axis=1)\n",
    "print('This is the permuted array: \\n' , array_2) # the rows have been shuffled with the original unchanged\n",
    "array_3 = rng.permuted(array_1, axis=0)\n",
    "print('This is the permuted array setting axis=0:\\n' , array_3) #columns shuffled with the original unchanged\n",
    "print('Back to original:\\n', array_1)\n",
    "# We can set 'out=array_1' to change the original (in-place change as opposed to copy change)\n",
    "rng.permuted(array_1, axis=1, out=array_1)\n",
    "print('This is now array_1 after setting parameter for \"out\":\\n',array_1)\n"
   ]
  },
  {
   "cell_type": "code",
   "execution_count": null,
   "id": "012be9a5",
   "metadata": {},
   "outputs": [],
   "source": []
  },
  {
   "cell_type": "code",
   "execution_count": null,
   "id": "dcb96a9f",
   "metadata": {},
   "outputs": [],
   "source": []
  },
  {
   "cell_type": "code",
   "execution_count": null,
   "id": "bb3fcea6",
   "metadata": {},
   "outputs": [],
   "source": []
  },
  {
   "cell_type": "markdown",
   "id": "70ac4a1d",
   "metadata": {},
   "source": [
    "***\n",
    "## Distributions\n",
    "***\n"
   ]
  },
  {
   "cell_type": "markdown",
   "id": "244bc7df",
   "metadata": {},
   "source": [
    "There are over 36 different distribution functions listed in the official documentation [3]. At it's most basic, a probability distribution 'is a table or an equation that links each outcome of a statistical experiment with its probability of occurrence' [35]. \n",
    "<br>\n",
    "<br>\n",
    "Let's take an extremely basic example of a footballer taking a penalty. There are two possible options here: the player either scores a goal or misses. Suppose the player takes two penalites (let's pretend the goalkeeper came off the line too early), there are four possible resulting outcomes (S= Scores, M= Misses) : SS, MM, SM, MS. The random variable X will represent the number of times the footballer scores and can be calculated. We can see visually that in 3 of the 4 possible outcomes the player scores at least once. We can display the probabilities of each outcome in the following table i.e. the <b>probability distribution</b>: \n",
    "<br>\n",
    "\n",
    "\n",
    "   | Number of Goals  | Probability    |\n",
    "|:-------------|:-----------|\n",
    "| 0 | 0.25       | \n",
    "| 1  | 0.5    |\n",
    "| 2  | 0.25    |\n",
    "\n",
    "<i>Table Adapted from Reference 36</i>"
   ]
  },
  {
   "cell_type": "markdown",
   "id": "ef4a2c74",
   "metadata": {},
   "source": [
    "A <b>cumulative probability</b>, meanwhile, denotes the liklihood that a random variable will fall within a certain specified range [35]. Going back to our earlier example, we can investigate the likehood of a player scoring one or less penalties. So this would be investigating the liklihood of the player scoring one penalty <u>and</u> the likehood of the player missing both penalties.\n",
    "\n",
    "P(X ≤ 1) = P(X = 0) + P(X = 1) = 0.25 + 0.50 = 0.75\n",
    " \n",
    "Now that we have a basic understanding of probabilities and distributions, let's delve a little deeper into the Distribution functions for generating random samples in Numpy."
   ]
  },
  {
   "cell_type": "markdown",
   "id": "691ba2d8",
   "metadata": {},
   "source": [
    "###### random.Generator.uniform\n",
    "\n",
    "Uniform distribution is perhaps the best distribution to initially describe as it can be considered the simplest. This form of distribution depicts an outcome where each value of a random variable is just as equally probable to any other value [38]. Thinking of this logically, lets imagine a deck of cards and you are asked to pick one. You are just as likely to draw a diamond as you are a heart and this is the same for a club and a spade. This is Uniform distribution [38]. We have already explored this topic in some detail above when describing the difference between Discrete Uniform distribution  (where there are a finite number of outcomes) and Continuous Uniform distribution (where there are an infinite number of outcomes) [22]. The probability density function (PDF), is a 'statistical expression describing the liklihood of an outcome', with the formula outlined below [39].\n",
    "\n",
    "\n",
    "![Uniform Distribution](Images/uniform_Distribution.png)\n",
    "***\n",
    "![pdf](Images/pdf.png)\n"
   ]
  },
  {
   "cell_type": "markdown",
   "id": "2f6cb55d",
   "metadata": {},
   "source": []
  },
  {
   "cell_type": "code",
   "execution_count": 16,
   "id": "b15124b0",
   "metadata": {},
   "outputs": [
    {
     "name": "stdout",
     "output_type": "stream",
     "text": [
      "[1.9328447  1.5105326  1.78631539 1.81876068 1.21310115 1.37996294\n",
      " 1.7546887  1.81561525 1.99509559 1.22772668 1.26553053 1.35769431\n",
      " 1.6509702  1.57045237 1.79550519 1.30779391 1.20688809 1.89212758\n",
      " 1.72671623 1.16927534 1.80156001 1.73395169 1.35138731 1.90061741\n",
      " 1.29136897 1.51389614 1.8129186  1.95794467 1.28482434 1.66354016\n",
      " 1.58714015 1.18618067 1.1276784  1.64115712 1.9744508  1.95788916\n",
      " 1.38513962 1.58751626 1.38743675 1.88168518 1.88720498 1.7441863\n",
      " 1.66131535 1.22538844 1.70534675 1.78947844 1.72610253 1.28696219\n",
      " 1.37148159 1.01617695 1.67878494 1.68124576 1.9981904  1.69030667\n",
      " 1.69013461 1.22358501 1.54664734 1.22808213 1.27245596 1.83585536\n",
      " 1.93056261 1.9771247  1.58013566 1.45333269 1.59409123 1.75056076\n",
      " 1.24329441 1.29268884 1.88504553 1.89287291 1.55632469 1.79188939\n",
      " 1.904853   1.35707935 1.89111995 1.37081687 1.62779391 1.37272601\n",
      " 1.57784399 1.8746248  1.8273654  1.45445624 1.19846382 1.18761072\n",
      " 1.32585267 1.08448793 1.79273155 1.13454885 1.68626014 1.38644135\n",
      " 1.17840978 1.58730103 1.45368684 1.3249596  1.18445617 1.6114342\n",
      " 1.52541552 1.49998695 1.12238249 1.71102149 1.92115037 1.25192421\n",
      " 1.83426483 1.42722749 1.65603926 1.7437574  1.30777398 1.58001962\n",
      " 1.06517072 1.69356566 1.42548264 1.51902834 1.24482398 1.62881851\n",
      " 1.2219882  1.30480577 1.47611324 1.31666165 1.88430982 1.56724707\n",
      " 1.6114779  1.41243388 1.15251416 1.9598826  1.92887701 1.29402454\n",
      " 1.00749767 1.47700176 1.53088273 1.75667423 1.66048984 1.17789661\n",
      " 1.1224888  1.93740886 1.73372204 1.13796743 1.46553174 1.66812185\n",
      " 1.13282981 1.79374914 1.6200046  1.07105962 1.45400251 1.91658409\n",
      " 1.70190599 1.72647329 1.92613381 1.07229195 1.43465508 1.42874341\n",
      " 1.84593032 1.92787261 1.29682522 1.47208809 1.8835268  1.24888007\n",
      " 1.23399291 1.83162138 1.80708316 1.16595909 1.99060976 1.24111931\n",
      " 1.98818743 1.61865808 1.30579229 1.88404212 1.32623377 1.30796413\n",
      " 1.10291085 1.81216613 1.58508365 1.60811947 1.99397233 1.87363281\n",
      " 1.52311262 1.94540686 1.47681219 1.57964771 1.49833182 1.94499419\n",
      " 1.75884457 1.3484084  1.0262947  1.8774986  1.09195426 1.93724644\n",
      " 1.95110043 1.5208492  1.56172543 1.27549851 1.23002356 1.11555906\n",
      " 1.49648884 1.28800311 1.16494045 1.54894101 1.09572161 1.24927266\n",
      " 1.32770959 1.40281149 1.31998443 1.48304957 1.93548264 1.60663987\n",
      " 1.5763257  1.91313401 1.88178765 1.38646704 1.36067148 1.28427714\n",
      " 1.14978479 1.11794163 1.97078217 1.82484052 1.64519706 1.68677475\n",
      " 1.56855894 1.65699771 1.42501164 1.44785844 1.56130067 1.89105532\n",
      " 1.5413136  1.84779607 1.23197397 1.60658798 1.22832433 1.23211606\n",
      " 1.5984395  1.26456421 1.73810655 1.49622635 1.92487071 1.77320104\n",
      " 1.98356911 1.72542449 1.25854456 1.25725739 1.67396326 1.08091957\n",
      " 1.58968469 1.76247185 1.35455976 1.96350439 1.29835267 1.34957712\n",
      " 1.08328522 1.78667512 1.29822749 1.71165483 1.64707441 1.105655\n",
      " 1.5972386  1.77316197 1.70910487 1.65112211 1.9784841  1.771086\n",
      " 1.27808584 1.22860171 1.95908303 1.89570881 1.48230651 1.64435994\n",
      " 1.47395336 1.7432728  1.19538258 1.71893873 1.87601904 1.8930037\n",
      " 1.36731718 1.64252394 1.78322966 1.50461479 1.54707941 1.75087608\n",
      " 1.49495351 1.42493439 1.57902052 1.5498542  1.97615291 1.43777794\n",
      " 1.86013963 1.82729989 1.86335077 1.9335698  1.63816997 1.25283793\n",
      " 1.16101504 1.86835146 1.58502234 1.09320966 1.67755249 1.74635673\n",
      " 1.83140306 1.48088202 1.1729168  1.4090401  1.88506158 1.99240041\n",
      " 1.83638228 1.19255415 1.70714867 1.18125772 1.23996346 1.80187802\n",
      " 1.87384619 1.94551606 1.95552456 1.37049463 1.09139785 1.35323376\n",
      " 1.78156273 1.02761709 1.84563338 1.38386708 1.92072803 1.4766334\n",
      " 1.22627901 1.07675164 1.59372031 1.90426941 1.42914411 1.70281182\n",
      " 1.08817719 1.41508416 1.08932025 1.60327254 1.91915895 1.87277674\n",
      " 1.01602463 1.79102562 1.25729301 1.6348134  1.39539515 1.58531414\n",
      " 1.1295656  1.44235941 1.98367151 1.2009933  1.18986509 1.98220447\n",
      " 1.80614159 1.99706909 1.03675174 1.20071007 1.40629518 1.65396121\n",
      " 1.12866346 1.69207033 1.55728348 1.9481414  1.9829556  1.01859061\n",
      " 1.0020214  1.50457728 1.96004126 1.77359622 1.0245617  1.07985338\n",
      " 1.72231676 1.10732014 1.46088234 1.98407873 1.99521673 1.78169185\n",
      " 1.26388634 1.94516834 1.97962615 1.78782137 1.29217517 1.4300928\n",
      " 1.09066994 1.29864238 1.59803025 1.22964697 1.30675327 1.14736926\n",
      " 1.40952124 1.28393818 1.48192875 1.34082398 1.74419896 1.13766054\n",
      " 1.87865547 1.69286884 1.67038658 1.42180073 1.7944805  1.7490543\n",
      " 1.46278228 1.97080835 1.22286261 1.8125999  1.26232439 1.84685008\n",
      " 1.67367966 1.80304324 1.66121008 1.16826441 1.91846949 1.85738294\n",
      " 1.65581379 1.92166671 1.32222635 1.13313848 1.59324381 1.97587465\n",
      " 1.4975334  1.92593186 1.02612562 1.40211022 1.37007408 1.65335465\n",
      " 1.66917011 1.13357478 1.67302362 1.85874056 1.50398862 1.85470959\n",
      " 1.76983465 1.89326512 1.12948176 1.90263252 1.42909044 1.08462324\n",
      " 1.59897331 1.1536649  1.50682744 1.49763129 1.01763974 1.46569069\n",
      " 1.21012637 1.47837898 1.83371573 1.98883476 1.3794542  1.24646708\n",
      " 1.67057392 1.60506884 1.92530046 1.83171221 1.45156215 1.9254269\n",
      " 1.81399048 1.03975014 1.58939648 1.51504411 1.93836251 1.6636887\n",
      " 1.75531413 1.70464732 1.99517936 1.86275178 1.51755845 1.38108026\n",
      " 1.51618954 1.45679265 1.05966272 1.95069822 1.94326629 1.73828596\n",
      " 1.09642744 1.41407149 1.26557312 1.19447783 1.04988747 1.92492251\n",
      " 1.44289375 1.650136   1.2696429  1.63347645 1.28031173 1.70976644\n",
      " 1.28950602 1.69537553 1.33662525 1.02588823 1.76505425 1.32465264\n",
      " 1.892319   1.49944807 1.27303816 1.82813346 1.74689465 1.76186765\n",
      " 1.48234434 1.44876735 1.58494439 1.84659707 1.90609022 1.8297192\n",
      " 1.73050306 1.15715739 1.978135   1.24104177 1.31215935 1.14651578\n",
      " 1.01142656 1.18662486 1.72866922 1.70128154 1.00649094 1.63263231\n",
      " 1.28401475 1.22334326 1.85603647 1.44654573 1.63686098 1.4964067\n",
      " 1.93745582 1.39814889 1.05469207 1.89845264 1.44184829 1.80531788\n",
      " 1.98358046 1.29825284 1.08312531 1.62279831 1.16266786 1.94502969\n",
      " 1.79002313 1.74833061 1.25790334 1.83016447 1.70916256 1.17720049\n",
      " 1.55479077 1.47890616 1.67002001 1.18901199 1.28466122 1.82833684\n",
      " 1.0948117  1.31547269 1.35148767 1.06106333 1.16702431 1.66300545\n",
      " 1.28193888 1.14503651 1.03223295 1.17427172 1.03328668 1.73026594\n",
      " 1.54774789 1.02667497 1.42964595 1.32309364 1.75466849 1.67827318\n",
      " 1.5686643  1.79919887 1.10829288 1.01804392 1.31987563 1.83366469\n",
      " 1.98526724 1.05095713 1.02478893 1.33381827 1.95104413 1.59422664\n",
      " 1.0380282  1.16805398 1.10043865 1.03675691 1.10156973 1.91619687\n",
      " 1.74125566 1.19500121 1.18764985 1.92043051 1.01670181 1.92365465\n",
      " 1.47056333 1.33804675 1.81572352 1.25892679 1.2489399  1.23904385\n",
      " 1.80023974 1.84173584 1.01588596 1.52354217 1.22838729 1.5029435\n",
      " 1.44481806 1.73208399 1.75808068 1.60035907 1.94464757 1.54099433\n",
      " 1.18746195 1.50022713 1.37278559 1.74946999 1.99524898 1.57095919\n",
      " 1.45510874 1.08220367 1.70159107 1.39724138 1.25374597 1.53775749\n",
      " 1.4463559  1.40309691 1.15806218 1.95671026 1.38102414 1.94900091\n",
      " 1.40857004 1.87958477 1.27590086 1.91506629 1.61281774 1.61387649\n",
      " 1.99024156 1.11789176 1.01889409 1.31420595 1.44138521 1.37591006\n",
      " 1.85612414 1.3428124  1.55482468 1.00162867 1.58554115 1.77348478\n",
      " 1.85998651 1.66135998 1.7230473  1.72308978 1.81348167 1.5929815\n",
      " 1.80922989 1.90684527 1.93640436 1.31377269 1.79423138 1.11897388\n",
      " 1.30763303 1.17364893 1.9831247  1.85799541 1.48348829 1.59822394\n",
      " 1.75998662 1.44035848 1.36859308 1.48875695 1.70182782 1.62336572\n",
      " 1.66607996 1.72116413 1.04344128 1.17335892 1.58452915 1.80864098\n",
      " 1.5206395  1.32030698 1.37857646 1.10086563 1.06116221 1.29759933\n",
      " 1.79251427 1.30516522 1.58126071 1.58616778 1.61164066 1.10895582\n",
      " 1.43882163 1.36422053 1.7873029  1.32011016 1.15148181 1.69089047\n",
      " 1.64153362 1.90532911 1.05463087 1.23501004 1.39881735 1.58692335\n",
      " 1.24932694 1.41763281 1.41320688 1.97436828 1.82519739 1.13645305\n",
      " 1.33809202 1.38696302 1.14780358 1.25471373 1.24698657 1.16023986\n",
      " 1.65479047 1.20131581 1.16430088 1.66705871 1.01878938 1.29194969\n",
      " 1.98347481 1.2429106  1.5623588  1.71982764 1.99019337 1.30976412\n",
      " 1.88501031 1.68142594 1.36243501 1.29393523 1.69723503 1.95553782\n",
      " 1.28887095 1.13911637 1.80457891 1.75333308 1.28341802 1.64742385\n",
      " 1.32707599 1.22302837 1.79597461 1.18902075 1.5237932  1.51075532\n",
      " 1.38740115 1.46010549 1.8699706  1.21656646 1.98778415 1.30827326\n",
      " 1.36059157 1.30946938 1.51057433 1.30958414 1.11661521 1.45158133\n",
      " 1.65545855 1.29833962 1.15406755 1.2645312  1.52750878 1.71696436\n",
      " 1.49917208 1.02268038 1.75754262 1.65819061 1.98384516 1.15247829\n",
      " 1.03943519 1.62518494 1.60344479 1.66044407 1.61423996 1.39151862\n",
      " 1.30275043 1.2637987  1.63100564 1.18361047 1.92630197 1.64067803\n",
      " 1.52949601 1.86775383 1.23638831 1.49023025 1.81299259 1.18352725\n",
      " 1.74867524 1.34118335 1.93387572 1.48678953 1.83192952 1.69373644\n",
      " 1.08284602 1.62882717 1.4480884  1.1996065  1.01576259 1.55042498\n",
      " 1.59378447 1.60729214 1.68422219 1.6299902  1.64223166 1.91774413\n",
      " 1.07579769 1.43097322 1.24738485 1.75380002 1.80124942 1.23485687\n",
      " 1.0370472  1.62212957 1.33645356 1.13216803 1.11767742 1.07158091\n",
      " 1.02307461 1.74431468 1.44442801 1.35172019 1.14641744 1.27421029\n",
      " 1.67791056 1.58602654 1.12742972 1.21539667 1.78924764 1.14258187\n",
      " 1.98673003 1.33165848 1.54857236 1.77927693 1.26960374 1.35032579\n",
      " 1.85084962 1.97765411 1.17586604 1.93120993 1.99755769 1.22364652\n",
      " 1.46156743 1.92162934 1.36366098 1.36903772 1.44749501 1.47159224\n",
      " 1.69595857 1.16161231 1.43514403 1.11134629 1.36846148 1.25643259\n",
      " 1.64626122 1.88451918 1.82082326 1.20693357 1.76856898 1.63510984\n",
      " 1.84114717 1.73821936 1.73595535 1.99348158 1.31293669 1.68602931\n",
      " 1.86836746 1.48993228 1.40457454 1.8951356  1.17001677 1.4042924\n",
      " 1.61370403 1.83950814 1.89543342 1.47093803 1.3468273  1.23540521\n",
      " 1.60135759 1.54177745 1.68913124 1.77105949 1.61177932 1.25457229\n",
      " 1.33110551 1.93352909 1.92406089 1.85944144 1.44265701 1.64742393\n",
      " 1.31412826 1.35747049 1.79013347 1.57384086 1.15176076 1.56849255\n",
      " 1.44316572 1.83643974 1.55248443 1.31509939 1.48992206 1.03371257\n",
      " 1.82253218 1.22865249 1.66980508 1.08710254 1.16168217 1.88756304\n",
      " 1.61821467 1.3229483  1.78694047 1.8890992  1.78246943 1.05482763\n",
      " 1.75559105 1.33049157 1.34630517 1.13858985 1.52978027 1.17634192\n",
      " 1.45700981 1.60168297 1.68301433 1.72608649 1.41141566 1.33860162\n",
      " 1.94407878 1.30124177 1.8775779  1.04790751 1.10813786 1.15304405\n",
      " 1.16324151 1.18501303 1.17690918 1.06723636 1.59007458 1.70439848\n",
      " 1.94152031 1.20835109 1.99944905 1.75409976 1.19115911 1.7372083\n",
      " 1.67310254 1.44046859 1.68041929 1.26287688 1.01773099 1.90416462\n",
      " 1.39527986 1.86223834 1.83886288 1.60040401 1.19810206 1.43279428\n",
      " 1.0332883  1.5334926  1.39347678 1.82904813 1.05702078 1.52241625\n",
      " 1.05106577 1.93392679 1.33612063 1.36769617 1.93080265 1.52817204\n",
      " 1.17175362 1.52025394 1.36208299 1.28643737 1.71385009 1.01966406\n",
      " 1.79493883 1.2622165  1.26944418 1.61054541 1.70210939 1.64039351\n",
      " 1.43377176 1.58223769 1.17010768 1.03695081 1.26773966 1.6933802\n",
      " 1.67806303 1.08486761 1.79348354 1.37089811 1.12837218 1.39896802\n",
      " 1.62169484 1.93766796 1.11336068 1.05167425 1.61440846 1.17757486\n",
      " 1.4437313  1.69587895 1.81929015 1.9064311  1.17158769 1.90387583\n",
      " 1.83774001 1.14944986 1.34488275 1.55809686 1.34591044 1.92780343\n",
      " 1.24851015 1.85434233 1.28049019 1.79489548 1.34236321 1.22627226\n",
      " 1.49992911 1.31984864 1.64253446 1.30543096] \n",
      " <class 'numpy.ndarray'>\n"
     ]
    },
    {
     "data": {
      "text/plain": [
       "Text(0.5, 1.0, 'Uniform Distribution')"
      ]
     },
     "execution_count": 16,
     "metadata": {},
     "output_type": "execute_result"
    },
    {
     "data": {
      "image/png": "[encoded data removed]",
      "text/plain": [
       "<Figure size 432x288 with 1 Axes>"
      ]
     },
     "metadata": {
      "needs_background": "light"
     },
     "output_type": "display_data"
    }
   ],
   "source": [
    "# Lets explore Uniform distribution\n",
    "u = np.random.default_rng().uniform(1,2,1000)  # Grabbing 500 random values from 1 to 1.99999999. \n",
    "print(u,'\\n', type(u)) # lets print our values and see what type of result is returned.\n",
    "# Below lines adapted from official documentation [37]\n",
    "count, bins, ignored = plt.hist(u, bins = 20, color = 'gold', edgecolor = 'black', density=True, linewidth=2) \n",
    "plt.plot(bins, np.ones_like(bins), linewidth=3, color='green') # Adapted from Reference 40\n",
    "plt.xlabel('Uniform Distribution')\n",
    "plt.title('Uniform Distribution', fontweight = 'heavy', family = 'serif')\n"
   ]
  },
  {
   "cell_type": "markdown",
   "id": "6b6e43c4",
   "metadata": {},
   "source": [
    "We can see from the above result the Uniform function returns values within the specified range and in the form of a numpy array with the probability density function of 1.0. "
   ]
  },
  {
   "cell_type": "code",
   "execution_count": 17,
   "id": "46d5c1be",
   "metadata": {},
   "outputs": [
    {
     "data": {
      "text/plain": [
       "array([1.71455836, 1.12747162, 1.4067056 , 1.04973426, 1.32416321,\n",
       "       1.34183671, 1.39275223, 1.71226577, 1.5392302 , 1.15950647,\n",
       "       1.42291848, 1.93856859, 1.14410397, 1.32457607, 1.74759694,\n",
       "       1.20507315, 1.651721  , 1.2778247 , 1.94887636, 1.19646185,\n",
       "       1.10867216, 1.00207491, 1.32690232, 1.75193927, 1.60904716,\n",
       "       1.80853674, 1.42375482, 1.09512372, 1.37538423, 1.24911376,\n",
       "       1.79103453, 1.62984959, 1.53773449, 1.29285771, 1.59088655,\n",
       "       1.67264248, 1.4354439 , 1.91815061, 1.68899638, 1.9362582 ,\n",
       "       1.22141144, 1.73649134, 1.79961298, 1.60085837, 1.77920304,\n",
       "       1.41178429, 1.96131596, 1.70935706, 1.87655222, 1.57953442])"
      ]
     },
     "execution_count": 17,
     "metadata": {},
     "output_type": "execute_result"
    }
   ],
   "source": [
    "# Lets see what happens when we potentially input values incorrectly\n",
    "u2 = np.random.default_rng().uniform(2,1,50) # our 'Low' limit is above out 'high' limit\n",
    "u2"
   ]
  },
  {
   "cell_type": "markdown",
   "id": "c5dc18f6",
   "metadata": {},
   "source": [
    "Surprisingly, this function still returns values however we obviously cannot trust them as we have set the inputs incorrectly. Further research into this finding revealed than an earlier version of Numpy accounted for this eventuality and included the following note [41]: \n",
    "\n",
    "![highLow](Images/highLow.PNG)\n"
   ]
  },
  {
   "cell_type": "markdown",
   "id": "c6045892",
   "metadata": {},
   "source": [
    "###### random.Generator.normal\n"
   ]
  },
  {
   "cell_type": "markdown",
   "id": "36d5f9aa",
   "metadata": {},
   "source": [
    "Normal distribution (also referred to as Gaussian distribution) is a probability distribution that is perhaps most commonly seen in everyday life. The characteristic shape of the probability density function of the Normal distribution is a bell-curve, depicting the fact that data near the mean occurs more often that data farther than the mean [42,43]. In a Normal distribution, '68% of the observations are within +/- one standard deviation of the mean, 95% are within +/- two standard deviations, and 99.7% are within +- three standard deviations'[42]. \n",
    "<br>\n",
    "Normal distribution is perhaps the most commonly known form of distriubtion due to the fact many observations follow a Gaussian distibution, including [44]:\n",
    "-  Height\n",
    "-  blood pressure\n",
    "-  Exam Results\n",
    "\n",
    "In the Numpy package, <i>loc</i> refers to the mean of the distribution and <i>scale</i> refers to the standard deviation [43].\n",
    "\n",
    "![Normal](Images/normal.png)\n"
   ]
  },
  {
   "cell_type": "code",
   "execution_count": 51,
   "id": "6cd0bd2b",
   "metadata": {},
   "outputs": [],
   "source": [
    "# Investigating the Normal distribution function\n",
    "mu, sigma = 0, 0.2 # mean and standard deviation\n",
    "s = np.random.default_rng().normal(mu, sigma, 1000)"
   ]
  },
  {
   "cell_type": "code",
   "execution_count": 50,
   "id": "fce4c158",
   "metadata": {},
   "outputs": [
    {
     "name": "stdout",
     "output_type": "stream",
     "text": [
      "The mean (mu) of the values is: 0 and the standard deviation(sigma) is: 0.2\n"
     ]
    },
    {
     "data": {
      "image/png": "[encoded data removed]",
      "text/plain": [
       "<Figure size 432x288 with 1 Axes>"
      ]
     },
     "metadata": {
      "needs_background": "light"
     },
     "output_type": "display_data"
    }
   ],
   "source": [
    "# Plotting the resulting random variables\n",
    "count, bins, ignored = plt.hist(s, 35, density=True) # adapted from Reference 43.\n",
    "# The below lines of code is filling in input values for the probability density as outlines in Reference 43.\n",
    "plt.plot(bins, 1/(sigma * np.sqrt(2 * np.pi)) *\n",
    "               np.exp( - (bins - mu)**2 / (2 * sigma**2) ),\n",
    "         linewidth=3, label= 'PDF', color='blue') # pdf = Probability Density Function\n",
    "plt.xlabel('x', fontweight = 'bold')\n",
    "plt.ylabel('Density', fontweight = 'bold')\n",
    "plt.suptitle('Normal Distribution', fontsize = 15)\n",
    "plt.legend()\n",
    "print('The mean (mu) of the values is:', mu , 'and the standard deviation(sigma) is:', sigma)"
   ]
  },
  {
   "cell_type": "code",
   "execution_count": 20,
   "id": "4c406353",
   "metadata": {},
   "outputs": [
    {
     "data": {
      "text/plain": [
       "<matplotlib.legend.Legend at 0x1f3165a7d90>"
      ]
     },
     "execution_count": 20,
     "metadata": {},
     "output_type": "execute_result"
    },
    {
     "data": {
      "image/png": "[encoded data removed]",
      "text/plain": [
       "<Figure size 432x288 with 1 Axes>"
      ]
     },
     "metadata": {
      "needs_background": "light"
     },
     "output_type": "display_data"
    }
   ],
   "source": [
    "# Lets generate an array of values and investigate altering parameters\n",
    "mu1, sigma1 = 0, 1\n",
    "s1 = np.random.default_rng().normal(mu1, sigma1, 500)\n",
    "plt.hist(s1, bins=25, density=True, label='$\\mu=0, \\sigma=1$', color = 'green') # Lettering adapted from Reference 45.\n",
    "\n",
    "# Lets alter the mean value\n",
    "mu2, sigma2 = 4, 1\n",
    "s2 = np.random.default_rng().normal(mu2, sigma2, 500)\n",
    "# changing alpha to alter transparency [46]\n",
    "plt.hist(s2, bins=25, alpha = 0.5, density=True, label='$\\mu=4, \\sigma=1$', color = 'red')\n",
    "\n",
    "# Lets alter the standard deviation \n",
    "mu3, sigma3 = 4, 2\n",
    "s3 = np.random.default_rng().normal(mu3, sigma3, 500)\n",
    "plt.hist(s3, bins=25, density=True, alpha=0.5, label='$\\mu=4, \\sigma=2$', color = 'gold') \n",
    "\n",
    "# Lets overlay our plots\n",
    "plt.xlabel('x', size=12)\n",
    "plt.ylabel('Density', size=12)\n",
    "plt.title('Normal distribution', size=12)\n",
    "plt.legend()\n"
   ]
  },
  {
   "cell_type": "markdown",
   "id": "5ef8e0d5",
   "metadata": {},
   "source": [
    "We can clearly see how changing each parameter drastically affects the resulting array of values. In the first histogram, the peak of the curve is centered around zero while in the second histogram the values are concentrated around 4. Altering the standard deviation, as specifed in the third histogram, results in a much greater 'spread' of value distribution. \n",
    "\n",
    "***"
   ]
  },
  {
   "cell_type": "markdown",
   "id": "9f53ab01",
   "metadata": {},
   "source": [
    "###### random.Generator.poisson\n"
   ]
  },
  {
   "cell_type": "markdown",
   "id": "4636c8e8",
   "metadata": {},
   "source": [
    "At it's most basic, a Poisson distribution can be used to estimate the probability of a certain event occurring within a fixed-time interval [47]. In everyday use, Poisson distributions are used to estimate the 'number of car crashes in a city of a given size' [47]. Other common questions that can be answered using a Poisson distribution is the numbers of books sold in a week, number of storms in a city over a given time period [50]. \n",
    "\n",
    "![Poisson](Images/poisson.png)\n",
    "<i>Adapted from Reference 48</i>\n",
    "\n",
    "\n",
    "In Numpy, the Poisson function contains the <i>lam (lambda)</i> parameter, which is the 'expected number of events occurring in a fixed-time interval' [49]. As the value of <i>lambda</i> changes, the probability of the number of events occuring within a defined time interval also changes [49].\n"
   ]
  },
  {
   "cell_type": "code",
   "execution_count": 59,
   "id": "1f61d18c",
   "metadata": {},
   "outputs": [
    {
     "data": {
      "text/plain": [
       "<matplotlib.legend.Legend at 0x1f319ff3580>"
      ]
     },
     "execution_count": 59,
     "metadata": {},
     "output_type": "execute_result"
    },
    {
     "data": {
      "image/png": "[encoded data removed]",
      "text/plain": [
       "<Figure size 432x288 with 1 Axes>"
      ]
     },
     "metadata": {
      "needs_background": "light"
     },
     "output_type": "display_data"
    }
   ],
   "source": [
    "# Exploration of the Poisson function\n",
    "\n",
    "rng = np.random.default_rng()  # Generate some random values\n",
    "\n",
    "# Let's change the value for lambda\n",
    "p = rng.poisson(1, 10000) # setting lam to 1.0, with 10000 values\n",
    "plt.hist(p, bins = 10, density = True, alpha = 0.3, color = 'red', label='$\\lambda=1$')\n",
    "p1 = rng.poisson(2, 10000) # setting lam to 2.0, with 10000 values\n",
    "plt.hist(p1, bins = 10, density = True,alpha = 1.0, color = 'blue', label='$\\lambda = 2$')\n",
    "p2 = rng.poisson(5, 10000) # setting lam to 5.0, with 10000 values\n",
    "plt.hist(p2, bins = 20, density = True, color = 'green', alpha = 0.2, label='$\\lambda = 5$')\n",
    "\n",
    "# Lets overlay our plots\n",
    "plt.xlabel(' Events', size=12)\n",
    "plt.ylabel('Probability', size=12)\n",
    "plt.title('Poisson distribution', size=12)\n",
    "plt.legend()"
   ]
  },
  {
   "cell_type": "markdown",
   "id": "16473ebc",
   "metadata": {},
   "source": [
    "Upon examination, we can see that the probability of an event occuring reaches it's peak as it approaches <i>lambda</i>.\n",
    "***"
   ]
  },
  {
   "cell_type": "markdown",
   "id": "016a9c1a",
   "metadata": {},
   "source": [
    "###### random.Generator.pareto\n",
    "\n",
    "At it's most basic, the Pareto principle details an unequal relationship between inputs and outputs, in where 80% of the consequences comes from 20% of the causes [51]. For this reason, it's also known as the '80/20 Rule' [51]. In everyday terms, we can relate this to an example of a company where 20% of the products a company sells generates 80% of the company's profits. Histroically, this observation came from the Italian economist\n",
    "[Vilfredo Pareto](https://www.econlib.org/library/Enc/bios/Pareto.html) who calculated that 80% of Italian wealth was owned by 20% of the population [52]. \n",
    "\n",
    "![Pareto](Images/pareto.png) <i>Adapted from Reference 53</i>\n",
    "\n",
    "In Numpy, there are two parameters for the pareto function: <i>a</i>, which denotes the shape of the distribution and must be positive and <i> size</i>, which denotes the shape of the output [53]. The pareto distribution is obtained by adding 1 and multiplying by the scale parameter <i>m<\\i>.\n",
    "    \n",
    "![Par_dist](Images/par_dist.png) <i>Adapted from Reference 53</i>\n"
   ]
  },
  {
   "cell_type": "code",
   "execution_count": 81,
   "id": "f9f8587c",
   "metadata": {},
   "outputs": [],
   "source": [
    "# Lets explore the Pareto distribution\n",
    "a, m = 4., 4.  # shape and mode as detailed in Reference 53\n",
    "par = (np.random.default_rng().pareto(a, 1000) + 1) * m # generating random values based on pareto"
   ]
  },
  {
   "cell_type": "code",
   "execution_count": 83,
   "id": "a48bf2a4",
   "metadata": {},
   "outputs": [
    {
     "data": {
      "text/plain": [
       "<matplotlib.legend.Legend at 0x1f31a39bbb0>"
      ]
     },
     "execution_count": 83,
     "metadata": {},
     "output_type": "execute_result"
    },
    {
     "data": {
      "image/png": "[encoded data removed]",
      "text/plain": [
       "<Figure size 432x288 with 1 Axes>"
      ]
     },
     "metadata": {
      "needs_background": "light"
     },
     "output_type": "display_data"
    }
   ],
   "source": [
    "count, bins, _ = plt.hist(par, 40, density=True) # setting variables as per official documentation [53]\n",
    "fit = a*m**a / bins**(a+1)\n",
    "plt.plot(bins, max(count)*fit/max(fit), linewidth=3, color='green', label = 'm = 4' )\n",
    "\n",
    "plt.xlabel('x', size=12)\n",
    "plt.ylabel('f(x)', size=12)\n",
    "plt.title('Pareto distribution', size=12)\n",
    "plt.legend()\n",
    "\n"
   ]
  },
  {
   "cell_type": "markdown",
   "id": "ad81e01d",
   "metadata": {},
   "source": [
    "As can be deduced from the initial introduction to Pareto distribution, we can see here the spread of a range of values within Pareto distribution. In contrast to the distributions we have examined so far where there is a 'central peak' in the data, we see here that the majority of values fall within the initial 20% range with a corresponding tailing-off for the remaining values. This 'tailing-off' phenomenon is also known as the Pareto Index or the slope [54]. "
   ]
  },
  {
   "cell_type": "markdown",
   "id": "37160bc1",
   "metadata": {},
   "source": [
    "\n",
    "***"
   ]
  },
  {
   "cell_type": "code",
   "execution_count": null,
   "id": "8ba680f7",
   "metadata": {},
   "outputs": [],
   "source": []
  },
  {
   "cell_type": "markdown",
   "id": "a1b814e7",
   "metadata": {},
   "source": []
  },
  {
   "cell_type": "code",
   "execution_count": null,
   "id": "0257dd44",
   "metadata": {},
   "outputs": [],
   "source": []
  },
  {
   "cell_type": "code",
   "execution_count": null,
   "id": "79ce34c7",
   "metadata": {},
   "outputs": [],
   "source": []
  },
  {
   "cell_type": "markdown",
   "id": "9ae0e841",
   "metadata": {},
   "source": []
  },
  {
   "cell_type": "code",
   "execution_count": null,
   "id": "bac44104",
   "metadata": {},
   "outputs": [],
   "source": []
  },
  {
   "cell_type": "code",
   "execution_count": null,
   "id": "23c1593a",
   "metadata": {},
   "outputs": [],
   "source": []
  },
  {
   "cell_type": "code",
   "execution_count": null,
   "id": "37d374b1",
   "metadata": {},
   "outputs": [],
   "source": []
  },
  {
   "cell_type": "code",
   "execution_count": 21,
   "id": "fb07caa4",
   "metadata": {},
   "outputs": [],
   "source": [
    "# Look at the differences between each one (understand what the functions do, programming level of experience)"
   ]
  },
  {
   "cell_type": "code",
   "execution_count": 22,
   "id": "54e99eec",
   "metadata": {},
   "outputs": [],
   "source": [
    "# Seeding (to do with the time on computer when code is run. Decided once and from then on numbers generated are based on that seed.)\n",
    "# Seed is the position at where you start\n",
    "\n",
    "\n"
   ]
  },
  {
   "cell_type": "code",
   "execution_count": 23,
   "id": "bcab10af",
   "metadata": {},
   "outputs": [],
   "source": [
    "# How does PCG 64 outperfom Mersenne Twister algorithm . Melissa O Neill. Test through documentation. Formulate how to seed the algorithm so you get reproducible results from algotrithm."
   ]
  },
  {
   "cell_type": "code",
   "execution_count": null,
   "id": "7faeade2",
   "metadata": {},
   "outputs": [],
   "source": []
  },
  {
   "cell_type": "code",
   "execution_count": null,
   "id": "e2a79b68",
   "metadata": {},
   "outputs": [],
   "source": []
  },
  {
   "cell_type": "code",
   "execution_count": null,
   "id": "114b8ca0",
   "metadata": {},
   "outputs": [],
   "source": []
  },
  {
   "cell_type": "code",
   "execution_count": null,
   "id": "e631db7d",
   "metadata": {},
   "outputs": [],
   "source": []
  },
  {
   "cell_type": "code",
   "execution_count": null,
   "id": "c94beebe",
   "metadata": {},
   "outputs": [],
   "source": []
  }
 ],
 "metadata": {
  "kernelspec": {
   "display_name": "Python 3",
   "language": "python",
   "name": "python3"
  },
  "language_info": {
   "codemirror_mode": {
    "name": "ipython",
    "version": 3
   },
   "file_extension": ".py",
   "mimetype": "text/x-python",
   "name": "python",
   "nbconvert_exporter": "python",
   "pygments_lexer": "ipython3",
   "version": "3.8.8"
  }
 },
 "nbformat": 4,
 "nbformat_minor": 5
}
