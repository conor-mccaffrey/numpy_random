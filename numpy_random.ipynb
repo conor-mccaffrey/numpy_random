{
 "cells": [
  {
   "cell_type": "markdown",
   "id": "90e3f6b1",
   "metadata": {},
   "source": [
    "# The Numpy.Random Package \n",
    "\n",
    "***\n",
    "\n",
    "![Python & Jupyter](Images/python-jupyter-notebooks.jpg)\n",
    "\n",
    "![Numpy](Images/Numpy.png)\n",
    "\n",
    "\n",
    "\n",
    "######  <i> Pictures adapted from references 1,2  </i>\n",
    "\n",
    "## Conor McCaffrey\n",
    "#### Programming for Data Analysis 2021\n",
    "[Official Documentation for the Numpy Random Package](https://numpy.org/doc/stable/reference/random/index.html)  [3] <br>\n",
    "[Click here for copy of Assignment](Images/ProgDA_Assignment.pdf)\n",
    "\n",
    "\n",
    "***"
   ]
  },
  {
   "cell_type": "markdown",
   "id": "ee2bb60d",
   "metadata": {},
   "source": [
    "## Assignment Objectives\n",
    "- Explain the overall purpose of the package.\n",
    "- Explain the use of the “Simple random data” and “Permutations” functions.\n",
    "- Explain the use and purpose of at least five “Distributions” functions.\n",
    "- Explain the use of seeds in generating pseudorandom numbers."
   ]
  },
  {
   "cell_type": "markdown",
   "id": "b606555c",
   "metadata": {},
   "source": [
    "## What is the purpose of the Numpy.Random Package?"
   ]
  },
  {
   "cell_type": "markdown",
   "id": "4d28faaa",
   "metadata": {},
   "source": [
    "###### Overview of Numpy.\n",
    "Prior to delving too deeply into the mechanics of a package, it is prudent to first understand the inherent purpose of a package. \n",
    "<br>\n",
    "- <u> Numpy</u> (an abbreviation of \"<b>Num</b>erical <b>Py</b>thon\"  [4] ) is essentially \" the fundamental package for scientific computing in Python \" [5]. This open-source package provides many resources that are of particular importance to scientific computing. According to official documentation [5], Numpy is a \"Python library that provides a multidimensional array object, various derived objects (such as masked arrays and matrices), and an assortment of routines for fast operations on arrays, including mathematical, logical, shape manipulation, sorting, selecting, I/O, discrete Fourier transforms, basic linear algebra, basic statistical operations, random simulation and much more\". \n",
    "- The core of the Numpy package is the \"array\", which is similar to a list with the main exception being that we can perform mathematical operations/arithmetic functions on arrays that are not possible on lists [6]. Lists can contain data of differing data-types while arrays are used to house elements of the same data type [7]. Upon creation, an array has a fixed size (technically immutable) in where changing elements of an array will delete the original and return a copy of the original array with whatever operation you requested, in contrast to lists, which are mutable [8,5].\n"
   ]
  },
  {
   "cell_type": "markdown",
   "id": "ea37182c",
   "metadata": {},
   "source": [
    "###### So how does this tie in to the Numpy.Random Package?"
   ]
  },
  {
   "cell_type": "markdown",
   "id": "3de80aa7",
   "metadata": {},
   "source": [
    "Now that we have a basic overview of the Numpy package as a whole, let's examine the mechanics of the Numpy.Random package. At the highest level, the Numpy.Random package allows the production of arrays of \"pseudo-random\" numbers for downstream analyses [3]. This is acheived using what are known as a \"BitGenerator\" and a \"Generator\" [3]. BitGenerators create sequences of 32/64 random bits (based on different algorithms) which are then leveraged by Generators (taking a bit generator as an argument) to create sequences of numbers, adhering to a certain probability distribution (i.e Uniform, Normal or Binomial) [3,9]. The Generator (replacing the legacy RandomState) from the latest update of Numpy.Random uses bits provided by PCG-64 (Permuted Congruential Generator, a family of algorithms) as opposed to the legacy MT19937 (Marsenne Twister) due to enhanced statistical performence [3,10,11]. This will be covered in greater detail in the section discussing \"Seeding\". \"Seeding\" is an important concept, allowing the work to be reproducible to others attempting to examine/re-create your work."
   ]
  },
  {
   "cell_type": "markdown",
   "id": "48881a11",
   "metadata": {},
   "source": [
    "###### In Summary...\n",
    "The Numpy.Random package contains functions that faciliate the generation of arrays of pseudo-random numbers with specific probability distributions [12,13]. "
   ]
  },
  {
   "cell_type": "markdown",
   "id": "95febef1",
   "metadata": {},
   "source": [
    "***\n",
    "## Simple Random Data and Permutations"
   ]
  },
  {
   "cell_type": "markdown",
   "id": "c51cb0e6",
   "metadata": {},
   "source": [
    "In this passage I want to give an overview of \"Simple Random Data\" and \"Permutations\", as outlined in the official documentation [3]. \n",
    "<br>\n",
    "\n",
    "The Simple Random Data section outlines a set of functions that can be utilised in order to, logically, generate simple random data based on user inputs, which can of course be modified. Data types that can be returned include integers, floats, random samples from a given array and bytes [3]. The functions available for use, following the latest update, are:\n",
    "- integers(low[, high, size, dtype, endpoint]) - Return random integers from low (inclusive) to high (exclusive), or if endpoint=True, low (inclusive) to high (inclusive).\n",
    "- random([size, dtype, out]) - Return random floats in the half-open interval [0.0, 1.0).\n",
    "- choice(a[, size, replace, p, axis, shuffle]) - Generates a random sample from a given array\n",
    "- bytes(length) - Return random bytes.\n",
    "\n",
    "Permutations (coming from the word <i> permute</i> (meaning to \"alter/rearrange\" [14]), meanwhile, create random re-arrangements of the order of elements [3]. Three functions are called out in the official documentation [3]:\n",
    "- shuffle(x[, axis]) - Modify an array or sequence in-place by shuffling its contents.\n",
    "- permutation(x[, axis] - Randomly permute a sequence, or return a permuted range.\n",
    "- permuted(x[, axis, out]) -Randomly permute x along axis axis.\n",
    "\n",
    "We will cover each of these in more detail below."
   ]
  },
  {
   "cell_type": "code",
   "execution_count": 92,
   "id": "10f9c3df",
   "metadata": {},
   "outputs": [],
   "source": [
    "# To begin, let's import the packages we will require\n",
    "import numpy as np\n",
    "import pandas as pd\n",
    "import matplotlib.pyplot as plt\n",
    "import seaborn as sns\n",
    "\n",
    "# This  line-orientated magic command, as outlined in lectures, lets us display plots inline\n",
    "%matplotlib inline"
   ]
  },
  {
   "cell_type": "markdown",
   "id": "32688fd5",
   "metadata": {},
   "source": [
    "###### Numpy.Random: numpy.random.Generator.integers\n",
    "\n",
    "\n"
   ]
  },
  {
   "cell_type": "code",
   "execution_count": 68,
   "id": "e08bc352",
   "metadata": {},
   "outputs": [
    {
     "name": "stdout",
     "output_type": "stream",
     "text": [
      "This is the variable \"a\": \n",
      " [4 2 6 7 3 5 0 5 4 0 5 4 1 4 6] \n",
      " The type of the variable is: <class 'numpy.ndarray'>\n"
     ]
    },
    {
     "data": {
      "image/png": "[encoded data removed]",
      "text/plain": [
       "<Figure size 432x288 with 1 Axes>"
      ]
     },
     "metadata": {
      "needs_background": "light"
     },
     "output_type": "display_data"
    }
   ],
   "source": [
    "# Generate an array of integers\n",
    "rng = np.random.default_rng() # Call default_rng to get a new instance of a Generator, from official documentation [3]\n",
    "a =  rng.integers(8, size=15) # Up to but not including 8. Size is the shape of the array\n",
    "print('This is the variable \"a\": \\n' , a, '\\n The type of the variable is:', type(a)) \n",
    "\n",
    "# Plot our variable to demonstrate random data, adapted from reference 15\n",
    "plt.plot(a, 'b.', color = '#943126') # setting colour of datapoints [16]\n",
    "plt.title('Random Integers Demonstration', fontweight='heavy',  size=12) # Setting title and weight of title [18]\n",
    "plt.xlabel('Element Number', size=10) # Setting axis title and font size\n",
    "plt.ylabel('DataPoint', size=10)\n",
    "plt.grid(color = '#BEBEBE') # Used hex value for colour [19]"
   ]
  },
  {
   "cell_type": "code",
   "execution_count": 66,
   "id": "2cbe2abd",
   "metadata": {},
   "outputs": [
    {
     "name": "stdout",
     "output_type": "stream",
     "text": [
      "This is b: \n",
      " [[7 8 9 9]\n",
      " [0 7 6 6]]\n",
      "This is c: \n",
      " [0 3 4 3 6 6 4 2 2 3]\n",
      "This is d: \n",
      " [[2 0]\n",
      " [0 1]\n",
      " [4 5]\n",
      " [2 0]\n",
      " [0 4]]\n",
      "This has caused an error\n"
     ]
    }
   ],
   "source": [
    "# Further manipulation of the integer function.\n",
    "# Generate a multi-dimensional array.\n",
    "\n",
    "# Size is structured as the following: 2x4 array\n",
    "b =  rng.integers(10, size=(2, 4))\n",
    "print('This is b: \\n' , b)\n",
    "\n",
    "# Output is a 1D array\n",
    "c = rng.integers(low = 0, high = 7, size = 10) \n",
    "print ('This is c: \\n', c)\n",
    "\n",
    "# Specifying multiple parameters\n",
    "d =  rng.integers(5, size=(5,2),  endpoint=True) # Boolean True to determine if '5' included in arrays\n",
    "print('This is d: \\n', d)\n",
    "\n",
    "# Wrapping empty function in try except block to investigate effect [17]\n",
    "try:\n",
    "    rng.integers()\n",
    "except BaseException as err:\n",
    "    print('This has caused an error')\n",
    "else:\n",
    "    print('Function still worked')\n"
   ]
  },
  {
   "cell_type": "code",
   "execution_count": 103,
   "id": "a32afd7c",
   "metadata": {},
   "outputs": [
    {
     "data": {
      "text/plain": [
       "Text(0.5, 1.0, 'Random integers from the discrete uniform distribution')"
      ]
     },
     "execution_count": 103,
     "metadata": {},
     "output_type": "execute_result"
    },
    {
     "data": {
      "image/png": "[encoded data removed]",
      "text/plain": [
       "<Figure size 432x288 with 1 Axes>"
      ]
     },
     "metadata": {
      "needs_background": "light"
     },
     "output_type": "display_data"
    }
   ],
   "source": [
    "# Plotting using the numpy.random.Generator.integers function\n",
    "x1 = rng.integers(low = 1, high=500, size = 10000) # generating random values between 1-499\n",
    "plt.hist(x1, bins = 20, color = 'green', edgecolor = 'orange') # Some decorations\n",
    "plt.xlabel('Discrete Uniform Distribution')\n",
    "plt.title('Random integers from the discrete uniform distribution', fontweight = 'heavy', family = 'serif')\n"
   ]
  },
  {
   "cell_type": "markdown",
   "id": "30604b01",
   "metadata": {},
   "source": [
    "We have shown here that the distribution of the values is uniform, as detailed in the official documentation. [20]"
   ]
  },
  {
   "cell_type": "markdown",
   "id": "13fc58a1",
   "metadata": {},
   "source": [
    "###### Numpy.Random: numpy.random.Generator.random\n"
   ]
  },
  {
   "cell_type": "markdown",
   "id": "2dfd19a5",
   "metadata": {},
   "source": [
    "This function is quite similar to the one above and is desribed in the official documentation as the following: [21]\n",
    "\n",
    "![Random.random](Images/Random.random.PNG)\n"
   ]
  },
  {
   "cell_type": "code",
   "execution_count": 119,
   "id": "925adf4b",
   "metadata": {},
   "outputs": [
    {
     "data": {
      "text/plain": [
       "array([0.38422565, 0.87282707, 0.77620484, 0.26103949, 0.41925455,\n",
       "       0.04733767, 0.31435616, 0.05402493, 0.74467329, 0.15973299,\n",
       "       0.75346924, 0.52096825, 0.82140231, 0.61913873, 0.73300599,\n",
       "       0.48111801, 0.35756741, 0.61086263, 0.61504632, 0.5672321 ])"
      ]
     },
     "execution_count": 119,
     "metadata": {},
     "output_type": "execute_result"
    },
    {
     "data": {
      "image/png": "[encoded data removed]",
      "text/plain": [
       "<Figure size 432x288 with 1 Axes>"
      ]
     },
     "metadata": {
      "needs_background": "light"
     },
     "output_type": "display_data"
    }
   ],
   "source": [
    "# Plotting using the numpy.random.Generator.random function\n",
    "# This function returns floats\n",
    "x2 = rng.random(size = 20) # 10 random floats\n",
    "plt.plot(x2, 'b.', color = 'green') # Some decorations\n",
    "plt.ylim(0,2.0) # setting x-axis limits\n",
    "plt.ylabel('DataPoint')\n",
    "plt.xlabel('Continuous Uniform Distribution')\n",
    "plt.title('Random integers from the continuous uniform distribution', fontweight = 'heavy', family = 'serif')\n",
    "x2"
   ]
  },
  {
   "cell_type": "markdown",
   "id": "339e1c29",
   "metadata": {},
   "source": [
    "Something intersting to note here is how the generated random numbers are all between 0.0 and 1.0. I examined this by purposefully setting the upper x-limit to 2.0 just to determine if a result above 1.0 appeared. This is evidence that that statement from the official documentaion (half-open interval) is true [21]."
   ]
  },
  {
   "cell_type": "markdown",
   "id": "3c9120f4",
   "metadata": {},
   "source": [
    "There is an interesting difference in the above functions I want to highlight. It is obvious how Numpy.integers returns integer values and how Numpy.random can return float values. Something I feel is more important to highlight between the functions is the difference between discrete and continuous distribution as a result of these mechanics. Random.integers returns values of discrete uniform distribution (where there are a finite number of outcomes), while Random.random returns values of continuous uniform distribution(where there are an infinite number of outcomes) [22]. \n",
    "\n",
    "- Thinking of this logically, if you flip a coin, you can have only two possible outcomes: Heads or Tails (i.e 1 or 0). While the outcome is random (you hope!), you can only have two possible outcomes (i.e a finite amount of outcomes). This is the basis of discrete distribution. [23] \n",
    "- Compare this to continuous distribution, where we could have an infinite number of equally likely outcomes. An example of this could be an truely random number generator, in where any value could appear just as likely as any other value an infinite number of times.\n",
    "\n",
    "![Coin](Images/Coin.jpg)\n",
    "\n",
    "###### <i> Adapted from Reference 24 </i>\n"
   ]
  },
  {
   "cell_type": "code",
   "execution_count": 127,
   "id": "a1899979",
   "metadata": {},
   "outputs": [
    {
     "data": {
      "text/plain": [
       "<matplotlib.legend.Legend at 0x1efef447a60>"
      ]
     },
     "execution_count": 127,
     "metadata": {},
     "output_type": "execute_result"
    },
    {
     "data": {
      "image/png": "[encoded data removed]",
      "text/plain": [
       "<Figure size 432x288 with 1 Axes>"
      ]
     },
     "metadata": {
      "needs_background": "light"
     },
     "output_type": "display_data"
    }
   ],
   "source": [
    "# Compare the two functions used in a scatterplot \n",
    "# Demonstate the difference between continuous and discrete uniform distribution.\n",
    "x3 = rng.integers(low = 0, high=3, size = 15) \n",
    "x4 = rng.random(size = 15) \n",
    "\n",
    "plt.plot(x3, 'x', label='discrete')\n",
    "plt.plot(x4, 'o', label='continuous')\n",
    "plt.xlabel('Cont vs Discrete', size=12, color = '#397dad')\n",
    "plt.ylabel('Value', size=12, color = '#943126')\n",
    "plt.grid(False) # dont want gridlines for this\n",
    "plt.legend()"
   ]
  },
  {
   "cell_type": "markdown",
   "id": "e9dbe7f1",
   "metadata": {},
   "source": [
    "We can clearly see from the above scatterplot the simple difference between discrete and continuous uniform distribution. For the Numpy.Random.Integers (discrete distribution) we only have the values 0,1 or 2 compared to Numpy.Random.random (continuous distribution) where we have random values between 0.0 and 1.0. "
   ]
  },
  {
   "cell_type": "markdown",
   "id": "03dcc491",
   "metadata": {},
   "source": [
    "###### Numpy.Random: numpy.random.Generator.choice\n"
   ]
  },
  {
   "cell_type": "markdown",
   "id": "313e1269",
   "metadata": {},
   "source": [
    "This function allows the user to generate a random sample from a non-empty array (if the variable is an array) or in the range of the specified integer [25]. "
   ]
  },
  {
   "cell_type": "code",
   "execution_count": 81,
   "id": "e00a43d4",
   "metadata": {},
   "outputs": [
    {
     "name": "stdout",
     "output_type": "stream",
     "text": [
      "This is the variable a: 3 \n",
      " This is b: [[11  4  8]\n",
      " [12 44 89]]\n"
     ]
    }
   ],
   "source": [
    "# Initial investigations into choice method\n",
    "rng = np.random.default_rng() \n",
    "a =  rng.choice(5) # generate a random integer\n",
    "# Select 2 random arrays from list with replace set to False to avoid selecting same \n",
    "b = rng.choice(([11, 4, 8], [7, 4, 9], [1, 2, 9], [12,44,89]), 2 ,replace = False)\n",
    "print('This is the variable a:' , a, '\\n This is b:' ,b)"
   ]
  },
  {
   "cell_type": "code",
   "execution_count": 70,
   "id": "5ae2e46c",
   "metadata": {},
   "outputs": [
    {
     "data": {
      "text/plain": [
       "<matplotlib.legend.Legend at 0x2198e902d90>"
      ]
     },
     "execution_count": 70,
     "metadata": {},
     "output_type": "execute_result"
    },
    {
     "data": {
      "image/png": "[encoded data removed]",
      "text/plain": [
       "<Figure size 432x288 with 1 Axes>"
      ]
     },
     "metadata": {
      "needs_background": "light"
     },
     "output_type": "display_data"
    }
   ],
   "source": [
    "# Investigation into p parameter in choice method for distribution\n",
    "# We will see a non-uniform distribution in a1 due to setting probabilities\n",
    "a1 = rng.choice(5, 30, p=[0.0, 0.5, 0.0, 0.5, 0])  # adapted from reference 25\n",
    "b1 = rng.choice(5, 30)\n",
    "\n",
    "plt.plot(a1, 'x', label='Non-Uni')\n",
    "plt.plot(b1, 'o', label='Uni')\n",
    "plt.legend()"
   ]
  },
  {
   "cell_type": "markdown",
   "id": "4e81984f",
   "metadata": {},
   "source": [
    "Lets explore this probability distribution parameter a little closer"
   ]
  },
  {
   "cell_type": "code",
   "execution_count": 162,
   "id": "cc20a3d2",
   "metadata": {},
   "outputs": [
    {
     "name": "stdout",
     "output_type": "stream",
     "text": [
      "How many times each county won the Ulster Title:\n",
      "[['Antrim' 'Armagh' 'Cavan' 'Derry' 'Donegal' 'Down' 'Fermanagh'\n",
      "  'Monaghan' 'Tyrone']\n",
      " ['6' '5' '8' '3' '7' '4' '3' '2' '2']]\n"
     ]
    }
   ],
   "source": [
    "# Generate a list of counties in Ulster who can win the Ulster Title for the next 40 years\n",
    "counties = ['Cavan','Fermanagh','Monaghan','Tyrone','Donegal','Down','Antrim','Armagh','Derry']\n",
    "ulsterTitle = rng.choice(counties, 40, p=[0.2, 0.1, 0.1, 0.1, 0.1, 0.1, 0.1, 0.1, 0.1], replace=True)  \n",
    "\n",
    "# Return in numerical format how many times each county wins the title\n",
    "unique_elements, counts_elements = np.unique(ulsterTitle, return_counts=True) \n",
    "print(\"How many times each county won the Ulster Title:\") # adapted from reference 26\n",
    "print(np.asarray((unique_elements, counts_elements))) # return as an array [27]"
   ]
  },
  {
   "cell_type": "code",
   "execution_count": 164,
   "id": "77b74ab4",
   "metadata": {},
   "outputs": [
    {
     "data": {
      "image/png": "[encoded data removed]",
      "text/plain": [
       "<Figure size 360x360 with 1 Axes>"
      ]
     },
     "metadata": {
      "needs_background": "light"
     },
     "output_type": "display_data"
    }
   ],
   "source": [
    "# Lets display on a Seaborn Histogram this glorious liklihood\n",
    "sns.displot(ulsterTitle, color = 'green', edgecolor = 'blue') \n",
    "plt.xlabel('Titles')\n",
    "plt.ylabel('County')\n",
    "plt.suptitle('Ulster Title Winners', fontsize = 12) # adding main title to histogram and setting fontsize\n",
    "plt.grid(lw = '0.1', color = '#BEBEBE') # modifying grid lines so that they dont 'overpower' the data \n"
   ]
  },
  {
   "cell_type": "code",
   "execution_count": null,
   "id": "af26a843",
   "metadata": {},
   "outputs": [],
   "source": []
  },
  {
   "cell_type": "code",
   "execution_count": null,
   "id": "647bbe01",
   "metadata": {},
   "outputs": [],
   "source": []
  },
  {
   "cell_type": "code",
   "execution_count": null,
   "id": "13e82d6b",
   "metadata": {},
   "outputs": [],
   "source": []
  },
  {
   "cell_type": "code",
   "execution_count": null,
   "id": "03e29d42",
   "metadata": {},
   "outputs": [],
   "source": []
  },
  {
   "cell_type": "code",
   "execution_count": null,
   "id": "1ca84d2a",
   "metadata": {},
   "outputs": [],
   "source": []
  },
  {
   "cell_type": "code",
   "execution_count": null,
   "id": "a3693711",
   "metadata": {},
   "outputs": [],
   "source": []
  },
  {
   "cell_type": "code",
   "execution_count": null,
   "id": "efb551f0",
   "metadata": {},
   "outputs": [],
   "source": []
  },
  {
   "cell_type": "code",
   "execution_count": null,
   "id": "57166aa9",
   "metadata": {},
   "outputs": [],
   "source": []
  },
  {
   "cell_type": "code",
   "execution_count": null,
   "id": "24f4fc5a",
   "metadata": {},
   "outputs": [],
   "source": []
  },
  {
   "cell_type": "code",
   "execution_count": null,
   "id": "1b5869ba",
   "metadata": {},
   "outputs": [],
   "source": []
  },
  {
   "cell_type": "code",
   "execution_count": null,
   "id": "291fe70e",
   "metadata": {},
   "outputs": [],
   "source": []
  },
  {
   "cell_type": "code",
   "execution_count": null,
   "id": "012be9a5",
   "metadata": {},
   "outputs": [],
   "source": []
  },
  {
   "cell_type": "code",
   "execution_count": null,
   "id": "dcb96a9f",
   "metadata": {},
   "outputs": [],
   "source": []
  },
  {
   "cell_type": "code",
   "execution_count": null,
   "id": "bb3fcea6",
   "metadata": {},
   "outputs": [],
   "source": []
  },
  {
   "cell_type": "code",
   "execution_count": null,
   "id": "1b80fe6e",
   "metadata": {},
   "outputs": [],
   "source": []
  },
  {
   "cell_type": "code",
   "execution_count": null,
   "id": "692af4e1",
   "metadata": {},
   "outputs": [],
   "source": []
  },
  {
   "cell_type": "code",
   "execution_count": null,
   "id": "a9538f40",
   "metadata": {},
   "outputs": [],
   "source": []
  },
  {
   "cell_type": "code",
   "execution_count": null,
   "id": "fedc0dd8",
   "metadata": {},
   "outputs": [],
   "source": []
  },
  {
   "cell_type": "code",
   "execution_count": null,
   "id": "c0245bb2",
   "metadata": {},
   "outputs": [],
   "source": []
  },
  {
   "cell_type": "code",
   "execution_count": null,
   "id": "61edfdae",
   "metadata": {},
   "outputs": [],
   "source": []
  },
  {
   "cell_type": "code",
   "execution_count": null,
   "id": "e6728333",
   "metadata": {},
   "outputs": [],
   "source": []
  },
  {
   "cell_type": "code",
   "execution_count": null,
   "id": "545ff198",
   "metadata": {},
   "outputs": [],
   "source": []
  },
  {
   "cell_type": "code",
   "execution_count": null,
   "id": "83ccb978",
   "metadata": {},
   "outputs": [],
   "source": []
  },
  {
   "cell_type": "markdown",
   "id": "70ac4a1d",
   "metadata": {},
   "source": [
    "## Distributions\n",
    "***\n"
   ]
  },
  {
   "cell_type": "code",
   "execution_count": 6,
   "id": "8cba5896",
   "metadata": {},
   "outputs": [
    {
     "data": {
      "text/plain": [
       "array([9.36635067, 9.02822793, 9.94466504, 9.40871093, 9.56900756,\n",
       "       9.23939616, 9.02883574, 9.41224325, 9.73378447, 9.71182831])"
      ]
     },
     "execution_count": 6,
     "metadata": {},
     "output_type": "execute_result"
    }
   ],
   "source": [
    "# Uniform Distribution (https://numpy.org/doc/1.16/reference/generated/numpy.random.uniform.html#numpy.random.uniform)\n",
    "np.random.uniform(-1,0,1000)   # three paramters. 1000 appears to be number of elements returned.\n",
    "# Test to see if final parameter is indeed size\n",
    "np.random.uniform(-1,0,10)  # 10 elements return so assumption is correct\n",
    "\n",
    "np.random.uniform(10,9,10)  # find out why this function works when high limit is lower is lower limit. Random uniform gives numbers is an interval. "
   ]
  },
  {
   "cell_type": "code",
   "execution_count": 7,
   "id": "23c1593a",
   "metadata": {},
   "outputs": [
    {
     "data": {
      "text/plain": [
       "(array([1027.,  960., 1002.,  963., 1003.,  986., 1037.,  958., 1029.,\n",
       "        1035.]),\n",
       " array([1.00925562e-01, 1.00078240e+02, 2.00055555e+02, 3.00032870e+02,\n",
       "        4.00010184e+02, 4.99987499e+02, 5.99964813e+02, 6.99942128e+02,\n",
       "        7.99919443e+02, 8.99896757e+02, 9.99874072e+02]),\n",
       " <BarContainer object of 10 artists>)"
      ]
     },
     "execution_count": 7,
     "metadata": {},
     "output_type": "execute_result"
    },
    {
     "data": {
      "image/png": "[encoded data removed]",
      "text/plain": [
       "<Figure size 432x288 with 1 Axes>"
      ]
     },
     "metadata": {
      "needs_background": "light"
     },
     "output_type": "display_data"
    }
   ],
   "source": [
    "x = np.random.uniform(0,1000,10000)\n",
    "plt.hist(x)"
   ]
  },
  {
   "cell_type": "code",
   "execution_count": 8,
   "id": "37d374b1",
   "metadata": {},
   "outputs": [
    {
     "data": {
      "text/plain": [
       "(array([  1.,   5.,  28.,  99., 230., 232., 233., 115.,  44.,  13.]),\n",
       " array([ 9.62482683,  9.69252372,  9.76022062,  9.82791752,  9.89561441,\n",
       "         9.96331131, 10.03100821, 10.0987051 , 10.166402  , 10.2340989 ,\n",
       "        10.30179579]),\n",
       " <BarContainer object of 10 artists>)"
      ]
     },
     "execution_count": 8,
     "metadata": {},
     "output_type": "execute_result"
    },
    {
     "data": {
      "image/png": "[encoded data removed]",
      "text/plain": [
       "<Figure size 432x288 with 1 Axes>"
      ]
     },
     "metadata": {
      "needs_background": "light"
     },
     "output_type": "display_data"
    }
   ],
   "source": [
    "# Normal Distribution\n",
    " \n",
    "x = np.random.normal(0, 0.1, 1000)  # close to '0' = mu (mean of distribution), 90% values between 0.3 & -0.3, 1000 values\n",
    "# plt.hist(x)\n",
    "\n",
    "# Changing mu value \n",
    "x_2 = np.random.normal(10, 0.1, 1000)  # it appears changing 'mu' changes the population mean.\n",
    "plt.hist(x_2)"
   ]
  },
  {
   "cell_type": "code",
   "execution_count": 9,
   "id": "fb07caa4",
   "metadata": {},
   "outputs": [],
   "source": [
    "# Look at the differences between each one (understand what the functions do, programming level of experience)"
   ]
  },
  {
   "cell_type": "code",
   "execution_count": 10,
   "id": "54e99eec",
   "metadata": {},
   "outputs": [],
   "source": [
    "# Seeding (to do with the time on computer when code is run. Decided once and from then on numbers generated are based on that seed.)\n",
    "# Seed is the position at where you start\n",
    "\n",
    "\n"
   ]
  },
  {
   "cell_type": "code",
   "execution_count": 11,
   "id": "bcab10af",
   "metadata": {},
   "outputs": [],
   "source": [
    "# How does PCG 64 outperfom Mersenne Twister algorithm . Melissa O Neill. Test through documentation. Formulate how to seed the algorithm so you get reproducible results from algotrithm."
   ]
  },
  {
   "cell_type": "code",
   "execution_count": null,
   "id": "7faeade2",
   "metadata": {},
   "outputs": [],
   "source": []
  },
  {
   "cell_type": "code",
   "execution_count": null,
   "id": "e2a79b68",
   "metadata": {},
   "outputs": [],
   "source": []
  },
  {
   "cell_type": "code",
   "execution_count": null,
   "id": "114b8ca0",
   "metadata": {},
   "outputs": [],
   "source": []
  },
  {
   "cell_type": "code",
   "execution_count": null,
   "id": "e631db7d",
   "metadata": {},
   "outputs": [],
   "source": []
  },
  {
   "cell_type": "code",
   "execution_count": null,
   "id": "c94beebe",
   "metadata": {},
   "outputs": [],
   "source": []
  }
 ],
 "metadata": {
  "kernelspec": {
   "display_name": "Python 3",
   "language": "python",
   "name": "python3"
  },
  "language_info": {
   "codemirror_mode": {
    "name": "ipython",
    "version": 3
   },
   "file_extension": ".py",
   "mimetype": "text/x-python",
   "name": "python",
   "nbconvert_exporter": "python",
   "pygments_lexer": "ipython3",
   "version": "3.8.8"
  }
 },
 "nbformat": 4,
 "nbformat_minor": 5
}
