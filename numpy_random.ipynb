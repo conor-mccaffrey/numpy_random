{
 "cells": [
  {
   "cell_type": "markdown",
   "id": "90e3f6b1",
   "metadata": {},
   "source": [
    "# The Numpy.Random Package \n",
    "\n",
    "***\n",
    "\n",
    "![Python & Jupyter](Images/python-jupyter-notebooks.jpg)\n",
    "\n",
    "![Numpy](Images/Numpy.png)\n",
    "\n",
    "\n",
    "\n",
    "######  <i> Pictures adapted from references 1,2  </i>\n",
    "\n",
    "## Conor McCaffrey\n",
    "#### Programming for Data Analysis 2021\n",
    "[Official Documentation for the Numpy Random Package](https://numpy.org/doc/stable/reference/random/index.html)  [3] <br>\n",
    "[Click here for copy of Assignment](Images/ProgDA_Assignment.pdf)\n",
    "\n",
    "\n",
    "***"
   ]
  },
  {
   "cell_type": "markdown",
   "id": "ee2bb60d",
   "metadata": {},
   "source": [
    "## Assignment Objectives\n",
    "- Explain the overall purpose of the package.\n",
    "- Explain the use of the “Simple random data” and “Permutations” functions.\n",
    "- Explain the use and purpose of at least five “Distributions” functions.\n",
    "- Explain the use of seeds in generating pseudorandom numbers."
   ]
  },
  {
   "cell_type": "markdown",
   "id": "b606555c",
   "metadata": {},
   "source": [
    "## What is the purpose of the Numpy.Random Package?"
   ]
  },
  {
   "cell_type": "markdown",
   "id": "4d28faaa",
   "metadata": {},
   "source": [
    "###### Overview of Numpy.\n",
    "Prior to delving too deeply into the mechanics of a package, it is prudent to first understand the inherent purpose of a package. \n",
    "<br>\n",
    "- <u> Numpy</u> (an abbreviation of \"<b>Num</b>erical <b>Py</b>thon\"  [4] ) is essentially \" the fundamental package for scientific computing in Python \" [5]. This open-source package provides many resources that are of particular importance to scientific computing. According to official documentation [5], Numpy is a \"Python library that provides a multidimensional array object, various derived objects (such as masked arrays and matrices), and an assortment of routines for fast operations on arrays, including mathematical, logical, shape manipulation, sorting, selecting, I/O, discrete Fourier transforms, basic linear algebra, basic statistical operations, random simulation and much more\". \n",
    "- The core of the Numpy package is the \"array\", which is similar to a list with the main exception being that we can perform mathematical operations/arithmetic functions on arrays that are not possible on lists [6]. Lists can contain data of differing data-types while arrays are used to house elements of the same data type [7]. Upon creation, an array has a fixed size (technically immutable) in where changing elements of an array will delete the original and return a copy of the original array with whatever operation you requested, in contrast to lists, which are mutable [8,5].\n",
    "\n",
    "![Arrays](Images/arrays.png)\n",
    "###### Adapted from reference 31\n"
   ]
  },
  {
   "cell_type": "markdown",
   "id": "ea37182c",
   "metadata": {},
   "source": [
    "<a id='so_how_does_this_tie_in_to_the_Numpy.Random_Package?'></a>\n",
    "\n",
    "###### So how does this tie in to the Numpy.Random Package?\n",
    "\n"
   ]
  },
  {
   "cell_type": "markdown",
   "id": "3de80aa7",
   "metadata": {},
   "source": [
    "Now that we have a basic overview of the Numpy package as a whole, let's examine the mechanics of the Numpy.Random package. At the highest level, the Numpy.Random package allows the production of arrays of \"pseudo-random\" numbers for downstream analyses [3]. This is acheived using what are known as a \"BitGenerator\" and a \"Generator\" [3]. BitGenerators create sequences of 32/64 random bits (based on different algorithms) which are then leveraged by Generators (taking a bit generator as an argument) to create sequences of numbers, adhering to a certain probability distribution (i.e Uniform, Normal or Binomial) [3,9]. The Generator (replacing the legacy RandomState) from the latest update of Numpy.Random uses bits provided by PCG-64 (Permuted Congruential Generator, a family of algorithms) as opposed to the legacy MT19937 (Marsenne Twister) due to enhanced statistical performence [3,10,11]. This will be covered in greater detail in the section discussing \"Seeding\". \"Seeding\" is an important concept, allowing the work to be reproducible to others attempting to examine/re-create your work."
   ]
  },
  {
   "cell_type": "markdown",
   "id": "48881a11",
   "metadata": {},
   "source": [
    "###### In Summary...\n",
    "The Numpy.Random package contains functions that facilitate the generation of arrays of pseudo-random numbers with specific probability distributions [12,13]. "
   ]
  },
  {
   "cell_type": "markdown",
   "id": "95febef1",
   "metadata": {},
   "source": [
    "***\n",
    "## Simple Random Data and Permutations\n",
    "***"
   ]
  },
  {
   "cell_type": "markdown",
   "id": "c51cb0e6",
   "metadata": {},
   "source": [
    "In this passage I want to give an overview of \"Simple Random Data\" and \"Permutations\", as outlined in the official documentation [3]. \n",
    "<br>\n",
    "\n",
    "The Simple Random Data section outlines a set of functions that can be utilised in order to, logically, generate simple random data based on user inputs, which can of course be modified. Data types that can be returned include integers, floats, random samples from a given array and bytes [3]. The functions available for use, following the latest update, are:\n",
    "- integers(low[, high, size, dtype, endpoint]) - Return random integers from low (inclusive) to high (exclusive), or if endpoint=True, low (inclusive) to high (inclusive).\n",
    "- random([size, dtype, out]) - Return random floats in the half-open interval [0.0, 1.0).\n",
    "- choice(a[, size, replace, p, axis, shuffle]) - Generates a random sample from a given array\n",
    "- bytes(length) - Return random bytes.\n",
    "\n",
    "Permutations (coming from the word <i> permute</i> (meaning to \"alter/rearrange\" [14]), meanwhile, create random re-arrangements of the order of elements [3]. Three functions are called out in the official documentation [3]:\n",
    "- shuffle(x[, axis]) - Modify an array or sequence in-place by shuffling its contents.\n",
    "- permutation(x[, axis] - Randomly permute a sequence, or return a permuted range.\n",
    "- permuted(x[, axis, out]) -Randomly permute x along axis axis.\n",
    "\n",
    "We will cover each of these in more detail below."
   ]
  },
  {
   "cell_type": "code",
   "execution_count": 1,
   "id": "10f9c3df",
   "metadata": {},
   "outputs": [],
   "source": [
    "# To begin, let's import the packages we will require\n",
    "import numpy as np\n",
    "import pandas as pd\n",
    "import matplotlib.pyplot as plt\n",
    "import seaborn as sns\n",
    "import scipy.special as sps  \n",
    "\n",
    "# This  line-orientated magic command, as outlined in lectures, lets us display plots inline\n",
    "%matplotlib inline"
   ]
  },
  {
   "cell_type": "markdown",
   "id": "32688fd5",
   "metadata": {},
   "source": [
    "###### Numpy.Random: numpy.random.Generator.integers\n",
    "\n",
    "\n"
   ]
  },
  {
   "cell_type": "code",
   "execution_count": 2,
   "id": "e08bc352",
   "metadata": {},
   "outputs": [
    {
     "name": "stdout",
     "output_type": "stream",
     "text": [
      "This is the variable \"a\": \n",
      " [6 4 5 6 3 1 1 4 6 5 6 6 7 5 6] \n",
      " The type of the variable is: <class 'numpy.ndarray'>\n"
     ]
    },
    {
     "data": {
      "image/png": "[encoded data removed]",
      "text/plain": [
       "<Figure size 432x288 with 1 Axes>"
      ]
     },
     "metadata": {
      "needs_background": "light"
     },
     "output_type": "display_data"
    }
   ],
   "source": [
    "# Generate an array of integers\n",
    "rng = np.random.default_rng() # Call default_rng to get a new instance of a Generator, from official documentation [3]\n",
    "a =  rng.integers(8, size=15) # Up to but not including 8. Size is the shape of the array\n",
    "print('This is the variable \"a\": \\n' , a, '\\n The type of the variable is:', type(a)) \n",
    "\n",
    "# Plot our variable to demonstrate random data, adapted from reference 15\n",
    "plt.plot(a, 'b.', color = '#943126') # setting colour of datapoints [16]\n",
    "plt.title('Random Integers Demonstration', fontweight='heavy',  size=12) # Setting title and weight of title [18]\n",
    "plt.xlabel('Element Number', size=10) # Setting axis title and font size\n",
    "plt.ylabel('DataPoint', size=10)\n",
    "plt.grid(False) # Used hex value for colour [19]"
   ]
  },
  {
   "cell_type": "code",
   "execution_count": 3,
   "id": "2cbe2abd",
   "metadata": {},
   "outputs": [
    {
     "name": "stdout",
     "output_type": "stream",
     "text": [
      "This is b: \n",
      " [[2 4 3 5]\n",
      " [1 9 5 2]]\n",
      "This is c: \n",
      " [0 5 0 2 3 4 0 4 1 1]\n",
      "This is d: \n",
      " [[2 4]\n",
      " [0 0]\n",
      " [1 5]\n",
      " [5 4]\n",
      " [1 2]]\n",
      "This has caused an error\n"
     ]
    }
   ],
   "source": [
    "# Further manipulation of the integer function.\n",
    "# Generate a multi-dimensional array.\n",
    "\n",
    "# Size is structured as the following: 2x4 array\n",
    "b =  rng.integers(10, size=(2, 4))\n",
    "print('This is b: \\n' , b)\n",
    "\n",
    "# Output is a 1D array\n",
    "c = rng.integers(low = 0, high = 7, size = 10) \n",
    "print ('This is c: \\n', c)\n",
    "\n",
    "# Specifying multiple parameters\n",
    "d =  rng.integers(5, size=(5,2),  endpoint=True) # Boolean True to determine if '5' included in arrays\n",
    "print('This is d: \\n', d)\n",
    "\n",
    "# Wrapping empty function in try except block to investigate effect [17]\n",
    "try:\n",
    "    rng.integers()\n",
    "except BaseException as err:\n",
    "    print('This has caused an error')\n",
    "else:\n",
    "    print('Function still worked')\n"
   ]
  },
  {
   "cell_type": "code",
   "execution_count": 4,
   "id": "a32afd7c",
   "metadata": {},
   "outputs": [
    {
     "data": {
      "text/plain": [
       "Text(0.5, 1.0, 'Random integers from the discrete uniform distribution')"
      ]
     },
     "execution_count": 4,
     "metadata": {},
     "output_type": "execute_result"
    },
    {
     "data": {
      "image/png": "[encoded data removed]",
      "text/plain": [
       "<Figure size 432x288 with 1 Axes>"
      ]
     },
     "metadata": {
      "needs_background": "light"
     },
     "output_type": "display_data"
    }
   ],
   "source": [
    "# Plotting using the numpy.random.Generator.integers function\n",
    "x1 = rng.integers(low = 1, high=500, size = 10000) # generating random values between 1-499\n",
    "plt.hist(x1, bins = 20, color = 'green', edgecolor = 'orange') # Some decorations\n",
    "plt.xlabel('Discrete Uniform Distribution')\n",
    "plt.title('Random integers from the discrete uniform distribution', fontweight = 'heavy', family = 'serif')\n"
   ]
  },
  {
   "cell_type": "markdown",
   "id": "30604b01",
   "metadata": {},
   "source": [
    "We have shown here that the distribution of the values is uniform, as detailed in the official documentation. [20]"
   ]
  },
  {
   "cell_type": "markdown",
   "id": "13fc58a1",
   "metadata": {},
   "source": [
    "###### Numpy.Random: numpy.random.Generator.random\n"
   ]
  },
  {
   "cell_type": "markdown",
   "id": "2dfd19a5",
   "metadata": {},
   "source": [
    "This function is quite similar to the one above and is desribed in the official documentation as the following: [21]\n",
    "\n",
    "![Random.random](Images/Random.random.PNG)\n"
   ]
  },
  {
   "cell_type": "code",
   "execution_count": 5,
   "id": "925adf4b",
   "metadata": {},
   "outputs": [
    {
     "data": {
      "text/plain": [
       "array([0.84900406, 0.8976828 , 0.45705477, 0.27119939, 0.30522265,\n",
       "       0.23131038, 0.21661477, 0.43545173, 0.69053214, 0.80589296,\n",
       "       0.63039969, 0.62213184, 0.44744068, 0.79575094, 0.657701  ,\n",
       "       0.39493492, 0.85085891, 0.82089007, 0.57452772, 0.81391965])"
      ]
     },
     "execution_count": 5,
     "metadata": {},
     "output_type": "execute_result"
    },
    {
     "data": {
      "image/png": "[encoded data removed]",
      "text/plain": [
       "<Figure size 432x288 with 1 Axes>"
      ]
     },
     "metadata": {
      "needs_background": "light"
     },
     "output_type": "display_data"
    }
   ],
   "source": [
    "# Plotting using the numpy.random.Generator.random function\n",
    "# This function returns floats\n",
    "x2 = rng.random(size = 20) # 10 random floats\n",
    "plt.plot(x2, 'b.', color = 'green') # Some decorations\n",
    "plt.ylim(0,2.0) # setting x-axis limits\n",
    "plt.ylabel('DataPoint')\n",
    "plt.xlabel('Continuous Uniform Distribution')\n",
    "plt.title('Random integers from the continuous uniform distribution', fontweight = 'heavy', family = 'serif')\n",
    "x2"
   ]
  },
  {
   "cell_type": "markdown",
   "id": "339e1c29",
   "metadata": {},
   "source": [
    "Something intersting to note here is how the generated random numbers are all between 0.0 and 1.0. I examined this by purposefully setting the upper x-limit to 2.0 just to determine if a result above 1.0 appeared. This is evidence that the statement from the official documentaion (half-open interval) is true [21]."
   ]
  },
  {
   "cell_type": "markdown",
   "id": "3c9120f4",
   "metadata": {},
   "source": [
    "There is an interesting difference in the above functions I want to highlight. It is obvious how Numpy.integers returns integer values and how Numpy.random can return float values. Something I feel is more important to highlight between the functions is the difference between discrete and continuous distribution as a result of these mechanics. Random.integers returns values of discrete uniform distribution (where there are a finite number of outcomes), while Random.random returns values of continuous uniform distribution(where there are an infinite number of outcomes) [22]. \n",
    "\n",
    "- Thinking of this logically, if you flip a coin, you can have only two possible outcomes: Heads or Tails (i.e 1 or 0). While the outcome is random (you hope!), you can only have two possible outcomes (i.e a finite amount of outcomes). This is the basis of discrete distribution. [23] \n",
    "- Compare this to continuous distribution, where we could have an infinite number of equally likely outcomes. An example of this could be an truely random number generator, in where any value could appear just as likely as any other value an infinite number of times.\n",
    "\n",
    "![Coin](Images/Coin.jpg)\n",
    "\n",
    "###### <i> Adapted from Reference 24 </i>\n"
   ]
  },
  {
   "cell_type": "code",
   "execution_count": 6,
   "id": "a1899979",
   "metadata": {},
   "outputs": [
    {
     "data": {
      "text/plain": [
       "<matplotlib.legend.Legend at 0x12b56cc4a90>"
      ]
     },
     "execution_count": 6,
     "metadata": {},
     "output_type": "execute_result"
    },
    {
     "data": {
      "image/png": "[encoded data removed]",
      "text/plain": [
       "<Figure size 432x288 with 1 Axes>"
      ]
     },
     "metadata": {
      "needs_background": "light"
     },
     "output_type": "display_data"
    }
   ],
   "source": [
    "# Compare the two functions used in a scatterplot \n",
    "# Demonstate the difference between continuous and discrete uniform distribution.\n",
    "x3 = rng.integers(low = 0, high=3, size = 15) \n",
    "x4 = rng.random(size = 15) \n",
    "\n",
    "plt.plot(x3, 'x', label='discrete')\n",
    "plt.plot(x4, 'o', label='continuous')\n",
    "plt.xlabel('Cont vs Discrete', size=12, color = '#397dad')\n",
    "plt.ylabel('Value', size=12, color = '#943126')\n",
    "plt.grid(False) # dont want gridlines for this\n",
    "plt.legend()"
   ]
  },
  {
   "cell_type": "markdown",
   "id": "e9dbe7f1",
   "metadata": {},
   "source": [
    "We can clearly see from the above scatterplot the simple difference between discrete and continuous uniform distribution. For the Numpy.Random.Integers (discrete distribution) we only have the values 0,1 or 2 compared to Numpy.Random.random (continuous distribution) where we have random values between 0.0 and 1.0. "
   ]
  },
  {
   "cell_type": "markdown",
   "id": "03dcc491",
   "metadata": {},
   "source": [
    "###### Numpy.Random: numpy.random.Generator.choice\n"
   ]
  },
  {
   "cell_type": "markdown",
   "id": "313e1269",
   "metadata": {},
   "source": [
    "This function allows the user to generate a random sample from a non-empty array (if the variable is an array) or in the range of the specified integer [25]. "
   ]
  },
  {
   "cell_type": "code",
   "execution_count": 7,
   "id": "e00a43d4",
   "metadata": {},
   "outputs": [
    {
     "name": "stdout",
     "output_type": "stream",
     "text": [
      "This is the variable a: 4 \n",
      " This is b: [[ 7  4  9]\n",
      " [12 44 89]]\n"
     ]
    }
   ],
   "source": [
    "# Initial investigations into choice method\n",
    "rng = np.random.default_rng() \n",
    "a =  rng.choice(5) # generate a random integer\n",
    "# Select 2 random arrays from list with replace set to False to avoid selecting same \n",
    "b = rng.choice(([11, 4, 8], [7, 4, 9], [1, 2, 9], [12,44,89]), 2 ,replace = False)\n",
    "print('This is the variable a:' , a, '\\n This is b:' ,b)"
   ]
  },
  {
   "cell_type": "code",
   "execution_count": 8,
   "id": "5ae2e46c",
   "metadata": {},
   "outputs": [
    {
     "data": {
      "text/plain": [
       "<matplotlib.legend.Legend at 0x12b56d440a0>"
      ]
     },
     "execution_count": 8,
     "metadata": {},
     "output_type": "execute_result"
    },
    {
     "data": {
      "image/png": "[encoded data removed]",
      "text/plain": [
       "<Figure size 432x288 with 1 Axes>"
      ]
     },
     "metadata": {
      "needs_background": "light"
     },
     "output_type": "display_data"
    }
   ],
   "source": [
    "# Investigation into p parameter in choice method for distribution\n",
    "# We will see a non-uniform distribution in a1 due to setting probabilities\n",
    "a1 = rng.choice(5, 30, p=[0.0, 0.5, 0.0, 0.5, 0])  # adapted from reference 25\n",
    "b1 = rng.choice(5, 30)\n",
    "\n",
    "plt.plot(a1, 'x', label='Non-Uni')\n",
    "plt.plot(b1, 'o', label='Uni')\n",
    "plt.legend()"
   ]
  },
  {
   "cell_type": "markdown",
   "id": "4e81984f",
   "metadata": {},
   "source": [
    "Lets explore this probability distribution parameter a little closer"
   ]
  },
  {
   "cell_type": "code",
   "execution_count": 9,
   "id": "cc20a3d2",
   "metadata": {},
   "outputs": [
    {
     "name": "stdout",
     "output_type": "stream",
     "text": [
      "How many times each county won the Ulster Title:\n",
      "[['Antrim' 'Armagh' 'Cavan' 'Donegal' 'Down' 'Fermanagh' 'Monaghan'\n",
      "  'Tyrone']\n",
      " ['5' '1' '11' '8' '5' '3' '4' '3']]\n"
     ]
    }
   ],
   "source": [
    "# Generate a list of counties in Ulster who can win the Ulster Title for the next 40 years\n",
    "counties = ['Cavan','Fermanagh','Monaghan','Tyrone','Donegal','Down','Antrim','Armagh','Derry']\n",
    "ulsterTitle = rng.choice(counties, 40, p=[0.3, 0.1, 0.1, 0.1, 0.1, 0.1, 0.1, 0.1, 0.0], replace=True)  \n",
    "\n",
    "# Return in numerical format how many times each county wins the title\n",
    "unique_elements, counts_elements = np.unique(ulsterTitle, return_counts=True) \n",
    "print('How many times each county won the Ulster Title:') # adapted from reference 26\n",
    "print(np.asarray((unique_elements, counts_elements))) # return as an array [27]"
   ]
  },
  {
   "cell_type": "code",
   "execution_count": 10,
   "id": "77b74ab4",
   "metadata": {},
   "outputs": [
    {
     "data": {
      "image/png": "[encoded data removed]",
      "text/plain": [
       "<Figure size 648x432 with 1 Axes>"
      ]
     },
     "metadata": {
      "needs_background": "light"
     },
     "output_type": "display_data"
    }
   ],
   "source": [
    "# Lets display on a Seaborn Histogram this glorious liklihood\n",
    "# Took a long time to get aspect solution [28]\n",
    "sns.displot(ulsterTitle, color = 'blue', edgecolor = 'grey', height=6, aspect=9/6)\n",
    "plt.figsize = (170,100)\n",
    "plt.xlabel('County', fontweight = 'bold')\n",
    "plt.ylabel('Titles', fontweight = 'bold')\n",
    "plt.suptitle('Ulster Title Winners', fontsize = 15) # adding main title to histogram and setting fontsize\n",
    "plt.grid(False) \n"
   ]
  },
  {
   "cell_type": "markdown",
   "id": "6cd3446a",
   "metadata": {},
   "source": [
    "In summary, the choice function selects a random sample or samples from an array, however we can manipulate the selection by setting probabilites."
   ]
  },
  {
   "cell_type": "markdown",
   "id": "4ae41168",
   "metadata": {},
   "source": [
    "###### Numpy.Random: numpy.random.Generator.bytes\n"
   ]
  },
  {
   "cell_type": "markdown",
   "id": "12927d00",
   "metadata": {},
   "source": [
    "This function simply returns random bytes [29]:\n",
    "![Bytes](Images/Bytes.png)\n",
    "\n"
   ]
  },
  {
   "cell_type": "code",
   "execution_count": 11,
   "id": "03e29d42",
   "metadata": {},
   "outputs": [
    {
     "data": {
      "text/plain": [
       "b'\\x01\\xc7\\r\\x9f\\xd6X\\xdb\\xd4,\\x03\\xd4\\xd2'"
      ]
     },
     "execution_count": 11,
     "metadata": {},
     "output_type": "execute_result"
    }
   ],
   "source": [
    "# Returning Random bytes\n",
    "np.random.bytes(12)"
   ]
  },
  {
   "cell_type": "markdown",
   "id": "4d285f38",
   "metadata": {},
   "source": [
    "###### Numpy.Random: numpy.random.Generator.shuffle\n"
   ]
  },
  {
   "cell_type": "markdown",
   "id": "97f9c9eb",
   "metadata": {},
   "source": [
    "The shuffle method within Permutations facilitates the re-ordering of contents within a sequence [30]. \n",
    "\n",
    "![Shuffle](Images/shuffle.png)\n",
    "\n",
    "\n"
   ]
  },
  {
   "cell_type": "code",
   "execution_count": 12,
   "id": "09cc5773",
   "metadata": {},
   "outputs": [
    {
     "name": "stdout",
     "output_type": "stream",
     "text": [
      "1D array: [ 2 10  7 14  9  5 12  1  0  4  6 13  3  8 11]\n",
      "We have now changed the shape of the output: \n",
      " [[2 3]\n",
      " [0 1]\n",
      " [6 7]\n",
      " [4 5]]\n",
      "Setting the axis to 1: \n",
      " [[1 0]\n",
      " [3 2]\n",
      " [5 4]\n",
      " [7 6]]\n"
     ]
    }
   ],
   "source": [
    "# Shuffle method\n",
    "input = np.arange(15)\n",
    "rng.shuffle(input) # using shuffle method\n",
    "print('1D array:', input) # printing array of shuffled results\n",
    "\n",
    "# We can also manipulate the shape of the output \n",
    "new_input = np.arange(8).reshape((4, 2)) # resulting in a 4x2 array, adapted from [30]\n",
    "rng.shuffle(new_input) \n",
    "print('We have now changed the shape of the output: \\n', new_input)\n",
    "\n",
    "# Let's look how specifying axis can alter the output \n",
    "arr = np.arange(8).reshape((4, 2))\n",
    "rng.shuffle(arr, axis=1)\n",
    "print('Setting the axis to 1: \\n', arr) # alters results by column"
   ]
  },
  {
   "cell_type": "markdown",
   "id": "a696ea10",
   "metadata": {},
   "source": [
    "It is also worth noting that when changing the value of the axis, the individual values within the axis do not change. Only the row/column as a whole changes. [30]"
   ]
  },
  {
   "cell_type": "markdown",
   "id": "be783427",
   "metadata": {},
   "source": [
    "###### Numpy.Random: numpy.random.Generator.permutation\n",
    "\n",
    "The permutation method within Permutations facilitates the re-ordering of contents within a sequence [32]. A notable difference between this method and the shuffle method is the permutation method returns a copy of the array while shuffle deals with the original array [33].\n",
    "\n",
    "![Permutation](Images/Permutation.png)\n"
   ]
  },
  {
   "cell_type": "code",
   "execution_count": 13,
   "id": "57166aa9",
   "metadata": {},
   "outputs": [
    {
     "name": "stdout",
     "output_type": "stream",
     "text": [
      "1D array: [ 6  8  7  0  9  4  5 11  3  2  1 10]\n",
      "We have now changed the shape of the output: \n",
      " [[0 1]\n",
      " [6 7]\n",
      " [2 3]\n",
      " [4 5]]\n"
     ]
    }
   ],
   "source": [
    "# Permutation method\n",
    "rng = np.random.default_rng()\n",
    "result = rng.permutation(12)\n",
    "print('1D array:', result ) # printing array of results in range of integer\n",
    "\n",
    "# Similar to the shuffle function, we can also manipulate the shape of the output \n",
    "new_perm = np.arange(8).reshape((4, 2)) # resulting in a 4x2 array, adapted from [33]\n",
    "rng.shuffle(new_perm) \n",
    "print('We have now changed the shape of the output: \\n', new_perm)"
   ]
  },
  {
   "cell_type": "code",
   "execution_count": 14,
   "id": "24f4fc5a",
   "metadata": {},
   "outputs": [
    {
     "name": "stdout",
     "output_type": "stream",
     "text": [
      "This is the original List before permutation: [1, 4, 9, 12, 15] and this is the permuted List: [ 4 15 12  9  1]\n",
      "This is the original_List after permutation [1, 4, 9, 12, 15]\n",
      "This is the List before shuffling: [1, 2, 3, 4, 5]\n",
      "This is the original_shuffled_List after shuffling [1, 2, 3, 4, 5]\n"
     ]
    }
   ],
   "source": [
    "# Let's explore this in-place/copy idea a little more\n",
    "\n",
    "# If x is an array, make a copy and shuffle the elements randomly\n",
    "original_List = [1,4,9,12,15]\n",
    "permuted_List = np.random.permutation(original_List)\n",
    "print('This is the original List before permutation:', original_List , 'and this is the permuted List:', permuted_List)\n",
    "print('This is the original_List after permutation', original_List)\n",
    "\n",
    "# Let's compare this to the shuffle function\n",
    "original_shuffled_List = [1,2,3,4,5]\n",
    "print('This is the List before shuffling:',original_shuffled_List)\n",
    "print('This is the original_shuffled_List after shuffling', original_shuffled_List)\n"
   ]
  },
  {
   "cell_type": "markdown",
   "id": "93133d74",
   "metadata": {},
   "source": [
    "###### Numpy.Random: numpy.random.Generator.permuted\n",
    "The permutation method within Permutations facilitates the permutation of 'x' along the axis <i>axis</i> [34]. A notable difference between this method and the shuffle method is eacxh slice in the permutated method is shuffled independently of the others.[34]\n",
    "\n",
    "\n",
    "![Permuted](Images/Permuted.png)\n",
    "\n",
    "Let's explore this."
   ]
  },
  {
   "cell_type": "code",
   "execution_count": 15,
   "id": "291fe70e",
   "metadata": {},
   "outputs": [
    {
     "name": "stdout",
     "output_type": "stream",
     "text": [
      "This is the original array: \n",
      " [[ 1  2  3  4]\n",
      " [ 5  6  7  8]\n",
      " [ 9 10 11 12]\n",
      " [13 14 15 16]\n",
      " [17 18 19 20]]\n",
      "This is the permuted array: \n",
      " [[ 2  1  3  4]\n",
      " [ 5  8  6  7]\n",
      " [12 11  9 10]\n",
      " [14 13 15 16]\n",
      " [17 19 20 18]]\n",
      "This is the permuted array setting axis=0:\n",
      " [[ 9 10 15  8]\n",
      " [17  6  7 20]\n",
      " [13  2  3 12]\n",
      " [ 5 18 19  4]\n",
      " [ 1 14 11 16]]\n",
      "Back to original:\n",
      " [[ 1  2  3  4]\n",
      " [ 5  6  7  8]\n",
      " [ 9 10 11 12]\n",
      " [13 14 15 16]\n",
      " [17 18 19 20]]\n",
      "This is now array_1 after setting parameter for \"out\":\n",
      " [[ 2  4  3  1]\n",
      " [ 8  6  5  7]\n",
      " [12 10 11  9]\n",
      " [13 15 14 16]\n",
      " [17 19 20 18]]\n"
     ]
    }
   ],
   "source": [
    "# Generating a test instance [34]\n",
    "rng = np.random.default_rng()\n",
    "# Creating an array\n",
    "array_1 = np.arange(1,21).reshape(5, 4)\n",
    "print('This is the original array: \\n' , array_1)\n",
    "array_2 = rng.permuted(array_1, axis=1)\n",
    "print('This is the permuted array: \\n' , array_2) # the rows have been shuffled with the original unchanged\n",
    "array_3 = rng.permuted(array_1, axis=0)\n",
    "print('This is the permuted array setting axis=0:\\n' , array_3) #columns shuffled with the original unchanged\n",
    "print('Back to original:\\n', array_1)\n",
    "# We can set 'out=array_1' to change the original (in-place change as opposed to copy change)\n",
    "rng.permuted(array_1, axis=1, out=array_1)\n",
    "print('This is now array_1 after setting parameter for \"out\":\\n',array_1)\n"
   ]
  },
  {
   "cell_type": "markdown",
   "id": "70ac4a1d",
   "metadata": {},
   "source": [
    "***\n",
    "## Distributions\n",
    "***\n"
   ]
  },
  {
   "cell_type": "markdown",
   "id": "244bc7df",
   "metadata": {},
   "source": [
    "There are over 36 different distribution functions listed in the official documentation [3]. At it's most basic, a probability distribution 'is a table or an equation that links each outcome of a statistical experiment with its probability of occurrence' [35]. \n",
    "<br>\n",
    "<br>\n",
    "Let's take an extremely basic example of a footballer taking a penalty. There are two possible options here: the player either scores a goal or misses. Suppose the player takes two penalites (let's pretend the goalkeeper came off the line too early), there are four possible resulting outcomes (S= Scores, M= Misses) : SS, MM, SM, MS. The random variable X will represent the number of times the footballer scores and can be calculated. We can see visually that in 3 of the 4 possible outcomes the player scores at least once. We can display the probabilities of each outcome in the following table i.e. the <b>probability distribution</b>: \n",
    "<br>\n",
    "\n",
    "\n",
    "   | Number of Goals  | Probability    |\n",
    "|:-------------|:-----------|\n",
    "| 0 | 0.25       | \n",
    "| 1  | 0.5    |\n",
    "| 2  | 0.25    |\n",
    "\n",
    "<i>Table Adapted from Reference 36</i>"
   ]
  },
  {
   "cell_type": "markdown",
   "id": "ef4a2c74",
   "metadata": {},
   "source": [
    "A <b>cumulative probability</b>, meanwhile, denotes the liklihood that a random variable will fall within a certain specified range [35]. Going back to our earlier example, we can investigate the likehood of a player scoring one or less penalties. So this would be investigating the liklihood of the player scoring one penalty <u>and</u> the likehood of the player missing both penalties.\n",
    "\n",
    "P(X ≤ 1) = P(X = 0) + P(X = 1) = 0.25 + 0.50 = 0.75\n",
    " \n",
    "Now that we have a basic understanding of probabilities and distributions, let's delve a little deeper into the Distribution functions for generating random samples in Numpy."
   ]
  },
  {
   "cell_type": "markdown",
   "id": "691ba2d8",
   "metadata": {},
   "source": [
    "###### Numpy.Random: random.Generator.uniform\n",
    "\n",
    "Uniform distribution is perhaps the best distribution to initially describe as it can be considered the simplest. This form of distribution depicts an outcome where each value of a random variable is just as equally probable to any other value [38]. Thinking of this logically, lets imagine a deck of cards and you are asked to pick one. You are just as likely to draw a diamond as you are a heart and this is the same for a club and a spade. This is Uniform distribution [38]. We have already explored this topic in some detail above when describing the difference between Discrete Uniform distribution  (where there are a finite number of outcomes) and Continuous Uniform distribution (where there are an infinite number of outcomes) [22]. The probability density function (PDF), is a 'statistical expression describing the liklihood of an outcome', with the formula outlined below [39].\n",
    "\n",
    "\n",
    "![Uniform Distribution](Images/uniform_Distribution.png)\n",
    "***\n",
    "![pdf](Images/pdf.png)\n"
   ]
  },
  {
   "cell_type": "code",
   "execution_count": 16,
   "id": "b15124b0",
   "metadata": {},
   "outputs": [
    {
     "name": "stdout",
     "output_type": "stream",
     "text": [
      "[1.44711056 1.09017567 1.97822493 1.18683424 1.90042176 1.14291005\n",
      " 1.19382936 1.53607088 1.22211122 1.63699917 1.28158189 1.33583322\n",
      " 1.52839372 1.52211574 1.97398302 1.2877512  1.04244065 1.1157043\n",
      " 1.24548607 1.70504257 1.17538844 1.91936631 1.1462167  1.21140979\n",
      " 1.94063856 1.15142344 1.8661869  1.357453   1.57661337 1.31413162\n",
      " 1.79695686 1.73791123 1.4449463  1.94652218 1.09957113 1.40203771\n",
      " 1.60577341 1.28646833 1.77979929 1.48376005 1.79726779 1.19548087\n",
      " 1.11362567 1.15840892 1.85769019 1.75351635 1.07802517 1.59362592\n",
      " 1.4315177  1.85874186 1.77487139 1.07830153 1.41646427 1.19523833\n",
      " 1.96622343 1.16950679 1.40179488 1.84171428 1.12400034 1.75719918\n",
      " 1.82183282 1.57265522 1.68717068 1.85505272 1.89635651 1.60724925\n",
      " 1.38067145 1.79819939 1.0909825  1.21203202 1.44608166 1.3589955\n",
      " 1.9126798  1.27457601 1.27787813 1.87318711 1.90158897 1.02743846\n",
      " 1.70358064 1.55655987 1.92177509 1.82586589 1.81468898 1.4579411\n",
      " 1.13504148 1.80678958 1.45371027 1.93909434 1.12173157 1.54340203\n",
      " 1.60445995 1.73142658 1.06435508 1.34527541 1.57370319 1.45777647\n",
      " 1.85721274 1.50938513 1.36316147 1.53533427 1.62247253 1.11490999\n",
      " 1.60484909 1.40037074 1.49685848 1.99428836 1.5211914  1.03731172\n",
      " 1.56592395 1.12238624 1.63540667 1.95421802 1.77304292 1.24788428\n",
      " 1.81819224 1.22271419 1.67766393 1.98493826 1.08286464 1.24787263\n",
      " 1.86789495 1.72867977 1.65666188 1.40893285 1.9886231  1.14168135\n",
      " 1.15144296 1.60460182 1.7202849  1.23625889 1.0872925  1.52101703\n",
      " 1.70948526 1.40533773 1.33013177 1.12511771 1.37759714 1.74902861\n",
      " 1.55702066 1.43167919 1.7882602  1.83682777 1.45799759 1.85483436\n",
      " 1.87962593 1.24607525 1.45928809 1.9235462  1.68784683 1.57221169\n",
      " 1.26593661 1.52764281 1.86935663 1.52867742 1.53046291 1.30309543\n",
      " 1.29054658 1.29363087 1.37879786 1.60493263 1.27237128 1.24595021\n",
      " 1.85751014 1.08898077 1.53826008 1.90834754 1.08081121 1.96874648\n",
      " 1.14061704 1.93107409 1.30881216 1.34073861 1.61428802 1.32488742\n",
      " 1.67072572 1.22589088 1.46395525 1.55820027 1.1797148  1.15143909\n",
      " 1.3052161  1.81815514 1.03521266 1.36551372 1.69605143 1.31621143\n",
      " 1.62168453 1.05490254 1.9003331  1.47911896 1.58084291 1.07630181\n",
      " 1.58470555 1.67208126 1.72874636 1.78722382 1.73705593 1.8959788\n",
      " 1.71530728 1.85362556 1.15287629 1.13099969 1.66786129 1.46565265\n",
      " 1.38749426 1.11512314 1.65972459 1.01981554 1.5908903  1.00562326\n",
      " 1.20170278 1.77804634 1.40887667 1.81734221 1.44230952 1.06937702\n",
      " 1.51288946 1.83153992 1.89472038 1.01243934 1.15335091 1.57750425\n",
      " 1.47798614 1.64385637 1.73656738 1.1925604  1.53064075 1.46849487\n",
      " 1.98801608 1.82994103 1.02982607 1.52444114 1.70649778 1.40185007\n",
      " 1.1867461  1.62028141 1.36872242 1.22271776 1.04082788 1.33736656\n",
      " 1.34722642 1.72798778 1.65045063 1.21654262 1.23628929 1.91965231\n",
      " 1.06213107 1.68730678 1.73819627 1.93578647 1.17828078 1.46042109\n",
      " 1.57925143 1.76950785 1.53082566 1.37651027 1.8128429  1.0662917\n",
      " 1.8185052  1.76292738 1.38025541 1.19577359 1.73054951 1.4648436\n",
      " 1.20730331 1.04069387 1.86545197 1.33930354 1.02887208 1.84512606\n",
      " 1.27993605 1.53383651 1.68576917 1.27212152 1.81601874 1.496536\n",
      " 1.52903893 1.75116683 1.57566079 1.67359926 1.09073504 1.60515715\n",
      " 1.98031465 1.53835522 1.9225347  1.61971191 1.67110062 1.6081862\n",
      " 1.99554509 1.08410485 1.12838904 1.47424026 1.0012033  1.34091159\n",
      " 1.84648767 1.57702747 1.58948297 1.48692143 1.24871096 1.83384763\n",
      " 1.17600846 1.56998989 1.37198973 1.04638582 1.31835826 1.95856119\n",
      " 1.82305478 1.14882294 1.84631566 1.05703754 1.29153384 1.50284308\n",
      " 1.72547106 1.40573367 1.62811428 1.80416001 1.39801707 1.3453516\n",
      " 1.39635406 1.66747348 1.09949252 1.90474304 1.87132317 1.41060454\n",
      " 1.26113114 1.81468377 1.29188919 1.60548869 1.57321399 1.3105161\n",
      " 1.8449622  1.95767466 1.66484138 1.63252847 1.52568166 1.05008005\n",
      " 1.69122721 1.30798662 1.11208153 1.92363922 1.92595185 1.19394878\n",
      " 1.61043297 1.87406426 1.52855712 1.41308544 1.34602746 1.21287989\n",
      " 1.19099072 1.60331916 1.38084516 1.4254137  1.85429908 1.81435215\n",
      " 1.80991583 1.96823014 1.52856747 1.67216944 1.95005858 1.45073338\n",
      " 1.93837522 1.48974225 1.19234162 1.46474564 1.89660011 1.61444746\n",
      " 1.19135039 1.93064074 1.91280782 1.2279284  1.18778056 1.87130571\n",
      " 1.45591488 1.16461171 1.19709983 1.75198649 1.21313305 1.53410033\n",
      " 1.83710536 1.29269361 1.77509915 1.07864967 1.75233584 1.26291168\n",
      " 1.30005256 1.38544284 1.2495357  1.21456064 1.61245002 1.84189557\n",
      " 1.34825539 1.25429137 1.77196963 1.79153734 1.3470718  1.06810727\n",
      " 1.26928938 1.32396184 1.67407767 1.66780829 1.38929652 1.91744438\n",
      " 1.8544509  1.23272766 1.88888982 1.91173993 1.96736147 1.64063112\n",
      " 1.28819726 1.08513751 1.06711683 1.88355879 1.05398235 1.5665711\n",
      " 1.58564549 1.23792085 1.95157356 1.36257287 1.76566345 1.67973252\n",
      " 1.07042779 1.29512948 1.90855083 1.55073874 1.19313979 1.85755869\n",
      " 1.33451313 1.93612383 1.86372371 1.71837645 1.26724081 1.93944403\n",
      " 1.92898792 1.34992403 1.31003325 1.82538475 1.58775776 1.7843101\n",
      " 1.33359778 1.96991575 1.92860899 1.21158301 1.58532028 1.82961306\n",
      " 1.5571104  1.26221568 1.60363795 1.28921837 1.17908619 1.27291775\n",
      " 1.98694917 1.99992018 1.91105134 1.14884031 1.37317847 1.43466111\n",
      " 1.1344437  1.54428097 1.1330315  1.19054635 1.58849784 1.70872547\n",
      " 1.65719702 1.05648486 1.25322264 1.92197085 1.15836854 1.164803\n",
      " 1.14447671 1.89502436 1.57257727 1.26164176 1.02415709 1.95458951\n",
      " 1.51930429 1.78449831 1.15738861 1.53355528 1.63732526 1.98580994\n",
      " 1.97016076 1.88969702 1.2541736  1.27804428 1.61962935 1.99230134\n",
      " 1.7305346  1.14329008 1.81858506 1.81035836 1.41353098 1.68838701\n",
      " 1.39776882 1.70416328 1.55152227 1.14317502 1.88695704 1.66945074\n",
      " 1.41163858 1.65386056 1.35564748 1.55575141 1.81572677 1.13088919\n",
      " 1.21416188 1.06777724 1.22307369 1.28252357 1.566731   1.93731769\n",
      " 1.22806634 1.59010811 1.73018921 1.68605652 1.97699472 1.50800981\n",
      " 1.08571814 1.87402925 1.07823254 1.47158945 1.78237031 1.81926074\n",
      " 1.26126166 1.58444385 1.98353716 1.99343691 1.4727212  1.8586615\n",
      " 1.49034919 1.7201194  1.31825207 1.41771507 1.35561844 1.28793379\n",
      " 1.77878025 1.24180351 1.87367079 1.96641435 1.35475824 1.71669386\n",
      " 1.23278331 1.05262983 1.05759469 1.16882318 1.58843726 1.26262186\n",
      " 1.54915502 1.38634407 1.41294246 1.42843056 1.51268819 1.60022108\n",
      " 1.3241247  1.88583235 1.52587576 1.12331892 1.73724048 1.41997214\n",
      " 1.13667553 1.57335034 1.2487369  1.20817627 1.83104118 1.23124508\n",
      " 1.99106926 1.16268593 1.10670551 1.71855579 1.11770147 1.91835491\n",
      " 1.28324159 1.00922434 1.7955319  1.60479278 1.17496514 1.54732866\n",
      " 1.90812838 1.42563428 1.97028986 1.09182052 1.22156154 1.60394889\n",
      " 1.89489653 1.88783495 1.62367874 1.50561732 1.85960605 1.27583738\n",
      " 1.75169716 1.61532254 1.8229327  1.1157139  1.01115399 1.1946556\n",
      " 1.73640894 1.33192285 1.55070613 1.77091131 1.81199763 1.7556149\n",
      " 1.21263872 1.00032835 1.04976484 1.93670276 1.78616291 1.685828\n",
      " 1.27977023 1.5442018  1.6893157  1.74596873 1.48511791 1.07374665\n",
      " 1.12976313 1.87621358 1.43888397 1.50431729 1.3178974  1.39817852\n",
      " 1.38202354 1.01631596 1.42809286 1.34220673 1.49111545 1.89785706\n",
      " 1.98174362 1.22675944 1.8611373  1.15906297 1.23704033 1.67451183\n",
      " 1.66037545 1.78401266 1.64087603 1.8020005  1.38494531 1.70522582\n",
      " 1.42371341 1.79991382 1.59465256 1.20997666 1.39464769 1.65636977\n",
      " 1.87553749 1.22961083 1.61792913 1.44064473 1.52143659 1.77607565\n",
      " 1.18145487 1.86325109 1.95755142 1.20711606 1.86752404 1.8219085\n",
      " 1.20129062 1.15693234 1.41962514 1.710871   1.78138261 1.93493692\n",
      " 1.17008722 1.37056188 1.96313521 1.75680193 1.65460295 1.6703175\n",
      " 1.53496877 1.32481733 1.62504291 1.74957722 1.03822608 1.19926009\n",
      " 1.00588784 1.45622989 1.47051471 1.50620128 1.0745631  1.66086131\n",
      " 1.88099699 1.8298623  1.64556115 1.77658129 1.67732027 1.08036322\n",
      " 1.79187717 1.65341858 1.56032319 1.50888108 1.48170615 1.68520308\n",
      " 1.75510811 1.63641185 1.75979587 1.19632547 1.83347049 1.80728688\n",
      " 1.73493949 1.21683977 1.09621242 1.08514374 1.39710735 1.5208924\n",
      " 1.16496683 1.61316409 1.78896215 1.60787851 1.71484492 1.9105147\n",
      " 1.53802752 1.37780127 1.82970123 1.96740725 1.40980804 1.10368054\n",
      " 1.81195389 1.54662583 1.75464315 1.07543538 1.31241667 1.82922002\n",
      " 1.27837864 1.99697514 1.02315065 1.93484817 1.93923585 1.94805225\n",
      " 1.3984343  1.01754823 1.159405   1.84643523 1.02349721 1.74160959\n",
      " 1.31449353 1.25650421 1.4227211  1.12152732 1.31904213 1.67126897\n",
      " 1.11219402 1.79712036 1.86943107 1.73124163 1.82831207 1.8851588\n",
      " 1.61114399 1.50164185 1.02525429 1.7428229  1.79773533 1.19340754\n",
      " 1.10221243 1.28912059 1.70578848 1.63931758 1.74457083 1.81137056\n",
      " 1.03374159 1.83082874 1.95725505 1.97038684 1.46558896 1.45796207\n",
      " 1.24601328 1.75514384 1.91346961 1.81576631 1.88444991 1.30214051\n",
      " 1.73260994 1.69439011 1.89753693 1.97897767 1.15236755 1.38743302\n",
      " 1.56165972 1.68172809 1.49354563 1.88473985 1.65160337 1.3895632\n",
      " 1.26273773 1.89126865 1.05084769 1.52369159 1.48995739 1.79168224\n",
      " 1.5383775  1.83011326 1.0647076  1.43353704 1.1217261  1.8603495\n",
      " 1.3685427  1.04369285 1.72532274 1.03538421 1.62731632 1.03129976\n",
      " 1.94895826 1.39597274 1.41240602 1.89832102 1.65916208 1.96210626\n",
      " 1.98382925 1.4560952  1.67663111 1.58195345 1.98464769 1.6322098\n",
      " 1.33638726 1.8746936  1.72236095 1.36898501 1.87496419 1.17640899\n",
      " 1.80321965 1.84246599 1.57973441 1.14558887 1.23950717 1.03376112\n",
      " 1.64127333 1.15583506 1.4521628  1.55177528 1.1380497  1.61989472\n",
      " 1.71519672 1.00108493 1.24507854 1.56462887 1.56113709 1.48955078\n",
      " 1.0244935  1.1400117  1.59302421 1.08197368 1.00715882 1.16967817\n",
      " 1.06648993 1.61325739 1.16617413 1.50388484 1.17549329 1.14679784\n",
      " 1.78553761 1.72555253 1.80737638 1.7001269  1.88255039 1.6238322\n",
      " 1.39589029 1.15744679 1.17627209 1.11901798 1.29011315 1.464687\n",
      " 1.3271334  1.98152664 1.52504994 1.20231383 1.57923487 1.89701901\n",
      " 1.19936075 1.74570255 1.58036376 1.92782915 1.74600042 1.6308095\n",
      " 1.25086371 1.30864194 1.86733252 1.58234034 1.54187756 1.47764951\n",
      " 1.88698137 1.9664197  1.91408769 1.01294654 1.49041994 1.55880115\n",
      " 1.06360042 1.81435268 1.33939137 1.11751525 1.80998141 1.63984568\n",
      " 1.33444877 1.81225468 1.17494174 1.73523036 1.16841273 1.32282041\n",
      " 1.12817347 1.75837931 1.61307566 1.85759397 1.00791767 1.09759862\n",
      " 1.20749808 1.71684732 1.96277074 1.91906777 1.78237663 1.30801703\n",
      " 1.10129404 1.62589163 1.382977   1.33021924 1.26701828 1.53739273\n",
      " 1.89307869 1.39791949 1.67242074 1.65506897 1.97758774 1.99324724\n",
      " 1.53250105 1.18286996 1.53052092 1.20063104 1.87303611 1.58324406\n",
      " 1.77518998 1.33950436 1.38448055 1.96239742 1.4683923  1.38745262\n",
      " 1.22478443 1.41185869 1.83641392 1.12333041 1.8475313  1.51492064\n",
      " 1.55678896 1.50792685 1.78585935 1.98316411 1.45487662 1.15683501\n",
      " 1.53087736 1.60403659 1.55688322 1.21639567 1.14558214 1.56130509\n",
      " 1.8679737  1.27159567 1.86819935 1.03521272 1.61760932 1.87259944\n",
      " 1.88005381 1.63667876 1.11161826 1.17394704 1.95575509 1.32253366\n",
      " 1.13181563 1.63742439 1.50747483 1.12186018 1.26198202 1.30229855\n",
      " 1.07483238 1.63222124 1.92017957 1.41837946 1.93864105 1.43739187\n",
      " 1.03256924 1.74269433 1.58333409 1.53764664 1.31702128 1.23120308\n",
      " 1.12764496 1.17999725 1.14353191 1.98547652 1.71323639 1.89784153\n",
      " 1.91982243 1.27690492 1.53582377 1.22929849 1.0817659  1.60243926\n",
      " 1.71275214 1.2200443  1.35533108 1.65609616 1.36439899 1.69299692\n",
      " 1.33768956 1.39305737 1.43954573 1.95796977] \n",
      " <class 'numpy.ndarray'>\n"
     ]
    },
    {
     "data": {
      "text/plain": [
       "Text(0.5, 1.0, 'Uniform Distribution')"
      ]
     },
     "execution_count": 16,
     "metadata": {},
     "output_type": "execute_result"
    },
    {
     "data": {
      "image/png": "[encoded data removed]",
      "text/plain": [
       "<Figure size 432x288 with 1 Axes>"
      ]
     },
     "metadata": {
      "needs_background": "light"
     },
     "output_type": "display_data"
    }
   ],
   "source": [
    "# Lets explore Uniform distribution\n",
    "u = np.random.default_rng().uniform(1,2,1000)  # Grabbing 500 random values from 1 to 1.99999999. \n",
    "print(u,'\\n', type(u)) # lets print our values and see what type of result is returned.\n",
    "# Below lines adapted from official documentation [37]\n",
    "count, bins, ignored = plt.hist(u, bins = 20, color = 'gold', edgecolor = 'black', density=True, linewidth=2) \n",
    "plt.plot(bins, np.ones_like(bins), linewidth=3, color='green') # Adapted from Reference 40\n",
    "plt.xlabel('Uniform Distribution')\n",
    "plt.title('Uniform Distribution', fontweight = 'heavy', family = 'serif')\n"
   ]
  },
  {
   "cell_type": "markdown",
   "id": "6b6e43c4",
   "metadata": {},
   "source": [
    "We can see from the above result the Uniform function returns values within the specified range and in the form of a numpy array with the probability density function of 1.0. "
   ]
  },
  {
   "cell_type": "code",
   "execution_count": 17,
   "id": "46d5c1be",
   "metadata": {},
   "outputs": [
    {
     "data": {
      "text/plain": [
       "array([1.30530388, 1.16195605, 1.70478742, 1.60212586, 1.86133508,\n",
       "       1.51079506, 1.68570746, 1.01140077, 1.1116799 , 1.13742653,\n",
       "       1.93269163, 1.41173773, 1.44144543, 1.00219878, 1.8762011 ,\n",
       "       1.24855653, 1.57139366, 1.75799124, 1.22610316, 1.46360403,\n",
       "       1.08602184, 1.13594008, 1.85852893, 1.21023192, 1.83532045,\n",
       "       1.16985943, 1.93122419, 1.76679382, 1.40282075, 1.61035389,\n",
       "       1.76016695, 1.52933063, 1.0263745 , 1.77772463, 1.13680559,\n",
       "       1.56598887, 1.56825217, 1.92598011, 1.08539709, 1.59681737,\n",
       "       1.65790035, 1.55232249, 1.90721575, 1.78881253, 1.17635742,\n",
       "       1.13797473, 1.68292395, 1.80069897, 1.0699694 , 1.95533927])"
      ]
     },
     "execution_count": 17,
     "metadata": {},
     "output_type": "execute_result"
    }
   ],
   "source": [
    "# Lets see what happens when we potentially input values incorrectly\n",
    "u2 = np.random.default_rng().uniform(2,1,50) # our 'Low' limit is above out 'high' limit\n",
    "u2"
   ]
  },
  {
   "cell_type": "markdown",
   "id": "c5dc18f6",
   "metadata": {},
   "source": [
    "Surprisingly, this function still returns values however we obviously cannot trust them as we have set the inputs incorrectly. Further research into this finding revealed than an earlier version of Numpy accounted for this eventuality and included the following note [41]: \n",
    "\n",
    "![highLow](Images/highLow.PNG)\n",
    "\n",
    "***"
   ]
  },
  {
   "cell_type": "markdown",
   "id": "c6045892",
   "metadata": {},
   "source": [
    "\n",
    "######  Numpy.Random: random.Generator.normal\n"
   ]
  },
  {
   "cell_type": "markdown",
   "id": "36d5f9aa",
   "metadata": {},
   "source": [
    "Normal distribution (also referred to as Gaussian distribution) is a probability distribution that is perhaps most commonly seen in everyday life. The characteristic shape of the probability density function of the Normal distribution is a bell-curve, depicting the fact that data near the mean occurs more often that data farther than the mean [42,43]. In a Normal distribution, '68% of the observations are within +/- one standard deviation of the mean, 95% are within +/- two standard deviations, and 99.7% are within +- three standard deviations'[42]. \n",
    "<br>\n",
    "Normal distribution is perhaps the most commonly known form of distriubtion due to the fact many observations follow a Gaussian distibution, including [44]:\n",
    "-  Height\n",
    "-  blood pressure\n",
    "-  Exam Results\n",
    "\n",
    "In the Numpy package, <i>loc</i> refers to the mean of the distribution and <i>scale</i> refers to the standard deviation [43].\n",
    "\n",
    "![Normal](Images/normal.png)\n"
   ]
  },
  {
   "cell_type": "code",
   "execution_count": 18,
   "id": "6cd0bd2b",
   "metadata": {},
   "outputs": [],
   "source": [
    "# Investigating the Normal distribution function\n",
    "mu, sigma = 0, 0.2 # mean and standard deviation\n",
    "s = np.random.default_rng().normal(mu, sigma, 1000)"
   ]
  },
  {
   "cell_type": "code",
   "execution_count": 19,
   "id": "fce4c158",
   "metadata": {},
   "outputs": [
    {
     "name": "stdout",
     "output_type": "stream",
     "text": [
      "The mean (mu) of the values is: 0 and the standard deviation(sigma) is: 0.2\n"
     ]
    },
    {
     "data": {
      "image/png": "[encoded data removed]",
      "text/plain": [
       "<Figure size 432x288 with 1 Axes>"
      ]
     },
     "metadata": {
      "needs_background": "light"
     },
     "output_type": "display_data"
    }
   ],
   "source": [
    "# Plotting the resulting random variables\n",
    "count, bins, ignored = plt.hist(s, 35, density=True) # adapted from Reference 43.\n",
    "# The below lines of code is filling in input values for the probability density as outlines in Reference 43.\n",
    "plt.plot(bins, 1/(sigma * np.sqrt(2 * np.pi)) *\n",
    "               np.exp( - (bins - mu)**2 / (2 * sigma**2) ),\n",
    "         linewidth=3, label= 'PDF', color='blue') # pdf = Probability Density Function\n",
    "plt.xlabel('x', fontweight = 'bold')\n",
    "plt.ylabel('Density', fontweight = 'bold')\n",
    "plt.suptitle('Normal Distribution', fontsize = 15)\n",
    "plt.legend()\n",
    "print('The mean (mu) of the values is:', mu , 'and the standard deviation(sigma) is:', sigma)"
   ]
  },
  {
   "cell_type": "code",
   "execution_count": 20,
   "id": "4c406353",
   "metadata": {},
   "outputs": [
    {
     "data": {
      "text/plain": [
       "<matplotlib.legend.Legend at 0x12b57166550>"
      ]
     },
     "execution_count": 20,
     "metadata": {},
     "output_type": "execute_result"
    },
    {
     "data": {
      "image/png": "[encoded data removed]",
      "text/plain": [
       "<Figure size 432x288 with 1 Axes>"
      ]
     },
     "metadata": {
      "needs_background": "light"
     },
     "output_type": "display_data"
    }
   ],
   "source": [
    "# Lets generate an array of values and investigate altering parameters\n",
    "mu1, sigma1 = 0, 1\n",
    "s1 = np.random.default_rng().normal(mu1, sigma1, 500)\n",
    "plt.hist(s1, bins=25, density=True, label='$\\mu=0, \\sigma=1$', color = 'green') # Lettering adapted from Reference 45.\n",
    "\n",
    "# Lets alter the mean value\n",
    "mu2, sigma2 = 4, 1\n",
    "s2 = np.random.default_rng().normal(mu2, sigma2, 500)\n",
    "# changing alpha to alter transparency [46]\n",
    "plt.hist(s2, bins=25, alpha = 0.5, density=True, label='$\\mu=4, \\sigma=1$', color = 'red')\n",
    "\n",
    "# Lets alter the standard deviation \n",
    "mu3, sigma3 = 4, 2\n",
    "s3 = np.random.default_rng().normal(mu3, sigma3, 500)\n",
    "plt.hist(s3, bins=25, density=True, alpha=0.5, label='$\\mu=4, \\sigma=2$', color = 'gold') \n",
    "\n",
    "# Lets overlay our plots\n",
    "plt.xlabel('x', size=12)\n",
    "plt.ylabel('Density', size=12)\n",
    "plt.title('Normal distribution', size=12)\n",
    "plt.legend()\n"
   ]
  },
  {
   "cell_type": "markdown",
   "id": "5ef8e0d5",
   "metadata": {},
   "source": [
    "We can clearly see how changing each parameter drastically affects the resulting array of values. In the first histogram, the peak of the curve is centered around zero while in the second histogram the values are concentrated around 4. Altering the standard deviation, as specifed in the third histogram, results in a much greater 'spread' of value distribution. \n",
    "\n",
    "***"
   ]
  },
  {
   "cell_type": "markdown",
   "id": "9f53ab01",
   "metadata": {},
   "source": [
    "###### Numpy.Random:  random.Generator.poisson\n"
   ]
  },
  {
   "cell_type": "markdown",
   "id": "4636c8e8",
   "metadata": {},
   "source": [
    "At it's most basic, a Poisson distribution can be used to estimate the probability of a certain event occurring within a fixed-time interval [47]. In everyday use, Poisson distributions are used to estimate the 'number of car crashes in a city of a given size' [47]. Other common questions that can be answered using a Poisson distribution is the numbers of books sold in a week, number of storms in a city over a given time period [50]. \n",
    "\n",
    "![Poisson](Images/poisson.png)\n",
    "<i>Adapted from Reference 48</i>\n",
    "\n",
    "\n",
    "In Numpy, the Poisson function contains the <i>lam (lambda)</i> parameter, which is the 'expected number of events occurring in a fixed-time interval' [49]. As the value of <i>lambda</i> changes, the probability of the number of events occuring within a defined time interval also changes [49].\n"
   ]
  },
  {
   "cell_type": "code",
   "execution_count": 21,
   "id": "1f61d18c",
   "metadata": {},
   "outputs": [
    {
     "data": {
      "text/plain": [
       "<matplotlib.legend.Legend at 0x12b56dc7370>"
      ]
     },
     "execution_count": 21,
     "metadata": {},
     "output_type": "execute_result"
    },
    {
     "data": {
      "image/png": "[encoded data removed]",
      "text/plain": [
       "<Figure size 432x288 with 1 Axes>"
      ]
     },
     "metadata": {
      "needs_background": "light"
     },
     "output_type": "display_data"
    }
   ],
   "source": [
    "# Exploration of the Poisson function\n",
    "\n",
    "rng = np.random.default_rng()  # Generate some random values\n",
    "\n",
    "# Let's change the value for lambda\n",
    "p = rng.poisson(1, 10000) # setting lam to 1.0, with 10000 values\n",
    "plt.hist(p, bins = 10, density = True, alpha = 0.3, color = 'red', label='$\\lambda=1$')\n",
    "p1 = rng.poisson(2, 10000) # setting lam to 2.0, with 10000 values\n",
    "plt.hist(p1, bins = 10, density = True,alpha = 1.0, color = 'blue', label='$\\lambda = 2$')\n",
    "p2 = rng.poisson(5, 10000) # setting lam to 5.0, with 10000 values\n",
    "plt.hist(p2, bins = 20, density = True, color = 'green', alpha = 0.2, label='$\\lambda = 5$')\n",
    "\n",
    "# Lets overlay our plots\n",
    "plt.xlabel(' Events', size=12)\n",
    "plt.ylabel('Probability', size=12)\n",
    "plt.title('Poisson distribution', size=12)\n",
    "plt.legend()"
   ]
  },
  {
   "cell_type": "markdown",
   "id": "16473ebc",
   "metadata": {},
   "source": [
    "Upon examination, we can see that the probability of an event occuring reaches it's peak as it approaches <i>lambda</i>.\n",
    "***"
   ]
  },
  {
   "cell_type": "markdown",
   "id": "016a9c1a",
   "metadata": {},
   "source": [
    "###### Numpy.Random:  random.Generator.pareto\n",
    "\n",
    "At it's most basic, the Pareto principle details an unequal relationship between inputs and outputs, in where 80% of the consequences comes from 20% of the causes [51]. For this reason, it's also known as the '80/20 Rule' [51]. In everyday terms, we can relate this to an example of a company where 20% of the products a company sells generates 80% of the company's profits. Historically, this observation came from the Italian economist\n",
    "[Vilfredo Pareto](https://www.econlib.org/library/Enc/bios/Pareto.html) who calculated that 80% of Italian wealth was owned by 20% of the population [52]. \n",
    "\n",
    "![Pareto](Images/pareto.png) <i>Adapted from Reference 53</i>\n",
    "\n",
    "In Numpy, there are two parameters for the pareto function: <i>a</i>, which denotes the shape of the distribution and must be positive and <i> size</i>, which denotes the shape of the output [53]. The pareto distribution is obtained by adding 1 and multiplying by the scale parameter <i> m </i>.\n",
    "    \n",
    "![Par_dist](Images/par_dist.png) <i>Adapted from Reference 53</i>\n"
   ]
  },
  {
   "cell_type": "code",
   "execution_count": 22,
   "id": "f9f8587c",
   "metadata": {},
   "outputs": [],
   "source": [
    "# Lets explore the Pareto distribution\n",
    "a, m = 4., 4.  # shape and mode as detailed in Reference 53\n",
    "par = (np.random.default_rng().pareto(a, 1000) + 1) * m # generating random values based on pareto"
   ]
  },
  {
   "cell_type": "code",
   "execution_count": 23,
   "id": "a48bf2a4",
   "metadata": {},
   "outputs": [
    {
     "data": {
      "text/plain": [
       "<matplotlib.legend.Legend at 0x12b56dcbe20>"
      ]
     },
     "execution_count": 23,
     "metadata": {},
     "output_type": "execute_result"
    },
    {
     "data": {
      "image/png": "[encoded data removed]",
      "text/plain": [
       "<Figure size 432x288 with 1 Axes>"
      ]
     },
     "metadata": {
      "needs_background": "light"
     },
     "output_type": "display_data"
    }
   ],
   "source": [
    "count, bins, _ = plt.hist(par, 40, density=True) # setting variables as per official documentation [53]\n",
    "fit = a*m**a / bins**(a+1)\n",
    "plt.plot(bins, max(count)*fit/max(fit), linewidth=3, color='green', label = 'm = 4' )\n",
    "\n",
    "plt.xlabel('x', size=12)\n",
    "plt.ylabel('f(x)', size=12)\n",
    "plt.title('Pareto distribution', size=12)\n",
    "plt.legend()\n",
    "\n"
   ]
  },
  {
   "cell_type": "markdown",
   "id": "ad81e01d",
   "metadata": {},
   "source": [
    "As can be deduced from the initial introduction to Pareto distribution, we can see here the spread of a range of values within Pareto distribution. In contrast to the distributions we have examined so far where there is a 'central peak' in the data, we see here that the majority of values fall within the initial 20% range with a corresponding tailing-off for the remaining values. This 'tailing-off' phenomenon is also known as the Pareto Index or the slope [54]. \n",
    "\n"
   ]
  },
  {
   "cell_type": "markdown",
   "id": "f7c57fe7",
   "metadata": {},
   "source": [
    "***\n",
    "##### Numpy.Random:  random.Generator.gamma\n",
    "\n",
    "In a nutshell, Gamma distribution (an aspect of the Poisson process) is primarily used to model the wait time until future events [55]. The difference between Gamma distribution and Exponential distribution is that Exponential distribution accounts for the <b>first event</b> while Gamma distribution models for the '<b>k-th</b>' event, where <i>'k'</i> denotes the shape and <i>'th'</i> denotes the scale (which accounts for where the majority of the observations will lie) [55,56]. Gamma distribution is used for continuous variables that have skewed distributions [57]. Skewness is a measure of the distortion of data from the normal distribution i.e the 'bell-shape' curve [58].\n",
    "\n",
    "In everyday life, Gamma distributions can be used to model the following: \n",
    "- Rainfall Rates\n",
    "- Life expectancies\n",
    "- Failure of electronic componants \n",
    "\n",
    "\n",
    "\n",
    "![gamma.png](Images/gamma.png)\n",
    "<i>Adapted from Reference 56</i>"
   ]
  },
  {
   "cell_type": "code",
   "execution_count": 24,
   "id": "ef4a8d00",
   "metadata": {},
   "outputs": [],
   "source": [
    "# Generate our values\n",
    "shape, scale = 2., 2.  # mean=4, std=2*sqrt(2)\n",
    "g = np.random.default_rng().gamma(shape, scale, 500)"
   ]
  },
  {
   "cell_type": "code",
   "execution_count": 25,
   "id": "3d8ee80e",
   "metadata": {},
   "outputs": [
    {
     "data": {
      "text/plain": [
       "<matplotlib.legend.Legend at 0x12b570c2520>"
      ]
     },
     "execution_count": 25,
     "metadata": {},
     "output_type": "execute_result"
    },
    {
     "data": {
      "image/png": "[encoded data removed]",
      "text/plain": [
       "<Figure size 432x288 with 1 Axes>"
      ]
     },
     "metadata": {
      "needs_background": "light"
     },
     "output_type": "display_data"
    }
   ],
   "source": [
    "# Investigating Gamma distribution as per Official Documentation [56]\n",
    "count, bins, ignored = plt.hist(g, 50, density=True)\n",
    "y = bins**(shape-1)*(np.exp(-bins/scale) /  \n",
    "                     (sps.gamma(shape)*scale**shape))\n",
    "plt.plot(bins, y, linewidth=2, color='blue', label = 'k = 2')  \n",
    "plt.title('Gamma distribution', fontweight = 'bold')\n",
    "plt.ylabel('Frequency')\n",
    "plt.legend()\n"
   ]
  },
  {
   "cell_type": "code",
   "execution_count": 26,
   "id": "0257dd44",
   "metadata": {},
   "outputs": [
    {
     "data": {
      "image/png": "[encoded data removed]",
      "text/plain": [
       "<Figure size 432x288 with 1 Axes>"
      ]
     },
     "metadata": {
      "needs_background": "light"
     },
     "output_type": "display_data"
    }
   ],
   "source": [
    "# Investigating the effect of altering the shape parameter\n",
    "g1 = np.random.default_rng().gamma(shape, scale, 500)\n",
    "\n",
    "# Changing shape value to 4\n",
    "shape1, scale = 4., 2.  \n",
    "count, bins, ignored = plt.hist(g1, 50, density=True)\n",
    "y1 = bins**(shape1-1)*(np.exp(-bins/scale) /  \n",
    "                     (sps.gamma(shape1)*scale**shape1))\n",
    "plt.plot(bins, y1, linewidth=2, color='blue', label = 'k = 4')  \n",
    "\n",
    "\n",
    "# Changing shape value to 2\n",
    "shape2, scale = 2., 2.  \n",
    "count, bins, ignored = plt.hist(g1, 50, density=True)\n",
    "y2 = bins**(shape2-1)*(np.exp(-bins/scale) /  \n",
    "                     (sps.gamma(shape2)*scale**shape2))\n",
    "plt.plot(bins, y2, linewidth=2, color='red', label = 'k = 2')  \n",
    "\n",
    "# Changing shape value to 0.9\n",
    "shape3, scale = 0.9, 2. \n",
    "count, bins, ignored = plt.hist(g1, 50, density=True)\n",
    "y3 = bins**(shape3-1)*(np.exp(-bins/scale) /  \n",
    "                     (sps.gamma(shape3)*scale**shape3))\n",
    "plt.plot(bins, y3, linewidth=2, color='black', label = 'k = 0.9')  \n",
    "\n",
    "# Lets overlay our plots\n",
    "plt.ylabel('Frequency', size=12)\n",
    "plt.title('Changing Shape Parameter', size=12)\n",
    "plt.legend()\n",
    "plt.grid()\n"
   ]
  },
  {
   "cell_type": "markdown",
   "id": "b181b4c3",
   "metadata": {},
   "source": [
    "We can see that altering the shape parameter decreases the overall skew. A k-value of below 1 leads to an asymptotic distribution while as the value of <i>k</i> increases, the overall skew appears to decrease. "
   ]
  },
  {
   "cell_type": "code",
   "execution_count": 27,
   "id": "bac44104",
   "metadata": {},
   "outputs": [
    {
     "data": {
      "image/png": "[encoded data removed]",
      "text/plain": [
       "<Figure size 432x288 with 1 Axes>"
      ]
     },
     "metadata": {
      "needs_background": "light"
     },
     "output_type": "display_data"
    }
   ],
   "source": [
    "# Investigating the effect of altering the scale parameter\n",
    "g2 = np.random.default_rng().gamma(shape1, scale, 500)\n",
    "\n",
    "# Changing scale value to 0.9\n",
    "shape1, scale1 = 1, 0.9 \n",
    "count, bins, ignored = plt.hist(g2, 50, density=True)\n",
    "y1 = bins**(shape1-1)*(np.exp(-bins/scale1) /  \n",
    "                     (sps.gamma(shape1)*scale1**shape1))\n",
    "plt.plot(bins, y1, linewidth=2, color='blue', label = 'scale = 0.9')  \n",
    "\n",
    "\n",
    "# Changing scale value to 1.5\n",
    "scale2 =  1.5 \n",
    "count, bins, ignored = plt.hist(g1, 50, density=True)\n",
    "y2 = bins**(shape1-1)*(np.exp(-bins/scale2) /  \n",
    "                     (sps.gamma(shape1)*scale2**shape1))\n",
    "plt.plot(bins, y2, linewidth=2, color='red', label = 'scale = 1.5')  \n",
    "\n",
    "# Changing scale value to 3\n",
    "scale3 = 3\n",
    "count, bins, ignored = plt.hist(g1, 50, density=True)\n",
    "y3 = bins**(shape1-1)*(np.exp(-bins/scale3) /  \n",
    "                     (sps.gamma(shape1)*scale3**shape1))\n",
    "plt.plot(bins, y3, linewidth=2, color='black', label = 'scale = 3')  \n",
    "\n",
    "# Lets overlay our plots\n",
    "plt.ylabel('Frequency', size=12)\n",
    "plt.title('Changing Scale Parameter', size=12)\n",
    "plt.legend()\n",
    "plt.grid()"
   ]
  },
  {
   "cell_type": "markdown",
   "id": "aafe01aa",
   "metadata": {},
   "source": [
    "Again, we can see that altering the scale parameter decreases the overall skew.\n",
    "<br>\n",
    "To finish off this process, it is also important to highlight the difference between Gamma and Poisson distribution. Gamma distribution us used to model the wait until the k-th event whereas Poisson distribution is used to model the number of events that may occur in the future [59]."
   ]
  },
  {
   "cell_type": "markdown",
   "id": "5b997fd0",
   "metadata": {},
   "source": [
    "***\n",
    "## The use of Seeds in generating Random Numbers\n",
    "***"
   ]
  },
  {
   "cell_type": "markdown",
   "id": "5501fd2f",
   "metadata": {},
   "source": [
    "There have been some important changes in Seeding in the latest version of the Numpy.random package. I have highlighted some of the differences in Generators in the section [So how does this tie in to the Numpy.Random Package](#so_how_does_this_tie_in_to_the_Numpy.Random_Package?). 'Seeding', as discussed in the same earlier section, essentially allows work to be reproducible by controlling the set of 'random' numbers generated. Random State has been replaced by a 'Generator', which incorporates the use of an additional BitGenerator (using PCG64) that generates random bits [3,10]. These random bits are converted into random values by the action of the Generator[3,10,11].\n",
    "\n",
    "![Random_Gen](Images/random_Gen.png)\n",
    "<i>Adapted from Reference 60</i>"
   ]
  },
  {
   "cell_type": "markdown",
   "id": "7636f2d6",
   "metadata": {},
   "source": [
    "As can be seen from the official documentation [60], several parameters can be called for <i>seed</i>. The only thing here that may cause uncertainty is 'SeedSequence', which essentially 'mixes sources of entropy in a reproducible way to set the initial state for independent and very probably non-overlapping BitGenerators'[61]. Previous versions of Numpy used what is known as the 'Mersenne Twister' algorithm [10,11]. This has now been replaced by PCG-64 (Permuted Congruential Generator) due to enhanced performence [10,11,62]. In the official documentation, a table has been compiled detailing processing speeds for generating random values from different distributions [62]. Some striking differences appear in computing times (in nanoseconds) for generating values in Uniform distribution (MT19937:5.9 vs PCG64:3.1) , Gamma distribution (MT19937:37.2 vs PCG64:30.8) and Poisson distributions (MT19937:111.7 vs PCG64:103.4) [62]. PCG64 has also improved performance on different operating systems [62]. "
   ]
  },
  {
   "cell_type": "code",
   "execution_count": 28,
   "id": "05dc9212",
   "metadata": {},
   "outputs": [
    {
     "name": "stdout",
     "output_type": "stream",
     "text": [
      "Generator(PCG64)\n",
      "0.4297614796603145\n"
     ]
    },
    {
     "data": {
      "text/plain": [
       "float"
      ]
     },
     "execution_count": 28,
     "metadata": {},
     "output_type": "execute_result"
    }
   ],
   "source": [
    "# Lets start generating some random float values\n",
    "# Taken from Official Documentation [60]\n",
    "rng = np.random.default_rng()\n",
    "print(rng) # Verifying the Generator\n",
    "r_float = rng.random()\n",
    "print(r_float) # Print our float value\n",
    "type(r_float) # Verify it is indeed a float\n"
   ]
  },
  {
   "cell_type": "code",
   "execution_count": 77,
   "id": "a3acbf48",
   "metadata": {},
   "outputs": [
    {
     "name": "stdout",
     "output_type": "stream",
     "text": [
      "[0 1]\n",
      "[2 4]\n"
     ]
    },
    {
     "data": {
      "text/plain": [
       "array([False, False])"
      ]
     },
     "execution_count": 77,
     "metadata": {},
     "output_type": "execute_result"
    }
   ],
   "source": [
    "# Generating integer values\n",
    "# Low and High parameters are same as we have detailed throught (inclusive, exclusive)\n",
    "rng = np.random.default_rng()\n",
    "r_ints = rng.integers(low=0, high=5, size=2) # two values between 0 and 4\n",
    "print(r_ints)\n",
    "r1_ints = rng.integers(low=0, high=5, size=2) # two values between 0 and 4\n",
    "print(r1_ints)\n",
    "\n",
    "# Boolean to determine if both arrays are the same\n",
    "r1_ints == r_ints"
   ]
  },
  {
   "cell_type": "markdown",
   "id": "ca79b443",
   "metadata": {},
   "source": [
    "We can see here we are generating arrays of different values. "
   ]
  },
  {
   "cell_type": "code",
   "execution_count": 102,
   "id": "cb7a9f4a",
   "metadata": {},
   "outputs": [
    {
     "name": "stdout",
     "output_type": "stream",
     "text": [
      "[[0.95600171 0.20768181 0.82844489]\n",
      " [0.14928212 0.51280462 0.1359196 ]\n",
      " [0.68903648 0.84174772 0.425509  ]\n",
      " [0.956926   0.82533291 0.33821531]\n",
      " [0.57576055 0.75330186 0.82710394]]\n"
     ]
    }
   ],
   "source": [
    "# Lets start seeding so that we get reproducible results\n",
    "rng = np.random.default_rng(seed=10) # setting the seed value as 10\n",
    "arr_1 = rng.random((5, 3)) # producing an array of results\n",
    "print(arr_1) # printing the results"
   ]
  },
  {
   "cell_type": "code",
   "execution_count": 103,
   "id": "dcb553fe",
   "metadata": {},
   "outputs": [
    {
     "name": "stdout",
     "output_type": "stream",
     "text": [
      "[[0.95600171 0.20768181 0.82844489]\n",
      " [0.14928212 0.51280462 0.1359196 ]\n",
      " [0.68903648 0.84174772 0.425509  ]\n",
      " [0.956926   0.82533291 0.33821531]\n",
      " [0.57576055 0.75330186 0.82710394]]\n"
     ]
    }
   ],
   "source": [
    "rng = np.random.default_rng(seed=10) # setting the seed value as 10\n",
    "arr_2 = rng.random((5, 3))  # producing an array of results\n",
    "print(arr_2) # printing the results"
   ]
  },
  {
   "cell_type": "code",
   "execution_count": 104,
   "id": "818c84df",
   "metadata": {},
   "outputs": [
    {
     "data": {
      "image/png": "[encoded data removed]",
      "text/plain": [
       "<Figure size 432x288 with 1 Axes>"
      ]
     },
     "metadata": {
      "needs_background": "light"
     },
     "output_type": "display_data"
    }
   ],
   "source": [
    "# Lets plot arr_1\n",
    "plt.plot(arr_1, '.', label = 'arr_1')\n",
    "plt.xlabel('Points', size=12)\n",
    "plt.title('Arr_1', size=12)\n",
    "plt.grid(False)"
   ]
  },
  {
   "cell_type": "code",
   "execution_count": 106,
   "id": "7673c099",
   "metadata": {},
   "outputs": [
    {
     "data": {
      "image/png": "[encoded data removed]",
      "text/plain": [
       "<Figure size 432x288 with 1 Axes>"
      ]
     },
     "metadata": {
      "needs_background": "light"
     },
     "output_type": "display_data"
    }
   ],
   "source": [
    "# Lets plot arr_2\n",
    "plt.plot(arr_2, '.', label = 'arr_2')\n",
    "plt.xlabel('Points', size=12)\n",
    "plt.title('Arr_2', size=12)\n",
    "plt.grid(False)"
   ]
  },
  {
   "cell_type": "code",
   "execution_count": 107,
   "id": "4e6bf720",
   "metadata": {},
   "outputs": [
    {
     "data": {
      "text/plain": [
       "array([[ True,  True,  True],\n",
       "       [ True,  True,  True],\n",
       "       [ True,  True,  True],\n",
       "       [ True,  True,  True],\n",
       "       [ True,  True,  True]])"
      ]
     },
     "execution_count": 107,
     "metadata": {},
     "output_type": "execute_result"
    }
   ],
   "source": [
    "# Boolean to determine if both arrays are the same\n",
    "arr_1 == arr_2"
   ]
  },
  {
   "cell_type": "markdown",
   "id": "3331937d",
   "metadata": {},
   "source": [
    "What we see above is essentially the basis of Seeding. We have set the same seed for both arrays and then called the random module to provide an array of numbers for us. As we have set the same seed, the 'random' values returned for each array are exactly the same. This brings us nicely to the concept of 'pseudo-random' values. As the name suggests, 'pseudo-random numbers' are not inherently random. The random numbers generated by a computer are in fact 'pseudo-random', as they are generated by algorithms[3]. As we know, computers are deterministic in nature [63]. Using this logic, if we know the 'seed value' going to be used by an algorithm, we can predict the next 'random' value. This is what we have shown above. "
   ]
  },
  {
   "cell_type": "markdown",
   "id": "bd539515",
   "metadata": {},
   "source": [
    "***\n",
    "<br>"
   ]
  },
  {
   "cell_type": "markdown",
   "id": "8a5856cc",
   "metadata": {},
   "source": [
    "# References\n",
    "\n",
    "1.  https://www.fiverr.com/naazneen_jatu/create-python-jupyter-notebooks \n",
    "2.  https://towardsdatascience.com/how-to-create-numpy-arrays-from-scratch-3e0341f9ffea \n",
    "3. https://numpy.org/doc/stable/reference/random/index.html \n",
    "4. https://numpy.org/doc/stable/user/whatisnumpy.html \n",
    "5. https://numpy.org/ \n",
    "6.  https://medium.com/fintechexplained/why-should-we-use-numpy-c14a4fb03ee9\n",
    "7.  https://medium.com/backticks-tildes/list-vs-array-python-data-type-40ac4f294551 \n",
    "8.  https://datascienceparichay.com/article/how-to-remove-elements-from-a-numpy-array/\n",
    "9.  https://numpy.org/doc/stable/reference/random/bit_generators/index.html \n",
    "10. https://towardsdatascience.com/stop-using-numpy-random-seed-581a9972805f \n",
    "11. https://www.pcg-random.org/index.html \n",
    "12. https://www.cryptologie.net/article/331/how-does-the-mersennes-twister-work/ \n",
    "13. https://pythonguides.com/python-numpy-random/ \n",
    "14. Python for Data Analysis, Wes McKinney, O'Reilly,2018 \n",
    "15. https://www.merriam-webster.com/dictionary/permute \n",
    "16. https://medium.com/analytics-vidhya/editing-data-visualization-in-python-64f42225ba21 \n",
    "17. DEV Community. Subplotting with matplotlib and seaborn\n",
    "18. https://docs.python.org/3/tutorial/errors.html) \n",
    "19.  https://matplotlib.org/stable/tutorials/text/text_props.html \n",
    "20.  https://htmlcolorcodes.com/ \n",
    "21. https://numpy.org/doc/stable/reference/random/generated/numpy.random.Generator.integers.html#numpy.random.Generator.integers \n",
    "22. https://numpy.org/doc/stable/reference/random/generated/numpy.random.Generator.random.html#numpy.random.Generator.random\n",
    "23.  https://corporatefinanceinstitute.com/resources/knowledge/other/uniform-distribution/ \n",
    "24.  https://www.shmoop.com/probability-statistics/discrete-continuous-data.html \n",
    "25.  https://thatsmaths.com/2016/12/22/twenty-heads-in-succession-how-long-will-we-wait/ \n",
    "26. https://numpy.org/doc/stable/reference/random/generated/numpy.random.Generator.choice.html#numpy.random.Generator.choice \n",
    "27.  https://stackoverflow.com/questions/12282232/how-do-i-count-unique-values-inside-a-list \n",
    "28.  https://numpy.org/doc/stable/reference/generated/numpy.asarray.html \n",
    "29.  https://stackoverflow.com/questions/31594549/how-do-i-change-the-figure-size-for-a-seaborn-plot \n",
    "30. https://numpy.org/doc/stable/reference/random/generated/numpy.random.Generator.bytes.html#numpy.random.Generator.bytes \n",
    "31. https://numpy.org/doc/stable/reference/random/generated/numpy.random.Generator.shuffle.html#numpy.random.Generator.shuffle   \n",
    "32. https://ipython-books.github.io/13-introducing-the-multidimensional-array-in-numpy-for-fast-array-computations/ \n",
    "33. https://numpy.org/doc/stable/reference/random/generated/numpy.random.Generator.permutation.html#numpy.random.Generator.permutation \n",
    "34. https://stackoverflow.com/questions/15474159/shuffle-vs-permute-numpy \n",
    "35. https://numpy.org/doc/stable/reference/random/generated/numpy.random.Generator.permuted.html#numpy.random.Generator.permuted\n",
    "36. https://stattrek.com/probability-distributions/probability-distribution.aspx \n",
    "37. https://stackoverflow.com/questions/48655801/tables-in-markdown-in-jupyter\n",
    "38. https://numpy.org/doc/stable/reference/random/generated/numpy.random.Generator.uniform.html#numpy.random.Generator.uniform\n",
    "39. https://www.investopedia.com/terms/u/uniform-distribution.asp\n",
    "40. https://www.investopedia.com/terms/p/pdf.asp\n",
    "41. https://numpy.org/doc/stable/reference/generated/numpy.ones_like.html\n",
    "42. https://numpy.org/doc/stable/reference/random/generated/numpy.random.uniform.html\n",
    "43. https://www.investopedia.com/terms/n/normaldistribution.asp \n",
    "44. https://numpy.org/doc/stable/reference/random/generated/numpy.random.Generator.normal.html#numpy.random.Generator.normal\n",
    "45. https://www.mathsisfun.com/data/standard-normal-distribution.html\n",
    "46. https://tex.stackexchange.com/questions/171211/mu-is-printing-the-greek-letter-mu-on-a-separate-single-line\n",
    "47. matplotlib.org. Text properties and layout — Matplotlib 3.1.2 documentation. \n",
    "48. https://www.investopedia.com/terms/p/poisson-distribution.asp \n",
    "49. https://numpy.org/doc/stable/reference/random/generated/numpy.random.Generator.poisson.html#numpy.random.Generator.poisson \n",
    "50. https://towardsdatascience.com/the-poisson-distribution-and-poisson-process-explained-4e2cb17d459 \n",
    "51. https://studiousguy.com/poisson-distribution-examples/#6_Number_of_Books_Sold_per_Week \n",
    "52. https://www.investopedia.com/terms/p/paretoprinciple.asp\n",
    "53. https://betterexplained.com/articles/understanding-the-pareto-principle-the-8020-rule/\n",
    "54. https://numpy.org/doc/stable/reference/random/generated/numpy.random.Generator.pareto.html#numpy.random.Generator.pareto \n",
    "55. https://www.definitions.net/definition/pareto+index \n",
    "56. https://towardsdatascience.com/gamma-distribution-intuition-derivation-and-examples-55f407423840 \n",
    "57. https://numpy.org/doc/stable/reference/random/generated/numpy.random.Generator.gamma.html#numpy.random.Generator.gamma \n",
    "58. https://www.mygreatlearning.com/blog/gamma-distribution/ \n",
    "59. https://www.investopedia.com/terms/s/skewness.asp \n",
    "60. https://towardsdatascience.com/gamma-distribution-intuition-derivation-and-examples-55f407423840#:~:text=Poisson%20distribution%20is%20used%20to,until%20the%20k%2Dth%20event.\n",
    "61. https://numpy.org/doc/stable/reference/random/generator.html \n",
    "62. https://numpy.org/doc/stable/reference/random/bit_generators/generated/numpy.random.SeedSequence.html#numpy.random.SeedSequence \n",
    "63. https://numpy.org/doc/stable/reference/random/performance.html\n",
    "64. https://www.techopedia.com/definition/602/deterministic-system\n",
    "65. https://towardsdatascience.com/markdown-cells-jupyter-notebook-d3bea8416671 "
   ]
  },
  {
   "cell_type": "markdown",
   "id": "4dff1490",
   "metadata": {},
   "source": [
    "\n",
    "\n",
    "\n",
    "***"
   ]
  },
  {
   "cell_type": "markdown",
   "id": "75635934",
   "metadata": {},
   "source": [
    "This concludes my analysis into the Numpy Random package in Python. Thank you for taking the time to read this and I hope this helped your understanding of the computing power of the package."
   ]
  },
  {
   "cell_type": "markdown",
   "id": "24a50d74",
   "metadata": {},
   "source": [
    "# The End"
   ]
  }
 ],
 "metadata": {
  "kernelspec": {
   "display_name": "Python 3",
   "language": "python",
   "name": "python3"
  },
  "language_info": {
   "codemirror_mode": {
    "name": "ipython",
    "version": 3
   },
   "file_extension": ".py",
   "mimetype": "text/x-python",
   "name": "python",
   "nbconvert_exporter": "python",
   "pygments_lexer": "ipython3",
   "version": "3.8.8"
  }
 },
 "nbformat": 4,
 "nbformat_minor": 5
}
