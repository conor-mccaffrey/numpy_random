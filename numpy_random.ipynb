{
 "cells": [
  {
   "cell_type": "markdown",
   "id": "90e3f6b1",
   "metadata": {},
   "source": [
    "# The Numpy.Random Package\n",
    "\n",
    "***\n",
    "\n",
    "![Python & Jupyter](Images/python-jupyter-notebooks.jpg)\n",
    "\n",
    "![Numpy](Images/Numpy.png)\n",
    "\n",
    "\n",
    "\n",
    "######  <i> Pictures adapted from references 1,2  </i>\n",
    "\n",
    "## Conor McCaffrey\n",
    "#### Programming for Data Analysis 2021.\n",
    "[Official Documentation for the Numpy Random Package](https://numpy.org/doc/stable/reference/random/index.html)  [3] <br>\n",
    "[Click here for copy of Assignment](Images/ProgDA_Assignment.pdf)\n",
    "\n",
    "\n",
    "***"
   ]
  },
  {
   "cell_type": "markdown",
   "id": "ee2bb60d",
   "metadata": {},
   "source": [
    "## Assignment Objectives\n",
    "- Explain the overall purpose of the package.\n",
    "- Explain the use of the “Simple random data” and “Permutations” functions.\n",
    "- Explain the use and purpose of at least five “Distributions” functions.\n",
    "- Explain the use of seeds in generating pseudorandom numbers."
   ]
  },
  {
   "cell_type": "markdown",
   "id": "b606555c",
   "metadata": {},
   "source": [
    "## What is the purpose of the Numpy.Random Package?"
   ]
  },
  {
   "attachments": {
    "pdf.PNG": {
     "image/png": "[encoded data removed]"
    }
   },
   "cell_type": "markdown",
   "id": "4d28faaa",
   "metadata": {},
   "source": [
    "###### Overview of Numpy.\n",
    "Prior to delving too deeply into the mechanics of a package, it is prudent to first understand the inherent purpose of a package. \n",
    "<br>\n",
    "- <u> Numpy</u> (an abbreviation of \"<b>Num</b>erical <b>Py</b>thon\"  [4] ) is essentially \" the fundamental package for scientific computing in Python \" [5]. This open-source package provides many resources that are of particular importance to scientific computing. According to official documentation [5], Numpy is a \"Python library that provides a multidimensional array object, various derived objects (such as masked arrays and matrices), and an assortment of routines for fast operations on arrays, including mathematical, logical, shape manipulation, sorting, selecting, I/O, discrete Fourier transforms, basic linear algebra, basic statistical operations, random simulation and much more\". \n",
    "- The core of the Numpy package is the \"array\", which is similar to a list with the main exception being that we can perform mathematical operations/arithmetic functions on arrays that are not possible on lists [6]. Lists can contain data of differing data-types while arrays are used to house elements of the same data type [7]. Upon creation, an array has a fixed size (technically immutable) in where changing elements of an array will delete the original and return a copy of the original array with whatever operation you requested, in contrast to lists, which are mutable [8,5].\n",
    "\n",
    "![Arrays](Images/arrays.png)\n",
    "###### Adapted from reference 32.\n",
    "\n",
    "![pdf.PNG](attachment:pdf.PNG)\n"
   ]
  },
  {
   "cell_type": "markdown",
   "id": "ea37182c",
   "metadata": {},
   "source": [
    "<a id='so_how_does_this_tie_in_to_the_Numpy.Random_Package?'></a>\n",
    "\n",
    "###### So how does this tie in to the Numpy.Random Package?\n",
    "\n"
   ]
  },
  {
   "cell_type": "markdown",
   "id": "3de80aa7",
   "metadata": {},
   "source": [
    "Now that we have a basic overview of the Numpy package as a whole, let's examine the mechanics of the Numpy.Random package. At the highest level, the Numpy.Random package allows the production of arrays of \"pseudo-random\" numbers for downstream analyses [3]. This is acheived using what are known as a \"BitGenerator\" and a \"Generator\" [3]. BitGenerators create sequences of 32/64 random bits (based on different algorithms) which are then leveraged by Generators (taking a bit generator as an argument) to create sequences of numbers, adhering to a certain probability distribution (i.e Uniform, Normal or Binomial) [3,9]. The Generator (replacing the legacy RandomState) from the latest update of Numpy.Random uses bits provided by PCG-64 (Permuted Congruential Generator, a family of algorithms) as opposed to the legacy MT19937 (Marsenne Twister) due to enhanced statistical performence [3,10,11]. This will be covered in greater detail in the section discussing \"Seeding\". \"Seeding\" is an important concept, allowing the work to be reproducible to others attempting to examine/re-create your work."
   ]
  },
  {
   "cell_type": "markdown",
   "id": "48881a11",
   "metadata": {},
   "source": [
    "###### In Summary...\n",
    "The Numpy.Random package contains functions that facilitate the generation of arrays of pseudo-random numbers with specific probability distributions [12,13]. "
   ]
  },
  {
   "cell_type": "markdown",
   "id": "95febef1",
   "metadata": {},
   "source": [
    "***\n",
    "## Simple Random Data and Permutations\n",
    "***"
   ]
  },
  {
   "cell_type": "markdown",
   "id": "c51cb0e6",
   "metadata": {},
   "source": [
    "In this passage I want to give an overview of \"Simple Random Data\" and \"Permutations\", as outlined in the official documentation [3]. \n",
    "<br>\n",
    "\n",
    "The Simple Random Data section outlines a set of functions that can be utilised in order to, logically, generate simple random data based on user inputs, which can of course be modified. Data types that can be returned include integers, floats, random samples from a given array and bytes [3]. The functions available for use, following the latest update, are:\n",
    "- integers(low[, high, size, dtype, endpoint]) - Return random integers from low (inclusive) to high (exclusive), or if endpoint=True, low (inclusive) to high (inclusive).\n",
    "- random([size, dtype, out]) - Return random floats in the half-open interval [0.0, 1.0).\n",
    "- choice(a[, size, replace, p, axis, shuffle]) - Generates a random sample from a given array\n",
    "- bytes(length) - Return random bytes.\n",
    "\n",
    "Permutations (coming from the word <i> permute</i> (meaning to \"alter/rearrange\" [14]), meanwhile, create random re-arrangements of the order of elements [3]. Three functions are called out in the official documentation [3]:\n",
    "- shuffle(x[, axis]) - Modify an array or sequence in-place by shuffling its contents.\n",
    "- permutation(x[, axis] - Randomly permute a sequence, or return a permuted range.\n",
    "- permuted(x[, axis, out]) -Randomly permute x along axis axis.\n",
    "\n",
    "We will cover each of these in more detail below."
   ]
  },
  {
   "cell_type": "code",
   "execution_count": 1,
   "id": "10f9c3df",
   "metadata": {},
   "outputs": [],
   "source": [
    "# To begin, let's import the packages we will require\n",
    "import numpy as np\n",
    "import pandas as pd\n",
    "import matplotlib.pyplot as plt\n",
    "import seaborn as sns\n",
    "import scipy.special as sps  \n",
    "\n",
    "# This  line-orientated magic command, as outlined in lectures, lets us display plots inline\n",
    "%matplotlib inline"
   ]
  },
  {
   "cell_type": "markdown",
   "id": "32688fd5",
   "metadata": {},
   "source": [
    "###### Numpy.Random: numpy.random.Generator.integers\n",
    "\n",
    "\n"
   ]
  },
  {
   "cell_type": "code",
   "execution_count": 2,
   "id": "e08bc352",
   "metadata": {},
   "outputs": [
    {
     "name": "stdout",
     "output_type": "stream",
     "text": [
      "This is the variable \"a\": \n",
      " [3 1 0 6 0 2 5 1 7 2 0 6 0 1 0] \n",
      " The type of the variable is: <class 'numpy.ndarray'>\n"
     ]
    },
    {
     "data": {
      "image/png": "[encoded data removed]",
      "text/plain": [
       "<Figure size 432x288 with 1 Axes>"
      ]
     },
     "metadata": {
      "needs_background": "light"
     },
     "output_type": "display_data"
    }
   ],
   "source": [
    "# Generate an array of integers\n",
    "rng = np.random.default_rng() # Call default_rng to get a new instance of a Generator, from official documentation [3]\n",
    "a =  rng.integers(8, size=15) # Up to but not including 8. Size is the shape of the array\n",
    "print('This is the variable \"a\": \\n' , a, '\\n The type of the variable is:', type(a)) \n",
    "\n",
    "# Plot our variable to demonstrate random data, adapted from reference 15\n",
    "plt.plot(a, 'b.', color = '#943126') # setting colour of datapoints [16]\n",
    "plt.title('Random Integers Demonstration', fontweight='heavy',  size=12) # Setting title and weight of title [18]\n",
    "plt.xlabel('Element Number', size=10) # Setting axis title and font size\n",
    "plt.ylabel('DataPoint', size=10)\n",
    "plt.grid(False) # Used hex value for colour [19]"
   ]
  },
  {
   "cell_type": "code",
   "execution_count": 3,
   "id": "2cbe2abd",
   "metadata": {},
   "outputs": [
    {
     "name": "stdout",
     "output_type": "stream",
     "text": [
      "This is b: \n",
      " [[5 6 1 8]\n",
      " [1 1 9 7]]\n",
      "This is c: \n",
      " [0 3 5 6 1 0 2 2 1 0]\n",
      "This is d: \n",
      " [[5 3]\n",
      " [4 0]\n",
      " [5 1]\n",
      " [5 1]\n",
      " [0 2]]\n",
      "This has caused an error\n"
     ]
    }
   ],
   "source": [
    "# Further manipulation of the integer function.\n",
    "# Generate a multi-dimensional array.\n",
    "\n",
    "# Size is structured as the following: 2x4 array\n",
    "b =  rng.integers(10, size=(2, 4))\n",
    "print('This is b: \\n' , b)\n",
    "\n",
    "# Output is a 1D array\n",
    "c = rng.integers(low = 0, high = 7, size = 10) \n",
    "print ('This is c: \\n', c)\n",
    "\n",
    "# Specifying multiple parameters\n",
    "d =  rng.integers(5, size=(5,2),  endpoint=True) # Boolean True to determine if '5' included in arrays\n",
    "print('This is d: \\n', d)\n",
    "\n",
    "# Wrapping empty function in try except block to investigate effect [17]\n",
    "try:\n",
    "    rng.integers()\n",
    "except BaseException as err:\n",
    "    print('This has caused an error')\n",
    "else:\n",
    "    print('Function still worked')\n"
   ]
  },
  {
   "cell_type": "code",
   "execution_count": 4,
   "id": "a32afd7c",
   "metadata": {},
   "outputs": [
    {
     "data": {
      "text/plain": [
       "Text(0.5, 1.0, 'Random integers from the discrete uniform distribution')"
      ]
     },
     "execution_count": 4,
     "metadata": {},
     "output_type": "execute_result"
    },
    {
     "data": {
      "image/png": "[encoded data removed]",
      "text/plain": [
       "<Figure size 432x288 with 1 Axes>"
      ]
     },
     "metadata": {
      "needs_background": "light"
     },
     "output_type": "display_data"
    }
   ],
   "source": [
    "# Plotting using the numpy.random.Generator.integers function\n",
    "x1 = rng.integers(low = 1, high=500, size = 10000) # generating random values between 1-499\n",
    "plt.hist(x1, bins = 20, color = 'green', edgecolor = 'orange') # Some decorations\n",
    "plt.xlabel('Discrete Uniform Distribution')\n",
    "plt.title('Random integers from the discrete uniform distribution', fontweight = 'heavy', family = 'serif')\n"
   ]
  },
  {
   "cell_type": "markdown",
   "id": "30604b01",
   "metadata": {},
   "source": [
    "We have shown here that the distribution of the values is uniform, as detailed in the official documentation. [20]"
   ]
  },
  {
   "cell_type": "markdown",
   "id": "13fc58a1",
   "metadata": {},
   "source": [
    "###### Numpy.Random: numpy.random.Generator.random\n"
   ]
  },
  {
   "cell_type": "markdown",
   "id": "2dfd19a5",
   "metadata": {},
   "source": [
    "This function is quite similar to the one above and is desribed in the official documentation as the following: [21]\n",
    "\n",
    "![Random.random](Images/Random.random.PNG)\n"
   ]
  },
  {
   "cell_type": "code",
   "execution_count": 5,
   "id": "925adf4b",
   "metadata": {},
   "outputs": [
    {
     "data": {
      "text/plain": [
       "array([0.16929191, 0.79683339, 0.33538167, 0.28439053, 0.86692949,\n",
       "       0.07487405, 0.21028822, 0.42715461, 0.65855085, 0.50748213,\n",
       "       0.67314021, 0.47062063, 0.77653477, 0.05067004, 0.67258943,\n",
       "       0.30237614, 0.2563719 , 0.71792943, 0.39743202, 0.53358989])"
      ]
     },
     "execution_count": 5,
     "metadata": {},
     "output_type": "execute_result"
    },
    {
     "data": {
      "image/png": "[encoded data removed]",
      "text/plain": [
       "<Figure size 432x288 with 1 Axes>"
      ]
     },
     "metadata": {
      "needs_background": "light"
     },
     "output_type": "display_data"
    }
   ],
   "source": [
    "# Plotting using the numpy.random.Generator.random function\n",
    "# This function returns floats\n",
    "x2 = rng.random(size = 20) # 10 random floats\n",
    "plt.plot(x2, 'b.', color = 'green') # Some decorations\n",
    "plt.ylim(0,2.0) # setting x-axis limits\n",
    "plt.ylabel('DataPoint')\n",
    "plt.xlabel('Continuous Uniform Distribution')\n",
    "plt.title('Random integers from the continuous uniform distribution', fontweight = 'heavy', family = 'serif')\n",
    "x2"
   ]
  },
  {
   "cell_type": "markdown",
   "id": "339e1c29",
   "metadata": {},
   "source": [
    "Something intersting to note here is how the generated random numbers are all between 0.0 and 1.0. I examined this by purposefully setting the upper x-limit to 2.0 just to determine if a result above 1.0 appeared. This is evidence that the statement from the official documentaion (half-open interval) is true [21]."
   ]
  },
  {
   "cell_type": "markdown",
   "id": "3c9120f4",
   "metadata": {},
   "source": [
    "There is an interesting difference in the above functions I want to highlight. It is obvious how Numpy.integers returns integer values and how Numpy.random can return float values. Something I feel is more important to highlight between the functions is the difference between discrete and continuous distribution as a result of these mechanics. Random.integers returns values of discrete uniform distribution (where there are a finite number of outcomes), while Random.random returns values of continuous uniform distribution(where there are an infinite number of outcomes) [22]. \n",
    "\n",
    "- Thinking of this logically, if you flip a coin, you can have only two possible outcomes: Heads or Tails (i.e 1 or 0). While the outcome is random (you hope!), you can only have two possible outcomes (i.e a finite amount of outcomes). This is the basis of discrete distribution. [23] \n",
    "- Compare this to continuous distribution, where we could have an infinite number of equally likely outcomes. An example of this could be an truely random number generator, in where any value could appear just as likely as any other value an infinite number of times.\n",
    "\n",
    "![Coin](Images/Coin.jpg)\n",
    "\n",
    "###### <i> Adapted from Reference 24 </i>\n"
   ]
  },
  {
   "cell_type": "code",
   "execution_count": 6,
   "id": "a1899979",
   "metadata": {},
   "outputs": [
    {
     "data": {
      "text/plain": [
       "<matplotlib.legend.Legend at 0x185f60d4dc0>"
      ]
     },
     "execution_count": 6,
     "metadata": {},
     "output_type": "execute_result"
    },
    {
     "data": {
      "image/png": "[encoded data removed]",
      "text/plain": [
       "<Figure size 432x288 with 1 Axes>"
      ]
     },
     "metadata": {
      "needs_background": "light"
     },
     "output_type": "display_data"
    }
   ],
   "source": [
    "# Compare the two functions used in a scatterplot \n",
    "# Demonstate the difference between continuous and discrete uniform distribution.\n",
    "x3 = rng.integers(low = 0, high=3, size = 15) \n",
    "x4 = rng.random(size = 15) \n",
    "\n",
    "plt.plot(x3, 'x', label='discrete')\n",
    "plt.plot(x4, 'o', label='continuous')\n",
    "plt.xlabel('Cont vs Discrete', size=12, color = '#397dad')\n",
    "plt.ylabel('Value', size=12, color = '#943126')\n",
    "plt.grid(False) # dont want gridlines for this\n",
    "plt.legend()"
   ]
  },
  {
   "cell_type": "markdown",
   "id": "e9dbe7f1",
   "metadata": {},
   "source": [
    "We can clearly see from the above scatterplot the simple difference between discrete and continuous uniform distribution. For the Numpy.Random.Integers (discrete distribution) we only have the values 0,1 or 2 compared to Numpy.Random.random (continuous distribution) where we have random values between 0.0 and 1.0. "
   ]
  },
  {
   "cell_type": "markdown",
   "id": "03dcc491",
   "metadata": {},
   "source": [
    "###### Numpy.Random: numpy.random.Generator.choice\n"
   ]
  },
  {
   "cell_type": "markdown",
   "id": "313e1269",
   "metadata": {},
   "source": [
    "This function allows the user to generate a random sample from a non-empty array (if the variable is an array) or in the range of the specified integer [25]. "
   ]
  },
  {
   "cell_type": "code",
   "execution_count": 7,
   "id": "e00a43d4",
   "metadata": {},
   "outputs": [
    {
     "name": "stdout",
     "output_type": "stream",
     "text": [
      "This is the variable a: 3 \n",
      " This is b: [[12 44 89]\n",
      " [ 7  4  9]]\n"
     ]
    }
   ],
   "source": [
    "# Initial investigations into choice method\n",
    "rng = np.random.default_rng() \n",
    "a =  rng.choice(5) # generate a random integer\n",
    "# Select 2 random arrays from list with replace set to False to avoid selecting same \n",
    "b = rng.choice(([11, 4, 8], [7, 4, 9], [1, 2, 9], [12,44,89]), 2 ,replace = False)\n",
    "print('This is the variable a:' , a, '\\n This is b:' ,b)"
   ]
  },
  {
   "cell_type": "code",
   "execution_count": 8,
   "id": "5ae2e46c",
   "metadata": {},
   "outputs": [
    {
     "data": {
      "text/plain": [
       "<matplotlib.legend.Legend at 0x185f6152400>"
      ]
     },
     "execution_count": 8,
     "metadata": {},
     "output_type": "execute_result"
    },
    {
     "data": {
      "image/png": "[encoded data removed]",
      "text/plain": [
       "<Figure size 432x288 with 1 Axes>"
      ]
     },
     "metadata": {
      "needs_background": "light"
     },
     "output_type": "display_data"
    }
   ],
   "source": [
    "# Investigation into p parameter in choice method for distribution\n",
    "# We will see a non-uniform distribution in a1 due to setting probabilities\n",
    "a1 = rng.choice(5, 30, p=[0.0, 0.5, 0.0, 0.5, 0])  # adapted from reference 25\n",
    "b1 = rng.choice(5, 30)\n",
    "\n",
    "plt.plot(a1, 'x', label='Non-Uni')\n",
    "plt.plot(b1, 'o', label='Uni')\n",
    "plt.legend()"
   ]
  },
  {
   "cell_type": "markdown",
   "id": "4e81984f",
   "metadata": {},
   "source": [
    "Lets explore this probability distribution parameter a little closer"
   ]
  },
  {
   "cell_type": "code",
   "execution_count": 9,
   "id": "cc20a3d2",
   "metadata": {},
   "outputs": [
    {
     "name": "stdout",
     "output_type": "stream",
     "text": [
      "How many times each county won the Ulster Title:\n",
      "[['Antrim' 'Armagh' 'Cavan' 'Donegal' 'Down' 'Fermanagh' 'Monaghan'\n",
      "  'Tyrone']\n",
      " ['2' '7' '9' '3' '5' '3' '7' '4']]\n"
     ]
    }
   ],
   "source": [
    "# Generate a list of counties in Ulster who can win the Ulster Title for the next 40 years\n",
    "counties = ['Cavan','Fermanagh','Monaghan','Tyrone','Donegal','Down','Antrim','Armagh','Derry']\n",
    "ulsterTitle = rng.choice(counties, 40, p=[0.3, 0.1, 0.1, 0.1, 0.1, 0.1, 0.1, 0.1, 0.0], replace=True)  \n",
    "\n",
    "# Return in numerical format how many times each county wins the title\n",
    "unique_elements, counts_elements = np.unique(ulsterTitle, return_counts=True) \n",
    "print('How many times each county won the Ulster Title:') # adapted from reference 26\n",
    "print(np.asarray((unique_elements, counts_elements))) # return as an array [27]"
   ]
  },
  {
   "cell_type": "code",
   "execution_count": 10,
   "id": "77b74ab4",
   "metadata": {},
   "outputs": [
    {
     "data": {
      "image/png": "[encoded data removed]",
      "text/plain": [
       "<Figure size 648x432 with 1 Axes>"
      ]
     },
     "metadata": {
      "needs_background": "light"
     },
     "output_type": "display_data"
    }
   ],
   "source": [
    "# Lets display on a Seaborn Histogram this glorious liklihood\n",
    "# Took a long time to get aspect solution [28]\n",
    "sns.displot(ulsterTitle, color = 'blue', edgecolor = 'grey', height=6, aspect=9/6)\n",
    "plt.figsize = (170,100)\n",
    "plt.xlabel('County', fontweight = 'bold')\n",
    "plt.ylabel('Titles', fontweight = 'bold')\n",
    "plt.suptitle('Ulster Title Winners', fontsize = 15) # adding main title to histogram and setting fontsize\n",
    "plt.grid(False) \n"
   ]
  },
  {
   "cell_type": "markdown",
   "id": "6cd3446a",
   "metadata": {},
   "source": [
    "In summary, the choice function selects a random sample or samples from an array, however we can manipulate the selection by setting probabilites."
   ]
  },
  {
   "cell_type": "markdown",
   "id": "4ae41168",
   "metadata": {},
   "source": [
    "###### Numpy.Random: numpy.random.Generator.bytes\n"
   ]
  },
  {
   "cell_type": "markdown",
   "id": "12927d00",
   "metadata": {},
   "source": [
    "This function simply returns random bytes [29]:\n",
    "![Bytes](Images/Bytes.png)\n",
    "\n"
   ]
  },
  {
   "cell_type": "code",
   "execution_count": 11,
   "id": "03e29d42",
   "metadata": {},
   "outputs": [
    {
     "data": {
      "text/plain": [
       "b'\\x1eA\\xb3oJ\\x98\\xd9\\xc7\\xe45xX'"
      ]
     },
     "execution_count": 11,
     "metadata": {},
     "output_type": "execute_result"
    }
   ],
   "source": [
    "# Returning Random bytes\n",
    "np.random.bytes(12)"
   ]
  },
  {
   "cell_type": "markdown",
   "id": "4d285f38",
   "metadata": {},
   "source": [
    "###### Numpy.Random: numpy.random.Generator.shuffle\n"
   ]
  },
  {
   "cell_type": "markdown",
   "id": "97f9c9eb",
   "metadata": {},
   "source": [
    "The shuffle method within Permutations facilitates the re-ordering of contents within a sequence [30]. \n",
    "\n",
    "![Shuffle](Images/shuffle.png)\n",
    "\n",
    "\n"
   ]
  },
  {
   "cell_type": "code",
   "execution_count": 12,
   "id": "09cc5773",
   "metadata": {},
   "outputs": [
    {
     "name": "stdout",
     "output_type": "stream",
     "text": [
      "1D array: [10  2 14  8  4  0  7 11  6  5  9  1 13 12  3]\n",
      "We have now changed the shape of the output: \n",
      " [[6 7]\n",
      " [0 1]\n",
      " [4 5]\n",
      " [2 3]]\n",
      "Setting the axis to 1: \n",
      " [[1 0]\n",
      " [3 2]\n",
      " [5 4]\n",
      " [7 6]]\n"
     ]
    }
   ],
   "source": [
    "# Shuffle method\n",
    "input = np.arange(15)\n",
    "rng.shuffle(input) # using shuffle method\n",
    "print('1D array:', input) # printing array of shuffled results\n",
    "\n",
    "# We can also manipulate the shape of the output \n",
    "new_input = np.arange(8).reshape((4, 2)) # resulting in a 4x2 array, adapted from [30]\n",
    "rng.shuffle(new_input) \n",
    "print('We have now changed the shape of the output: \\n', new_input)\n",
    "\n",
    "# Let's look how specifying axis can alter the output \n",
    "arr = np.arange(8).reshape((4, 2))\n",
    "rng.shuffle(arr, axis=1)\n",
    "print('Setting the axis to 1: \\n', arr) # alters results by column"
   ]
  },
  {
   "cell_type": "markdown",
   "id": "a696ea10",
   "metadata": {},
   "source": [
    "It is also worth noting that when changing the value of the axis, the individual values within the axis do not change. Only the row/column as a whole changes. [30]"
   ]
  },
  {
   "cell_type": "markdown",
   "id": "be783427",
   "metadata": {},
   "source": [
    "###### Numpy.Random: numpy.random.Generator.permutation\n",
    "\n",
    "The permutation method within Permutations facilitates the re-ordering of contents within a sequence [32]. A notable difference between this method and the shuffle method is the permutation method returns a copy of the array while shuffle deals with the original array [33].\n",
    "\n",
    "![Permutation](Images/Permutation.png)\n"
   ]
  },
  {
   "cell_type": "code",
   "execution_count": 13,
   "id": "57166aa9",
   "metadata": {},
   "outputs": [
    {
     "name": "stdout",
     "output_type": "stream",
     "text": [
      "1D array: [ 4 10  1  5  9  6 11  7  2  0  3  8]\n",
      "We have now changed the shape of the output: \n",
      " [[2 3]\n",
      " [0 1]\n",
      " [4 5]\n",
      " [6 7]]\n"
     ]
    }
   ],
   "source": [
    "# Permutation method\n",
    "rng = np.random.default_rng()\n",
    "result = rng.permutation(12)\n",
    "print('1D array:', result ) # printing array of results in range of integer\n",
    "\n",
    "# Similar to the shuffle function, we can also manipulate the shape of the output \n",
    "new_perm = np.arange(8).reshape((4, 2)) # resulting in a 4x2 array, adapted from [33]\n",
    "rng.shuffle(new_perm) \n",
    "print('We have now changed the shape of the output: \\n', new_perm)"
   ]
  },
  {
   "cell_type": "code",
   "execution_count": 14,
   "id": "24f4fc5a",
   "metadata": {},
   "outputs": [
    {
     "name": "stdout",
     "output_type": "stream",
     "text": [
      "This is the original List before permutation: [1, 4, 9, 12, 15] and this is the permuted List: [12 15  1  9  4]\n",
      "This is the original_List after permutation [1, 4, 9, 12, 15]\n",
      "This is the List before shuffling: [1, 2, 3, 4, 5]\n",
      "This is the original_shuffled_List after shuffling [1, 2, 3, 4, 5]\n"
     ]
    }
   ],
   "source": [
    "# Let's explore this in-place/copy idea a little more\n",
    "\n",
    "# If x is an array, make a copy and shuffle the elements randomly\n",
    "original_List = [1,4,9,12,15]\n",
    "permuted_List = np.random.permutation(original_List)\n",
    "print('This is the original List before permutation:', original_List , 'and this is the permuted List:', permuted_List)\n",
    "print('This is the original_List after permutation', original_List)\n",
    "\n",
    "# Let's compare this to the shuffle function\n",
    "original_shuffled_List = [1,2,3,4,5]\n",
    "print('This is the List before shuffling:',original_shuffled_List)\n",
    "print('This is the original_shuffled_List after shuffling', original_shuffled_List)\n"
   ]
  },
  {
   "cell_type": "markdown",
   "id": "93133d74",
   "metadata": {},
   "source": [
    "###### Numpy.Random: numpy.random.Generator.permuted\n",
    "The permutation method within Permutations facilitates the permutation of 'x' along the axis <i>axis</i> [34]. A notable difference between this method and the shuffle method is eacxh slice in the permutated method is shuffled independently of the others.[34]\n",
    "\n",
    "\n",
    "![Permuted](Images/Permuted.png)\n",
    "\n",
    "Let's explore this."
   ]
  },
  {
   "cell_type": "code",
   "execution_count": 15,
   "id": "291fe70e",
   "metadata": {},
   "outputs": [
    {
     "name": "stdout",
     "output_type": "stream",
     "text": [
      "This is the original array: \n",
      " [[ 1  2  3  4]\n",
      " [ 5  6  7  8]\n",
      " [ 9 10 11 12]\n",
      " [13 14 15 16]\n",
      " [17 18 19 20]]\n",
      "This is the permuted array: \n",
      " [[ 2  1  4  3]\n",
      " [ 6  7  8  5]\n",
      " [12 11 10  9]\n",
      " [14 15 13 16]\n",
      " [17 18 20 19]]\n",
      "This is the permuted array setting axis=0:\n",
      " [[ 1  6  7 16]\n",
      " [17 10  3 12]\n",
      " [13 14 19  4]\n",
      " [ 9  2 15 20]\n",
      " [ 5 18 11  8]]\n",
      "Back to original:\n",
      " [[ 1  2  3  4]\n",
      " [ 5  6  7  8]\n",
      " [ 9 10 11 12]\n",
      " [13 14 15 16]\n",
      " [17 18 19 20]]\n",
      "This is now array_1 after setting parameter for \"out\":\n",
      " [[ 4  1  2  3]\n",
      " [ 6  5  7  8]\n",
      " [12 10  9 11]\n",
      " [13 16 14 15]\n",
      " [17 20 18 19]]\n"
     ]
    }
   ],
   "source": [
    "# Generating a test instance [34]\n",
    "rng = np.random.default_rng()\n",
    "# Creating an array\n",
    "array_1 = np.arange(1,21).reshape(5, 4)\n",
    "print('This is the original array: \\n' , array_1)\n",
    "array_2 = rng.permuted(array_1, axis=1)\n",
    "print('This is the permuted array: \\n' , array_2) # the rows have been shuffled with the original unchanged\n",
    "array_3 = rng.permuted(array_1, axis=0)\n",
    "print('This is the permuted array setting axis=0:\\n' , array_3) #columns shuffled with the original unchanged\n",
    "print('Back to original:\\n', array_1)\n",
    "# We can set 'out=array_1' to change the original (in-place change as opposed to copy change)\n",
    "rng.permuted(array_1, axis=1, out=array_1)\n",
    "print('This is now array_1 after setting parameter for \"out\":\\n',array_1)\n"
   ]
  },
  {
   "cell_type": "markdown",
   "id": "70ac4a1d",
   "metadata": {},
   "source": [
    "***\n",
    "## Distributions\n",
    "***\n"
   ]
  },
  {
   "cell_type": "markdown",
   "id": "244bc7df",
   "metadata": {},
   "source": [
    "There are over 36 different distribution functions listed in the official documentation [3]. At it's most basic, a probability distribution 'is a table or an equation that links each outcome of a statistical experiment with its probability of occurrence' [35]. \n",
    "<br>\n",
    "<br>\n",
    "Let's take an extremely basic example of a footballer taking a penalty. There are two possible options here: the player either scores a goal or misses. Suppose the player takes two penalites (let's pretend the goalkeeper came off the line too early), there are four possible resulting outcomes (S= Scores, M= Misses) : SS, MM, SM, MS. The random variable X will represent the number of times the footballer scores and can be calculated. We can see visually that in 3 of the 4 possible outcomes the player scores at least once. We can display the probabilities of each outcome in the following table i.e. the <b>probability distribution</b>: \n",
    "<br>\n",
    "\n",
    "\n",
    "   | Number of Goals  | Probability    |\n",
    "|:-------------|:-----------|\n",
    "| 0 | 0.25       | \n",
    "| 1  | 0.5    |\n",
    "| 2  | 0.25    |\n",
    "\n",
    "<i>Table Adapted from Reference 36</i>"
   ]
  },
  {
   "cell_type": "markdown",
   "id": "ef4a2c74",
   "metadata": {},
   "source": [
    "A <b>cumulative probability</b>, meanwhile, denotes the liklihood that a random variable will fall within a certain specified range [35]. Going back to our earlier example, we can investigate the likehood of a player scoring one or less penalties. So this would be investigating the liklihood of the player scoring one penalty <u>and</u> the likehood of the player missing both penalties.\n",
    "\n",
    "P(X ≤ 1) = P(X = 0) + P(X = 1) = 0.25 + 0.50 = 0.75\n",
    " \n",
    "Now that we have a basic understanding of probabilities and distributions, let's delve a little deeper into the Distribution functions for generating random samples in Numpy."
   ]
  },
  {
   "cell_type": "markdown",
   "id": "691ba2d8",
   "metadata": {},
   "source": [
    "###### Numpy.Random: random.Generator.uniform\n",
    "\n",
    "Uniform distribution is perhaps the best distribution to initially describe as it can be considered the simplest. This form of distribution depicts an outcome where each value of a random variable is just as equally probable to any other value [38]. Thinking of this logically, lets imagine a deck of cards and you are asked to pick one. You are just as likely to draw a diamond as you are a heart and this is the same for a club and a spade. This is Uniform distribution [38]. We have already explored this topic in some detail above when describing the difference between Discrete Uniform distribution  (where there are a finite number of outcomes) and Continuous Uniform distribution (where there are an infinite number of outcomes) [22]. The probability density function (PDF), is a 'statistical expression describing the liklihood of an outcome', with the formula outlined below [39].\n",
    "\n",
    "\n",
    "![Uniform Distribution](Images/uniform_Distribution.png)\n",
    "***\n",
    "![pdf](Images/pdf.PNG)\n"
   ]
  },
  {
   "cell_type": "code",
   "execution_count": 16,
   "id": "b15124b0",
   "metadata": {},
   "outputs": [
    {
     "name": "stdout",
     "output_type": "stream",
     "text": [
      "[1.33190344 1.55020195 1.96783131 1.20479482 1.72346309 1.25705068\n",
      " 1.87412024 1.75009433 1.12959571 1.82690582 1.99549296 1.17927327\n",
      " 1.59642848 1.9348919  1.1958592  1.5963093  1.34216495 1.63885695\n",
      " 1.87181351 1.95787097 1.19592606 1.4527782  1.71741083 1.48516665\n",
      " 1.9774428  1.91290926 1.64062171 1.86824731 1.40232145 1.18712037\n",
      " 1.99344263 1.1919464  1.09820917 1.121713   1.48932011 1.0447117\n",
      " 1.71785149 1.43321799 1.77692988 1.83380566 1.34505763 1.09957737\n",
      " 1.68618375 1.05468318 1.15495676 1.62279941 1.0251039  1.30376566\n",
      " 1.44795902 1.37355341 1.12307757 1.74609493 1.13889028 1.99898611\n",
      " 1.08021595 1.29098195 1.69080062 1.02153674 1.44244721 1.22669111\n",
      " 1.51920874 1.4537078  1.1991091  1.92712014 1.70105825 1.90704951\n",
      " 1.12342249 1.26327211 1.51702535 1.40937942 1.2811696  1.33031264\n",
      " 1.07943678 1.62334867 1.78962992 1.37633478 1.81214897 1.31638334\n",
      " 1.07889273 1.8193273  1.62836733 1.15128234 1.99272466 1.03000427\n",
      " 1.6624115  1.20938671 1.47616631 1.2709993  1.44559078 1.88732891\n",
      " 1.68056217 1.10857268 1.18160455 1.32976684 1.2510592  1.84527052\n",
      " 1.95386915 1.15471069 1.84194128 1.31414706 1.49532711 1.56912277\n",
      " 1.83196007 1.58530962 1.11736933 1.7846199  1.08855397 1.85470053\n",
      " 1.70235791 1.76989469 1.66088569 1.12868347 1.796011   1.06623216\n",
      " 1.31251702 1.54931062 1.93735292 1.85293831 1.51689445 1.24388015\n",
      " 1.536424   1.23775324 1.2243012  1.34212778 1.58571241 1.25116215\n",
      " 1.29217916 1.67923593 1.77686913 1.51034607 1.97614812 1.99174404\n",
      " 1.88280663 1.87606205 1.14231421 1.15524987 1.66800225 1.63547884\n",
      " 1.40905574 1.51094467 1.19522224 1.1343105  1.1281534  1.4015435\n",
      " 1.5410628  1.36754427 1.77926048 1.72077851 1.34765039 1.97934502\n",
      " 1.5937722  1.26918322 1.53086141 1.57569318 1.83646428 1.96409836\n",
      " 1.63408522 1.31708068 1.28653146 1.49131677 1.48658989 1.63588988\n",
      " 1.16312085 1.22619898 1.57070929 1.42439703 1.77655055 1.53876948\n",
      " 1.04629465 1.89155512 1.42872135 1.56042113 1.8914226  1.97658079\n",
      " 1.85606447 1.20233661 1.59676232 1.49900486 1.68378128 1.69546771\n",
      " 1.16981332 1.77241277 1.85522003 1.62709794 1.87418266 1.0642786\n",
      " 1.27330511 1.71359311 1.4920662  1.26364869 1.08809002 1.33432937\n",
      " 1.76455535 1.96218968 1.37581883 1.05825508 1.7056462  1.43747955\n",
      " 1.50404639 1.1919236  1.79109211 1.53826588 1.93749337 1.32164015\n",
      " 1.18898034 1.97391858 1.37246949 1.66016697 1.8434021  1.39008443\n",
      " 1.80578326 1.1588023  1.40312063 1.58529982 1.35408141 1.28277631\n",
      " 1.21392903 1.09511052 1.00900035 1.34316878 1.43446903 1.12339361\n",
      " 1.13088626 1.20970204 1.94620648 1.45423545 1.78689927 1.35968476\n",
      " 1.77867157 1.46242501 1.65752088 1.05928875 1.82254653 1.91218428\n",
      " 1.75245006 1.79289862 1.2743864  1.76990926 1.89504728 1.01288956\n",
      " 1.27277981 1.63803278 1.77802793 1.5786453  1.58197982 1.91324394\n",
      " 1.18460932 1.12084327 1.16457773 1.03859914 1.74143999 1.66169674\n",
      " 1.5202553  1.93327772 1.72923066 1.34265734 1.12061298 1.60618209\n",
      " 1.8631658  1.96732284 1.39102141 1.49940346 1.29242484 1.49799661\n",
      " 1.98658091 1.10002398 1.59816136 1.11642625 1.1603386  1.79220557\n",
      " 1.02768407 1.30138148 1.87160496 1.07079831 1.67540754 1.0554248\n",
      " 1.80934925 1.71958705 1.1870756  1.31837816 1.81365896 1.0375774\n",
      " 1.96285276 1.59759665 1.60908424 1.96819638 1.04831161 1.14585971\n",
      " 1.52535194 1.2163306  1.35401021 1.46256683 1.86437673 1.06927978\n",
      " 1.95100661 1.2492369  1.05635346 1.98758996 1.8012507  1.06517588\n",
      " 1.53297084 1.41731997 1.51607142 1.90391856 1.54746316 1.70277422\n",
      " 1.84881971 1.82513906 1.28409712 1.88822465 1.64617936 1.53332532\n",
      " 1.59657594 1.63858926 1.14034484 1.9157976  1.56825545 1.93324848\n",
      " 1.26478836 1.2719922  1.53020234 1.78404561 1.93462861 1.00964304\n",
      " 1.16773731 1.5316903  1.19309027 1.53855483 1.86442523 1.87970464\n",
      " 1.17412149 1.72620652 1.07475824 1.50407114 1.24028523 1.77732849\n",
      " 1.85768839 1.96513625 1.54839166 1.70598584 1.55000027 1.27450681\n",
      " 1.89934899 1.42917181 1.72139825 1.02349729 1.80806071 1.42357329\n",
      " 1.73935803 1.83414799 1.90917793 1.21874827 1.58209921 1.35715116\n",
      " 1.5139213  1.67312248 1.6652018  1.79380067 1.7155199  1.34279023\n",
      " 1.87339626 1.5916639  1.48687873 1.15022571 1.26115103 1.46804358\n",
      " 1.71982293 1.34038788 1.40145766 1.85027723 1.32037477 1.05015148\n",
      " 1.34694386 1.44566814 1.21468232 1.56731987 1.71103157 1.58453937\n",
      " 1.61748477 1.67983852 1.94430265 1.56612425 1.91232255 1.43106202\n",
      " 1.72688451 1.1056563  1.49864833 1.80307514 1.45097024 1.7880811\n",
      " 1.09752556 1.43471523 1.13779201 1.59479266 1.04579362 1.92177402\n",
      " 1.400773   1.77913662 1.49966422 1.90370761 1.64598932 1.60059924\n",
      " 1.30544476 1.92329046 1.26651366 1.02746693 1.4475502  1.90469785\n",
      " 1.62231049 1.93863561 1.68909077 1.68850712 1.19564545 1.64456117\n",
      " 1.77092762 1.84695014 1.13938737 1.2940105  1.94626836 1.38507475\n",
      " 1.86165757 1.72475595 1.511174   1.10498568 1.04277753 1.27446311\n",
      " 1.08361785 1.46020467 1.73151823 1.80723296 1.29100465 1.42259744\n",
      " 1.87011771 1.28009427 1.77099349 1.86447642 1.08318702 1.13970662\n",
      " 1.66180921 1.67078583 1.80012773 1.96357791 1.26995672 1.75021366\n",
      " 1.14361876 1.41772847 1.86103334 1.13914344 1.51902531 1.31582736\n",
      " 1.2296458  1.58893895 1.7613215  1.733976   1.38602611 1.42883932\n",
      " 1.82650072 1.12733302 1.3805757  1.47999793 1.36021062 1.15962066\n",
      " 1.45167519 1.46123576 1.05621138 1.9664409  1.27563111 1.29050509\n",
      " 1.80814333 1.94665669 1.46149279 1.21632496 1.79000673 1.98755421\n",
      " 1.61646468 1.48253207 1.24316426 1.03334898 1.38820845 1.82840976\n",
      " 1.61434429 1.45581102 1.05165115 1.47855359 1.57563978 1.98346789\n",
      " 1.44086421 1.28884656 1.06989981 1.0665213  1.34999862 1.43598321\n",
      " 1.81137358 1.63255353 1.52501327 1.01473282 1.51628727 1.24113777\n",
      " 1.6278777  1.78300632 1.12371573 1.72833691 1.13090027 1.69046681\n",
      " 1.13638388 1.13071138 1.2525811  1.7896869  1.7859964  1.49334476\n",
      " 1.19837894 1.01376865 1.544396   1.73664699 1.94935084 1.11438084\n",
      " 1.3286478  1.0494114  1.03085017 1.6571808  1.34843159 1.90883489\n",
      " 1.91091662 1.53851338 1.90026783 1.3492871  1.76305154 1.14065948\n",
      " 1.33116228 1.72070548 1.2281793  1.00186703 1.83170601 1.95449499\n",
      " 1.96692565 1.28666789 1.19199456 1.31598732 1.91580545 1.73504275\n",
      " 1.54933219 1.11528021 1.44046722 1.21560304 1.30197412 1.26653424\n",
      " 1.52134987 1.02384992 1.72823067 1.49035008 1.95261233 1.92038342\n",
      " 1.80344844 1.31405023 1.73559522 1.28265673 1.05408307 1.35336642\n",
      " 1.72139125 1.65997524 1.09037188 1.2226088  1.39879202 1.69459626\n",
      " 1.51161775 1.80580632 1.98867677 1.81201326 1.68543124 1.40038067\n",
      " 1.00296065 1.57507609 1.56613002 1.97446594 1.0225025  1.39211569\n",
      " 1.99667962 1.39272609 1.6215906  1.37139834 1.41301925 1.77809021\n",
      " 1.7050822  1.30877836 1.31163104 1.59781087 1.0802758  1.70294519\n",
      " 1.30300545 1.14769101 1.80607084 1.94683073 1.81863229 1.39345191\n",
      " 1.36127239 1.23785708 1.83485402 1.87084051 1.8838457  1.35274195\n",
      " 1.74781989 1.74268503 1.65913634 1.72975654 1.09038646 1.38597103\n",
      " 1.7835584  1.4530225  1.55268928 1.7099943  1.99463053 1.53636096\n",
      " 1.99502876 1.18290261 1.05764141 1.81724206 1.91349497 1.56234133\n",
      " 1.90687326 1.8579402  1.64916504 1.5233321  1.15988591 1.0662544\n",
      " 1.02642199 1.94488594 1.61044481 1.15502697 1.37245784 1.02886719\n",
      " 1.29519499 1.4304522  1.15829954 1.34600588 1.27120478 1.54550569\n",
      " 1.64226339 1.3382536  1.60797331 1.10601855 1.53667108 1.34956445\n",
      " 1.83252706 1.59237345 1.12262873 1.95028244 1.13288984 1.20435945\n",
      " 1.89142368 1.33063241 1.48740667 1.43856821 1.79534732 1.8756954\n",
      " 1.09164215 1.35195678 1.32259558 1.35203943 1.20369746 1.35651702\n",
      " 1.46205255 1.34431978 1.16823414 1.72712416 1.54866542 1.72865207\n",
      " 1.74823657 1.04655906 1.71008054 1.06596936 1.32648842 1.00669624\n",
      " 1.30354961 1.49589204 1.95212372 1.00842816 1.52728603 1.99988805\n",
      " 1.20973297 1.58678227 1.29788405 1.93504706 1.48708816 1.72437756\n",
      " 1.33346898 1.89243702 1.44094197 1.05702545 1.87391104 1.21611825\n",
      " 1.47878639 1.88749269 1.69142144 1.03883421 1.27856231 1.93756687\n",
      " 1.45422158 1.57486167 1.95990709 1.54323184 1.34861346 1.65936105\n",
      " 1.34875009 1.88948362 1.78368149 1.38316064 1.3239818  1.49172726\n",
      " 1.70401307 1.42244325 1.06287133 1.79414251 1.13760524 1.97443703\n",
      " 1.34402125 1.54260294 1.17040647 1.13498482 1.14645613 1.80723096\n",
      " 1.21928449 1.40626425 1.82537583 1.33436418 1.12596337 1.695771\n",
      " 1.79400149 1.10393107 1.7673723  1.97525043 1.36002572 1.77701264\n",
      " 1.46228813 1.29820361 1.90973872 1.05298003 1.60780872 1.8916376\n",
      " 1.91001079 1.68606412 1.35804266 1.98332567 1.10541315 1.15138332\n",
      " 1.20864496 1.77776681 1.46002929 1.95329754 1.736495   1.34709678\n",
      " 1.90060886 1.92355798 1.82538755 1.32100231 1.76363741 1.99182898\n",
      " 1.50287243 1.55065667 1.51602256 1.66220621 1.6238896  1.58679812\n",
      " 1.94066843 1.65252619 1.62510564 1.81311127 1.5022028  1.13629755\n",
      " 1.57179475 1.18504423 1.70022925 1.64725853 1.83053461 1.19030406\n",
      " 1.29008597 1.94414479 1.52162902 1.6161625  1.4889656  1.71996039\n",
      " 1.80071159 1.01797679 1.69240113 1.89049745 1.10518582 1.91194365\n",
      " 1.50931672 1.21955422 1.96719441 1.73421756 1.72791363 1.46340813\n",
      " 1.65682221 1.34211519 1.12507846 1.67728509 1.65014503 1.30970623\n",
      " 1.16015328 1.66687746 1.50695575 1.40293081 1.2005006  1.49836833\n",
      " 1.88387503 1.42579415 1.88401969 1.99314994 1.59180835 1.81591013\n",
      " 1.39422803 1.93893546 1.10361409 1.1872911  1.70964202 1.19700572\n",
      " 1.21141178 1.3573235  1.86911518 1.70731631 1.90008428 1.45355424\n",
      " 1.89363453 1.79032049 1.43769332 1.5915672  1.68053533 1.89193048\n",
      " 1.94489376 1.92786    1.16894247 1.35376676 1.94030047 1.12220791\n",
      " 1.0699445  1.74187313 1.58173894 1.03254967 1.79318869 1.53853617\n",
      " 1.4792332  1.23001772 1.63088817 1.32248048 1.32237578 1.09034339\n",
      " 1.63912887 1.67135668 1.34743922 1.86571643 1.86277419 1.25253512\n",
      " 1.24022566 1.96005697 1.32822126 1.6954167  1.52302244 1.64777026\n",
      " 1.87683536 1.85013323 1.52079369 1.59358898 1.41634639 1.19721246\n",
      " 1.86203732 1.30298357 1.77171875 1.82220326 1.26325318 1.23898153\n",
      " 1.66201196 1.52609215 1.94389499 1.16009696 1.05221062 1.45457642\n",
      " 1.9542557  1.06386004 1.19074582 1.86829237 1.33461379 1.14574593\n",
      " 1.23953647 1.2104417  1.82454231 1.16614192 1.48944061 1.34067502\n",
      " 1.30582758 1.42469453 1.41233387 1.29177452 1.53997567 1.7962055\n",
      " 1.25458073 1.75641822 1.96725204 1.11832412 1.21052911 1.52911737\n",
      " 1.7379454  1.60754679 1.22606359 1.10070974 1.34917787 1.44025094\n",
      " 1.12520361 1.21986383 1.49842736 1.84687225 1.25170234 1.26302298\n",
      " 1.27588712 1.48551445 1.47132754 1.56294886 1.06151051 1.06523429\n",
      " 1.14458388 1.49739926 1.47367329 1.69599099 1.63173869 1.70956012\n",
      " 1.11047375 1.70210591 1.32193673 1.10056253 1.97987137 1.80217827\n",
      " 1.55782056 1.29625256 1.68725391 1.26674923 1.42515466 1.3883284\n",
      " 1.05988652 1.31665401 1.63945167 1.04557066 1.0523057  1.00144541\n",
      " 1.96708816 1.7980777  1.60768795 1.23683739 1.61580036 1.53479216\n",
      " 1.39103464 1.73876275 1.93425844 1.23945972 1.70058488 1.51625019\n",
      " 1.7241988  1.23666165 1.56627957 1.42062554 1.73281308 1.04440327\n",
      " 1.02088956 1.32079933 1.94355618 1.83747824 1.06189021 1.00697053\n",
      " 1.13157634 1.02593053 1.74090839 1.73738497 1.11701028 1.29180674\n",
      " 1.86164189 1.6695465  1.06931804 1.59131188 1.44099472 1.8617103\n",
      " 1.89858699 1.86807545 1.8400093  1.77570142 1.3411338  1.54894618\n",
      " 1.2208078  1.39964538 1.82003204 1.66818224 1.45321939 1.95279192\n",
      " 1.66731087 1.47226831 1.56810359 1.47725896 1.22900481 1.28316947\n",
      " 1.13710907 1.28037499 1.75669859 1.68034582] \n",
      " <class 'numpy.ndarray'>\n"
     ]
    },
    {
     "data": {
      "text/plain": [
       "Text(0.5, 1.0, 'Uniform Distribution')"
      ]
     },
     "execution_count": 16,
     "metadata": {},
     "output_type": "execute_result"
    },
    {
     "data": {
      "image/png": "[encoded data removed]",
      "text/plain": [
       "<Figure size 432x288 with 1 Axes>"
      ]
     },
     "metadata": {
      "needs_background": "light"
     },
     "output_type": "display_data"
    }
   ],
   "source": [
    "# Lets explore Uniform distribution\n",
    "u = np.random.default_rng().uniform(1,2,1000)  # Grabbing 500 random values from 1 to 1.99999999. \n",
    "print(u,'\\n', type(u)) # lets print our values and see what type of result is returned.\n",
    "# Below lines adapted from official documentation [37]\n",
    "count, bins, ignored = plt.hist(u, bins = 20, color = 'gold', edgecolor = 'black', density=True, linewidth=2) \n",
    "plt.plot(bins, np.ones_like(bins), linewidth=3, color='green') # Adapted from Reference 40\n",
    "plt.xlabel('Uniform Distribution')\n",
    "plt.title('Uniform Distribution', fontweight = 'heavy', family = 'serif')\n"
   ]
  },
  {
   "cell_type": "markdown",
   "id": "6b6e43c4",
   "metadata": {},
   "source": [
    "We can see from the above result the Uniform function returns values within the specified range and in the form of a numpy array with the probability density function of 1.0. "
   ]
  },
  {
   "cell_type": "code",
   "execution_count": 17,
   "id": "46d5c1be",
   "metadata": {},
   "outputs": [
    {
     "data": {
      "text/plain": [
       "array([1.91526826, 1.66344711, 1.92966406, 1.93676662, 1.00099495,\n",
       "       1.19694058, 1.86928092, 1.23493135, 1.46873813, 1.80934955,\n",
       "       1.65054042, 1.59253001, 1.38658498, 1.61429035, 1.14657435,\n",
       "       1.93367552, 1.62369144, 1.51413207, 1.3337887 , 1.79086436,\n",
       "       1.22507597, 1.5324992 , 1.9899233 , 1.31037504, 1.57693618,\n",
       "       1.81743089, 1.09302921, 1.05611848, 1.48859722, 1.35097332,\n",
       "       1.71665111, 1.10679607, 1.54008689, 1.23222356, 1.91461307,\n",
       "       1.33860012, 1.51073781, 1.06506271, 1.44946355, 1.1406318 ,\n",
       "       1.67231121, 1.41618872, 1.98967291, 1.61374882, 1.38035094,\n",
       "       1.62875523, 1.869073  , 1.15378343, 1.16729743, 1.73103656])"
      ]
     },
     "execution_count": 17,
     "metadata": {},
     "output_type": "execute_result"
    }
   ],
   "source": [
    "# Lets see what happens when we potentially input values incorrectly\n",
    "u2 = np.random.default_rng().uniform(2,1,50) # our 'Low' limit is above out 'high' limit\n",
    "u2"
   ]
  },
  {
   "cell_type": "markdown",
   "id": "c5dc18f6",
   "metadata": {},
   "source": [
    "Surprisingly, this function still returns values however we obviously cannot trust them as we have set the inputs incorrectly. Further research into this finding revealed than an earlier version of Numpy accounted for this eventuality and included the following note [41]: \n",
    "\n",
    "![highLow](Images/highLow.PNG)\n",
    "\n",
    "***"
   ]
  },
  {
   "cell_type": "markdown",
   "id": "c6045892",
   "metadata": {},
   "source": [
    "\n",
    "######  Numpy.Random: random.Generator.normal\n"
   ]
  },
  {
   "cell_type": "markdown",
   "id": "36d5f9aa",
   "metadata": {},
   "source": [
    "Normal distribution (also referred to as Gaussian distribution) is a probability distribution that is perhaps most commonly seen in everyday life. The characteristic shape of the probability density function of the Normal distribution is a bell-curve, depicting the fact that data near the mean occurs more often that data farther than the mean [42,43]. In a Normal distribution, '68% of the observations are within +/- one standard deviation of the mean, 95% are within +/- two standard deviations, and 99.7% are within +- three standard deviations'[42]. \n",
    "<br>\n",
    "Normal distribution is perhaps the most commonly known form of distriubtion due to the fact many observations follow a Gaussian distibution, including [44]:\n",
    "-  Height\n",
    "-  blood pressure\n",
    "-  Exam Results\n",
    "\n",
    "In the Numpy package, <i>loc</i> refers to the mean of the distribution and <i>scale</i> refers to the standard deviation [43].\n",
    "\n",
    "![Normal](Images/normal.png)\n"
   ]
  },
  {
   "cell_type": "code",
   "execution_count": 18,
   "id": "6cd0bd2b",
   "metadata": {},
   "outputs": [],
   "source": [
    "# Investigating the Normal distribution function\n",
    "mu, sigma = 0, 0.2 # mean and standard deviation\n",
    "s = np.random.default_rng().normal(mu, sigma, 1000)"
   ]
  },
  {
   "cell_type": "code",
   "execution_count": 19,
   "id": "fce4c158",
   "metadata": {},
   "outputs": [
    {
     "name": "stdout",
     "output_type": "stream",
     "text": [
      "The mean (mu) of the values is: 0 and the standard deviation(sigma) is: 0.2\n"
     ]
    },
    {
     "data": {
      "image/png": "[encoded data removed]",
      "text/plain": [
       "<Figure size 432x288 with 1 Axes>"
      ]
     },
     "metadata": {
      "needs_background": "light"
     },
     "output_type": "display_data"
    }
   ],
   "source": [
    "# Plotting the resulting random variables\n",
    "count, bins, ignored = plt.hist(s, 35, density=True) # adapted from Reference 43.\n",
    "# The below lines of code is filling in input values for the probability density as outlines in Reference 43.\n",
    "plt.plot(bins, 1/(sigma * np.sqrt(2 * np.pi)) *\n",
    "               np.exp( - (bins - mu)**2 / (2 * sigma**2) ),\n",
    "         linewidth=3, label= 'PDF', color='blue') # pdf = Probability Density Function\n",
    "plt.xlabel('x', fontweight = 'bold')\n",
    "plt.ylabel('Density', fontweight = 'bold')\n",
    "plt.suptitle('Normal Distribution', fontsize = 15)\n",
    "plt.legend()\n",
    "print('The mean (mu) of the values is:', mu , 'and the standard deviation(sigma) is:', sigma)"
   ]
  },
  {
   "cell_type": "code",
   "execution_count": 20,
   "id": "4c406353",
   "metadata": {},
   "outputs": [
    {
     "data": {
      "text/plain": [
       "<matplotlib.legend.Legend at 0x185f666fdc0>"
      ]
     },
     "execution_count": 20,
     "metadata": {},
     "output_type": "execute_result"
    },
    {
     "data": {
      "image/png": "[encoded data removed]",
      "text/plain": [
       "<Figure size 432x288 with 1 Axes>"
      ]
     },
     "metadata": {
      "needs_background": "light"
     },
     "output_type": "display_data"
    }
   ],
   "source": [
    "# Lets generate an array of values and investigate altering parameters\n",
    "mu1, sigma1 = 0, 1\n",
    "s1 = np.random.default_rng().normal(mu1, sigma1, 500)\n",
    "plt.hist(s1, bins=25, density=True, label='$\\mu=0, \\sigma=1$', color = 'green') # Lettering adapted from Reference 45.\n",
    "\n",
    "# Lets alter the mean value\n",
    "mu2, sigma2 = 4, 1\n",
    "s2 = np.random.default_rng().normal(mu2, sigma2, 500)\n",
    "# changing alpha to alter transparency [46]\n",
    "plt.hist(s2, bins=25, alpha = 0.5, density=True, label='$\\mu=4, \\sigma=1$', color = 'red')\n",
    "\n",
    "# Lets alter the standard deviation \n",
    "mu3, sigma3 = 4, 2\n",
    "s3 = np.random.default_rng().normal(mu3, sigma3, 500)\n",
    "plt.hist(s3, bins=25, density=True, alpha=0.5, label='$\\mu=4, \\sigma=2$', color = 'gold') \n",
    "\n",
    "# Lets overlay our plots\n",
    "plt.xlabel('x', size=12)\n",
    "plt.ylabel('Density', size=12)\n",
    "plt.title('Normal distribution', size=12)\n",
    "plt.legend()\n"
   ]
  },
  {
   "cell_type": "markdown",
   "id": "5ef8e0d5",
   "metadata": {},
   "source": [
    "We can clearly see how changing each parameter drastically affects the resulting array of values. In the first histogram, the peak of the curve is centered around zero while in the second histogram the values are concentrated around 4. Altering the standard deviation, as specifed in the third histogram, results in a much greater 'spread' of value distribution. \n",
    "\n",
    "***"
   ]
  },
  {
   "cell_type": "markdown",
   "id": "9f53ab01",
   "metadata": {},
   "source": [
    "###### Numpy.Random:  random.Generator.poisson\n"
   ]
  },
  {
   "cell_type": "markdown",
   "id": "4636c8e8",
   "metadata": {},
   "source": [
    "At it's most basic, a Poisson distribution can be used to estimate the probability of a certain event occurring within a fixed-time interval [47]. In everyday use, Poisson distributions are used to estimate the 'number of car crashes in a city of a given size' [47]. Other common questions that can be answered using a Poisson distribution is the numbers of books sold in a week, number of storms in a city over a given time period [50]. \n",
    "\n",
    "![Poisson](Images/poisson.png)\n",
    "<i>Adapted from Reference 48</i>\n",
    "\n",
    "\n",
    "In Numpy, the Poisson function contains the <i>lam (lambda)</i> parameter, which is the 'expected number of events occurring in a fixed-time interval' [49]. As the value of <i>lambda</i> changes, the probability of the number of events occuring within a defined time interval also changes [49].\n"
   ]
  },
  {
   "cell_type": "code",
   "execution_count": 21,
   "id": "1f61d18c",
   "metadata": {},
   "outputs": [
    {
     "data": {
      "text/plain": [
       "<matplotlib.legend.Legend at 0x185f603ff70>"
      ]
     },
     "execution_count": 21,
     "metadata": {},
     "output_type": "execute_result"
    },
    {
     "data": {
      "image/png": "[encoded data removed]",
      "text/plain": [
       "<Figure size 432x288 with 1 Axes>"
      ]
     },
     "metadata": {
      "needs_background": "light"
     },
     "output_type": "display_data"
    }
   ],
   "source": [
    "# Exploration of the Poisson function\n",
    "\n",
    "rng = np.random.default_rng()  # Generate some random values\n",
    "\n",
    "# Let's change the value for lambda\n",
    "p = rng.poisson(1, 10000) # setting lam to 1.0, with 10000 values\n",
    "plt.hist(p, bins = 10, density = True, alpha = 0.3, color = 'red', label='$\\lambda=1$')\n",
    "p1 = rng.poisson(2, 10000) # setting lam to 2.0, with 10000 values\n",
    "plt.hist(p1, bins = 10, density = True,alpha = 1.0, color = 'blue', label='$\\lambda = 2$')\n",
    "p2 = rng.poisson(5, 10000) # setting lam to 5.0, with 10000 values\n",
    "plt.hist(p2, bins = 20, density = True, color = 'green', alpha = 0.2, label='$\\lambda = 5$')\n",
    "\n",
    "# Lets overlay our plots\n",
    "plt.xlabel(' Events', size=12)\n",
    "plt.ylabel('Probability', size=12)\n",
    "plt.title('Poisson distribution', size=12)\n",
    "plt.legend()"
   ]
  },
  {
   "cell_type": "markdown",
   "id": "16473ebc",
   "metadata": {},
   "source": [
    "Upon examination, we can see that the probability of an event occuring reaches it's peak as it approaches <i>lambda</i>.\n",
    "***"
   ]
  },
  {
   "cell_type": "markdown",
   "id": "016a9c1a",
   "metadata": {},
   "source": [
    "###### Numpy.Random:  random.Generator.pareto\n",
    "\n",
    "At it's most basic, the Pareto principle details an unequal relationship between inputs and outputs, in where 80% of the consequences comes from 20% of the causes [51]. For this reason, it's also known as the '80/20 Rule' [51]. In everyday terms, we can relate this to an example of a company where 20% of the products a company sells generates 80% of the company's profits. Historically, this observation came from the Italian economist\n",
    "[Vilfredo Pareto](https://www.econlib.org/library/Enc/bios/Pareto.html) who calculated that 80% of Italian wealth was owned by 20% of the population [52]. \n",
    "\n",
    "![Pareto](Images/pareto.png) <i>Adapted from Reference 53</i>\n",
    "\n",
    "In Numpy, there are two parameters for the pareto function: <i>a</i>, which denotes the shape of the distribution and must be positive and <i> size</i>, which denotes the shape of the output [53]. The pareto distribution is obtained by adding 1 and multiplying by the scale parameter <i> m </i>.\n",
    "    \n",
    "![Par_dist](Images/par_dist.png) <i>Adapted from Reference 53</i>\n"
   ]
  },
  {
   "cell_type": "code",
   "execution_count": 22,
   "id": "f9f8587c",
   "metadata": {},
   "outputs": [],
   "source": [
    "# Lets explore the Pareto distribution\n",
    "a, m = 4., 4.  # shape and mode as detailed in Reference 53\n",
    "par = (np.random.default_rng().pareto(a, 1000) + 1) * m # generating random values based on pareto"
   ]
  },
  {
   "cell_type": "code",
   "execution_count": 23,
   "id": "a48bf2a4",
   "metadata": {},
   "outputs": [
    {
     "data": {
      "text/plain": [
       "<matplotlib.legend.Legend at 0x185f675d9a0>"
      ]
     },
     "execution_count": 23,
     "metadata": {},
     "output_type": "execute_result"
    },
    {
     "data": {
      "image/png": "[encoded data removed]",
      "text/plain": [
       "<Figure size 432x288 with 1 Axes>"
      ]
     },
     "metadata": {
      "needs_background": "light"
     },
     "output_type": "display_data"
    }
   ],
   "source": [
    "count, bins, _ = plt.hist(par, 40, density=True) # setting variables as per official documentation [53]\n",
    "fit = a*m**a / bins**(a+1)\n",
    "plt.plot(bins, max(count)*fit/max(fit), linewidth=3, color='green', label = 'm = 4' )\n",
    "\n",
    "plt.xlabel('x', size=12)\n",
    "plt.ylabel('f(x)', size=12)\n",
    "plt.title('Pareto distribution', size=12)\n",
    "plt.legend()\n",
    "\n"
   ]
  },
  {
   "cell_type": "markdown",
   "id": "ad81e01d",
   "metadata": {},
   "source": [
    "As can be deduced from the initial introduction to Pareto distribution, we can see here the spread of a range of values within Pareto distribution. In contrast to the distributions we have examined so far where there is a 'central peak' in the data, we see here that the majority of values fall within the initial 20% range with a corresponding tailing-off for the remaining values. This 'tailing-off' phenomenon is also known as the Pareto Index or the slope [54]. \n",
    "\n"
   ]
  },
  {
   "cell_type": "markdown",
   "id": "f7c57fe7",
   "metadata": {},
   "source": [
    "***\n",
    "##### Numpy.Random:  random.Generator.gamma\n",
    "\n",
    "In a nutshell, Gamma distribution (an aspect of the Poisson process) is primarily used to model the wait time until future events [55]. The difference between Gamma distribution and Exponential distribution is that Exponential distribution accounts for the <b>first event</b> while Gamma distribution models for the '<b>k-th</b>' event, where <i>'k'</i> denotes the shape and <i>'th'</i> denotes the scale (which accounts for where the majority of the observations will lie) [55,56]. Gamma distribution is used for continuous variables that have skewed distributions [57]. Skewness is a measure of the distortion of data from the normal distribution i.e the 'bell-shape' curve [58].\n",
    "\n",
    "In everyday life, Gamma distributions can be used to model the following: \n",
    "- Rainfall Rates\n",
    "- Life expectancies\n",
    "- Failure of electronic componants \n",
    "\n",
    "\n",
    "\n",
    "![gamma.png](Images/gamma.png)\n",
    "<i>Adapted from Reference 56</i>"
   ]
  },
  {
   "cell_type": "code",
   "execution_count": 24,
   "id": "ef4a8d00",
   "metadata": {},
   "outputs": [],
   "source": [
    "# Generate our values\n",
    "shape, scale = 2., 2.  # mean=4, std=2*sqrt(2)\n",
    "g = np.random.default_rng().gamma(shape, scale, 500)"
   ]
  },
  {
   "cell_type": "code",
   "execution_count": 25,
   "id": "3d8ee80e",
   "metadata": {},
   "outputs": [
    {
     "data": {
      "text/plain": [
       "<matplotlib.legend.Legend at 0x185f63ebaf0>"
      ]
     },
     "execution_count": 25,
     "metadata": {},
     "output_type": "execute_result"
    },
    {
     "data": {
      "image/png": "[encoded data removed]",
      "text/plain": [
       "<Figure size 432x288 with 1 Axes>"
      ]
     },
     "metadata": {
      "needs_background": "light"
     },
     "output_type": "display_data"
    }
   ],
   "source": [
    "# Investigating Gamma distribution as per Official Documentation [56]\n",
    "count, bins, ignored = plt.hist(g, 50, density=True)\n",
    "y = bins**(shape-1)*(np.exp(-bins/scale) /  \n",
    "                     (sps.gamma(shape)*scale**shape))\n",
    "plt.plot(bins, y, linewidth=2, color='blue', label = 'k = 2')  \n",
    "plt.title('Gamma distribution', fontweight = 'bold')\n",
    "plt.ylabel('Frequency')\n",
    "plt.legend()\n"
   ]
  },
  {
   "cell_type": "code",
   "execution_count": 26,
   "id": "0257dd44",
   "metadata": {},
   "outputs": [
    {
     "data": {
      "image/png": "[encoded data removed]",
      "text/plain": [
       "<Figure size 432x288 with 1 Axes>"
      ]
     },
     "metadata": {
      "needs_background": "light"
     },
     "output_type": "display_data"
    }
   ],
   "source": [
    "# Investigating the effect of altering the shape parameter\n",
    "g1 = np.random.default_rng().gamma(shape, scale, 500)\n",
    "\n",
    "# Changing shape value to 4\n",
    "shape1, scale = 4., 2.  \n",
    "count, bins, ignored = plt.hist(g1, 50, density=True)\n",
    "y1 = bins**(shape1-1)*(np.exp(-bins/scale) /  \n",
    "                     (sps.gamma(shape1)*scale**shape1))\n",
    "plt.plot(bins, y1, linewidth=2, color='blue', label = 'k = 4')  \n",
    "\n",
    "\n",
    "# Changing shape value to 2\n",
    "shape2, scale = 2., 2.  \n",
    "count, bins, ignored = plt.hist(g1, 50, density=True)\n",
    "y2 = bins**(shape2-1)*(np.exp(-bins/scale) /  \n",
    "                     (sps.gamma(shape2)*scale**shape2))\n",
    "plt.plot(bins, y2, linewidth=2, color='red', label = 'k = 2')  \n",
    "\n",
    "# Changing shape value to 0.9\n",
    "shape3, scale = 0.9, 2. \n",
    "count, bins, ignored = plt.hist(g1, 50, density=True)\n",
    "y3 = bins**(shape3-1)*(np.exp(-bins/scale) /  \n",
    "                     (sps.gamma(shape3)*scale**shape3))\n",
    "plt.plot(bins, y3, linewidth=2, color='black', label = 'k = 0.9')  \n",
    "\n",
    "# Lets overlay our plots\n",
    "plt.ylabel('Frequency', size=12)\n",
    "plt.title('Changing Shape Parameter', size=12)\n",
    "plt.legend()\n",
    "plt.grid()\n"
   ]
  },
  {
   "cell_type": "markdown",
   "id": "b181b4c3",
   "metadata": {},
   "source": [
    "We can see that altering the shape parameter decreases the overall skew. A k-value of below 1 leads to an asymptotic distribution while as the value of <i>k</i> increases, the overall skew appears to decrease. "
   ]
  },
  {
   "cell_type": "code",
   "execution_count": 27,
   "id": "bac44104",
   "metadata": {},
   "outputs": [
    {
     "data": {
      "image/png": "[encoded data removed]",
      "text/plain": [
       "<Figure size 432x288 with 1 Axes>"
      ]
     },
     "metadata": {
      "needs_background": "light"
     },
     "output_type": "display_data"
    }
   ],
   "source": [
    "# Investigating the effect of altering the scale parameter\n",
    "g2 = np.random.default_rng().gamma(shape1, scale, 500)\n",
    "\n",
    "# Changing scale value to 0.9\n",
    "shape1, scale1 = 1, 0.9 \n",
    "count, bins, ignored = plt.hist(g2, 50, density=True)\n",
    "y1 = bins**(shape1-1)*(np.exp(-bins/scale1) /  \n",
    "                     (sps.gamma(shape1)*scale1**shape1))\n",
    "plt.plot(bins, y1, linewidth=2, color='blue', label = 'scale = 0.9')  \n",
    "\n",
    "\n",
    "# Changing scale value to 1.5\n",
    "scale2 =  1.5 \n",
    "count, bins, ignored = plt.hist(g1, 50, density=True)\n",
    "y2 = bins**(shape1-1)*(np.exp(-bins/scale2) /  \n",
    "                     (sps.gamma(shape1)*scale2**shape1))\n",
    "plt.plot(bins, y2, linewidth=2, color='red', label = 'scale = 1.5')  \n",
    "\n",
    "# Changing scale value to 3\n",
    "scale3 = 3\n",
    "count, bins, ignored = plt.hist(g1, 50, density=True)\n",
    "y3 = bins**(shape1-1)*(np.exp(-bins/scale3) /  \n",
    "                     (sps.gamma(shape1)*scale3**shape1))\n",
    "plt.plot(bins, y3, linewidth=2, color='black', label = 'scale = 3')  \n",
    "\n",
    "# Lets overlay our plots\n",
    "plt.ylabel('Frequency', size=12)\n",
    "plt.title('Changing Scale Parameter', size=12)\n",
    "plt.legend()\n",
    "plt.grid()"
   ]
  },
  {
   "cell_type": "markdown",
   "id": "aafe01aa",
   "metadata": {},
   "source": [
    "Again, we can see that altering the scale parameter decreases the overall skew.\n",
    "<br>\n",
    "To finish off this process, it is also important to highlight the difference between Gamma and Poisson distribution. Gamma distribution us used to model the wait until the k-th event whereas Poisson distribution is used to model the number of events that may occur in the future [59]."
   ]
  },
  {
   "cell_type": "markdown",
   "id": "5b997fd0",
   "metadata": {},
   "source": [
    "***\n",
    "## The use of Seeds in generating Random Numbers\n",
    "***"
   ]
  },
  {
   "cell_type": "markdown",
   "id": "5501fd2f",
   "metadata": {},
   "source": [
    "There have been some important changes in Seeding in the latest version of the Numpy.random package. I have highlighted some of the differences in Generators in the section [So how does this tie in to the Numpy.Random Package](#so_how_does_this_tie_in_to_the_Numpy.Random_Package?). 'Seeding', as discussed in the same earlier section, essentially allows work to be reproducible by controlling the set of 'random' numbers generated. Random State has been replaced by a 'Generator', which incorporates the use of an additional BitGenerator (using PCG64) that generates random bits [3,10]. These random bits are converted into random values by the action of the Generator[3,10,11].\n",
    "\n",
    "![Random_Gen](Images/random_Gen.png)\n",
    "<i>Adapted from Reference 60</i>"
   ]
  },
  {
   "cell_type": "markdown",
   "id": "7636f2d6",
   "metadata": {},
   "source": [
    "As can be seen from the official documentation [60], several parameters can be called for <i>seed</i>. The only thing here that may cause uncertainty is 'SeedSequence', which essentially 'mixes sources of entropy in a reproducible way to set the initial state for independent and very probably non-overlapping BitGenerators'[61]. Previous versions of Numpy used what is known as the 'Mersenne Twister' algorithm [10,11]. This has now been replaced by PCG-64 (Permuted Congruential Generator) due to enhanced performence [10,11,62]. In the official documentation, a table has been compiled detailing processing speeds for generating random values from different distributions [62]. Some striking differences appear in computing times (in nanoseconds) for generating values in Uniform distribution (MT19937:5.9 vs PCG64:3.1) , Gamma distribution (MT19937:37.2 vs PCG64:30.8) and Poisson distributions (MT19937:111.7 vs PCG64:103.4) [62]. PCG64 has also improved performance on different operating systems [62]. "
   ]
  },
  {
   "cell_type": "code",
   "execution_count": 28,
   "id": "05dc9212",
   "metadata": {},
   "outputs": [
    {
     "name": "stdout",
     "output_type": "stream",
     "text": [
      "Generator(PCG64)\n",
      "0.18856157373891547\n"
     ]
    },
    {
     "data": {
      "text/plain": [
       "float"
      ]
     },
     "execution_count": 28,
     "metadata": {},
     "output_type": "execute_result"
    }
   ],
   "source": [
    "# Lets start generating some random float values\n",
    "# Taken from Official Documentation [60]\n",
    "rng = np.random.default_rng()\n",
    "print(rng) # Verifying the Generator\n",
    "r_float = rng.random()\n",
    "print(r_float) # Print our float value\n",
    "type(r_float) # Verify it is indeed a float\n"
   ]
  },
  {
   "cell_type": "code",
   "execution_count": 29,
   "id": "a3acbf48",
   "metadata": {},
   "outputs": [
    {
     "name": "stdout",
     "output_type": "stream",
     "text": [
      "[2 0]\n",
      "[3 3]\n"
     ]
    },
    {
     "data": {
      "text/plain": [
       "array([False, False])"
      ]
     },
     "execution_count": 29,
     "metadata": {},
     "output_type": "execute_result"
    }
   ],
   "source": [
    "# Generating integer values\n",
    "# Low and High parameters are same as we have detailed throught (inclusive, exclusive)\n",
    "rng = np.random.default_rng()\n",
    "r_ints = rng.integers(low=0, high=5, size=2) # two values between 0 and 4\n",
    "print(r_ints)\n",
    "r1_ints = rng.integers(low=0, high=5, size=2) # two values between 0 and 4\n",
    "print(r1_ints)\n",
    "\n",
    "# Boolean to determine if both arrays are the same\n",
    "r1_ints == r_ints"
   ]
  },
  {
   "cell_type": "markdown",
   "id": "ca79b443",
   "metadata": {},
   "source": [
    "We can see here we are generating arrays of different values. "
   ]
  },
  {
   "cell_type": "code",
   "execution_count": 30,
   "id": "cb7a9f4a",
   "metadata": {},
   "outputs": [
    {
     "name": "stdout",
     "output_type": "stream",
     "text": [
      "[[0.95600171 0.20768181 0.82844489]\n",
      " [0.14928212 0.51280462 0.1359196 ]\n",
      " [0.68903648 0.84174772 0.425509  ]\n",
      " [0.956926   0.82533291 0.33821531]\n",
      " [0.57576055 0.75330186 0.82710394]]\n"
     ]
    }
   ],
   "source": [
    "# Lets start seeding so that we get reproducible results\n",
    "rng = np.random.default_rng(seed=10) # setting the seed value as 10\n",
    "arr_1 = rng.random((5, 3)) # producing an array of results\n",
    "print(arr_1) # printing the results"
   ]
  },
  {
   "cell_type": "code",
   "execution_count": 31,
   "id": "dcb553fe",
   "metadata": {},
   "outputs": [
    {
     "name": "stdout",
     "output_type": "stream",
     "text": [
      "[[0.95600171 0.20768181 0.82844489]\n",
      " [0.14928212 0.51280462 0.1359196 ]\n",
      " [0.68903648 0.84174772 0.425509  ]\n",
      " [0.956926   0.82533291 0.33821531]\n",
      " [0.57576055 0.75330186 0.82710394]]\n"
     ]
    }
   ],
   "source": [
    "rng = np.random.default_rng(seed=10) # setting the seed value as 10\n",
    "arr_2 = rng.random((5, 3))  # producing an array of results\n",
    "print(arr_2) # printing the results"
   ]
  },
  {
   "cell_type": "code",
   "execution_count": 32,
   "id": "818c84df",
   "metadata": {},
   "outputs": [
    {
     "data": {
      "image/png": "[encoded data removed]",
      "text/plain": [
       "<Figure size 432x288 with 1 Axes>"
      ]
     },
     "metadata": {
      "needs_background": "light"
     },
     "output_type": "display_data"
    }
   ],
   "source": [
    "# Lets plot arr_1\n",
    "plt.plot(arr_1, '.', label = 'arr_1')\n",
    "plt.xlabel('Points', size=12)\n",
    "plt.title('Arr_1', size=12)\n",
    "plt.grid(False)"
   ]
  },
  {
   "cell_type": "code",
   "execution_count": 33,
   "id": "7673c099",
   "metadata": {},
   "outputs": [
    {
     "data": {
      "image/png": "[encoded data removed]",
      "text/plain": [
       "<Figure size 432x288 with 1 Axes>"
      ]
     },
     "metadata": {
      "needs_background": "light"
     },
     "output_type": "display_data"
    }
   ],
   "source": [
    "# Lets plot arr_2\n",
    "plt.plot(arr_2, '.', label = 'arr_2')\n",
    "plt.xlabel('Points', size=12)\n",
    "plt.title('Arr_2', size=12)\n",
    "plt.grid(False)"
   ]
  },
  {
   "cell_type": "code",
   "execution_count": 34,
   "id": "4e6bf720",
   "metadata": {},
   "outputs": [
    {
     "data": {
      "text/plain": [
       "array([[ True,  True,  True],\n",
       "       [ True,  True,  True],\n",
       "       [ True,  True,  True],\n",
       "       [ True,  True,  True],\n",
       "       [ True,  True,  True]])"
      ]
     },
     "execution_count": 34,
     "metadata": {},
     "output_type": "execute_result"
    }
   ],
   "source": [
    "# Boolean to determine if both arrays are the same\n",
    "arr_1 == arr_2"
   ]
  },
  {
   "cell_type": "markdown",
   "id": "3331937d",
   "metadata": {},
   "source": [
    "What we see above is essentially the basis of Seeding. We have set the same seed for both arrays and then called the random module to provide an array of numbers for us. As we have set the same seed, the 'random' values returned for each array are exactly the same. This brings us nicely to the concept of 'pseudo-random' values. As the name suggests, 'pseudo-random numbers' are not inherently random. The random numbers generated by a computer are in fact 'pseudo-random', as they are generated by algorithms[3]. As we know, computers are deterministic in nature [63]. Using this logic, if we know the 'seed value' going to be used by an algorithm, we can predict the next 'random' value. This is what we have shown above. "
   ]
  },
  {
   "cell_type": "markdown",
   "id": "bd539515",
   "metadata": {},
   "source": [
    "***\n",
    "<br>"
   ]
  },
  {
   "cell_type": "markdown",
   "id": "8a5856cc",
   "metadata": {},
   "source": [
    "# References\n",
    "\n",
    "1.  https://www.fiverr.com/naazneen_jatu/create-python-jupyter-notebooks \n",
    "2.  https://towardsdatascience.com/how-to-create-numpy-arrays-from-scratch-3e0341f9ffea\n",
    "3. https://numpy.org/doc/stable/reference/random/index.html \n",
    "4. https://www.w3schools.com/python/numpy/numpy_intro.asp \n",
    "5. https://numpy.org/\n",
    "6. https://numpy.org/doc/stable/user/whatisnumpy.html \n",
    "7.  https://medium.com/fintechexplained/why-should-we-use-numpy-c14a4fb03ee9 \n",
    "8.  https://medium.com/backticks-tildes/list-vs-array-python-data-type-40ac4f294551\n",
    "9.  https://datascienceparichay.com/article/how-to-remove-elements-from-a-numpy-array/\n",
    "10. https://numpy.org/doc/stable/reference/random/bit_generators/index.html\n",
    "11. https://www.pcg-random.org/index.html \n",
    "12. https://www.cryptologie.net/article/331/how-does-the-mersennes-twister-work/ \n",
    "13. https://pythonguides.com/python-numpy-random/ \n",
    "14. https://www.merriam-webster.com/dictionary/permute \n",
    "15. https://medium.com/analytics-vidhya/editing-data-visualization-in-python-64f42225ba21\n",
    "16. DEV Community. Subplotting with matplotlib and seaborn. \n",
    "17. https://docs.python.org/3/tutorial/errors.html) \n",
    "18.  https://matplotlib.org/stable/tutorials/text/text_props.html \n",
    "19.  https://htmlcolorcodes.com/ \n",
    "20.  https://numpy.org/doc/stable/reference/random/generated/numpy.random.Generator.integers.html#numpy.random.Generator.integers \n",
    "21.  https://numpy.org/doc/stable/reference/random/generated/numpy.random.Generator.random.html#numpy.random.Generator.random\n",
    "22.  https://corporatefinanceinstitute.com/resources/knowledge/other/uniform-distribution/\n",
    "23.  https://www.shmoop.com/probability-statistics/discrete-continuous-data.html \n",
    "24.  https://thatsmaths.com/2016/12/22/twenty-heads-in-succession-how-long-will-we-wait/ \n",
    "25.  https://numpy.org/doc/stable/reference/random/generated/numpy.random.Generator.choice.html#numpy.random.Generator.choice \n",
    "26.  https://stackoverflow.com/questions/12282232/how-do-i-count-unique-values-inside-a-list \n",
    "27.  https://numpy.org/doc/stable/reference/generated/numpy.asarray.html \n",
    "28.  https://stackoverflow.com/questions/31594549/how-do-i-change-the-figure-size-for-a-seaborn-plot \n",
    "29.   https://numpy.org/doc/stable/reference/random/generated/numpy.random.Generator.bytes.html#numpy.random.Generator.bytes \n",
    "30. https://numpy.org/doc/stable/reference/random/generated/numpy.random.Generator.shuffle.html#numpy.random.Generator.shuffle   \n",
    "31. https://ipython-books.github.io/13-introducing-the-multidimensional-array-in-numpy-for-fast-array-computations/ \n",
    "32. https://numpy.org/doc/stable/reference/random/generated/numpy.random.Generator.permutation.html#numpy.random.Generator.permutation \n",
    "33. https://stackoverflow.com/questions/15474159/shuffle-vs-permute-numpy\n",
    "34. https://numpy.org/doc/stable/reference/random/generated/numpy.random.Generator.permuted.html#numpy.random.Generator.permuted\n",
    "35. https://stattrek.com/probability-distributions/probability-distribution.aspx \n",
    "36. https://stackoverflow.com/questions/48655801/tables-in-markdown-in-jupyter\n",
    "37. https://numpy.org/doc/stable/reference/random/generated/numpy.random.Generator.uniform.html#numpy.random.Generator.uniform\n",
    "38. https://www.investopedia.com/terms/u/uniform-distribution.asp\n",
    "39. https://www.investopedia.com/terms/p/pdf.asp[\n",
    "40. https://numpy.org/doc/stable/reference/generated/numpy.ones_like.html\n",
    "41. https://numpy.org/doc/stable/reference/random/generated/numpy.random.uniform.html\n",
    "42. https://www.investopedia.com/terms/n/normaldistribution.asp \n",
    "43. https://numpy.org/doc/stable/reference/random/generated/numpy.random.Generator.normal.html#numpy.random.Generator.normal\n",
    "44. https://www.mathsisfun.com/data/standard-normal-distribution.html\n",
    "45. https://tex.stackexchange.com/questions/171211/mu-is-printing-the-greek-letter-mu-on-a-separate-single-line\n",
    "46. matplotlib.org. Text properties and layout — Matplotlib 3.1.2 documentation.   \n",
    "47. https://www.investopedia.com/terms/p/poisson-distribution.asp \n",
    "48. https://numpy.org/doc/stable/reference/random/generated/numpy.random.Generator.poisson.html#numpy.random.Generator.poisson \n",
    "49. https://towardsdatascience.com/the-poisson-distribution-and-poisson-process-explained-4e2cb17d459 \n",
    "50. https://studiousguy.com/poisson-distribution-examples/#6_Number_of_Books_Sold_per_Week \n",
    "51. https://www.investopedia.com/terms/p/paretoprinciple.asp[51]\n",
    "52. https://betterexplained.com/articles/understanding-the-pareto-principle-the-8020-rule/\n",
    "53. https://numpy.org/doc/stable/reference/random/generated/numpy.random.Generator.pareto.html#numpy.random.Generator.pareto \n",
    "54. https://www.definitions.net/definition/pareto+index \n",
    "55. https://towardsdatascience.com/gamma-distribution-intuition-derivation-and-examples-55f407423840 \n",
    "56. https://numpy.org/doc/stable/reference/random/generated/numpy.random.Generator.gamma.html#numpy.random.Generator.gamma \n",
    "57. https://www.mygreatlearning.com/blog/gamma-distribution/ \n",
    "58. https://www.investopedia.com/terms/s/skewness.asp \n",
    "59. https://towardsdatascience.com/gamma-distribution-intuition-derivation-and-examples-55f407423840#:~:text=Poisson%20distribution%20is%20used%20to,until%20the%20k%2Dth%20event.\n",
    "60. https://numpy.org/doc/stable/reference/random/generator.html \n",
    "61. https://numpy.org/doc/stable/reference/random/bit_generators/generated/numpy.random.SeedSequence.html#numpy.random.SeedSequence \n",
    "62. https://numpy.org/doc/stable/reference/random/performance.html\n",
    "63. https://www.techopedia.com/definition/602/deterministic-system\n",
    "64. https://towardsdatascience.com/markdown-cells-jupyter-notebook-d3bea8416671 "
   ]
  },
  {
   "cell_type": "markdown",
   "id": "4dff1490",
   "metadata": {},
   "source": [
    "\n",
    "\n",
    "\n",
    "***"
   ]
  },
  {
   "cell_type": "markdown",
   "id": "75635934",
   "metadata": {},
   "source": [
    "This concludes my analysis into the Numpy Random package in Python. Thank you for taking the time to read this and I hope this helped your understanding of the computing power of the package. All HTML work was researched from Reference 64."
   ]
  },
  {
   "cell_type": "markdown",
   "id": "24a50d74",
   "metadata": {},
   "source": [
    "# The End"
   ]
  }
 ],
 "metadata": {
  "kernelspec": {
   "display_name": "Python 3",
   "language": "python",
   "name": "python3"
  },
  "language_info": {
   "codemirror_mode": {
    "name": "ipython",
    "version": 3
   },
   "file_extension": ".py",
   "mimetype": "text/x-python",
   "name": "python",
   "nbconvert_exporter": "python",
   "pygments_lexer": "ipython3",
   "version": "3.8.8"
  }
 },
 "nbformat": 4,
 "nbformat_minor": 5
}
