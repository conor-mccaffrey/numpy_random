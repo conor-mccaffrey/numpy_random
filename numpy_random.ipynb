{
 "cells": [
  {
   "cell_type": "markdown",
   "id": "90e3f6b1",
   "metadata": {},
   "source": [
    "sdffxsgdg\n",
    "***\n",
    "\n",
    "![Python & Jupyter](Images/python-jupyter-notebooks.jpg)\n",
    "\n",
    "![Numpy](Images/Numpy.png)\n",
    "\n",
    "\n",
    "\n",
    "######  <i> Pictures adapted from references 1,2  </i>\n",
    "\n",
    "# <center>The Numpy.Random Package </center>\n",
    "\n",
    "## Conor McCaffrey\n",
    "#### Programming for Data Analysis 2021\n",
    "[Official Documentation for the Numpy Random Package](https://numpy.org/doc/stable/reference/random/index.html)  [3] <br>\n",
    "[Click here for copy of Assignment](Images/ProgDA_Assignment.pdf)\n",
    "\n",
    "\n",
    "***"
   ]
  },
  {
   "cell_type": "markdown",
   "id": "ee2bb60d",
   "metadata": {},
   "source": [
    "## Assignment Objectives\n",
    "- Explain the overall purpose of the package.\n",
    "- Explain the use of the “Simple random data” and “Permutations” functions.\n",
    "- Explain the use and purpose of at least five “Distributions” functions.\n",
    "- Explain the use of seeds in generating pseudorandom numbers."
   ]
  },
  {
   "cell_type": "markdown",
   "id": "b606555c",
   "metadata": {},
   "source": [
    "## What is the purpose of the Numpy.Random Package?"
   ]
  },
  {
   "cell_type": "markdown",
   "id": "4d28faaa",
   "metadata": {},
   "source": [
    "Prior to delving too deeply into the mechanics of a package, it is prudent to first understand the inherent purpose of a package. \n",
    "<br>\n",
    "- <u> Numpy</u> (an abbreviation of \"<b>Num</b>erical <b>Py</b>thon\"  [4] ) is essentially \" the fundamental package for scientific computing in Python \" [5]. This open-source package provides many resources that are of particular importance to scientific computing. According to official documentation [5], Numpy is a \"Python library that provides a multidimensional array object, various derived objects (such as masked arrays and matrices), and an assortment of routines for fast operations on arrays, including mathematical, logical, shape manipulation, sorting, selecting, I/O, discrete Fourier transforms, basic linear algebra, basic statistical operations, random simulation and much more.\" \n",
    "- The core of the Numpy package is the \"array\", which is similar to a list with the main exception being that we can perform mathematical operations/arithmetic functions on arrays that are not possible on lists [6]. Lists can contain data of differing data-types while arrays are used to house elements of the same data type [7]. Upon creation, an array has a fixed size (technically immutable) in where changing elements of an array will delete the original and return a copy of the original array with whatever operation you requested [8] in contrast to lists, which are mutable [5].\n"
   ]
  },
  {
   "cell_type": "markdown",
   "id": "ea37182c",
   "metadata": {},
   "source": [
    "###### So how does this tie in to the Numpy.Random Package?"
   ]
  },
  {
   "cell_type": "code",
   "execution_count": null,
   "id": "86690b4d",
   "metadata": {},
   "outputs": [],
   "source": []
  },
  {
   "cell_type": "code",
   "execution_count": null,
   "id": "dd01f28c",
   "metadata": {},
   "outputs": [],
   "source": []
  },
  {
   "cell_type": "code",
   "execution_count": null,
   "id": "d2b2eb52",
   "metadata": {},
   "outputs": [],
   "source": []
  },
  {
   "cell_type": "code",
   "execution_count": null,
   "id": "af5009cd",
   "metadata": {},
   "outputs": [],
   "source": []
  },
  {
   "cell_type": "code",
   "execution_count": null,
   "id": "10f9c3df",
   "metadata": {},
   "outputs": [],
   "source": []
  },
  {
   "cell_type": "code",
   "execution_count": null,
   "id": "e08bc352",
   "metadata": {},
   "outputs": [],
   "source": []
  },
  {
   "cell_type": "code",
   "execution_count": 1,
   "id": "2cbe2abd",
   "metadata": {},
   "outputs": [],
   "source": [
    "import numpy as np\n",
    "rng = np.random.default_rng()"
   ]
  },
  {
   "cell_type": "code",
   "execution_count": 2,
   "id": "a32afd7c",
   "metadata": {},
   "outputs": [
    {
     "data": {
      "text/plain": [
       "array([0, 0, 0, 0, 1, 0, 1, 1, 0, 1], dtype=int64)"
      ]
     },
     "execution_count": 2,
     "metadata": {},
     "output_type": "execute_result"
    }
   ],
   "source": [
    "rng.integers(2, size=10) # up to but not including 2. Size is the amount of elements returned"
   ]
  },
  {
   "cell_type": "code",
   "execution_count": 3,
   "id": "56ddace5",
   "metadata": {},
   "outputs": [
    {
     "name": "stdout",
     "output_type": "stream",
     "text": [
      "This is f: \n",
      " [[4 4 4 2]\n",
      " [3 0 4 2]]\n",
      "This is g: \n",
      " [[3 3 4 1]\n",
      " [3 3 4 0]\n",
      " [0 1 2 0]\n",
      " [0 3 2 4]\n",
      " [0 1 2 0]]\n",
      "This is h: \n",
      " [[2 0 3 1 4 0 1 2 4 2]\n",
      " [2 1 3 4 1 4 0 4 4 0]\n",
      " [4 3 1 4 1 2 0 4 4 2]\n",
      " [0 3 4 4 3 0 3 2 2 2]\n",
      " [4 3 4 3 2 2 1 4 2 1]]\n",
      "This is i: \n",
      " [[[[3 4 2 0]\n",
      "   [3 0 0 3]\n",
      "   [4 3 3 0]]\n",
      "\n",
      "  [[0 2 1 1]\n",
      "   [2 1 2 4]\n",
      "   [4 1 0 2]]\n",
      "\n",
      "  [[4 0 4 0]\n",
      "   [1 4 2 4]\n",
      "   [0 4 0 1]]\n",
      "\n",
      "  [[3 4 2 2]\n",
      "   [0 2 0 2]\n",
      "   [1 4 3 4]]]\n",
      "\n",
      "\n",
      " [[[0 4 1 3]\n",
      "   [0 3 1 0]\n",
      "   [4 1 2 1]]\n",
      "\n",
      "  [[3 0 3 4]\n",
      "   [1 2 3 1]\n",
      "   [0 0 0 3]]\n",
      "\n",
      "  [[3 1 2 4]\n",
      "   [3 0 3 0]\n",
      "   [1 3 4 1]]\n",
      "\n",
      "  [[2 0 0 3]\n",
      "   [1 0 4 0]\n",
      "   [1 3 3 4]]]\n",
      "\n",
      "\n",
      " [[[2 4 0 2]\n",
      "   [1 1 2 0]\n",
      "   [2 4 0 1]]\n",
      "\n",
      "  [[2 1 0 2]\n",
      "   [2 0 2 1]\n",
      "   [0 4 2 2]]\n",
      "\n",
      "  [[3 2 1 2]\n",
      "   [1 2 0 2]\n",
      "   [0 1 3 0]]\n",
      "\n",
      "  [[3 1 4 3]\n",
      "   [3 0 3 0]\n",
      "   [2 3 1 1]]]\n",
      "\n",
      "\n",
      " [[[4 1 0 0]\n",
      "   [3 1 1 3]\n",
      "   [2 2 4 4]]\n",
      "\n",
      "  [[4 2 3 2]\n",
      "   [2 1 0 1]\n",
      "   [3 0 2 4]]\n",
      "\n",
      "  [[3 3 3 0]\n",
      "   [1 4 0 4]\n",
      "   [3 2 4 2]]\n",
      "\n",
      "  [[4 3 1 1]\n",
      "   [4 3 1 0]\n",
      "   [2 4 3 0]]]\n",
      "\n",
      "\n",
      " [[[2 3 2 1]\n",
      "   [4 1 0 0]\n",
      "   [1 0 3 4]]\n",
      "\n",
      "  [[0 2 2 3]\n",
      "   [0 3 0 4]\n",
      "   [1 2 0 4]]\n",
      "\n",
      "  [[3 1 3 2]\n",
      "   [4 1 1 4]\n",
      "   [1 2 1 0]]\n",
      "\n",
      "  [[4 4 4 2]\n",
      "   [2 4 0 2]\n",
      "   [4 3 2 3]]]]\n",
      "This has caused an error\n"
     ]
    }
   ],
   "source": [
    "f =  rng.integers(5, size=(2, 4)) # generated multi-dimensional array (outer square brackets). The '5' perhaps refers to up to but not including 5 like as above 'Size' structured as the following: 2 is the number if arrays returned with 4 being the number of elements in each.\n",
    "print('This is f: \\n' , f)   # reference for newline character (https://stackoverflow.com/questions/11497376/how-do-i-specify-new-lines-on-python-when-writing-on-files)\n",
    "\n",
    "# Verifying size attribute by changing value of first parameter to 5 to investigate if 5 arrays print. Assinging as variable 'g' to allow printing along with above function to allow comparison\n",
    "g =  rng.integers(5, size=(5, 4))\n",
    "print('This is g: \\n', g)\n",
    "\n",
    "# Verifying size attribute by changing value of second parameter to 10 to investigate if 10 elements are in each list. Assinging as variable 'h' to allow comparison\n",
    "h =  rng.integers(5, size=(5, 10))\n",
    "print('This is h: \\n', h)\n",
    "\n",
    "\n",
    "# Specifying multiple parameters\n",
    "i =  rng.integers(5, size=(5, 4,3,4))\n",
    "print('This is i: \\n', i)\n",
    "\n",
    "\n",
    "# Wrapping empty function in try except block to investigate effect (REFERENCE https://docs.python.org/3/tutorial/errors.html)\n",
    "\n",
    "try:\n",
    "    rng.integers()\n",
    "except BaseException as err:\n",
    "    print('This has caused an error')\n",
    "else:\n",
    "    print('Function still worked')"
   ]
  },
  {
   "cell_type": "code",
   "execution_count": 4,
   "id": "925adf4b",
   "metadata": {},
   "outputs": [],
   "source": [
    "x = rng.integers(100, size=10000)"
   ]
  },
  {
   "cell_type": "code",
   "execution_count": 5,
   "id": "696ab126",
   "metadata": {},
   "outputs": [
    {
     "data": {
      "text/plain": [
       "(array([ 966.,  995., 1009., 1001.,  977., 1060.,  999., 1041.,  960.,\n",
       "         992.]),\n",
       " array([ 0. ,  9.9, 19.8, 29.7, 39.6, 49.5, 59.4, 69.3, 79.2, 89.1, 99. ]),\n",
       " <BarContainer object of 10 artists>)"
      ]
     },
     "execution_count": 5,
     "metadata": {},
     "output_type": "execute_result"
    },
    {
     "data": {
      "image/png": "[encoded data removed]",
      "text/plain": [
       "<Figure size 432x288 with 1 Axes>"
      ]
     },
     "metadata": {
      "needs_background": "light"
     },
     "output_type": "display_data"
    }
   ],
   "source": [
    "# %matplotlib inline # magic command forcing plot to display if needed\n",
    "\n",
    "import matplotlib.pyplot as plt # import matplotlib and plot above function\n",
    "\n",
    "plt.hist(x)"
   ]
  },
  {
   "cell_type": "markdown",
   "id": "70ac4a1d",
   "metadata": {},
   "source": [
    "## Distributions\n",
    "***\n"
   ]
  },
  {
   "cell_type": "code",
   "execution_count": 6,
   "id": "8cba5896",
   "metadata": {},
   "outputs": [
    {
     "data": {
      "text/plain": [
       "array([9.36635067, 9.02822793, 9.94466504, 9.40871093, 9.56900756,\n",
       "       9.23939616, 9.02883574, 9.41224325, 9.73378447, 9.71182831])"
      ]
     },
     "execution_count": 6,
     "metadata": {},
     "output_type": "execute_result"
    }
   ],
   "source": [
    "# Uniform Distribution (https://numpy.org/doc/1.16/reference/generated/numpy.random.uniform.html#numpy.random.uniform)\n",
    "np.random.uniform(-1,0,1000)   # three paramters. 1000 appears to be number of elements returned.\n",
    "# Test to see if final parameter is indeed size\n",
    "np.random.uniform(-1,0,10)  # 10 elements return so assumption is correct\n",
    "\n",
    "np.random.uniform(10,9,10)  # find out why this function works when high limit is lower is lower limit. Random uniform gives numbers is an interval. "
   ]
  },
  {
   "cell_type": "code",
   "execution_count": 7,
   "id": "23c1593a",
   "metadata": {},
   "outputs": [
    {
     "data": {
      "text/plain": [
       "(array([1027.,  960., 1002.,  963., 1003.,  986., 1037.,  958., 1029.,\n",
       "        1035.]),\n",
       " array([1.00925562e-01, 1.00078240e+02, 2.00055555e+02, 3.00032870e+02,\n",
       "        4.00010184e+02, 4.99987499e+02, 5.99964813e+02, 6.99942128e+02,\n",
       "        7.99919443e+02, 8.99896757e+02, 9.99874072e+02]),\n",
       " <BarContainer object of 10 artists>)"
      ]
     },
     "execution_count": 7,
     "metadata": {},
     "output_type": "execute_result"
    },
    {
     "data": {
      "image/png": "[encoded data removed]",
      "text/plain": [
       "<Figure size 432x288 with 1 Axes>"
      ]
     },
     "metadata": {
      "needs_background": "light"
     },
     "output_type": "display_data"
    }
   ],
   "source": [
    "x = np.random.uniform(0,1000,10000)\n",
    "plt.hist(x)"
   ]
  },
  {
   "cell_type": "code",
   "execution_count": 8,
   "id": "37d374b1",
   "metadata": {},
   "outputs": [
    {
     "data": {
      "text/plain": [
       "(array([  1.,   5.,  28.,  99., 230., 232., 233., 115.,  44.,  13.]),\n",
       " array([ 9.62482683,  9.69252372,  9.76022062,  9.82791752,  9.89561441,\n",
       "         9.96331131, 10.03100821, 10.0987051 , 10.166402  , 10.2340989 ,\n",
       "        10.30179579]),\n",
       " <BarContainer object of 10 artists>)"
      ]
     },
     "execution_count": 8,
     "metadata": {},
     "output_type": "execute_result"
    },
    {
     "data": {
      "image/png": "[encoded data removed]",
      "text/plain": [
       "<Figure size 432x288 with 1 Axes>"
      ]
     },
     "metadata": {
      "needs_background": "light"
     },
     "output_type": "display_data"
    }
   ],
   "source": [
    "# Normal Distribution\n",
    " \n",
    "x = np.random.normal(0, 0.1, 1000)  # close to '0' = mu (mean of distribution), 90% values between 0.3 & -0.3, 1000 values\n",
    "# plt.hist(x)\n",
    "\n",
    "# Changing mu value \n",
    "x_2 = np.random.normal(10, 0.1, 1000)  # it appears changing 'mu' changes the population mean.\n",
    "plt.hist(x_2)"
   ]
  },
  {
   "cell_type": "code",
   "execution_count": 9,
   "id": "fb07caa4",
   "metadata": {},
   "outputs": [],
   "source": [
    "# Look at the differences between each one (understand what the functions do, programming level of experience)"
   ]
  },
  {
   "cell_type": "code",
   "execution_count": 10,
   "id": "54e99eec",
   "metadata": {},
   "outputs": [],
   "source": [
    "# Seeding (to do with the time on computer when code is run. Decided once and from then on numbers generated are based on that seed.)\n",
    "# Seed is the position at where you start\n",
    "\n",
    "\n"
   ]
  },
  {
   "cell_type": "code",
   "execution_count": 11,
   "id": "bcab10af",
   "metadata": {},
   "outputs": [],
   "source": [
    "# How does PCG 64 outperfom Mersenne Twister algorithm . Melissa O Neill. Test through documentation. Formulate how to seed the algorithm so you get reproducible results from algotrithm."
   ]
  },
  {
   "cell_type": "code",
   "execution_count": null,
   "id": "7faeade2",
   "metadata": {},
   "outputs": [],
   "source": []
  },
  {
   "cell_type": "code",
   "execution_count": null,
   "id": "e2a79b68",
   "metadata": {},
   "outputs": [],
   "source": []
  },
  {
   "cell_type": "code",
   "execution_count": null,
   "id": "114b8ca0",
   "metadata": {},
   "outputs": [],
   "source": []
  },
  {
   "cell_type": "code",
   "execution_count": null,
   "id": "e631db7d",
   "metadata": {},
   "outputs": [],
   "source": []
  },
  {
   "cell_type": "code",
   "execution_count": null,
   "id": "c94beebe",
   "metadata": {},
   "outputs": [],
   "source": []
  }
 ],
 "metadata": {
  "kernelspec": {
   "display_name": "Python 3",
   "language": "python",
   "name": "python3"
  },
  "language_info": {
   "codemirror_mode": {
    "name": "ipython",
    "version": 3
   },
   "file_extension": ".py",
   "mimetype": "text/x-python",
   "name": "python",
   "nbconvert_exporter": "python",
   "pygments_lexer": "ipython3",
   "version": "3.8.8"
  }
 },
 "nbformat": 4,
 "nbformat_minor": 5
}
