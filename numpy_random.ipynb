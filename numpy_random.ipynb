{
 "cells": [
  {
   "cell_type": "markdown",
   "id": "90e3f6b1",
   "metadata": {},
   "source": [
    "# The numpy.random package\n",
    "### Conor McCaffrey\n",
    "\n",
    "***"
   ]
  },
  {
   "cell_type": "code",
   "execution_count": 1,
   "id": "2cbe2abd",
   "metadata": {},
   "outputs": [],
   "source": [
    "import numpy as np\n",
    "rng = np.random.default_rng()"
   ]
  },
  {
   "cell_type": "code",
   "execution_count": 2,
   "id": "a32afd7c",
   "metadata": {},
   "outputs": [
    {
     "data": {
      "text/plain": [
       "array([0, 0, 0, 1, 0, 1, 0, 1, 1, 0], dtype=int64)"
      ]
     },
     "execution_count": 2,
     "metadata": {},
     "output_type": "execute_result"
    }
   ],
   "source": [
    "rng.integers(2, size=10) # up to but not including 2. Size is the amount of elements returned"
   ]
  },
  {
   "cell_type": "code",
   "execution_count": 3,
   "id": "56ddace5",
   "metadata": {},
   "outputs": [
    {
     "name": "stdout",
     "output_type": "stream",
     "text": [
      "This is f: \n",
      " [[1 0 2 4]\n",
      " [1 0 4 4]]\n",
      "This is g: \n",
      " [[0 3 3 3]\n",
      " [2 2 2 4]\n",
      " [2 4 1 3]\n",
      " [0 4 2 4]\n",
      " [1 2 2 1]]\n",
      "This is h: \n",
      " [[4 1 3 3 3 4 2 3 4 4]\n",
      " [3 3 3 3 1 2 0 0 1 4]\n",
      " [3 3 4 3 0 0 0 3 4 2]\n",
      " [2 1 4 2 3 0 3 3 1 4]\n",
      " [1 1 4 1 0 2 3 4 4 4]]\n",
      "This is i: \n",
      " [[[[2 0 0 3]\n",
      "   [1 3 0 2]\n",
      "   [1 0 3 1]]\n",
      "\n",
      "  [[1 4 3 4]\n",
      "   [4 2 3 2]\n",
      "   [2 4 1 3]]\n",
      "\n",
      "  [[2 2 3 0]\n",
      "   [3 3 2 4]\n",
      "   [4 4 2 3]]\n",
      "\n",
      "  [[4 1 4 3]\n",
      "   [1 1 3 2]\n",
      "   [4 2 4 0]]]\n",
      "\n",
      "\n",
      " [[[4 0 1 3]\n",
      "   [0 0 1 2]\n",
      "   [3 4 3 1]]\n",
      "\n",
      "  [[2 0 3 3]\n",
      "   [2 0 3 0]\n",
      "   [3 2 2 3]]\n",
      "\n",
      "  [[0 2 0 1]\n",
      "   [1 0 3 3]\n",
      "   [3 2 4 2]]\n",
      "\n",
      "  [[4 3 4 4]\n",
      "   [1 3 2 2]\n",
      "   [4 3 4 2]]]\n",
      "\n",
      "\n",
      " [[[2 1 3 1]\n",
      "   [1 4 3 0]\n",
      "   [0 2 4 2]]\n",
      "\n",
      "  [[0 3 0 1]\n",
      "   [4 1 3 1]\n",
      "   [0 1 2 0]]\n",
      "\n",
      "  [[4 1 1 1]\n",
      "   [4 1 3 4]\n",
      "   [4 1 4 4]]\n",
      "\n",
      "  [[4 3 2 4]\n",
      "   [3 0 3 2]\n",
      "   [1 2 1 3]]]\n",
      "\n",
      "\n",
      " [[[2 3 3 3]\n",
      "   [2 2 4 4]\n",
      "   [4 2 0 4]]\n",
      "\n",
      "  [[3 3 4 4]\n",
      "   [2 4 3 2]\n",
      "   [1 2 1 3]]\n",
      "\n",
      "  [[0 4 4 2]\n",
      "   [0 4 1 3]\n",
      "   [2 1 1 3]]\n",
      "\n",
      "  [[4 2 4 2]\n",
      "   [3 4 3 1]\n",
      "   [3 0 2 4]]]\n",
      "\n",
      "\n",
      " [[[1 4 2 2]\n",
      "   [0 0 0 0]\n",
      "   [3 3 4 4]]\n",
      "\n",
      "  [[3 0 0 4]\n",
      "   [2 3 4 2]\n",
      "   [4 4 0 2]]\n",
      "\n",
      "  [[2 1 4 3]\n",
      "   [0 4 3 2]\n",
      "   [4 3 3 4]]\n",
      "\n",
      "  [[4 3 3 3]\n",
      "   [0 3 1 3]\n",
      "   [4 4 3 2]]]]\n",
      "This has caused an error\n"
     ]
    }
   ],
   "source": [
    "f =  rng.integers(5, size=(2, 4)) # generated multi-dimensional array (outer square brackets). The '5' perhaps refers to up to but not including 5 like as above 'Size' structured as the following: 2 is the number if arrays returned with 4 being the number of elements in each.\n",
    "print('This is f: \\n' , f)   # reference for newline character (https://stackoverflow.com/questions/11497376/how-do-i-specify-new-lines-on-python-when-writing-on-files)\n",
    "\n",
    "# Verifying size attribute by changing value of first parameter to 5 to investigate if 5 arrays print. Assinging as variable 'g' to allow printing along with above function to allow comparison\n",
    "g =  rng.integers(5, size=(5, 4))\n",
    "print('This is g: \\n', g)\n",
    "\n",
    "# Verifying size attribute by changing value of second parameter to 10 to investigate if 10 elements are in each list. Assinging as variable 'h' to allow comparison\n",
    "h =  rng.integers(5, size=(5, 10))\n",
    "print('This is h: \\n', h)\n",
    "\n",
    "\n",
    "# Specifying multiple parameters\n",
    "i =  rng.integers(5, size=(5, 4,3,4))\n",
    "print('This is i: \\n', i)\n",
    "\n",
    "\n",
    "# Wrapping empty function in try except block to investigate effect (REFERENCE https://docs.python.org/3/tutorial/errors.html)\n",
    "\n",
    "try:\n",
    "    rng.integers()\n",
    "except BaseException as err:\n",
    "    print('This has caused an error')\n",
    "else:\n",
    "    print('Function still worked')"
   ]
  },
  {
   "cell_type": "code",
   "execution_count": 4,
   "id": "925adf4b",
   "metadata": {},
   "outputs": [],
   "source": [
    "x = rng.integers(100, size=10000)"
   ]
  },
  {
   "cell_type": "code",
   "execution_count": 6,
   "id": "696ab126",
   "metadata": {},
   "outputs": [
    {
     "data": {
      "text/plain": [
       "(array([ 983., 1032.,  981., 1000., 1005., 1041.,  985.,  959., 1038.,\n",
       "         976.]),\n",
       " array([ 0. ,  9.9, 19.8, 29.7, 39.6, 49.5, 59.4, 69.3, 79.2, 89.1, 99. ]),\n",
       " <BarContainer object of 10 artists>)"
      ]
     },
     "execution_count": 6,
     "metadata": {},
     "output_type": "execute_result"
    },
    {
     "data": {
      "image/png": "[encoded data removed]",
      "text/plain": [
       "<Figure size 432x288 with 1 Axes>"
      ]
     },
     "metadata": {
      "needs_background": "light"
     },
     "output_type": "display_data"
    }
   ],
   "source": [
    "# %matplotlib inline # magic command forcing plot to display if needed\n",
    "\n",
    "import matplotlib.pyplot as plt # import matplotlib and plot above function\n",
    "\n",
    "plt.hist(x)"
   ]
  },
  {
   "cell_type": "markdown",
   "id": "70ac4a1d",
   "metadata": {},
   "source": [
    "## Distributions\n",
    "***\n"
   ]
  },
  {
   "cell_type": "code",
   "execution_count": 9,
   "id": "8cba5896",
   "metadata": {},
   "outputs": [
    {
     "data": {
      "text/plain": [
       "array([9.57449329, 9.37983906, 9.20772816, 9.96662688, 9.27206843,\n",
       "       9.83261602, 9.7278303 , 9.40731199, 9.80128434, 9.49326294])"
      ]
     },
     "execution_count": 9,
     "metadata": {},
     "output_type": "execute_result"
    }
   ],
   "source": [
    "# Uniform Distribution (https://numpy.org/doc/1.16/reference/generated/numpy.random.uniform.html#numpy.random.uniform)\n",
    "np.random.uniform(-1,0,1000)   # three paramters. 1000 appears to be number of elements returned.\n",
    "# Test to see if final parameter is indeed size\n",
    "np.random.uniform(-1,0,10)  # 10 elements return so assumption is correct\n",
    "\n",
    "np.random.uniform(10,9,10)  # find out why this function works when high limit is lower is lower limit. Random uniform gives numbers is an interval. "
   ]
  },
  {
   "cell_type": "code",
   "execution_count": 10,
   "id": "23c1593a",
   "metadata": {},
   "outputs": [
    {
     "data": {
      "text/plain": [
       "(array([ 961.,  981., 1052.,  992.,  967., 1067., 1030.,  959.,  989.,\n",
       "        1002.]),\n",
       " array([1.58406595e-01, 1.00141462e+02, 2.00124517e+02, 3.00107572e+02,\n",
       "        4.00090627e+02, 5.00073682e+02, 6.00056737e+02, 7.00039792e+02,\n",
       "        8.00022847e+02, 9.00005902e+02, 9.99988957e+02]),\n",
       " <BarContainer object of 10 artists>)"
      ]
     },
     "execution_count": 10,
     "metadata": {},
     "output_type": "execute_result"
    },
    {
     "data": {
      "image/png": "[encoded data removed]",
      "text/plain": [
       "<Figure size 432x288 with 1 Axes>"
      ]
     },
     "metadata": {
      "needs_background": "light"
     },
     "output_type": "display_data"
    }
   ],
   "source": [
    "x = np.random.uniform(0,1000,10000)\n",
    "plt.hist(x)"
   ]
  },
  {
   "cell_type": "code",
   "execution_count": 15,
   "id": "37d374b1",
   "metadata": {},
   "outputs": [
    {
     "data": {
      "text/plain": [
       "(array([  3.,  22.,  61., 174., 202., 207., 182., 105.,  34.,  10.]),\n",
       " array([ 9.69114288,  9.75010369,  9.8090645 ,  9.8680253 ,  9.92698611,\n",
       "         9.98594692, 10.04490772, 10.10386853, 10.16282934, 10.22179014,\n",
       "        10.28075095]),\n",
       " <BarContainer object of 10 artists>)"
      ]
     },
     "execution_count": 15,
     "metadata": {},
     "output_type": "execute_result"
    },
    {
     "data": {
      "image/png": "[encoded data removed]",
      "text/plain": [
       "<Figure size 432x288 with 1 Axes>"
      ]
     },
     "metadata": {
      "needs_background": "light"
     },
     "output_type": "display_data"
    }
   ],
   "source": [
    "# Normal Distribution\n",
    " \n",
    "x = np.random.normal(0, 0.1, 1000)  # close to '0' = mu (mean of distribution), 90% values between 0.3 & -0.3, 1000 values\n",
    "# plt.hist(x)\n",
    "\n",
    "# Changing mu value \n",
    "x_2 = np.random.normal(10, 0.1, 1000)  # it appears changing 'mu' changes the population mean.\n",
    "plt.hist(x_2)"
   ]
  },
  {
   "cell_type": "code",
   "execution_count": 16,
   "id": "fb07caa4",
   "metadata": {},
   "outputs": [],
   "source": [
    "# Look at the differences between each one (understand what the functions do, programming level of experience)"
   ]
  },
  {
   "cell_type": "code",
   "execution_count": null,
   "id": "54e99eec",
   "metadata": {},
   "outputs": [],
   "source": []
  },
  {
   "cell_type": "code",
   "execution_count": null,
   "id": "bcab10af",
   "metadata": {},
   "outputs": [],
   "source": []
  },
  {
   "cell_type": "code",
   "execution_count": null,
   "id": "7faeade2",
   "metadata": {},
   "outputs": [],
   "source": []
  },
  {
   "cell_type": "code",
   "execution_count": null,
   "id": "e2a79b68",
   "metadata": {},
   "outputs": [],
   "source": []
  },
  {
   "cell_type": "code",
   "execution_count": null,
   "id": "114b8ca0",
   "metadata": {},
   "outputs": [],
   "source": []
  },
  {
   "cell_type": "code",
   "execution_count": null,
   "id": "e631db7d",
   "metadata": {},
   "outputs": [],
   "source": []
  },
  {
   "cell_type": "code",
   "execution_count": null,
   "id": "c94beebe",
   "metadata": {},
   "outputs": [],
   "source": []
  }
 ],
 "metadata": {
  "kernelspec": {
   "display_name": "Python 3",
   "language": "python",
   "name": "python3"
  },
  "language_info": {
   "codemirror_mode": {
    "name": "ipython",
    "version": 3
   },
   "file_extension": ".py",
   "mimetype": "text/x-python",
   "name": "python",
   "nbconvert_exporter": "python",
   "pygments_lexer": "ipython3",
   "version": "3.8.8"
  }
 },
 "nbformat": 4,
 "nbformat_minor": 5
}
