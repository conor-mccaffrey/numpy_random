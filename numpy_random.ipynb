{
 "cells": [
  {
   "cell_type": "markdown",
   "id": "90e3f6b1",
   "metadata": {},
   "source": [
    "# The Numpy.Random Package \n",
    "\n",
    "***\n",
    "\n",
    "![Python & Jupyter](Images/python-jupyter-notebooks.jpg)\n",
    "\n",
    "![Numpy](Images/Numpy.png)\n",
    "\n",
    "\n",
    "\n",
    "######  <i> Pictures adapted from references 1,2  </i>\n",
    "\n",
    "## Conor McCaffrey\n",
    "#### Programming for Data Analysis 2021\n",
    "[Official Documentation for the Numpy Random Package](https://numpy.org/doc/stable/reference/random/index.html)  [3] <br>\n",
    "[Click here for copy of Assignment](Images/ProgDA_Assignment.pdf)\n",
    "\n",
    "\n",
    "***"
   ]
  },
  {
   "cell_type": "markdown",
   "id": "ee2bb60d",
   "metadata": {},
   "source": [
    "## Assignment Objectives\n",
    "- Explain the overall purpose of the package.\n",
    "- Explain the use of the “Simple random data” and “Permutations” functions.\n",
    "- Explain the use and purpose of at least five “Distributions” functions.\n",
    "- Explain the use of seeds in generating pseudorandom numbers."
   ]
  },
  {
   "cell_type": "markdown",
   "id": "b606555c",
   "metadata": {},
   "source": [
    "## What is the purpose of the Numpy.Random Package?"
   ]
  },
  {
   "cell_type": "markdown",
   "id": "4d28faaa",
   "metadata": {},
   "source": [
    "###### Overview of Numpy.\n",
    "Prior to delving too deeply into the mechanics of a package, it is prudent to first understand the inherent purpose of a package. \n",
    "<br>\n",
    "- <u> Numpy</u> (an abbreviation of \"<b>Num</b>erical <b>Py</b>thon\"  [4] ) is essentially \" the fundamental package for scientific computing in Python \" [5]. This open-source package provides many resources that are of particular importance to scientific computing. According to official documentation [5], Numpy is a \"Python library that provides a multidimensional array object, various derived objects (such as masked arrays and matrices), and an assortment of routines for fast operations on arrays, including mathematical, logical, shape manipulation, sorting, selecting, I/O, discrete Fourier transforms, basic linear algebra, basic statistical operations, random simulation and much more\". \n",
    "- The core of the Numpy package is the \"array\", which is similar to a list with the main exception being that we can perform mathematical operations/arithmetic functions on arrays that are not possible on lists [6]. Lists can contain data of differing data-types while arrays are used to house elements of the same data type [7]. Upon creation, an array has a fixed size (technically immutable) in where changing elements of an array will delete the original and return a copy of the original array with whatever operation you requested, in contrast to lists, which are mutable [8,5].\n",
    "\n",
    "![Arrays](Images/arrays.png)\n",
    "###### Adapted from reference [31]\n"
   ]
  },
  {
   "cell_type": "markdown",
   "id": "ea37182c",
   "metadata": {},
   "source": [
    "###### So how does this tie in to the Numpy.Random Package?"
   ]
  },
  {
   "cell_type": "markdown",
   "id": "3de80aa7",
   "metadata": {},
   "source": [
    "Now that we have a basic overview of the Numpy package as a whole, let's examine the mechanics of the Numpy.Random package. At the highest level, the Numpy.Random package allows the production of arrays of \"pseudo-random\" numbers for downstream analyses [3]. This is acheived using what are known as a \"BitGenerator\" and a \"Generator\" [3]. BitGenerators create sequences of 32/64 random bits (based on different algorithms) which are then leveraged by Generators (taking a bit generator as an argument) to create sequences of numbers, adhering to a certain probability distribution (i.e Uniform, Normal or Binomial) [3,9]. The Generator (replacing the legacy RandomState) from the latest update of Numpy.Random uses bits provided by PCG-64 (Permuted Congruential Generator, a family of algorithms) as opposed to the legacy MT19937 (Marsenne Twister) due to enhanced statistical performence [3,10,11]. This will be covered in greater detail in the section discussing \"Seeding\". \"Seeding\" is an important concept, allowing the work to be reproducible to others attempting to examine/re-create your work."
   ]
  },
  {
   "cell_type": "markdown",
   "id": "48881a11",
   "metadata": {},
   "source": [
    "###### In Summary...\n",
    "The Numpy.Random package contains functions that faciliate the generation of arrays of pseudo-random numbers with specific probability distributions [12,13]. "
   ]
  },
  {
   "cell_type": "markdown",
   "id": "95febef1",
   "metadata": {},
   "source": [
    "***\n",
    "## Simple Random Data and Permutations"
   ]
  },
  {
   "cell_type": "markdown",
   "id": "c51cb0e6",
   "metadata": {},
   "source": [
    "In this passage I want to give an overview of \"Simple Random Data\" and \"Permutations\", as outlined in the official documentation [3]. \n",
    "<br>\n",
    "\n",
    "The Simple Random Data section outlines a set of functions that can be utilised in order to, logically, generate simple random data based on user inputs, which can of course be modified. Data types that can be returned include integers, floats, random samples from a given array and bytes [3]. The functions available for use, following the latest update, are:\n",
    "- integers(low[, high, size, dtype, endpoint]) - Return random integers from low (inclusive) to high (exclusive), or if endpoint=True, low (inclusive) to high (inclusive).\n",
    "- random([size, dtype, out]) - Return random floats in the half-open interval [0.0, 1.0).\n",
    "- choice(a[, size, replace, p, axis, shuffle]) - Generates a random sample from a given array\n",
    "- bytes(length) - Return random bytes.\n",
    "\n",
    "Permutations (coming from the word <i> permute</i> (meaning to \"alter/rearrange\" [14]), meanwhile, create random re-arrangements of the order of elements [3]. Three functions are called out in the official documentation [3]:\n",
    "- shuffle(x[, axis]) - Modify an array or sequence in-place by shuffling its contents.\n",
    "- permutation(x[, axis] - Randomly permute a sequence, or return a permuted range.\n",
    "- permuted(x[, axis, out]) -Randomly permute x along axis axis.\n",
    "\n",
    "We will cover each of these in more detail below."
   ]
  },
  {
   "cell_type": "code",
   "execution_count": 1,
   "id": "10f9c3df",
   "metadata": {},
   "outputs": [],
   "source": [
    "# To begin, let's import the packages we will require\n",
    "import numpy as np\n",
    "import pandas as pd\n",
    "import matplotlib.pyplot as plt\n",
    "import seaborn as sns\n",
    "\n",
    "# This  line-orientated magic command, as outlined in lectures, lets us display plots inline\n",
    "%matplotlib inline"
   ]
  },
  {
   "cell_type": "markdown",
   "id": "32688fd5",
   "metadata": {},
   "source": [
    "###### Numpy.Random: numpy.random.Generator.integers\n",
    "\n",
    "\n"
   ]
  },
  {
   "cell_type": "code",
   "execution_count": 2,
   "id": "e08bc352",
   "metadata": {},
   "outputs": [
    {
     "name": "stdout",
     "output_type": "stream",
     "text": [
      "This is the variable \"a\": \n",
      " [2 0 4 3 2 6 7 1 0 0 7 6 2 4 5] \n",
      " The type of the variable is: <class 'numpy.ndarray'>\n"
     ]
    },
    {
     "data": {
      "image/png": "[encoded data removed]",
      "text/plain": [
       "<Figure size 432x288 with 1 Axes>"
      ]
     },
     "metadata": {
      "needs_background": "light"
     },
     "output_type": "display_data"
    }
   ],
   "source": [
    "# Generate an array of integers\n",
    "rng = np.random.default_rng() # Call default_rng to get a new instance of a Generator, from official documentation [3]\n",
    "a =  rng.integers(8, size=15) # Up to but not including 8. Size is the shape of the array\n",
    "print('This is the variable \"a\": \\n' , a, '\\n The type of the variable is:', type(a)) \n",
    "\n",
    "# Plot our variable to demonstrate random data, adapted from reference 15\n",
    "plt.plot(a, 'b.', color = '#943126') # setting colour of datapoints [16]\n",
    "plt.title('Random Integers Demonstration', fontweight='heavy',  size=12) # Setting title and weight of title [18]\n",
    "plt.xlabel('Element Number', size=10) # Setting axis title and font size\n",
    "plt.ylabel('DataPoint', size=10)\n",
    "plt.grid(False) # Used hex value for colour [19]"
   ]
  },
  {
   "cell_type": "code",
   "execution_count": 3,
   "id": "2cbe2abd",
   "metadata": {},
   "outputs": [
    {
     "name": "stdout",
     "output_type": "stream",
     "text": [
      "This is b: \n",
      " [[0 0 9 3]\n",
      " [8 9 1 8]]\n",
      "This is c: \n",
      " [2 3 1 1 2 5 6 1 4 4]\n",
      "This is d: \n",
      " [[2 4]\n",
      " [5 1]\n",
      " [0 3]\n",
      " [5 2]\n",
      " [4 5]]\n",
      "This has caused an error\n"
     ]
    }
   ],
   "source": [
    "# Further manipulation of the integer function.\n",
    "# Generate a multi-dimensional array.\n",
    "\n",
    "# Size is structured as the following: 2x4 array\n",
    "b =  rng.integers(10, size=(2, 4))\n",
    "print('This is b: \\n' , b)\n",
    "\n",
    "# Output is a 1D array\n",
    "c = rng.integers(low = 0, high = 7, size = 10) \n",
    "print ('This is c: \\n', c)\n",
    "\n",
    "# Specifying multiple parameters\n",
    "d =  rng.integers(5, size=(5,2),  endpoint=True) # Boolean True to determine if '5' included in arrays\n",
    "print('This is d: \\n', d)\n",
    "\n",
    "# Wrapping empty function in try except block to investigate effect [17]\n",
    "try:\n",
    "    rng.integers()\n",
    "except BaseException as err:\n",
    "    print('This has caused an error')\n",
    "else:\n",
    "    print('Function still worked')\n"
   ]
  },
  {
   "cell_type": "code",
   "execution_count": 4,
   "id": "a32afd7c",
   "metadata": {},
   "outputs": [
    {
     "data": {
      "text/plain": [
       "Text(0.5, 1.0, 'Random integers from the discrete uniform distribution')"
      ]
     },
     "execution_count": 4,
     "metadata": {},
     "output_type": "execute_result"
    },
    {
     "data": {
      "image/png": "[encoded data removed]",
      "text/plain": [
       "<Figure size 432x288 with 1 Axes>"
      ]
     },
     "metadata": {
      "needs_background": "light"
     },
     "output_type": "display_data"
    }
   ],
   "source": [
    "# Plotting using the numpy.random.Generator.integers function\n",
    "x1 = rng.integers(low = 1, high=500, size = 10000) # generating random values between 1-499\n",
    "plt.hist(x1, bins = 20, color = 'green', edgecolor = 'orange') # Some decorations\n",
    "plt.xlabel('Discrete Uniform Distribution')\n",
    "plt.title('Random integers from the discrete uniform distribution', fontweight = 'heavy', family = 'serif')\n"
   ]
  },
  {
   "cell_type": "markdown",
   "id": "30604b01",
   "metadata": {},
   "source": [
    "We have shown here that the distribution of the values is uniform, as detailed in the official documentation. [20]"
   ]
  },
  {
   "cell_type": "markdown",
   "id": "13fc58a1",
   "metadata": {},
   "source": [
    "###### Numpy.Random: numpy.random.Generator.random\n"
   ]
  },
  {
   "cell_type": "markdown",
   "id": "2dfd19a5",
   "metadata": {},
   "source": [
    "This function is quite similar to the one above and is desribed in the official documentation as the following: [21]\n",
    "\n",
    "![Random.random](Images/Random.random.PNG)\n"
   ]
  },
  {
   "cell_type": "code",
   "execution_count": 5,
   "id": "925adf4b",
   "metadata": {},
   "outputs": [
    {
     "data": {
      "text/plain": [
       "array([0.72797449, 0.71813156, 0.07560695, 0.39121959, 0.90749168,\n",
       "       0.55241837, 0.45784544, 0.61807811, 0.0755098 , 0.80093288,\n",
       "       0.28620689, 0.56893768, 0.33728973, 0.4803117 , 0.66723409,\n",
       "       0.99905651, 0.48661458, 0.77381938, 0.54594622, 0.32521556])"
      ]
     },
     "execution_count": 5,
     "metadata": {},
     "output_type": "execute_result"
    },
    {
     "data": {
      "image/png": "[encoded data removed]",
      "text/plain": [
       "<Figure size 432x288 with 1 Axes>"
      ]
     },
     "metadata": {
      "needs_background": "light"
     },
     "output_type": "display_data"
    }
   ],
   "source": [
    "# Plotting using the numpy.random.Generator.random function\n",
    "# This function returns floats\n",
    "x2 = rng.random(size = 20) # 10 random floats\n",
    "plt.plot(x2, 'b.', color = 'green') # Some decorations\n",
    "plt.ylim(0,2.0) # setting x-axis limits\n",
    "plt.ylabel('DataPoint')\n",
    "plt.xlabel('Continuous Uniform Distribution')\n",
    "plt.title('Random integers from the continuous uniform distribution', fontweight = 'heavy', family = 'serif')\n",
    "x2"
   ]
  },
  {
   "cell_type": "markdown",
   "id": "339e1c29",
   "metadata": {},
   "source": [
    "Something intersting to note here is how the generated random numbers are all between 0.0 and 1.0. I examined this by purposefully setting the upper x-limit to 2.0 just to determine if a result above 1.0 appeared. This is evidence that the statement from the official documentaion (half-open interval) is true [21]."
   ]
  },
  {
   "cell_type": "markdown",
   "id": "3c9120f4",
   "metadata": {},
   "source": [
    "There is an interesting difference in the above functions I want to highlight. It is obvious how Numpy.integers returns integer values and how Numpy.random can return float values. Something I feel is more important to highlight between the functions is the difference between discrete and continuous distribution as a result of these mechanics. Random.integers returns values of discrete uniform distribution (where there are a finite number of outcomes), while Random.random returns values of continuous uniform distribution(where there are an infinite number of outcomes) [22]. \n",
    "\n",
    "- Thinking of this logically, if you flip a coin, you can have only two possible outcomes: Heads or Tails (i.e 1 or 0). While the outcome is random (you hope!), you can only have two possible outcomes (i.e a finite amount of outcomes). This is the basis of discrete distribution. [23] \n",
    "- Compare this to continuous distribution, where we could have an infinite number of equally likely outcomes. An example of this could be an truely random number generator, in where any value could appear just as likely as any other value an infinite number of times.\n",
    "\n",
    "![Coin](Images/Coin.jpg)\n",
    "\n",
    "###### <i> Adapted from Reference 24 </i>\n"
   ]
  },
  {
   "cell_type": "code",
   "execution_count": 6,
   "id": "a1899979",
   "metadata": {},
   "outputs": [
    {
     "data": {
      "text/plain": [
       "<matplotlib.legend.Legend at 0x1a16e8a6e80>"
      ]
     },
     "execution_count": 6,
     "metadata": {},
     "output_type": "execute_result"
    },
    {
     "data": {
      "image/png": "[encoded data removed]",
      "text/plain": [
       "<Figure size 432x288 with 1 Axes>"
      ]
     },
     "metadata": {
      "needs_background": "light"
     },
     "output_type": "display_data"
    }
   ],
   "source": [
    "# Compare the two functions used in a scatterplot \n",
    "# Demonstate the difference between continuous and discrete uniform distribution.\n",
    "x3 = rng.integers(low = 0, high=3, size = 15) \n",
    "x4 = rng.random(size = 15) \n",
    "\n",
    "plt.plot(x3, 'x', label='discrete')\n",
    "plt.plot(x4, 'o', label='continuous')\n",
    "plt.xlabel('Cont vs Discrete', size=12, color = '#397dad')\n",
    "plt.ylabel('Value', size=12, color = '#943126')\n",
    "plt.grid(False) # dont want gridlines for this\n",
    "plt.legend()"
   ]
  },
  {
   "cell_type": "markdown",
   "id": "e9dbe7f1",
   "metadata": {},
   "source": [
    "We can clearly see from the above scatterplot the simple difference between discrete and continuous uniform distribution. For the Numpy.Random.Integers (discrete distribution) we only have the values 0,1 or 2 compared to Numpy.Random.random (continuous distribution) where we have random values between 0.0 and 1.0. "
   ]
  },
  {
   "cell_type": "markdown",
   "id": "03dcc491",
   "metadata": {},
   "source": [
    "###### Numpy.Random: numpy.random.Generator.choice\n"
   ]
  },
  {
   "cell_type": "markdown",
   "id": "313e1269",
   "metadata": {},
   "source": [
    "This function allows the user to generate a random sample from a non-empty array (if the variable is an array) or in the range of the specified integer [25]. "
   ]
  },
  {
   "cell_type": "code",
   "execution_count": 7,
   "id": "e00a43d4",
   "metadata": {},
   "outputs": [
    {
     "name": "stdout",
     "output_type": "stream",
     "text": [
      "This is the variable a: 1 \n",
      " This is b: [[12 44 89]\n",
      " [ 7  4  9]]\n"
     ]
    }
   ],
   "source": [
    "# Initial investigations into choice method\n",
    "rng = np.random.default_rng() \n",
    "a =  rng.choice(5) # generate a random integer\n",
    "# Select 2 random arrays from list with replace set to False to avoid selecting same \n",
    "b = rng.choice(([11, 4, 8], [7, 4, 9], [1, 2, 9], [12,44,89]), 2 ,replace = False)\n",
    "print('This is the variable a:' , a, '\\n This is b:' ,b)"
   ]
  },
  {
   "cell_type": "code",
   "execution_count": 8,
   "id": "5ae2e46c",
   "metadata": {},
   "outputs": [
    {
     "data": {
      "text/plain": [
       "<matplotlib.legend.Legend at 0x1a16e923430>"
      ]
     },
     "execution_count": 8,
     "metadata": {},
     "output_type": "execute_result"
    },
    {
     "data": {
      "image/png": "[encoded data removed]",
      "text/plain": [
       "<Figure size 432x288 with 1 Axes>"
      ]
     },
     "metadata": {
      "needs_background": "light"
     },
     "output_type": "display_data"
    }
   ],
   "source": [
    "# Investigation into p parameter in choice method for distribution\n",
    "# We will see a non-uniform distribution in a1 due to setting probabilities\n",
    "a1 = rng.choice(5, 30, p=[0.0, 0.5, 0.0, 0.5, 0])  # adapted from reference 25\n",
    "b1 = rng.choice(5, 30)\n",
    "\n",
    "plt.plot(a1, 'x', label='Non-Uni')\n",
    "plt.plot(b1, 'o', label='Uni')\n",
    "plt.legend()"
   ]
  },
  {
   "cell_type": "markdown",
   "id": "4e81984f",
   "metadata": {},
   "source": [
    "Lets explore this probability distribution parameter a little closer"
   ]
  },
  {
   "cell_type": "code",
   "execution_count": 9,
   "id": "cc20a3d2",
   "metadata": {},
   "outputs": [
    {
     "name": "stdout",
     "output_type": "stream",
     "text": [
      "How many times each county won the Ulster Title:\n",
      "[['Antrim' 'Armagh' 'Cavan' 'Donegal' 'Down' 'Fermanagh' 'Monaghan'\n",
      "  'Tyrone']\n",
      " ['5' '3' '11' '5' '4' '3' '6' '3']]\n"
     ]
    }
   ],
   "source": [
    "# Generate a list of counties in Ulster who can win the Ulster Title for the next 40 years\n",
    "counties = ['Cavan','Fermanagh','Monaghan','Tyrone','Donegal','Down','Antrim','Armagh','Derry']\n",
    "ulsterTitle = rng.choice(counties, 40, p=[0.3, 0.1, 0.1, 0.1, 0.1, 0.1, 0.1, 0.1, 0.0], replace=True)  \n",
    "\n",
    "# Return in numerical format how many times each county wins the title\n",
    "unique_elements, counts_elements = np.unique(ulsterTitle, return_counts=True) \n",
    "print('How many times each county won the Ulster Title:') # adapted from reference 26\n",
    "print(np.asarray((unique_elements, counts_elements))) # return as an array [27]"
   ]
  },
  {
   "cell_type": "code",
   "execution_count": 10,
   "id": "77b74ab4",
   "metadata": {},
   "outputs": [
    {
     "data": {
      "image/png": "[encoded data removed]",
      "text/plain": [
       "<Figure size 648x432 with 1 Axes>"
      ]
     },
     "metadata": {
      "needs_background": "light"
     },
     "output_type": "display_data"
    }
   ],
   "source": [
    "# Lets display on a Seaborn Histogram this glorious liklihood\n",
    "# Took a long time to get aspect solution [28]\n",
    "sns.displot(ulsterTitle, color = 'blue', edgecolor = 'grey', height=6, aspect=9/6)\n",
    "plt.figsize = (170,100)\n",
    "plt.xlabel('County', fontweight = 'bold')\n",
    "plt.ylabel('Titles', fontweight = 'bold')\n",
    "plt.suptitle('Ulster Title Winners', fontsize = 15) # adding main title to histogram and setting fontsize\n",
    "plt.grid(False) \n"
   ]
  },
  {
   "cell_type": "markdown",
   "id": "6cd3446a",
   "metadata": {},
   "source": [
    "In summary, the choice function selects a random sample or samples from an array, however we can manipulate the selection by setting probabilites."
   ]
  },
  {
   "cell_type": "markdown",
   "id": "4ae41168",
   "metadata": {},
   "source": [
    "###### Numpy.Random: numpy.random.Generator.bytes\n"
   ]
  },
  {
   "cell_type": "markdown",
   "id": "12927d00",
   "metadata": {},
   "source": [
    "This function simply returns random bytes [29]:\n",
    "![Bytes](Images/Bytes.png)\n",
    "\n"
   ]
  },
  {
   "cell_type": "code",
   "execution_count": 11,
   "id": "03e29d42",
   "metadata": {},
   "outputs": [
    {
     "data": {
      "text/plain": [
       "b'\\xe0E\\xad\\xb6\\xd6#\\xa8\\xa6Uws\\x7f'"
      ]
     },
     "execution_count": 11,
     "metadata": {},
     "output_type": "execute_result"
    }
   ],
   "source": [
    "# Returning Random bytes\n",
    "np.random.bytes(12)"
   ]
  },
  {
   "cell_type": "markdown",
   "id": "4d285f38",
   "metadata": {},
   "source": [
    "###### Numpy.Random: numpy.random.Generator.shuffle\n"
   ]
  },
  {
   "cell_type": "markdown",
   "id": "97f9c9eb",
   "metadata": {},
   "source": [
    "The shuffle method within Permutations facilitates the re-ordering of contents within a sequence [30]. \n",
    "\n",
    "![Shuffle](Images/shuffle.png)\n",
    "\n",
    "\n"
   ]
  },
  {
   "cell_type": "code",
   "execution_count": 12,
   "id": "09cc5773",
   "metadata": {},
   "outputs": [
    {
     "name": "stdout",
     "output_type": "stream",
     "text": [
      "1D array: [ 2  4 10  7  5 13  3 14  8 12 11  1  6  0  9]\n",
      "We have now changed the shape of the output: \n",
      " [[2 3]\n",
      " [6 7]\n",
      " [4 5]\n",
      " [0 1]]\n",
      "Setting the axis to 1: \n",
      " [[0 1]\n",
      " [2 3]\n",
      " [4 5]\n",
      " [6 7]]\n"
     ]
    }
   ],
   "source": [
    "# Shuffle method\n",
    "input = np.arange(15)\n",
    "rng.shuffle(input) # using shuffle method\n",
    "print('1D array:', input) # printing array of shuffled results\n",
    "\n",
    "# We can also manipulate the shape of the output \n",
    "new_input = np.arange(8).reshape((4, 2)) # resulting in a 4x2 array, adapted from [30]\n",
    "rng.shuffle(new_input) \n",
    "print('We have now changed the shape of the output: \\n', new_input)\n",
    "\n",
    "# Let's look how specifying axis can alter the output \n",
    "arr = np.arange(8).reshape((4, 2))\n",
    "rng.shuffle(arr, axis=1)\n",
    "print('Setting the axis to 1: \\n', arr) # alters results by column"
   ]
  },
  {
   "cell_type": "markdown",
   "id": "a696ea10",
   "metadata": {},
   "source": [
    "It is also worth noting that when changing the value of the axis, the individual values within the axis do not change. Only the row/column as a whole changes. [30]"
   ]
  },
  {
   "cell_type": "markdown",
   "id": "be783427",
   "metadata": {},
   "source": [
    "###### Numpy.Random: numpy.random.Generator.permutation\n",
    "\n",
    "The permutation method within Permutations facilitates the re-ordering of contents within a sequence [32]. A notable difference between this method and the shuffle method is the permutation method returns a copy of the array while shuffle deals with the original array [33].\n",
    "\n",
    "![Permutation](Images/Permutation.png)\n"
   ]
  },
  {
   "cell_type": "code",
   "execution_count": 13,
   "id": "57166aa9",
   "metadata": {},
   "outputs": [
    {
     "name": "stdout",
     "output_type": "stream",
     "text": [
      "1D array: [ 7  0  5  6  1 11  8 10  2  4  9  3]\n",
      "We have now changed the shape of the output: \n",
      " [[4 5]\n",
      " [0 1]\n",
      " [2 3]\n",
      " [6 7]]\n"
     ]
    }
   ],
   "source": [
    "# Permutation method\n",
    "rng = np.random.default_rng()\n",
    "result = rng.permutation(12)\n",
    "print('1D array:', result ) # printing array of results in range of integer\n",
    "\n",
    "# Similar to the shuffle function, we can also manipulate the shape of the output \n",
    "new_perm = np.arange(8).reshape((4, 2)) # resulting in a 4x2 array, adapted from [33]\n",
    "rng.shuffle(new_perm) \n",
    "print('We have now changed the shape of the output: \\n', new_perm)"
   ]
  },
  {
   "cell_type": "code",
   "execution_count": 14,
   "id": "24f4fc5a",
   "metadata": {},
   "outputs": [
    {
     "name": "stdout",
     "output_type": "stream",
     "text": [
      "This is the original List before permutation: [1, 4, 9, 12, 15] and this is the permuted List: [12  4 15  1  9]\n",
      "This is the original_List after permutation [1, 4, 9, 12, 15]\n",
      "This is the List before shuffling: [1, 2, 3, 4, 5]\n",
      "This is the original_shuffled_List after shuffling [1, 2, 3, 4, 5]\n"
     ]
    }
   ],
   "source": [
    "# Let's explore this in-place/copy idea a little more\n",
    "\n",
    "# If x is an array, make a copy and shuffle the elements randomly\n",
    "original_List = [1,4,9,12,15]\n",
    "permuted_List = np.random.permutation(original_List)\n",
    "print('This is the original List before permutation:', original_List , 'and this is the permuted List:', permuted_List)\n",
    "print('This is the original_List after permutation', original_List)\n",
    "\n",
    "# Let's compare this to the shuffle function\n",
    "original_shuffled_List = [1,2,3,4,5]\n",
    "print('This is the List before shuffling:',original_shuffled_List)\n",
    "print('This is the original_shuffled_List after shuffling', original_shuffled_List)\n"
   ]
  },
  {
   "cell_type": "markdown",
   "id": "93133d74",
   "metadata": {},
   "source": [
    "###### Numpy.Random: numpy.random.Generator.permuted\n",
    "The permutation method within Permutations facilitates the permutation of 'x' along the axis <i>axis</i> [34]. A notable difference between this method and the shuffle method is eacxh slice in the permutated method is shuffled independently of the others.[34]\n",
    "\n",
    "\n",
    "![Permuted](Images/Permuted.png)\n",
    "\n",
    "Let's explore this."
   ]
  },
  {
   "cell_type": "code",
   "execution_count": 15,
   "id": "291fe70e",
   "metadata": {},
   "outputs": [
    {
     "name": "stdout",
     "output_type": "stream",
     "text": [
      "This is the original array: \n",
      " [[ 1  2  3  4]\n",
      " [ 5  6  7  8]\n",
      " [ 9 10 11 12]\n",
      " [13 14 15 16]\n",
      " [17 18 19 20]]\n",
      "This is the permuted array: \n",
      " [[ 4  3  2  1]\n",
      " [ 5  6  8  7]\n",
      " [12 10 11  9]\n",
      " [13 16 15 14]\n",
      " [19 17 20 18]]\n",
      "This is the permuted array setting axis=0:\n",
      " [[ 1 10 11  4]\n",
      " [13 14  3  8]\n",
      " [ 9  2 19 12]\n",
      " [17  6 15 20]\n",
      " [ 5 18  7 16]]\n",
      "Back to original:\n",
      " [[ 1  2  3  4]\n",
      " [ 5  6  7  8]\n",
      " [ 9 10 11 12]\n",
      " [13 14 15 16]\n",
      " [17 18 19 20]]\n",
      "This is now array_1 after setting parameter for \"out\":\n",
      " [[ 1  2  4  3]\n",
      " [ 5  8  7  6]\n",
      " [12 10  9 11]\n",
      " [13 14 15 16]\n",
      " [18 17 19 20]]\n"
     ]
    }
   ],
   "source": [
    "# Generating a test instance [34]\n",
    "rng = np.random.default_rng()\n",
    "# Creating an array\n",
    "array_1 = np.arange(1,21).reshape(5, 4)\n",
    "print('This is the original array: \\n' , array_1)\n",
    "array_2 = rng.permuted(array_1, axis=1)\n",
    "print('This is the permuted array: \\n' , array_2) # the rows have been shuffled with the original unchanged\n",
    "array_3 = rng.permuted(array_1, axis=0)\n",
    "print('This is the permuted array setting axis=0:\\n' , array_3) #columns shuffled with the original unchanged\n",
    "print('Back to original:\\n', array_1)\n",
    "# We can set 'out=array_1' to change the original (in-place change as opposed to copy change)\n",
    "rng.permuted(array_1, axis=1, out=array_1)\n",
    "print('This is now array_1 after setting parameter for \"out\":\\n',array_1)\n"
   ]
  },
  {
   "cell_type": "code",
   "execution_count": null,
   "id": "012be9a5",
   "metadata": {},
   "outputs": [],
   "source": []
  },
  {
   "cell_type": "code",
   "execution_count": null,
   "id": "dcb96a9f",
   "metadata": {},
   "outputs": [],
   "source": []
  },
  {
   "cell_type": "code",
   "execution_count": null,
   "id": "bb3fcea6",
   "metadata": {},
   "outputs": [],
   "source": []
  },
  {
   "cell_type": "markdown",
   "id": "70ac4a1d",
   "metadata": {},
   "source": [
    "***\n",
    "## Distributions\n",
    "***\n"
   ]
  },
  {
   "cell_type": "markdown",
   "id": "244bc7df",
   "metadata": {},
   "source": [
    "There are over 36 different distribution functions listed in the official documentation [3]. At it's most basic, a probability distribution 'is a table or an equation that links each outcome of a statistical experiment with its probability of occurrence' [35]. \n",
    "<br>\n",
    "<br>\n",
    "Let's take an extremely basic example of a footballer taking a penalty. There are two possible options here: the player either scores a goal or misses. Suppose the player takes two penalites (let's pretend the goalkeeper came off the line too early), there are four possible resulting outcomes (S= Scores, M= Misses) : SS, MM, SM, MS. The random variable X will represent the number of times the footballer scores and can be calculated. We can see visually that in 3 of the 4 possible outcomes the player scores at least once. We can display the probabilities of each outcome in the following table i.e. the <b>probability distribution</b>: \n",
    "<br>\n",
    "\n",
    "\n",
    "   | Number of Goals  | Probability    |\n",
    "|:-------------|:-----------|\n",
    "| 0 | 0.25       | \n",
    "| 1  | 0.5    |\n",
    "| 2  | 0.25    |\n",
    "\n",
    "<i>Table Adapted from Reference 36</i>"
   ]
  },
  {
   "cell_type": "markdown",
   "id": "ef4a2c74",
   "metadata": {},
   "source": [
    "A <b>cumulative probability</b>, meanwhile, denotes the liklihood that a random variable will fall within a certain specified range [35]. Going back to our earlier example, we can investigate the likehood of a player scoring one or less penalties. So this would be investigating the liklihood of the player scoring one penalty <u>and</u> the likehood of the player missing both penalties.\n",
    "\n",
    "P(X ≤ 1) = P(X = 0) + P(X = 1) = 0.25 + 0.50 = 0.75\n",
    " \n",
    "Now that we have a basic understanding of probabilities and distributions, let's delve a little deeper into the Distribution functions for generating random samples in Numpy."
   ]
  },
  {
   "cell_type": "markdown",
   "id": "691ba2d8",
   "metadata": {},
   "source": [
    "###### random.Generator.uniform\n",
    "\n",
    "Uniform distribution is perhaps the best distribution to initially describe as it can be considered the simplest. This form of distribution depicts an outcome where each value of a random variable is just as equally probable to any other value [38]. Thinking of this logically, lets imagine a deck of cards and you are asked to pick one. You are just as likely to draw a diamond as you are a heart and this is the same for a club and a spade. This is Uniform distribution [38]. We have already explored this topic in some detail above when describing the difference between Discrete Uniform distribution  (where there are a finite number of outcomes) and Continuous Uniform distribution (where there are an infinite number of outcomes) [22]. The probability density function (PDF), is a 'statistical expression describing the liklihood of an outcome', with the formula outlined below [39].\n",
    "\n",
    "\n",
    "![Uniform Distribution](Images/uniform_Distribution.png)\n",
    "***\n",
    "![pdf](Images/pdf.png)\n"
   ]
  },
  {
   "cell_type": "markdown",
   "id": "2f6cb55d",
   "metadata": {},
   "source": []
  },
  {
   "cell_type": "code",
   "execution_count": 91,
   "id": "b15124b0",
   "metadata": {},
   "outputs": [
    {
     "name": "stdout",
     "output_type": "stream",
     "text": [
      "[1.11680111 1.40032132 1.64075058 1.03890676 1.58595203 1.46320671\n",
      " 1.54680296 1.59418498 1.25603532 1.95122703 1.24758423 1.86587222\n",
      " 1.02616017 1.7015152  1.85064867 1.20649556 1.20391372 1.71778472\n",
      " 1.03478999 1.66036836 1.9775935  1.23650424 1.33600512 1.04418067\n",
      " 1.62899845 1.47086955 1.4499676  1.14088795 1.60659063 1.89162886\n",
      " 1.7003272  1.98898941 1.61811784 1.83409609 1.75015328 1.28272452\n",
      " 1.36132392 1.84550153 1.26459124 1.48175159 1.46720249 1.75622609\n",
      " 1.28375709 1.69727263 1.50414812 1.59916429 1.48048617 1.23096894\n",
      " 1.96888937 1.87683005 1.61891148 1.4043238  1.37448296 1.49947578\n",
      " 1.74124811 1.68977225 1.79982747 1.17873071 1.51578853 1.48607787\n",
      " 1.80180987 1.6568566  1.97243126 1.06658778 1.10400613 1.64299338\n",
      " 1.86159454 1.59012574 1.67611874 1.87260813 1.42905316 1.1122763\n",
      " 1.75327381 1.51984081 1.7946582  1.49264303 1.42104531 1.53172993\n",
      " 1.75041061 1.75262938 1.04522805 1.31592904 1.47038493 1.00483745\n",
      " 1.73711327 1.36585606 1.93811168 1.82167063 1.69111254 1.87049985\n",
      " 1.51253134 1.75251863 1.97206346 1.13232827 1.54388478 1.91767029\n",
      " 1.30631829 1.40323991 1.52549263 1.81887348 1.19648857 1.62081696\n",
      " 1.26179102 1.90996655 1.68237104 1.39624605 1.3620042  1.30253072\n",
      " 1.73458785 1.37140292 1.071694   1.12005415 1.32534086 1.74331399\n",
      " 1.46747274 1.46166509 1.23966112 1.41349532 1.16691655 1.71904473\n",
      " 1.21295297 1.18721369 1.32297632 1.12783644 1.18206766 1.15029077\n",
      " 1.28665676 1.05422928 1.84678366 1.06860843 1.18922044 1.91653745\n",
      " 1.27937046 1.18053948 1.90388101 1.48366586 1.11707486 1.43879822\n",
      " 1.23812503 1.74584903 1.83748356 1.63134093 1.58422809 1.19470314\n",
      " 1.83804386 1.45747759 1.10345017 1.50143046 1.07542837 1.27455116\n",
      " 1.53024922 1.091732   1.09617353 1.54630807 1.06996293 1.5754811\n",
      " 1.14567602 1.46853046 1.82010898 1.66964282 1.33132596 1.14408926\n",
      " 1.76566203 1.64894956 1.25155631 1.89305536 1.09629516 1.22558966\n",
      " 1.28281476 1.74385152 1.84784887 1.15266273 1.36333502 1.17457461\n",
      " 1.0289879  1.77991712 1.19477345 1.86399445 1.55313745 1.15593417\n",
      " 1.86604006 1.25577361 1.55228403 1.55426934 1.20961526 1.15328142\n",
      " 1.17402212 1.81192247 1.1147991  1.15558731 1.86452214 1.92691631\n",
      " 1.89217092 1.09536867 1.093248   1.94292184 1.65459689 1.27615068\n",
      " 1.00831242 1.15280805 1.61005035 1.84664821 1.96884872 1.12006511\n",
      " 1.78912473 1.24455154 1.82499127 1.04583049 1.20336728 1.02159509\n",
      " 1.63391386 1.0433965  1.81232445 1.43231045 1.79303224 1.7121086\n",
      " 1.22357664 1.02864869 1.61335752 1.96070964 1.16474424 1.68627886\n",
      " 1.79054143 1.29435616 1.99419341 1.42735158 1.46589373 1.09417993\n",
      " 1.96522372 1.04718414 1.10610035 1.26326307 1.84857097 1.64663789\n",
      " 1.88406514 1.17824341 1.8450251  1.29446811 1.37096613 1.68861649\n",
      " 1.06084458 1.20198891 1.19565374 1.16004676 1.9378732  1.45981571\n",
      " 1.52811238 1.0585894  1.26399709 1.14980758 1.59073789 1.73500645\n",
      " 1.38942869 1.03200706 1.27466351 1.96676259 1.89351159 1.94513125\n",
      " 1.19267612 1.6650054  1.804716   1.10081355 1.65086423 1.29282195\n",
      " 1.18266891 1.3401375  1.7794784  1.85684671 1.73483064 1.11732475\n",
      " 1.71237138 1.79563691 1.73014495 1.609487   1.96530787 1.86619559\n",
      " 1.5035943  1.53929884 1.92576206 1.63882538 1.45576346 1.54765361\n",
      " 1.74988408 1.91895496 1.32343999 1.15718363 1.51713997 1.50042096\n",
      " 1.74192411 1.99215659 1.7130228  1.97709314 1.52752225 1.46015305\n",
      " 1.25100562 1.9114372  1.19154465 1.34403268 1.07847945 1.40025735\n",
      " 1.53985622 1.65187074 1.36172578 1.37260964 1.84921758 1.57459356\n",
      " 1.27476223 1.35652395 1.22600643 1.40454838 1.83536682 1.099783\n",
      " 1.75845201 1.73990919 1.77342433 1.86172185 1.00908801 1.72302747\n",
      " 1.14461223 1.71115658 1.00335475 1.41467088 1.47618377 1.04708991\n",
      " 1.68080758 1.0738347  1.11860826 1.26070549 1.49499408 1.73915595\n",
      " 1.70801969 1.63329386 1.18428898 1.20895998 1.00598554 1.34740727\n",
      " 1.19740244 1.22506746 1.6297098  1.5808599  1.13499993 1.06268211\n",
      " 1.70513502 1.21330486 1.95115246 1.75992362 1.93913964 1.26842559\n",
      " 1.09138604 1.46387922 1.01262262 1.26575913 1.61357023 1.44277129\n",
      " 1.07445644 1.04732911 1.52172608 1.89711724 1.66673134 1.70763196\n",
      " 1.05671414 1.9858507  1.49604322 1.66358009 1.7286044  1.42369662\n",
      " 1.58442388 1.12151505 1.91789085 1.16597454 1.21824827 1.81748224\n",
      " 1.70268235 1.60436003 1.70899867 1.44984923 1.74331311 1.45871572\n",
      " 1.24332399 1.87378622 1.30563244 1.78550364 1.86992624 1.25346461\n",
      " 1.29395389 1.84908052 1.37476483 1.65634737 1.92181284 1.39048816\n",
      " 1.28340989 1.71302295 1.96270806 1.00094147 1.28048798 1.7674768\n",
      " 1.05885551 1.80743253 1.75982681 1.01842688 1.31843966 1.12345814\n",
      " 1.25984507 1.53872177 1.00428622 1.13711293 1.4017502  1.84685803\n",
      " 1.75689558 1.42770142 1.46162367 1.40861742 1.9665945  1.22617132\n",
      " 1.06607783 1.92219333 1.6018133  1.9099884  1.64017474 1.16848762\n",
      " 1.99936034 1.46392766 1.68725891 1.5019995  1.34331192 1.47942615\n",
      " 1.80408921 1.80448318 1.23487932 1.09261049 1.31130743 1.00710065\n",
      " 1.5682112  1.34380259 1.94329972 1.25580819 1.75456995 1.39781018\n",
      " 1.71836311 1.19356128 1.43032267 1.08665554 1.72705152 1.02559105\n",
      " 1.48111823 1.66125521 1.18317517 1.08592754 1.29321933 1.43596053\n",
      " 1.37268426 1.89115147 1.79442899 1.72959014 1.20871365 1.7747488\n",
      " 1.65885355 1.82803607 1.28124906 1.7542236  1.62764737 1.72357766\n",
      " 1.87856036 1.3593615  1.8658247  1.17760611 1.02757991 1.088181\n",
      " 1.12620878 1.92244895 1.69648699 1.83166637 1.94928436 1.77728659\n",
      " 1.94513387 1.59125955 1.11376454 1.26141397 1.61532496 1.97941756\n",
      " 1.68217572 1.13221428 1.50599585 1.59365677 1.41381645 1.1994277\n",
      " 1.22149701 1.23463472 1.31388158 1.51573775 1.89705389 1.61622717\n",
      " 1.87580048 1.32868831 1.66825389 1.07244389 1.92328562 1.04996997\n",
      " 1.14718452 1.12987655 1.58821266 1.08400221 1.4868405  1.08670929\n",
      " 1.48050008 1.31168039 1.41578878 1.23458232 1.46584255 1.43789176\n",
      " 1.08097196 1.34452496 1.18664032 1.53245126 1.41906507 1.44543391\n",
      " 1.53594761 1.76633831 1.00585424 1.61497391 1.58046229 1.72231446\n",
      " 1.12259361 1.89259768 1.90510862 1.41306301 1.65370176 1.0421418\n",
      " 1.67243611 1.613128   1.81478319 1.58998671 1.91176605 1.67315748\n",
      " 1.43134392 1.86931831 1.25439158 1.11061209 1.14675584 1.27340107\n",
      " 1.0797266  1.40980444 1.69808025 1.71299253 1.18865498 1.37014412\n",
      " 1.86952633 1.20118534 1.84504932 1.10151574 1.68572086 1.77120003\n",
      " 1.78346553 1.8699438  1.97552765 1.19695747 1.79345649 1.79877504\n",
      " 1.78949731 1.12496643 1.81706838 1.32597619 1.32576172 1.33628289\n",
      " 1.7147952  1.73372133 1.05338098 1.25254783 1.76669021 1.06665794\n",
      " 1.73039302 1.6983433  1.58681006 1.75355932 1.21751934 1.67900753\n",
      " 1.57606331 1.13133423 1.26611606 1.89890983 1.85578511 1.92287231\n",
      " 1.65728779 1.33701649 1.05489682 1.937581   1.22988544 1.7599373\n",
      " 1.19379685 1.10217005 1.67872236 1.65554111 1.46290194 1.0199683\n",
      " 1.36946792 1.07190823 1.25890533 1.34435152 1.21737382 1.94092806\n",
      " 1.54067486 1.21612223 1.00910445 1.73243007 1.6699938  1.17470883\n",
      " 1.2977207  1.07157555 1.57444268 1.53939007 1.2890713  1.68201025\n",
      " 1.19324691 1.60885801 1.36354107 1.88287852 1.95199558 1.3680058\n",
      " 1.80387449 1.65412466 1.1459738  1.62025256 1.78334784 1.56543744\n",
      " 1.90889237 1.22838932 1.73183389 1.33852789 1.60569734 1.26429019\n",
      " 1.20828462 1.36216889 1.87665373 1.48357059 1.74120435 1.51188017\n",
      " 1.66100815 1.26646345 1.11198624 1.9373644  1.00406679 1.4627866\n",
      " 1.85432242 1.22031413 1.01115848 1.23860226 1.2529624  1.90909472\n",
      " 1.22867484 1.97248666 1.45780664 1.65134798 1.4872234  1.04072893\n",
      " 1.27449366 1.04842002 1.14383319 1.9651272  1.77094531 1.16982994\n",
      " 1.77539666 1.55813518 1.70308926 1.9672618  1.95114676 1.57107838\n",
      " 1.68052108 1.74083751 1.18010588 1.60766209 1.35623089 1.0082257\n",
      " 1.930489   1.98090929 1.61223214 1.85250007 1.08643919 1.05409107\n",
      " 1.33605474 1.71961115 1.85888585 1.29575463 1.84658076 1.39503984\n",
      " 1.51058172 1.32705609 1.32238533 1.81428106 1.11507929 1.31764296\n",
      " 1.75700115 1.68432717 1.88944884 1.99036154 1.29851156 1.32549998\n",
      " 1.81418081 1.29662569 1.76578502 1.3392082  1.30341172 1.34982516\n",
      " 1.55746382 1.7606926  1.44160993 1.4082558  1.34454908 1.68083436\n",
      " 1.14998503 1.36570165 1.63279111 1.343183   1.99239198 1.53990674\n",
      " 1.23862184 1.27595508 1.88902998 1.4693274  1.81190345 1.46096636\n",
      " 1.46021495 1.27088408 1.22590929 1.87139235 1.44891986 1.17646382\n",
      " 1.9088384  1.09783483 1.27243713 1.37885579 1.72311362 1.29332576\n",
      " 1.08677935 1.38865985 1.33730786 1.80251672 1.61316164 1.98162974\n",
      " 1.34278511 1.05111134 1.91791079 1.64083002 1.70270961 1.02063329\n",
      " 1.84616314 1.30799283 1.17696634 1.9840129  1.56784161 1.62312546\n",
      " 1.57908558 1.08715048 1.27037034 1.60722638 1.59953393 1.16862679\n",
      " 1.79274415 1.70247765 1.52834958 1.79421203 1.80773183 1.51920971\n",
      " 1.01273676 1.11290541 1.03744981 1.27097855 1.49362364 1.32994862\n",
      " 1.42150111 1.30028638 1.8189016  1.36964532 1.11217708 1.97977447\n",
      " 1.209281   1.12978346 1.34413647 1.56769204 1.27920433 1.82193655\n",
      " 1.70928589 1.72819164 1.77013334 1.32991692 1.95991496 1.31797731\n",
      " 1.41061179 1.83481684 1.87154528 1.43094332 1.96225854 1.33595378\n",
      " 1.68956203 1.77846758 1.69014288 1.96353413 1.99626001 1.00218463\n",
      " 1.32144337 1.62225676 1.61921056 1.24054181 1.61739002 1.38701636\n",
      " 1.72747462 1.95799757 1.14372132 1.30136984 1.95139997 1.03580887\n",
      " 1.09853313 1.37799252 1.56533573 1.14818369 1.59803169 1.9992757\n",
      " 1.36123705 1.46302377 1.8174605  1.71813464 1.82577603 1.15562496\n",
      " 1.38241879 1.88836702 1.11704327 1.16594092 1.35346052 1.450496\n",
      " 1.27583201 1.28825105 1.37747676 1.61476525 1.50598011 1.83850194\n",
      " 1.12616783 1.28965019 1.0496779  1.40211349 1.27455557 1.20635867\n",
      " 1.03610467 1.9508253  1.67944925 1.8440541  1.18598126 1.93660381\n",
      " 1.48260894 1.24838342 1.87860324 1.0786229  1.34334349 1.35407031\n",
      " 1.42161406 1.05637694 1.8995257  1.6367836  1.41187386 1.84385965\n",
      " 1.31629265 1.08769417 1.11707285 1.14630853 1.73584501 1.7322176\n",
      " 1.72354923 1.15443255 1.51397252 1.58582941 1.8562104  1.86437206\n",
      " 1.11143154 1.86183207 1.92405181 1.14069111 1.11369953 1.25261808\n",
      " 1.05267641 1.29243995 1.94642458 1.76524234 1.44578762 1.10301785\n",
      " 1.38219564 1.05272586 1.82341136 1.15417919 1.32562714 1.04839288\n",
      " 1.23890559 1.55302228 1.81720061 1.82126423 1.66867385 1.67370285\n",
      " 1.91340133 1.94583623 1.26953973 1.14216122 1.38439621 1.44463471\n",
      " 1.54852703 1.0301268  1.2042309  1.18935048 1.37910753 1.78860162\n",
      " 1.88049577 1.7697866  1.1421928  1.38230905 1.13042855 1.38833431\n",
      " 1.22985186 1.13918685 1.24932897 1.99949754 1.96472095 1.22370985\n",
      " 1.87079615 1.98279384 1.02972353 1.70894951 1.10818898 1.97640645\n",
      " 1.96264683 1.81571332 1.95347386 1.09845511 1.94016777 1.79361054\n",
      " 1.62345425 1.18173542 1.34519993 1.99691815 1.23703554 1.43456265\n",
      " 1.60513216 1.91081384 1.06078276 1.93365605 1.04201849 1.63608516\n",
      " 1.05196994 1.60485334 1.4912269  1.37659832 1.05393097 1.62815685\n",
      " 1.89889903 1.15683725 1.44863627 1.20782074 1.80278301 1.90868678\n",
      " 1.81674591 1.6216739  1.13067523 1.7387468  1.06392888 1.87446533\n",
      " 1.5752774  1.77690366 1.37465898 1.39324108 1.45845121 1.35468774\n",
      " 1.63678158 1.89809058 1.65046716 1.76400517 1.93544695 1.1056592\n",
      " 1.17919613 1.69055617 1.3952328  1.17054151 1.6609976  1.674371\n",
      " 1.5629948  1.35511301 1.96026241 1.12457373 1.77142634 1.71344152\n",
      " 1.43864743 1.70630527 1.02642418 1.22510266 1.05993597 1.06330461\n",
      " 1.59673531 1.79936238 1.58120723 1.74758627 1.9671152  1.72113871\n",
      " 1.44548554 1.66175666 1.28542143 1.50701221] \n",
      " <class 'numpy.ndarray'>\n"
     ]
    },
    {
     "data": {
      "text/plain": [
       "Text(0.5, 1.0, 'Uniform Distribution')"
      ]
     },
     "execution_count": 91,
     "metadata": {},
     "output_type": "execute_result"
    },
    {
     "data": {
      "image/png": "[encoded data removed]",
      "text/plain": [
       "<Figure size 432x288 with 1 Axes>"
      ]
     },
     "metadata": {
      "needs_background": "light"
     },
     "output_type": "display_data"
    }
   ],
   "source": [
    "# Lets explore Uniform distribution\n",
    "u = np.random.default_rng().uniform(1,2,1000)  # Grabbing 500 random values from 1 to 1.99999999. \n",
    "print(u,'\\n', type(u)) # lets print our values and see what type of result is returned.\n",
    "# Below lines adapted from official documentation [37]\n",
    "count, bins, ignored = plt.hist(u, bins = 20, color = 'gold', edgecolor = 'black', density=True, linewidth=2) \n",
    "plt.plot(bins, np.ones_like(bins), linewidth=3, color='green') # Adapted from Reference 40\n",
    "plt.xlabel('Uniform Distribution')\n",
    "plt.title('Uniform Distribution', fontweight = 'heavy', family = 'serif')\n"
   ]
  },
  {
   "cell_type": "markdown",
   "id": "6b6e43c4",
   "metadata": {},
   "source": [
    "We can see from the above result the Uniform function returns values within the specified range and in the form of a numpy array with the probability density function of 1.0. "
   ]
  },
  {
   "cell_type": "code",
   "execution_count": 97,
   "id": "46d5c1be",
   "metadata": {},
   "outputs": [
    {
     "data": {
      "text/plain": [
       "array([1.77903006, 1.7279853 , 1.3075    , 1.68890032, 1.66600449,\n",
       "       1.32561484, 1.89454378, 1.54604766, 1.78127767, 1.00582204,\n",
       "       1.75574752, 1.58826268, 1.98799118, 1.77383775, 1.40612956,\n",
       "       1.41535581, 1.98028335, 1.60832892, 1.92272806, 1.55553063,\n",
       "       1.73704776, 1.45587611, 1.27182918, 1.28411105, 1.54389074,\n",
       "       1.47317368, 1.07766331, 1.34578754, 1.38511637, 1.53946557,\n",
       "       1.05481812, 1.17237974, 1.2185892 , 1.63394446, 1.26088611,\n",
       "       1.09730922, 1.16846425, 1.6323991 , 1.32770584, 1.46171885,\n",
       "       1.28857034, 1.64413882, 1.09640715, 1.83774283, 1.34703162,\n",
       "       1.88789228, 1.98494394, 1.71289441, 1.15092798, 1.76237429])"
      ]
     },
     "execution_count": 97,
     "metadata": {},
     "output_type": "execute_result"
    }
   ],
   "source": [
    "# Lets see what happens when we potentially input values incorrectly\n",
    "u2 = np.random.default_rng().uniform(2,1,50) # our 'Low' limit is above out 'high' limit\n",
    "u2"
   ]
  },
  {
   "cell_type": "markdown",
   "id": "c5dc18f6",
   "metadata": {},
   "source": [
    "Surprisingly, this function still returns values however we obviously cannot trust them as we have set the inputs incorrectly. Further research into this finding revealed than an earlier version of Numpy accounted for this eventuality and included the following note [41]: \n",
    "\n",
    "![highLow](Images/highLow.PNG)\n"
   ]
  },
  {
   "cell_type": "markdown",
   "id": "c6045892",
   "metadata": {},
   "source": [
    "###### random.Generator.normal\n"
   ]
  },
  {
   "cell_type": "code",
   "execution_count": null,
   "id": "684f736e",
   "metadata": {},
   "outputs": [],
   "source": []
  },
  {
   "cell_type": "code",
   "execution_count": null,
   "id": "7ab978b2",
   "metadata": {},
   "outputs": [],
   "source": []
  },
  {
   "cell_type": "code",
   "execution_count": null,
   "id": "80c3dad6",
   "metadata": {},
   "outputs": [],
   "source": []
  },
  {
   "cell_type": "code",
   "execution_count": null,
   "id": "0d6a8f55",
   "metadata": {},
   "outputs": [],
   "source": []
  },
  {
   "cell_type": "code",
   "execution_count": null,
   "id": "1f61d18c",
   "metadata": {},
   "outputs": [],
   "source": []
  },
  {
   "cell_type": "code",
   "execution_count": null,
   "id": "23722a13",
   "metadata": {},
   "outputs": [],
   "source": []
  },
  {
   "cell_type": "code",
   "execution_count": null,
   "id": "48054598",
   "metadata": {},
   "outputs": [],
   "source": []
  },
  {
   "cell_type": "code",
   "execution_count": null,
   "id": "7dbd8753",
   "metadata": {},
   "outputs": [],
   "source": []
  },
  {
   "cell_type": "code",
   "execution_count": null,
   "id": "f9f8587c",
   "metadata": {},
   "outputs": [],
   "source": []
  },
  {
   "cell_type": "code",
   "execution_count": null,
   "id": "a48bf2a4",
   "metadata": {},
   "outputs": [],
   "source": []
  },
  {
   "cell_type": "code",
   "execution_count": null,
   "id": "8cba5896",
   "metadata": {},
   "outputs": [],
   "source": [
    "\n",
    "\n"
   ]
  },
  {
   "cell_type": "code",
   "execution_count": null,
   "id": "494a35c9",
   "metadata": {},
   "outputs": [],
   "source": []
  },
  {
   "cell_type": "code",
   "execution_count": null,
   "id": "bac44104",
   "metadata": {},
   "outputs": [],
   "source": []
  },
  {
   "cell_type": "code",
   "execution_count": 17,
   "id": "23c1593a",
   "metadata": {},
   "outputs": [
    {
     "data": {
      "text/plain": [
       "(array([ 934., 1079.,  953.,  972., 1015., 1064.,  956., 1035.,  975.,\n",
       "        1017.]),\n",
       " array([4.86069385e-02, 1.00034159e+02, 2.00019711e+02, 3.00005264e+02,\n",
       "        3.99990816e+02, 4.99976368e+02, 5.99961920e+02, 6.99947473e+02,\n",
       "        7.99933025e+02, 8.99918577e+02, 9.99904129e+02]),\n",
       " <BarContainer object of 10 artists>)"
      ]
     },
     "execution_count": 17,
     "metadata": {},
     "output_type": "execute_result"
    },
    {
     "data": {
      "image/png": "[encoded data removed]",
      "text/plain": [
       "<Figure size 432x288 with 1 Axes>"
      ]
     },
     "metadata": {
      "needs_background": "light"
     },
     "output_type": "display_data"
    }
   ],
   "source": []
  },
  {
   "cell_type": "code",
   "execution_count": 18,
   "id": "37d374b1",
   "metadata": {},
   "outputs": [
    {
     "data": {
      "text/plain": [
       "(array([  1.,  11.,  48., 105., 236., 236., 224.,  96.,  31.,  12.]),\n",
       " array([ 9.64515082,  9.71044556,  9.7757403 ,  9.84103504,  9.90632978,\n",
       "         9.97162452, 10.03691926, 10.102214  , 10.16750874, 10.23280348,\n",
       "        10.29809822]),\n",
       " <BarContainer object of 10 artists>)"
      ]
     },
     "execution_count": 18,
     "metadata": {},
     "output_type": "execute_result"
    },
    {
     "data": {
      "image/png": "[encoded data removed]",
      "text/plain": [
       "<Figure size 432x288 with 1 Axes>"
      ]
     },
     "metadata": {
      "needs_background": "light"
     },
     "output_type": "display_data"
    }
   ],
   "source": [
    "# Normal Distribution\n",
    " \n",
    "x = np.random.normal(0, 0.1, 1000)  # close to '0' = mu (mean of distribution), 90% values between 0.3 & -0.3, 1000 values\n",
    "# plt.hist(x)\n",
    "\n",
    "# Changing mu value \n",
    "x_2 = np.random.normal(10, 0.1, 1000)  # it appears changing 'mu' changes the population mean.\n",
    "plt.hist(x_2)"
   ]
  },
  {
   "cell_type": "code",
   "execution_count": 19,
   "id": "fb07caa4",
   "metadata": {},
   "outputs": [],
   "source": [
    "# Look at the differences between each one (understand what the functions do, programming level of experience)"
   ]
  },
  {
   "cell_type": "code",
   "execution_count": 20,
   "id": "54e99eec",
   "metadata": {},
   "outputs": [],
   "source": [
    "# Seeding (to do with the time on computer when code is run. Decided once and from then on numbers generated are based on that seed.)\n",
    "# Seed is the position at where you start\n",
    "\n",
    "\n"
   ]
  },
  {
   "cell_type": "code",
   "execution_count": 21,
   "id": "bcab10af",
   "metadata": {},
   "outputs": [],
   "source": [
    "# How does PCG 64 outperfom Mersenne Twister algorithm . Melissa O Neill. Test through documentation. Formulate how to seed the algorithm so you get reproducible results from algotrithm."
   ]
  },
  {
   "cell_type": "code",
   "execution_count": null,
   "id": "7faeade2",
   "metadata": {},
   "outputs": [],
   "source": []
  },
  {
   "cell_type": "code",
   "execution_count": null,
   "id": "e2a79b68",
   "metadata": {},
   "outputs": [],
   "source": []
  },
  {
   "cell_type": "code",
   "execution_count": null,
   "id": "114b8ca0",
   "metadata": {},
   "outputs": [],
   "source": []
  },
  {
   "cell_type": "code",
   "execution_count": null,
   "id": "e631db7d",
   "metadata": {},
   "outputs": [],
   "source": []
  },
  {
   "cell_type": "code",
   "execution_count": null,
   "id": "c94beebe",
   "metadata": {},
   "outputs": [],
   "source": []
  }
 ],
 "metadata": {
  "kernelspec": {
   "display_name": "Python 3",
   "language": "python",
   "name": "python3"
  },
  "language_info": {
   "codemirror_mode": {
    "name": "ipython",
    "version": 3
   },
   "file_extension": ".py",
   "mimetype": "text/x-python",
   "name": "python",
   "nbconvert_exporter": "python",
   "pygments_lexer": "ipython3",
   "version": "3.8.8"
  }
 },
 "nbformat": 4,
 "nbformat_minor": 5
}
