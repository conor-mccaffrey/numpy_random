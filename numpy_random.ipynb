{
 "cells": [
  {
   "cell_type": "markdown",
   "id": "90e3f6b1",
   "metadata": {},
   "source": [
    "# The Numpy.Random Package \n",
    "\n",
    "***\n",
    "\n",
    "![Python & Jupyter](Images/python-jupyter-notebooks.jpg)\n",
    "\n",
    "![Numpy](Images/Numpy.png)\n",
    "\n",
    "\n",
    "\n",
    "######  <i> Pictures adapted from references 1,2  </i>\n",
    "\n",
    "## Conor McCaffrey\n",
    "#### Programming for Data Analysis 2021\n",
    "[Official Documentation for the Numpy Random Package](https://numpy.org/doc/stable/reference/random/index.html)  [3] <br>\n",
    "[Click here for copy of Assignment](Images/ProgDA_Assignment.pdf)\n",
    "\n",
    "\n",
    "***"
   ]
  },
  {
   "cell_type": "markdown",
   "id": "ee2bb60d",
   "metadata": {},
   "source": [
    "## Assignment Objectives\n",
    "- Explain the overall purpose of the package.\n",
    "- Explain the use of the “Simple random data” and “Permutations” functions.\n",
    "- Explain the use and purpose of at least five “Distributions” functions.\n",
    "- Explain the use of seeds in generating pseudorandom numbers."
   ]
  },
  {
   "cell_type": "markdown",
   "id": "b606555c",
   "metadata": {},
   "source": [
    "## What is the purpose of the Numpy.Random Package?"
   ]
  },
  {
   "cell_type": "markdown",
   "id": "4d28faaa",
   "metadata": {},
   "source": [
    "###### Overview of Numpy.\n",
    "Prior to delving too deeply into the mechanics of a package, it is prudent to first understand the inherent purpose of a package. \n",
    "<br>\n",
    "- <u> Numpy</u> (an abbreviation of \"<b>Num</b>erical <b>Py</b>thon\"  [4] ) is essentially \" the fundamental package for scientific computing in Python \" [5]. This open-source package provides many resources that are of particular importance to scientific computing. According to official documentation [5], Numpy is a \"Python library that provides a multidimensional array object, various derived objects (such as masked arrays and matrices), and an assortment of routines for fast operations on arrays, including mathematical, logical, shape manipulation, sorting, selecting, I/O, discrete Fourier transforms, basic linear algebra, basic statistical operations, random simulation and much more\". \n",
    "- The core of the Numpy package is the \"array\", which is similar to a list with the main exception being that we can perform mathematical operations/arithmetic functions on arrays that are not possible on lists [6]. Lists can contain data of differing data-types while arrays are used to house elements of the same data type [7]. Upon creation, an array has a fixed size (technically immutable) in where changing elements of an array will delete the original and return a copy of the original array with whatever operation you requested, in contrast to lists, which are mutable [8,5].\n",
    "\n",
    "![Arrays](Images/arrays.png)\n",
    "###### Adapted from reference [31]\n"
   ]
  },
  {
   "cell_type": "markdown",
   "id": "ea37182c",
   "metadata": {},
   "source": [
    "###### So how does this tie in to the Numpy.Random Package?"
   ]
  },
  {
   "cell_type": "markdown",
   "id": "3de80aa7",
   "metadata": {},
   "source": [
    "Now that we have a basic overview of the Numpy package as a whole, let's examine the mechanics of the Numpy.Random package. At the highest level, the Numpy.Random package allows the production of arrays of \"pseudo-random\" numbers for downstream analyses [3]. This is acheived using what are known as a \"BitGenerator\" and a \"Generator\" [3]. BitGenerators create sequences of 32/64 random bits (based on different algorithms) which are then leveraged by Generators (taking a bit generator as an argument) to create sequences of numbers, adhering to a certain probability distribution (i.e Uniform, Normal or Binomial) [3,9]. The Generator (replacing the legacy RandomState) from the latest update of Numpy.Random uses bits provided by PCG-64 (Permuted Congruential Generator, a family of algorithms) as opposed to the legacy MT19937 (Marsenne Twister) due to enhanced statistical performence [3,10,11]. This will be covered in greater detail in the section discussing \"Seeding\". \"Seeding\" is an important concept, allowing the work to be reproducible to others attempting to examine/re-create your work."
   ]
  },
  {
   "cell_type": "markdown",
   "id": "48881a11",
   "metadata": {},
   "source": [
    "###### In Summary...\n",
    "The Numpy.Random package contains functions that faciliate the generation of arrays of pseudo-random numbers with specific probability distributions [12,13]. "
   ]
  },
  {
   "cell_type": "markdown",
   "id": "95febef1",
   "metadata": {},
   "source": [
    "***\n",
    "## Simple Random Data and Permutations"
   ]
  },
  {
   "cell_type": "markdown",
   "id": "c51cb0e6",
   "metadata": {},
   "source": [
    "In this passage I want to give an overview of \"Simple Random Data\" and \"Permutations\", as outlined in the official documentation [3]. \n",
    "<br>\n",
    "\n",
    "The Simple Random Data section outlines a set of functions that can be utilised in order to, logically, generate simple random data based on user inputs, which can of course be modified. Data types that can be returned include integers, floats, random samples from a given array and bytes [3]. The functions available for use, following the latest update, are:\n",
    "- integers(low[, high, size, dtype, endpoint]) - Return random integers from low (inclusive) to high (exclusive), or if endpoint=True, low (inclusive) to high (inclusive).\n",
    "- random([size, dtype, out]) - Return random floats in the half-open interval [0.0, 1.0).\n",
    "- choice(a[, size, replace, p, axis, shuffle]) - Generates a random sample from a given array\n",
    "- bytes(length) - Return random bytes.\n",
    "\n",
    "Permutations (coming from the word <i> permute</i> (meaning to \"alter/rearrange\" [14]), meanwhile, create random re-arrangements of the order of elements [3]. Three functions are called out in the official documentation [3]:\n",
    "- shuffle(x[, axis]) - Modify an array or sequence in-place by shuffling its contents.\n",
    "- permutation(x[, axis] - Randomly permute a sequence, or return a permuted range.\n",
    "- permuted(x[, axis, out]) -Randomly permute x along axis axis.\n",
    "\n",
    "We will cover each of these in more detail below."
   ]
  },
  {
   "cell_type": "code",
   "execution_count": 1,
   "id": "10f9c3df",
   "metadata": {},
   "outputs": [],
   "source": [
    "# To begin, let's import the packages we will require\n",
    "import numpy as np\n",
    "import pandas as pd\n",
    "import matplotlib.pyplot as plt\n",
    "import seaborn as sns\n",
    "\n",
    "# This  line-orientated magic command, as outlined in lectures, lets us display plots inline\n",
    "%matplotlib inline"
   ]
  },
  {
   "cell_type": "markdown",
   "id": "32688fd5",
   "metadata": {},
   "source": [
    "###### Numpy.Random: numpy.random.Generator.integers\n",
    "\n",
    "\n"
   ]
  },
  {
   "cell_type": "code",
   "execution_count": 2,
   "id": "e08bc352",
   "metadata": {},
   "outputs": [
    {
     "name": "stdout",
     "output_type": "stream",
     "text": [
      "This is the variable \"a\": \n",
      " [0 6 3 7 5 2 6 7 1 2 1 3 1 2 6] \n",
      " The type of the variable is: <class 'numpy.ndarray'>\n"
     ]
    },
    {
     "data": {
      "image/png": "[encoded data removed]",
      "text/plain": [
       "<Figure size 432x288 with 1 Axes>"
      ]
     },
     "metadata": {
      "needs_background": "light"
     },
     "output_type": "display_data"
    }
   ],
   "source": [
    "# Generate an array of integers\n",
    "rng = np.random.default_rng() # Call default_rng to get a new instance of a Generator, from official documentation [3]\n",
    "a =  rng.integers(8, size=15) # Up to but not including 8. Size is the shape of the array\n",
    "print('This is the variable \"a\": \\n' , a, '\\n The type of the variable is:', type(a)) \n",
    "\n",
    "# Plot our variable to demonstrate random data, adapted from reference 15\n",
    "plt.plot(a, 'b.', color = '#943126') # setting colour of datapoints [16]\n",
    "plt.title('Random Integers Demonstration', fontweight='heavy',  size=12) # Setting title and weight of title [18]\n",
    "plt.xlabel('Element Number', size=10) # Setting axis title and font size\n",
    "plt.ylabel('DataPoint', size=10)\n",
    "plt.grid(False) # Used hex value for colour [19]"
   ]
  },
  {
   "cell_type": "code",
   "execution_count": 3,
   "id": "2cbe2abd",
   "metadata": {},
   "outputs": [
    {
     "name": "stdout",
     "output_type": "stream",
     "text": [
      "This is b: \n",
      " [[2 1 9 6]\n",
      " [5 7 5 9]]\n",
      "This is c: \n",
      " [2 0 0 3 0 0 5 4 6 3]\n",
      "This is d: \n",
      " [[3 4]\n",
      " [0 0]\n",
      " [0 2]\n",
      " [4 5]\n",
      " [0 5]]\n",
      "This has caused an error\n"
     ]
    }
   ],
   "source": [
    "# Further manipulation of the integer function.\n",
    "# Generate a multi-dimensional array.\n",
    "\n",
    "# Size is structured as the following: 2x4 array\n",
    "b =  rng.integers(10, size=(2, 4))\n",
    "print('This is b: \\n' , b)\n",
    "\n",
    "# Output is a 1D array\n",
    "c = rng.integers(low = 0, high = 7, size = 10) \n",
    "print ('This is c: \\n', c)\n",
    "\n",
    "# Specifying multiple parameters\n",
    "d =  rng.integers(5, size=(5,2),  endpoint=True) # Boolean True to determine if '5' included in arrays\n",
    "print('This is d: \\n', d)\n",
    "\n",
    "# Wrapping empty function in try except block to investigate effect [17]\n",
    "try:\n",
    "    rng.integers()\n",
    "except BaseException as err:\n",
    "    print('This has caused an error')\n",
    "else:\n",
    "    print('Function still worked')\n"
   ]
  },
  {
   "cell_type": "code",
   "execution_count": 4,
   "id": "a32afd7c",
   "metadata": {},
   "outputs": [
    {
     "data": {
      "text/plain": [
       "Text(0.5, 1.0, 'Random integers from the discrete uniform distribution')"
      ]
     },
     "execution_count": 4,
     "metadata": {},
     "output_type": "execute_result"
    },
    {
     "data": {
      "image/png": "[encoded data removed]",
      "text/plain": [
       "<Figure size 432x288 with 1 Axes>"
      ]
     },
     "metadata": {
      "needs_background": "light"
     },
     "output_type": "display_data"
    }
   ],
   "source": [
    "# Plotting using the numpy.random.Generator.integers function\n",
    "x1 = rng.integers(low = 1, high=500, size = 10000) # generating random values between 1-499\n",
    "plt.hist(x1, bins = 20, color = 'green', edgecolor = 'orange') # Some decorations\n",
    "plt.xlabel('Discrete Uniform Distribution')\n",
    "plt.title('Random integers from the discrete uniform distribution', fontweight = 'heavy', family = 'serif')\n"
   ]
  },
  {
   "cell_type": "markdown",
   "id": "30604b01",
   "metadata": {},
   "source": [
    "We have shown here that the distribution of the values is uniform, as detailed in the official documentation. [20]"
   ]
  },
  {
   "cell_type": "markdown",
   "id": "13fc58a1",
   "metadata": {},
   "source": [
    "###### Numpy.Random: numpy.random.Generator.random\n"
   ]
  },
  {
   "cell_type": "markdown",
   "id": "2dfd19a5",
   "metadata": {},
   "source": [
    "This function is quite similar to the one above and is desribed in the official documentation as the following: [21]\n",
    "\n",
    "![Random.random](Images/Random.random.PNG)\n"
   ]
  },
  {
   "cell_type": "code",
   "execution_count": 5,
   "id": "925adf4b",
   "metadata": {},
   "outputs": [
    {
     "data": {
      "text/plain": [
       "array([0.27970228, 0.34533931, 0.77865476, 0.8614813 , 0.49242276,\n",
       "       0.45452885, 0.32831992, 0.96399632, 0.1199668 , 0.87062571,\n",
       "       0.41278537, 0.73262348, 0.02441376, 0.85533749, 0.46870511,\n",
       "       0.43581615, 0.98168012, 0.36041384, 0.3905979 , 0.64924758])"
      ]
     },
     "execution_count": 5,
     "metadata": {},
     "output_type": "execute_result"
    },
    {
     "data": {
      "image/png": "[encoded data removed]",
      "text/plain": [
       "<Figure size 432x288 with 1 Axes>"
      ]
     },
     "metadata": {
      "needs_background": "light"
     },
     "output_type": "display_data"
    }
   ],
   "source": [
    "# Plotting using the numpy.random.Generator.random function\n",
    "# This function returns floats\n",
    "x2 = rng.random(size = 20) # 10 random floats\n",
    "plt.plot(x2, 'b.', color = 'green') # Some decorations\n",
    "plt.ylim(0,2.0) # setting x-axis limits\n",
    "plt.ylabel('DataPoint')\n",
    "plt.xlabel('Continuous Uniform Distribution')\n",
    "plt.title('Random integers from the continuous uniform distribution', fontweight = 'heavy', family = 'serif')\n",
    "x2"
   ]
  },
  {
   "cell_type": "markdown",
   "id": "339e1c29",
   "metadata": {},
   "source": [
    "Something intersting to note here is how the generated random numbers are all between 0.0 and 1.0. I examined this by purposefully setting the upper x-limit to 2.0 just to determine if a result above 1.0 appeared. This is evidence that the statement from the official documentaion (half-open interval) is true [21]."
   ]
  },
  {
   "cell_type": "markdown",
   "id": "3c9120f4",
   "metadata": {},
   "source": [
    "There is an interesting difference in the above functions I want to highlight. It is obvious how Numpy.integers returns integer values and how Numpy.random can return float values. Something I feel is more important to highlight between the functions is the difference between discrete and continuous distribution as a result of these mechanics. Random.integers returns values of discrete uniform distribution (where there are a finite number of outcomes), while Random.random returns values of continuous uniform distribution(where there are an infinite number of outcomes) [22]. \n",
    "\n",
    "- Thinking of this logically, if you flip a coin, you can have only two possible outcomes: Heads or Tails (i.e 1 or 0). While the outcome is random (you hope!), you can only have two possible outcomes (i.e a finite amount of outcomes). This is the basis of discrete distribution. [23] \n",
    "- Compare this to continuous distribution, where we could have an infinite number of equally likely outcomes. An example of this could be an truely random number generator, in where any value could appear just as likely as any other value an infinite number of times.\n",
    "\n",
    "![Coin](Images/Coin.jpg)\n",
    "\n",
    "###### <i> Adapted from Reference 24 </i>\n"
   ]
  },
  {
   "cell_type": "code",
   "execution_count": 6,
   "id": "a1899979",
   "metadata": {},
   "outputs": [
    {
     "data": {
      "text/plain": [
       "<matplotlib.legend.Legend at 0x1eafa174f10>"
      ]
     },
     "execution_count": 6,
     "metadata": {},
     "output_type": "execute_result"
    },
    {
     "data": {
      "image/png": "[encoded data removed]",
      "text/plain": [
       "<Figure size 432x288 with 1 Axes>"
      ]
     },
     "metadata": {
      "needs_background": "light"
     },
     "output_type": "display_data"
    }
   ],
   "source": [
    "# Compare the two functions used in a scatterplot \n",
    "# Demonstate the difference between continuous and discrete uniform distribution.\n",
    "x3 = rng.integers(low = 0, high=3, size = 15) \n",
    "x4 = rng.random(size = 15) \n",
    "\n",
    "plt.plot(x3, 'x', label='discrete')\n",
    "plt.plot(x4, 'o', label='continuous')\n",
    "plt.xlabel('Cont vs Discrete', size=12, color = '#397dad')\n",
    "plt.ylabel('Value', size=12, color = '#943126')\n",
    "plt.grid(False) # dont want gridlines for this\n",
    "plt.legend()"
   ]
  },
  {
   "cell_type": "markdown",
   "id": "e9dbe7f1",
   "metadata": {},
   "source": [
    "We can clearly see from the above scatterplot the simple difference between discrete and continuous uniform distribution. For the Numpy.Random.Integers (discrete distribution) we only have the values 0,1 or 2 compared to Numpy.Random.random (continuous distribution) where we have random values between 0.0 and 1.0. "
   ]
  },
  {
   "cell_type": "markdown",
   "id": "03dcc491",
   "metadata": {},
   "source": [
    "###### Numpy.Random: numpy.random.Generator.choice\n"
   ]
  },
  {
   "cell_type": "markdown",
   "id": "313e1269",
   "metadata": {},
   "source": [
    "This function allows the user to generate a random sample from a non-empty array (if the variable is an array) or in the range of the specified integer [25]. "
   ]
  },
  {
   "cell_type": "code",
   "execution_count": 7,
   "id": "e00a43d4",
   "metadata": {},
   "outputs": [
    {
     "name": "stdout",
     "output_type": "stream",
     "text": [
      "This is the variable a: 0 \n",
      " This is b: [[ 1  2  9]\n",
      " [12 44 89]]\n"
     ]
    }
   ],
   "source": [
    "# Initial investigations into choice method\n",
    "rng = np.random.default_rng() \n",
    "a =  rng.choice(5) # generate a random integer\n",
    "# Select 2 random arrays from list with replace set to False to avoid selecting same \n",
    "b = rng.choice(([11, 4, 8], [7, 4, 9], [1, 2, 9], [12,44,89]), 2 ,replace = False)\n",
    "print('This is the variable a:' , a, '\\n This is b:' ,b)"
   ]
  },
  {
   "cell_type": "code",
   "execution_count": 8,
   "id": "5ae2e46c",
   "metadata": {},
   "outputs": [
    {
     "data": {
      "text/plain": [
       "<matplotlib.legend.Legend at 0x1eafa1f25b0>"
      ]
     },
     "execution_count": 8,
     "metadata": {},
     "output_type": "execute_result"
    },
    {
     "data": {
      "image/png": "[encoded data removed]",
      "text/plain": [
       "<Figure size 432x288 with 1 Axes>"
      ]
     },
     "metadata": {
      "needs_background": "light"
     },
     "output_type": "display_data"
    }
   ],
   "source": [
    "# Investigation into p parameter in choice method for distribution\n",
    "# We will see a non-uniform distribution in a1 due to setting probabilities\n",
    "a1 = rng.choice(5, 30, p=[0.0, 0.5, 0.0, 0.5, 0])  # adapted from reference 25\n",
    "b1 = rng.choice(5, 30)\n",
    "\n",
    "plt.plot(a1, 'x', label='Non-Uni')\n",
    "plt.plot(b1, 'o', label='Uni')\n",
    "plt.legend()"
   ]
  },
  {
   "cell_type": "markdown",
   "id": "4e81984f",
   "metadata": {},
   "source": [
    "Lets explore this probability distribution parameter a little closer"
   ]
  },
  {
   "cell_type": "code",
   "execution_count": 9,
   "id": "cc20a3d2",
   "metadata": {},
   "outputs": [
    {
     "name": "stdout",
     "output_type": "stream",
     "text": [
      "How many times each county won the Ulster Title:\n",
      "[['Antrim' 'Armagh' 'Cavan' 'Donegal' 'Down' 'Fermanagh' 'Monaghan'\n",
      "  'Tyrone']\n",
      " ['4' '3' '12' '4' '6' '5' '4' '2']]\n"
     ]
    }
   ],
   "source": [
    "# Generate a list of counties in Ulster who can win the Ulster Title for the next 40 years\n",
    "counties = ['Cavan','Fermanagh','Monaghan','Tyrone','Donegal','Down','Antrim','Armagh','Derry']\n",
    "ulsterTitle = rng.choice(counties, 40, p=[0.3, 0.1, 0.1, 0.1, 0.1, 0.1, 0.1, 0.1, 0.0], replace=True)  \n",
    "\n",
    "# Return in numerical format how many times each county wins the title\n",
    "unique_elements, counts_elements = np.unique(ulsterTitle, return_counts=True) \n",
    "print('How many times each county won the Ulster Title:') # adapted from reference 26\n",
    "print(np.asarray((unique_elements, counts_elements))) # return as an array [27]"
   ]
  },
  {
   "cell_type": "code",
   "execution_count": 10,
   "id": "77b74ab4",
   "metadata": {},
   "outputs": [
    {
     "data": {
      "image/png": "[encoded data removed]",
      "text/plain": [
       "<Figure size 648x432 with 1 Axes>"
      ]
     },
     "metadata": {
      "needs_background": "light"
     },
     "output_type": "display_data"
    }
   ],
   "source": [
    "# Lets display on a Seaborn Histogram this glorious liklihood\n",
    "# Took a long time to get aspect solution [28]\n",
    "sns.displot(ulsterTitle, color = 'blue', edgecolor = 'grey', height=6, aspect=9/6)\n",
    "plt.figsize = (170,100)\n",
    "plt.xlabel('County', fontweight = 'bold')\n",
    "plt.ylabel('Titles', fontweight = 'bold')\n",
    "plt.suptitle('Ulster Title Winners', fontsize = 15) # adding main title to histogram and setting fontsize\n",
    "plt.grid(False) \n"
   ]
  },
  {
   "cell_type": "markdown",
   "id": "6cd3446a",
   "metadata": {},
   "source": [
    "In summary, the choice function selects a random sample or samples from an array, however we can manipulate the selection by setting probabilites."
   ]
  },
  {
   "cell_type": "markdown",
   "id": "4ae41168",
   "metadata": {},
   "source": [
    "###### Numpy.Random: numpy.random.Generator.bytes\n"
   ]
  },
  {
   "cell_type": "markdown",
   "id": "12927d00",
   "metadata": {},
   "source": [
    "This function simply returns random bytes [29]:\n",
    "![Bytes](Images/Bytes.png)\n",
    "\n"
   ]
  },
  {
   "cell_type": "code",
   "execution_count": 11,
   "id": "03e29d42",
   "metadata": {},
   "outputs": [
    {
     "data": {
      "text/plain": [
       "b'\\xaa\\x8ch\\xc6\\xe9m\\x9b}ex,\\xc8'"
      ]
     },
     "execution_count": 11,
     "metadata": {},
     "output_type": "execute_result"
    }
   ],
   "source": [
    "# Returning Random bytes\n",
    "np.random.bytes(12)"
   ]
  },
  {
   "cell_type": "markdown",
   "id": "4d285f38",
   "metadata": {},
   "source": [
    "###### Numpy.Random: numpy.random.Generator.shuffle\n"
   ]
  },
  {
   "cell_type": "markdown",
   "id": "97f9c9eb",
   "metadata": {},
   "source": [
    "The shuffle method within Permutations facilitates the re-ordering of contents within a sequence [30]. \n",
    "\n",
    "![Shuffle](Images/shuffle.png)\n",
    "\n",
    "\n"
   ]
  },
  {
   "cell_type": "code",
   "execution_count": 12,
   "id": "09cc5773",
   "metadata": {},
   "outputs": [
    {
     "name": "stdout",
     "output_type": "stream",
     "text": [
      "1D array: [ 2  3  9 13  7  5  0 14  4 10  1 12  6  8 11]\n",
      "We have now changed the shape of the output: \n",
      " [[4 5]\n",
      " [0 1]\n",
      " [2 3]\n",
      " [6 7]]\n",
      "Setting the axis to 1: \n",
      " [[1 0]\n",
      " [3 2]\n",
      " [5 4]\n",
      " [7 6]]\n"
     ]
    }
   ],
   "source": [
    "# Shuffle method\n",
    "input = np.arange(15)\n",
    "rng.shuffle(input) # using shuffle method\n",
    "print('1D array:', input) # printing array of shuffled results\n",
    "\n",
    "# We can also manipulate the shape of the output \n",
    "new_input = np.arange(8).reshape((4, 2)) # resulting in a 4x2 array, adapted from [30]\n",
    "rng.shuffle(new_input) \n",
    "print('We have now changed the shape of the output: \\n', new_input)\n",
    "\n",
    "# Let's look how specifying axis can alter the output \n",
    "arr = np.arange(8).reshape((4, 2))\n",
    "rng.shuffle(arr, axis=1)\n",
    "print('Setting the axis to 1: \\n', arr) # alters results by column"
   ]
  },
  {
   "cell_type": "markdown",
   "id": "a696ea10",
   "metadata": {},
   "source": [
    "It is also worth noting that when changing the value of the axis, the individual values within the axis do not change. Only the row/column as a whole changes. [30]"
   ]
  },
  {
   "cell_type": "markdown",
   "id": "be783427",
   "metadata": {},
   "source": [
    "###### Numpy.Random: numpy.random.Generator.permutation\n",
    "\n",
    "The permutation method within Permutations facilitates the re-ordering of contents within a sequence [32]. A notable difference between this method and the shuffle method is the permutation method returns a copy of the array while shuffle deals with the original array [33].\n",
    "\n",
    "![Permutation](Images/Permutation.png)\n"
   ]
  },
  {
   "cell_type": "code",
   "execution_count": 13,
   "id": "57166aa9",
   "metadata": {},
   "outputs": [
    {
     "name": "stdout",
     "output_type": "stream",
     "text": [
      "1D array: [ 8  0  6 10  9  4  3  7  5 11  1  2]\n",
      "We have now changed the shape of the output: \n",
      " [[6 7]\n",
      " [0 1]\n",
      " [2 3]\n",
      " [4 5]]\n"
     ]
    }
   ],
   "source": [
    "# Permutation method\n",
    "rng = np.random.default_rng()\n",
    "result = rng.permutation(12)\n",
    "print('1D array:', result ) # printing array of results in range of integer\n",
    "\n",
    "# Similar to the shuffle function, we can also manipulate the shape of the output \n",
    "new_perm = np.arange(8).reshape((4, 2)) # resulting in a 4x2 array, adapted from [33]\n",
    "rng.shuffle(new_perm) \n",
    "print('We have now changed the shape of the output: \\n', new_perm)"
   ]
  },
  {
   "cell_type": "code",
   "execution_count": 14,
   "id": "24f4fc5a",
   "metadata": {},
   "outputs": [
    {
     "name": "stdout",
     "output_type": "stream",
     "text": [
      "This is the original List before permutation: [1, 4, 9, 12, 15] and this is the permuted List: [ 9  4  1 12 15]\n",
      "This is the original_List after permutation [1, 4, 9, 12, 15]\n",
      "This is the List before shuffling: [1, 2, 3, 4, 5]\n",
      "This is the original_shuffled_List after shuffling [1, 2, 3, 4, 5]\n"
     ]
    }
   ],
   "source": [
    "# Let's explore this in-place/copy idea a little more\n",
    "\n",
    "# If x is an array, make a copy and shuffle the elements randomly\n",
    "original_List = [1,4,9,12,15]\n",
    "permuted_List = np.random.permutation(original_List)\n",
    "print('This is the original List before permutation:', original_List , 'and this is the permuted List:', permuted_List)\n",
    "print('This is the original_List after permutation', original_List)\n",
    "\n",
    "# Let's compare this to the shuffle function\n",
    "original_shuffled_List = [1,2,3,4,5]\n",
    "print('This is the List before shuffling:',original_shuffled_List)\n",
    "print('This is the original_shuffled_List after shuffling', original_shuffled_List)\n"
   ]
  },
  {
   "cell_type": "markdown",
   "id": "93133d74",
   "metadata": {},
   "source": [
    "###### Numpy.Random: numpy.random.Generator.permuted\n",
    "The permutation method within Permutations facilitates the permutation of 'x' along the axis <i>axis</i> [34]. A notable difference between this method and the shuffle method is eacxh slice in the permutated method is shuffled independently of the others.[34]\n",
    "\n",
    "\n",
    "![Permuted](Images/Permuted.png)\n",
    "\n",
    "Let's explore this."
   ]
  },
  {
   "cell_type": "code",
   "execution_count": 15,
   "id": "291fe70e",
   "metadata": {},
   "outputs": [
    {
     "name": "stdout",
     "output_type": "stream",
     "text": [
      "This is the original array: \n",
      " [[ 1  2  3  4]\n",
      " [ 5  6  7  8]\n",
      " [ 9 10 11 12]\n",
      " [13 14 15 16]\n",
      " [17 18 19 20]]\n",
      "This is the permuted array: \n",
      " [[ 4  1  3  2]\n",
      " [ 7  6  8  5]\n",
      " [12 10 11  9]\n",
      " [16 13 14 15]\n",
      " [19 20 17 18]]\n",
      "This is the permuted array setting axis=0:\n",
      " [[ 1  2 19 12]\n",
      " [ 9  6 15 20]\n",
      " [17 18  3 16]\n",
      " [ 5 14  7  8]\n",
      " [13 10 11  4]]\n",
      "Back to original:\n",
      " [[ 1  2  3  4]\n",
      " [ 5  6  7  8]\n",
      " [ 9 10 11 12]\n",
      " [13 14 15 16]\n",
      " [17 18 19 20]]\n",
      "This is now array_1 after setting parameter for \"out\":\n",
      " [[ 2  1  4  3]\n",
      " [ 6  5  8  7]\n",
      " [11 12 10  9]\n",
      " [14 13 16 15]\n",
      " [19 20 17 18]]\n"
     ]
    }
   ],
   "source": [
    "# Generating a test instance [34]\n",
    "rng = np.random.default_rng()\n",
    "# Creating an array\n",
    "array_1 = np.arange(1,21).reshape(5, 4)\n",
    "print('This is the original array: \\n' , array_1)\n",
    "array_2 = rng.permuted(array_1, axis=1)\n",
    "print('This is the permuted array: \\n' , array_2) # the rows have been shuffled with the original unchanged\n",
    "array_3 = rng.permuted(array_1, axis=0)\n",
    "print('This is the permuted array setting axis=0:\\n' , array_3) #columns shuffled with the original unchanged\n",
    "print('Back to original:\\n', array_1)\n",
    "# We can set 'out=array_1' to change the original (in-place change as opposed to copy change)\n",
    "rng.permuted(array_1, axis=1, out=array_1)\n",
    "print('This is now array_1 after setting parameter for \"out\":\\n',array_1)\n"
   ]
  },
  {
   "cell_type": "code",
   "execution_count": null,
   "id": "012be9a5",
   "metadata": {},
   "outputs": [],
   "source": []
  },
  {
   "cell_type": "code",
   "execution_count": null,
   "id": "dcb96a9f",
   "metadata": {},
   "outputs": [],
   "source": []
  },
  {
   "cell_type": "code",
   "execution_count": null,
   "id": "bb3fcea6",
   "metadata": {},
   "outputs": [],
   "source": []
  },
  {
   "cell_type": "markdown",
   "id": "70ac4a1d",
   "metadata": {},
   "source": [
    "***\n",
    "## Distributions\n",
    "***\n"
   ]
  },
  {
   "cell_type": "markdown",
   "id": "244bc7df",
   "metadata": {},
   "source": [
    "There are over 36 different distribution functions listed in the official documentation [3]. At it's most basic, a probability distribution 'is a table or an equation that links each outcome of a statistical experiment with its probability of occurrence' [35]. \n",
    "<br>\n",
    "<br>\n",
    "Let's take an extremely basic example of a footballer taking a penalty. There are two possible options here: the player either scores a goal or misses. Suppose the player takes two penalites (let's pretend the goalkeeper came off the line too early), there are four possible resulting outcomes (S= Scores, M= Misses) : SS, MM, SM, MS. The random variable X will represent the number of times the footballer scores and can be calculated. We can see visually that in 3 of the 4 possible outcomes the player scores at least once. We can display the probabilities of each outcome in the following table i.e. the <b>probability distribution</b>: \n",
    "<br>\n",
    "\n",
    "\n",
    "   | Number of Goals  | Probability    |\n",
    "|:-------------|:-----------|\n",
    "| 0 | 0.25       | \n",
    "| 1  | 0.5    |\n",
    "| 2  | 0.25    |\n",
    "\n",
    "<i>Table Adapted from Reference 36</i>"
   ]
  },
  {
   "cell_type": "markdown",
   "id": "ef4a2c74",
   "metadata": {},
   "source": [
    "A <b>cumulative probability</b>, meanwhile, denotes the liklihood that a random variable will fall within a certain specified range [35]. Going back to our earlier example, we can investigate the likehood of a player scoring one or less penalties. So this would be investigating the liklihood of the player scoring one penalty <u>and</u> the likehood of the player missing both penalties.\n",
    "\n",
    "P(X ≤ 1) = P(X = 0) + P(X = 1) = 0.25 + 0.50 = 0.75\n",
    " \n",
    "Now that we have a basic understanding of probabilities and distributions, let's delve a little deeper into the Distribution functions for generating random samples in Numpy."
   ]
  },
  {
   "cell_type": "markdown",
   "id": "691ba2d8",
   "metadata": {},
   "source": [
    "###### random.Generator.uniform\n",
    "\n",
    "Uniform distribution is perhaps the best distribution to initially describe as it can be considered the simplest. This form of distribution depicts an outcome where each value of a random variable is just as equally probable to any other value [38]. Thinking of this logically, lets imagine a deck of cards and you are asked to pick one. You are just as likely to draw a diamond as you are a heart and this is the same for a club and a spade. This is Uniform distribution [38]. We have already explored this topic in some detail above when describing the difference between Discrete Uniform distribution  (where there are a finite number of outcomes) and Continuous Uniform distribution (where there are an infinite number of outcomes) [22]. The probability density function (PDF), is a 'statistical expression describing the liklihood of an outcome', with the formula outlined below [39].\n",
    "\n",
    "\n",
    "![Uniform Distribution](Images/uniform_Distribution.png)\n",
    "***\n",
    "![pdf](Images/pdf.png)\n"
   ]
  },
  {
   "cell_type": "markdown",
   "id": "2f6cb55d",
   "metadata": {},
   "source": []
  },
  {
   "cell_type": "code",
   "execution_count": 16,
   "id": "b15124b0",
   "metadata": {},
   "outputs": [
    {
     "name": "stdout",
     "output_type": "stream",
     "text": [
      "[1.01150779 1.46815119 1.52996531 1.18843746 1.10741325 1.38251235\n",
      " 1.32819568 1.07154975 1.27757572 1.62694994 1.38004471 1.81419876\n",
      " 1.68072754 1.13466557 1.47816237 1.56297411 1.36755032 1.41563998\n",
      " 1.84527177 1.54413719 1.6323423  1.90914817 1.89639426 1.39232874\n",
      " 1.86913441 1.52512406 1.42142223 1.42392803 1.77501642 1.13799622\n",
      " 1.28211373 1.81952539 1.11484235 1.1402984  1.6477888  1.09152125\n",
      " 1.92452535 1.93080146 1.73356773 1.46936715 1.09857437 1.90375208\n",
      " 1.97098157 1.03444783 1.57839452 1.12938049 1.52347539 1.11977677\n",
      " 1.26053674 1.90032008 1.87551608 1.62754124 1.11304678 1.92674146\n",
      " 1.74794667 1.72478129 1.91419896 1.69460173 1.17009295 1.46011125\n",
      " 1.2997851  1.26704583 1.51504465 1.72127093 1.41549395 1.49095847\n",
      " 1.5554637  1.33035738 1.64510806 1.82985445 1.51896291 1.76020253\n",
      " 1.60909299 1.54029816 1.90730237 1.91156959 1.84498306 1.8969917\n",
      " 1.34184706 1.49178538 1.00310647 1.02368564 1.69954988 1.96889711\n",
      " 1.45394908 1.45272868 1.73421179 1.32975429 1.30281093 1.08757266\n",
      " 1.76551891 1.65541762 1.0324116  1.00619314 1.58357789 1.53272813\n",
      " 1.15416183 1.56310374 1.95722244 1.18432922 1.70348633 1.84919681\n",
      " 1.14404533 1.5813407  1.70664253 1.27489502 1.54129957 1.45292466\n",
      " 1.87146626 1.32050653 1.45085568 1.36379574 1.40976215 1.58374913\n",
      " 1.57449416 1.82054479 1.63368036 1.92160848 1.07762619 1.50375454\n",
      " 1.75594583 1.93679468 1.2568202  1.45959817 1.53930108 1.60973164\n",
      " 1.83273284 1.84244599 1.94573492 1.34581113 1.20360944 1.16345931\n",
      " 1.9806346  1.06762766 1.79404464 1.28334679 1.91598882 1.77327752\n",
      " 1.32893335 1.49147561 1.7794927  1.0378181  1.54475162 1.92238311\n",
      " 1.35420801 1.00216138 1.19151392 1.47760929 1.92862112 1.15999931\n",
      " 1.87630635 1.27615437 1.69374879 1.94727765 1.12621625 1.29596877\n",
      " 1.73659374 1.11773777 1.04861557 1.79286213 1.89111407 1.82740483\n",
      " 1.64834072 1.7896935  1.50431371 1.521558   1.02470704 1.81952973\n",
      " 1.94448723 1.25546708 1.65795964 1.63024141 1.81430457 1.76912234\n",
      " 1.58366721 1.4020042  1.93527466 1.11918142 1.41977255 1.33308641\n",
      " 1.64377221 1.90364542 1.42891504 1.78362551 1.63380768 1.1406281\n",
      " 1.76002148 1.15780814 1.52125792 1.74509879 1.42216399 1.18087005\n",
      " 1.78502665 1.02624898 1.23959145 1.9199149  1.97030016 1.41500246\n",
      " 1.66110269 1.74469684 1.28998228 1.29541249 1.75210615 1.05602384\n",
      " 1.9970959  1.8010437  1.92295737 1.47492626 1.85899757 1.06651056\n",
      " 1.19363004 1.65278714 1.41165222 1.57010078 1.87151798 1.28686639\n",
      " 1.92299267 1.67028405 1.54292719 1.82118456 1.48034804 1.39678124\n",
      " 1.20244832 1.10130164 1.1462579  1.57272028 1.01267894 1.4193095\n",
      " 1.71776786 1.06219721 1.45607543 1.26002322 1.91099051 1.18855869\n",
      " 1.60681955 1.63738099 1.47252346 1.06307697 1.44473652 1.10932579\n",
      " 1.56960314 1.09341714 1.35767925 1.92838467 1.28764383 1.20381878\n",
      " 1.84152408 1.5337216  1.04520915 1.59682011 1.75756642 1.84262723\n",
      " 1.85689887 1.81572521 1.90782896 1.45372239 1.97204901 1.56783923\n",
      " 1.16951965 1.31876378 1.68462109 1.14652766 1.99455549 1.61802563\n",
      " 1.09817109 1.37911433 1.95093296 1.68011861 1.95561256 1.83987766\n",
      " 1.6453638  1.74037148 1.77539233 1.60876145 1.11629277 1.96369749\n",
      " 1.16959718 1.98003502 1.36614208 1.41263094 1.16685419 1.61549317\n",
      " 1.31786609 1.09286932 1.20021541 1.13641052 1.76889481 1.40703997\n",
      " 1.24043554 1.3992691  1.83790414 1.50671872 1.63294326 1.20600504\n",
      " 1.33318063 1.2084491  1.35222748 1.42917518 1.00252704 1.36126857\n",
      " 1.74787509 1.94977041 1.27631983 1.40352907 1.39140476 1.13277858\n",
      " 1.16208539 1.96158548 1.95838543 1.53226821 1.95670823 1.03335617\n",
      " 1.02976452 1.08627559 1.99621174 1.25054361 1.14463154 1.96651106\n",
      " 1.57818661 1.21740143 1.74302146 1.00349615 1.87674415 1.77677946\n",
      " 1.1444281  1.29936224 1.69839787 1.45607253 1.67393041 1.64490502\n",
      " 1.04108702 1.7910917  1.80767258 1.16936968 1.46412106 1.764884\n",
      " 1.92489048 1.47003176 1.61300332 1.24226051 1.51858612 1.6120116\n",
      " 1.17173678 1.46080668 1.51320121 1.61840692 1.08406254 1.33676047\n",
      " 1.08185866 1.66260508 1.34624264 1.78191691 1.15766965 1.57111191\n",
      " 1.93188316 1.87970759 1.68338862 1.0834924  1.07557859 1.4223315\n",
      " 1.68035552 1.15512465 1.1022724  1.6319358  1.80763777 1.02995745\n",
      " 1.98459791 1.64412666 1.78634185 1.31015732 1.57049797 1.87437471\n",
      " 1.61729735 1.82162628 1.54970208 1.69085446 1.45735676 1.87012214\n",
      " 1.16367682 1.95068374 1.91238905 1.76810227 1.44240469 1.1148641\n",
      " 1.78468733 1.03081848 1.62243314 1.0716993  1.51614688 1.8731551\n",
      " 1.59125331 1.50058413 1.92520057 1.54672244 1.69423055 1.3106057\n",
      " 1.22444335 1.48938521 1.19156568 1.30434965 1.46726349 1.57005059\n",
      " 1.20486608 1.93120959 1.48926327 1.0774934  1.17014721 1.43187747\n",
      " 1.98528867 1.48548985 1.44960074 1.41031188 1.32923877 1.38280769\n",
      " 1.55398082 1.43548908 1.45552781 1.52881988 1.66116135 1.83005576\n",
      " 1.53005056 1.43010425 1.30512434 1.34622341 1.30117933 1.58193974\n",
      " 1.12011499 1.5233831  1.31589451 1.47708617 1.06757976 1.26737629\n",
      " 1.54214457 1.45394279 1.72860311 1.71170837 1.5189935  1.66365724\n",
      " 1.75876835 1.07163039 1.55965228 1.57089659 1.46727814 1.00644566\n",
      " 1.37278625 1.43809108 1.20416248 1.39363425 1.5376934  1.96959023\n",
      " 1.66156782 1.01076675 1.38473677 1.56493777 1.3661891  1.236037\n",
      " 1.67342092 1.09050893 1.98487905 1.21066713 1.77721071 1.83513777\n",
      " 1.38116042 1.65603354 1.85535994 1.74192678 1.16174488 1.63622144\n",
      " 1.27818717 1.78728901 1.77876826 1.75265813 1.43137125 1.94741462\n",
      " 1.70381102 1.95358833 1.09854622 1.75566164 1.75339108 1.2208276\n",
      " 1.91771284 1.91697643 1.93636733 1.26090519 1.40646329 1.71062138\n",
      " 1.38866579 1.87468337 1.74112611 1.07604922 1.71969497 1.32147658\n",
      " 1.13397697 1.65852079 1.05710353 1.97559821 1.54241387 1.74682852\n",
      " 1.96897436 1.75361951 1.0738245  1.00211833 1.07250134 1.25798633\n",
      " 1.00838163 1.25894055 1.6206845  1.32604221 1.70159213 1.66550935\n",
      " 1.58883524 1.05976628 1.83053595 1.91657832 1.11737976 1.94786381\n",
      " 1.06861394 1.235702   1.83607822 1.86651378 1.01222602 1.92447198\n",
      " 1.55319964 1.48781617 1.6895966  1.96832893 1.2149197  1.70738691\n",
      " 1.45912791 1.67379282 1.45042582 1.50174577 1.23410696 1.88318881\n",
      " 1.89558931 1.74153478 1.99402582 1.6576763  1.32270023 1.38280855\n",
      " 1.0170341  1.63940907 1.62601669 1.85788501 1.43300133 1.31038434\n",
      " 1.51102559 1.6585823  1.4965348  1.83569061 1.64158038 1.3188393\n",
      " 1.08282293 1.71438979 1.03282478 1.92085029 1.80275595 1.18133647\n",
      " 1.41393007 1.10510709 1.43846825 1.86851877 1.35193649 1.34073792\n",
      " 1.51354936 1.33270006 1.6008176  1.50419614 1.66720883 1.42573387\n",
      " 1.4820155  1.51113901 1.57053497 1.63920761 1.80751122 1.57702053\n",
      " 1.67129914 1.01703273 1.98906181 1.48660915 1.17456794 1.38504016\n",
      " 1.44130136 1.86351257 1.78600768 1.74679925 1.37807854 1.28519216\n",
      " 1.57906609 1.99553932 1.27830686 1.60282986 1.29770043 1.53360306\n",
      " 1.3901811  1.69563702 1.04508962 1.45130707 1.15209626 1.83341429\n",
      " 1.72041124 1.77062101 1.27227232 1.27216061 1.59737992 1.7931617\n",
      " 1.44174016 1.95127295 1.77741766 1.12009788 1.64071251 1.70800908\n",
      " 1.78094536 1.01078161 1.89158182 1.07908661 1.73335717 1.5824815\n",
      " 1.34715511 1.3393284  1.96852712 1.33972243 1.69324941 1.0386608\n",
      " 1.00941736 1.88571978 1.94440183 1.32238662 1.20218072 1.23837211\n",
      " 1.40365207 1.19274125 1.3481952  1.25449041 1.82021656 1.72952614\n",
      " 1.58789381 1.5775184  1.53177459 1.5012302  1.91122422 1.37465388\n",
      " 1.62951273 1.74255779 1.60050908 1.96731625 1.78911503 1.24671859\n",
      " 1.99887116 1.26737168 1.76271186 1.44890602 1.64240153 1.23608117\n",
      " 1.49699991 1.20292216 1.17813147 1.70101998 1.19132973 1.75904681\n",
      " 1.78286892 1.57746518 1.2723506  1.25500378 1.14864152 1.57740024\n",
      " 1.17060317 1.75548514 1.18396478 1.51236006 1.9566742  1.06565298\n",
      " 1.5996044  1.57757186 1.49007079 1.00433448 1.60119563 1.39568906\n",
      " 1.26630777 1.97837836 1.54674142 1.95027558 1.82958588 1.54631449\n",
      " 1.96926678 1.11303631 1.89866706 1.84404968 1.16084275 1.47400808\n",
      " 1.53387735 1.09871601 1.17164025 1.44873172 1.80155955 1.88758764\n",
      " 1.73348857 1.33193132 1.6102109  1.44908457 1.35978727 1.34116916\n",
      " 1.30847693 1.80727485 1.61761027 1.96574304 1.87992853 1.14439648\n",
      " 1.01609783 1.28891369 1.60296976 1.14825296 1.54181452 1.02529344\n",
      " 1.19796774 1.80659484 1.82674809 1.46121048 1.77862766 1.53692772\n",
      " 1.08791994 1.86420663 1.1165228  1.4211374  1.796852   1.65454314\n",
      " 1.69514062 1.13519402 1.17470263 1.42947583 1.82015162 1.56541934\n",
      " 1.82013154 1.58351933 1.43071449 1.97068028 1.0597905  1.67187888\n",
      " 1.87322553 1.75210029 1.8174381  1.77312014 1.65745589 1.59735031\n",
      " 1.13476268 1.84498333 1.75598939 1.63775968 1.22737851 1.99861632\n",
      " 1.96167163 1.67168133 1.24387145 1.36694134 1.71497585 1.01331211\n",
      " 1.97431472 1.68007924 1.25481595 1.30265306 1.15146979 1.62623489\n",
      " 1.05365701 1.32886835 1.90709071 1.44291386 1.85740495 1.39542834\n",
      " 1.35986745 1.53895857 1.07466781 1.68744306 1.52974521 1.64980337\n",
      " 1.95236543 1.51786828 1.52240929 1.15153965 1.07735187 1.73923623\n",
      " 1.09600643 1.16594865 1.10269061 1.46477725 1.97589048 1.22326179\n",
      " 1.69359204 1.46539507 1.61380137 1.49197389 1.84930052 1.35181367\n",
      " 1.43216783 1.48629206 1.27857993 1.48139005 1.92758926 1.40643909\n",
      " 1.56861647 1.55670474 1.08758054 1.63326142 1.14475122 1.51743701\n",
      " 1.93471454 1.09371579 1.03739129 1.70340004 1.09064777 1.38297926\n",
      " 1.29630549 1.45057947 1.40803384 1.43795138 1.46599381 1.8255476\n",
      " 1.77095133 1.85866038 1.21580691 1.59727212 1.29066155 1.47697833\n",
      " 1.60644257 1.42211231 1.00082474 1.99129521 1.15942975 1.76658771\n",
      " 1.3144094  1.3949933  1.36681755 1.91214411 1.48486989 1.00360037\n",
      " 1.73281048 1.03181581 1.15220668 1.52281233 1.4919337  1.97418585\n",
      " 1.57075059 1.61264718 1.75234627 1.8978352  1.71541661 1.25399351\n",
      " 1.42553018 1.34876448 1.69969992 1.75102142 1.77718766 1.69865836\n",
      " 1.99155777 1.96664002 1.5800096  1.36523843 1.89524645 1.07585407\n",
      " 1.32832502 1.10077433 1.4121329  1.57066724 1.38239269 1.06997676\n",
      " 1.87704865 1.20823095 1.33060815 1.62561385 1.34018399 1.31435297\n",
      " 1.78736281 1.61214111 1.83292644 1.1889605  1.61932144 1.98529428\n",
      " 1.45175092 1.6995349  1.85041686 1.73169349 1.91521861 1.74404307\n",
      " 1.30352862 1.93188913 1.63332976 1.85138162 1.89932841 1.23108958\n",
      " 1.5691623  1.4610217  1.35040374 1.86040636 1.5328834  1.82139562\n",
      " 1.88461902 1.01392259 1.76677158 1.45352589 1.41574114 1.24741732\n",
      " 1.08326672 1.46516482 1.66843874 1.06568089 1.59841967 1.59956487\n",
      " 1.39369354 1.88687489 1.83030039 1.5400168  1.06920267 1.13222084\n",
      " 1.30977757 1.75982464 1.82492783 1.99720023 1.64766716 1.32203464\n",
      " 1.80826979 1.03590285 1.94381561 1.62264073 1.76058628 1.0079358\n",
      " 1.59326277 1.62025349 1.53338227 1.82232948 1.23493816 1.65115616\n",
      " 1.89860177 1.58741885 1.95687515 1.26670124 1.79641884 1.25638187\n",
      " 1.81236026 1.84024096 1.42452034 1.88729994 1.61776606 1.97455294\n",
      " 1.61025318 1.71947461 1.25168017 1.02478909 1.77659176 1.99566\n",
      " 1.35400331 1.52265374 1.4416363  1.20385904 1.64861334 1.86329516\n",
      " 1.1297758  1.52086824 1.91958571 1.76069312 1.35821538 1.63579384\n",
      " 1.54784009 1.17747797 1.84427293 1.87588987 1.93023005 1.67148749\n",
      " 1.39621902 1.88195709 1.88713947 1.5438921  1.14353298 1.51894927\n",
      " 1.61315496 1.47912587 1.6002836  1.89831413 1.63054282 1.35067423\n",
      " 1.76857169 1.06845805 1.45707147 1.5282037  1.88885822 1.70215829\n",
      " 1.52789995 1.1898198  1.14921428 1.7631291  1.15824058 1.06487428\n",
      " 1.45550771 1.00579894 1.36979671 1.35450433 1.38927444 1.56895825\n",
      " 1.62106852 1.20124634 1.94884563 1.24475291] \n",
      " <class 'numpy.ndarray'>\n"
     ]
    },
    {
     "data": {
      "text/plain": [
       "Text(0.5, 1.0, 'Uniform Distribution')"
      ]
     },
     "execution_count": 16,
     "metadata": {},
     "output_type": "execute_result"
    },
    {
     "data": {
      "image/png": "[encoded data removed]",
      "text/plain": [
       "<Figure size 432x288 with 1 Axes>"
      ]
     },
     "metadata": {
      "needs_background": "light"
     },
     "output_type": "display_data"
    }
   ],
   "source": [
    "# Lets explore Uniform distribution\n",
    "u = np.random.default_rng().uniform(1,2,1000)  # Grabbing 500 random values from 1 to 1.99999999. \n",
    "print(u,'\\n', type(u)) # lets print our values and see what type of result is returned.\n",
    "# Below lines adapted from official documentation [37]\n",
    "count, bins, ignored = plt.hist(u, bins = 20, color = 'gold', edgecolor = 'black', density=True, linewidth=2) \n",
    "plt.plot(bins, np.ones_like(bins), linewidth=3, color='green') # Adapted from Reference 40\n",
    "plt.xlabel('Uniform Distribution')\n",
    "plt.title('Uniform Distribution', fontweight = 'heavy', family = 'serif')\n"
   ]
  },
  {
   "cell_type": "markdown",
   "id": "6b6e43c4",
   "metadata": {},
   "source": [
    "We can see from the above result the Uniform function returns values within the specified range and in the form of a numpy array with the probability density function of 1.0. "
   ]
  },
  {
   "cell_type": "code",
   "execution_count": 17,
   "id": "46d5c1be",
   "metadata": {},
   "outputs": [
    {
     "data": {
      "text/plain": [
       "array([1.00258762, 1.59932456, 1.27757595, 1.93152728, 1.15762175,\n",
       "       1.67300847, 1.29303281, 1.73108241, 1.77980595, 1.3972797 ,\n",
       "       1.95960654, 1.77318378, 1.55824054, 1.26485936, 1.84182494,\n",
       "       1.90977687, 1.29112603, 1.97878525, 1.76353098, 1.57854649,\n",
       "       1.62429573, 1.21276455, 1.52628117, 1.89566312, 1.88528737,\n",
       "       1.41458112, 1.10533835, 1.32913658, 1.43221084, 1.40717178,\n",
       "       1.99076998, 1.49945305, 1.7598329 , 1.06143981, 1.62926527,\n",
       "       1.00400079, 1.4977361 , 1.80242167, 1.87872656, 1.06856055,\n",
       "       1.62189675, 1.24759177, 1.84844414, 1.5746766 , 1.41846263,\n",
       "       1.02788854, 1.48488991, 1.60247725, 1.79703455, 1.94147596])"
      ]
     },
     "execution_count": 17,
     "metadata": {},
     "output_type": "execute_result"
    }
   ],
   "source": [
    "# Lets see what happens when we potentially input values incorrectly\n",
    "u2 = np.random.default_rng().uniform(2,1,50) # our 'Low' limit is above out 'high' limit\n",
    "u2"
   ]
  },
  {
   "cell_type": "markdown",
   "id": "c5dc18f6",
   "metadata": {},
   "source": [
    "Surprisingly, this function still returns values however we obviously cannot trust them as we have set the inputs incorrectly. Further research into this finding revealed than an earlier version of Numpy accounted for this eventuality and included the following note [41]: \n",
    "\n",
    "![highLow](Images/highLow.PNG)\n"
   ]
  },
  {
   "cell_type": "markdown",
   "id": "c6045892",
   "metadata": {},
   "source": [
    "###### random.Generator.normal\n"
   ]
  },
  {
   "cell_type": "markdown",
   "id": "36d5f9aa",
   "metadata": {},
   "source": [
    "Normal distribution (also referred to as Gaussian distribution) is a probability distribution that is perhaps most commonly seen in everyday life. The characteristic shape of the probability density function of the Normal distribution is a bell-curve, depicting the fact that data near the mean occurs more often that data farther than the mean [42,43]. In a Normal distribution, '68% of the observations are within +/- one standard deviation of the mean, 95% are within +/- two standard deviations, and 99.7% are within +- three standard deviations'[42]. \n",
    "<br>\n",
    "Normal distribution is perhaps the most commonly known form of distriubtion due to the fact many observations follow a Gaussian distibution, including [44]:\n",
    "-  Height\n",
    "-  blood pressure\n",
    "-  Exam Results\n",
    "\n",
    "In the Numpy package, <i>loc</i> refers to the mean of the distribution and <i>scale</i> refers to the standard deviation [43].\n",
    "\n",
    "![Normal](Images/normal.png)\n",
    "\n",
    "\n",
    "In below code example I'm showing a normal distribution plot created with the numpy and matplotlib modules.\n",
    "Inside of this function, we specify the mean, standard deviation value, and the total number of random values we want created. [30]\n",
    "\n",
    "So in the code example below, we create a normal distribution with a mean centered at 90, with a standard deviation of 2, and 10000 (ten thousand) random data points created. [31]\n",
    "\n",
    "So we use the numpy module to create the data and then we use the matplotlib module to plot the data.\n",
    "\n",
    "We create a variable, values, and assign it to, np.random.normal(90,2,10000). What this line does is it creates the data for a normal distribution plot centered around a mean of 90, showing 2 standard deviations of the data, and creates 10,000 random data points that are of normal distribution.\n",
    "\n",
    "Remember this is the normal() function, which means that the data will be normalized. 68% of the data values generated will be (or very close to) ±1 standard deviations of the mean. 95% of the data values generated will be within ±2 standard deviations of the mean. 99.7% of the data values generated will be within ±3 standard deviations of the mean.\n",
    "\n",
    "We then plot a histogram with 100 bins with the line, plt.hist(values,100).\n",
    "\n",
    "You see that this plot has a mean centered around 90 and shows the data and 3 standard deviations. There are 10,000 random data points generate"
   ]
  },
  {
   "cell_type": "code",
   "execution_count": null,
   "id": "7ab978b2",
   "metadata": {},
   "outputs": [],
   "source": [
    "# Generate an array of n random numbers from a Normal distribution of mean mu, variance sigma. \n",
    "mu1, sigma1 = 10, 1\n",
    "n1 = np.random.normal(mu1, sigma1, 1000)\n",
    "plt.hist(n1, bins=20, density=True, alpha=0.5, label='$\\mu=10, \\sigma=1$') # density=True normalizes the histogram\n",
    "\n",
    "# Different mean.\n",
    "mu2, sigma2 = 6, 1\n",
    "n2 = np.random.normal(mu2, sigma2, 1000)\n",
    "plt.hist(n2, bins=20, density=True, alpha=0.5, label='$\\mu=6, \\sigma=1$')\n",
    "\n",
    "# Different sigma.\n",
    "sigma3 = 0.5\n",
    "n3 = np.random.normal(mu2, sigma3, 1000)\n",
    "plt.hist(n3, bins=20, density=True, alpha=0.5, label='$\\mu=6, \\sigma=0.5$')\n",
    "\n",
    "plt.xlabel('x', size=14)\n",
    "plt.ylabel('frequency', size=14)\n",
    "plt.title('Normal distributions', size=14)\n",
    "plt.legend()\n",
    "plt.grid()"
   ]
  },
  {
   "cell_type": "code",
   "execution_count": null,
   "id": "80c3dad6",
   "metadata": {},
   "outputs": [],
   "source": [
    "# Playing around with Normal distribution\n",
    "mu, sigma = 0, 0.1 # mean and standard deviation\n",
    "s = np.random.default_rng().normal(mu, sigma, 1000)"
   ]
  },
  {
   "cell_type": "code",
   "execution_count": null,
   "id": "0d6a8f55",
   "metadata": {},
   "outputs": [],
   "source": []
  },
  {
   "cell_type": "code",
   "execution_count": null,
   "id": "1f61d18c",
   "metadata": {},
   "outputs": [],
   "source": []
  },
  {
   "cell_type": "code",
   "execution_count": null,
   "id": "23722a13",
   "metadata": {},
   "outputs": [],
   "source": []
  },
  {
   "cell_type": "code",
   "execution_count": null,
   "id": "48054598",
   "metadata": {},
   "outputs": [],
   "source": []
  },
  {
   "cell_type": "code",
   "execution_count": null,
   "id": "7dbd8753",
   "metadata": {},
   "outputs": [],
   "source": []
  },
  {
   "cell_type": "code",
   "execution_count": null,
   "id": "f9f8587c",
   "metadata": {},
   "outputs": [],
   "source": []
  },
  {
   "cell_type": "code",
   "execution_count": null,
   "id": "a48bf2a4",
   "metadata": {},
   "outputs": [],
   "source": []
  },
  {
   "cell_type": "code",
   "execution_count": null,
   "id": "8cba5896",
   "metadata": {},
   "outputs": [],
   "source": [
    "\n",
    "\n"
   ]
  },
  {
   "cell_type": "code",
   "execution_count": null,
   "id": "494a35c9",
   "metadata": {},
   "outputs": [],
   "source": []
  },
  {
   "cell_type": "code",
   "execution_count": null,
   "id": "bac44104",
   "metadata": {},
   "outputs": [],
   "source": []
  },
  {
   "cell_type": "code",
   "execution_count": null,
   "id": "23c1593a",
   "metadata": {},
   "outputs": [],
   "source": []
  },
  {
   "cell_type": "code",
   "execution_count": 18,
   "id": "37d374b1",
   "metadata": {},
   "outputs": [
    {
     "data": {
      "text/plain": [
       "(array([ 18.,  45., 126., 203., 261., 173., 125.,  36.,  11.,   2.]),\n",
       " array([ 9.7234    ,  9.78623887,  9.84907773,  9.9119166 ,  9.97475546,\n",
       "        10.03759433, 10.10043319, 10.16327206, 10.22611092, 10.28894979,\n",
       "        10.35178865]),\n",
       " <BarContainer object of 10 artists>)"
      ]
     },
     "execution_count": 18,
     "metadata": {},
     "output_type": "execute_result"
    },
    {
     "data": {
      "image/png": "[encoded data removed]",
      "text/plain": [
       "<Figure size 432x288 with 1 Axes>"
      ]
     },
     "metadata": {
      "needs_background": "light"
     },
     "output_type": "display_data"
    }
   ],
   "source": [
    "# Normal Distribution\n",
    " \n",
    "x = np.random.normal(0, 0.1, 1000)  # close to '0' = mu (mean of distribution), 90% values between 0.3 & -0.3, 1000 values\n",
    "# plt.hist(x)\n",
    "\n",
    "# Changing mu value \n",
    "x_2 = np.random.normal(10, 0.1, 1000)  # it appears changing 'mu' changes the population mean.\n",
    "plt.hist(x_2)"
   ]
  },
  {
   "cell_type": "code",
   "execution_count": 19,
   "id": "fb07caa4",
   "metadata": {},
   "outputs": [],
   "source": [
    "# Look at the differences between each one (understand what the functions do, programming level of experience)"
   ]
  },
  {
   "cell_type": "code",
   "execution_count": 20,
   "id": "54e99eec",
   "metadata": {},
   "outputs": [],
   "source": [
    "# Seeding (to do with the time on computer when code is run. Decided once and from then on numbers generated are based on that seed.)\n",
    "# Seed is the position at where you start\n",
    "\n",
    "\n"
   ]
  },
  {
   "cell_type": "code",
   "execution_count": 21,
   "id": "bcab10af",
   "metadata": {},
   "outputs": [],
   "source": [
    "# How does PCG 64 outperfom Mersenne Twister algorithm . Melissa O Neill. Test through documentation. Formulate how to seed the algorithm so you get reproducible results from algotrithm."
   ]
  },
  {
   "cell_type": "code",
   "execution_count": null,
   "id": "7faeade2",
   "metadata": {},
   "outputs": [],
   "source": []
  },
  {
   "cell_type": "code",
   "execution_count": null,
   "id": "e2a79b68",
   "metadata": {},
   "outputs": [],
   "source": []
  },
  {
   "cell_type": "code",
   "execution_count": null,
   "id": "114b8ca0",
   "metadata": {},
   "outputs": [],
   "source": []
  },
  {
   "cell_type": "code",
   "execution_count": null,
   "id": "e631db7d",
   "metadata": {},
   "outputs": [],
   "source": []
  },
  {
   "cell_type": "code",
   "execution_count": null,
   "id": "c94beebe",
   "metadata": {},
   "outputs": [],
   "source": []
  }
 ],
 "metadata": {
  "kernelspec": {
   "display_name": "Python 3",
   "language": "python",
   "name": "python3"
  },
  "language_info": {
   "codemirror_mode": {
    "name": "ipython",
    "version": 3
   },
   "file_extension": ".py",
   "mimetype": "text/x-python",
   "name": "python",
   "nbconvert_exporter": "python",
   "pygments_lexer": "ipython3",
   "version": "3.8.8"
  }
 },
 "nbformat": 4,
 "nbformat_minor": 5
}
